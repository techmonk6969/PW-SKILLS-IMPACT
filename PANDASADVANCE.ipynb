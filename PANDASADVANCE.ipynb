{
 "cells": [
  {
   "cell_type": "markdown",
   "id": "179c2a5a-aefb-47f6-8463-a7e761a4a22d",
   "metadata": {},
   "source": [
    "Q1. List any five functions of the pandas library with execution."
   ]
  },
  {
   "cell_type": "code",
   "execution_count": null,
   "id": "da80b8ab-d790-40b9-bb4d-79ae766e7770",
   "metadata": {},
   "outputs": [],
   "source": [
    "import pandas as pd\n",
    "\n",
    "# Reading a CSV file into a DataFrame\n",
    "df = pd.read_csv('example.csv')\n",
    "\n",
    "# Displaying the DataFrame\n",
    "print(df)\n"
   ]
  },
  {
   "cell_type": "code",
   "execution_count": null,
   "id": "bd31c528-ba39-4758-b1c5-79ead60e8b49",
   "metadata": {},
   "outputs": [],
   "source": [
    "import pandas as pd\n",
    "\n",
    "# Creating a DataFrame\n",
    "data = {'Name': ['Alice', 'Bob', 'Claire'],\n",
    "        'Age': [25, 30, 27],\n",
    "        'Gender': ['Female', 'Male', 'Female']}\n",
    "df = pd.DataFrame(data)\n",
    "\n",
    "# Displaying the first 2 rows of the DataFrame\n",
    "print(df.head(2))\n"
   ]
  },
  {
   "cell_type": "code",
   "execution_count": null,
   "id": "e053b47d-c3a2-4a1f-a72c-dfd348357615",
   "metadata": {},
   "outputs": [],
   "source": [
    "import pandas as pd\n",
    "\n",
    "# Creating a DataFrame\n",
    "data = {'Category': ['A', 'B', 'A', 'B'],\n",
    "        'Value': [10, 15, 20, 25]}\n",
    "df = pd.DataFrame(data)\n",
    "\n",
    "# Grouping by 'Category' and calculating the mean of 'Value'\n",
    "grouped_df = df.groupby('Category')['Value'].mean()\n",
    "\n",
    "# Displaying the result\n",
    "print(grouped_df)\n"
   ]
  },
  {
   "cell_type": "code",
   "execution_count": null,
   "id": "a9d7a883-7f19-493c-8797-9a6f12ae8b63",
   "metadata": {},
   "outputs": [],
   "source": [
    "import pandas as pd\n",
    "\n",
    "# Creating a DataFrame with missing values\n",
    "data = {'Name': ['Alice', 'Bob', None, 'Claire'],\n",
    "        'Age': [25, 30, None, 27]}\n",
    "df = pd.DataFrame(data)\n",
    "\n",
    "# Filling missing values with 0\n",
    "df_filled = df.fillna(0)\n",
    "\n",
    "# Displaying the DataFrame after filling missing values\n",
    "print(df_filled)\n"
   ]
  },
  {
   "cell_type": "code",
   "execution_count": null,
   "id": "d89b0daf-d0ea-4f72-ae6c-121428340fa2",
   "metadata": {},
   "outputs": [],
   "source": [
    "import pandas as pd\n",
    "\n",
    "# Creating two DataFrames\n",
    "df1 = pd.DataFrame({'ID': [1, 2, 3], 'Name': ['Alice', 'Bob', 'Charlie']})\n",
    "df2 = pd.DataFrame({'ID': [2, 3, 4], 'Age': [25, 30, 22]})\n",
    "\n",
    "# Merging DataFrames based on 'ID'\n",
    "merged_df = pd.merge(df1, df2, on='ID')\n",
    "\n",
    "# Displaying the merged DataFrame\n",
    "print(merged_df)\n"
   ]
  },
  {
   "cell_type": "markdown",
   "id": "b10e40d7-d3a9-41e6-84ef-fc44da876392",
   "metadata": {},
   "source": [
    "Q2. Given a Pandas DataFrame df with columns 'A', 'B', and 'C', write a Python function to re-index the\n",
    "DataFrame with a new index that starts from 1 and increments by 2 for each row."
   ]
  },
  {
   "cell_type": "code",
   "execution_count": 1,
   "id": "89bd8d3b-28e5-45a1-98bf-117bfa169b8b",
   "metadata": {},
   "outputs": [
    {
     "name": "stdout",
     "output_type": "stream",
     "text": [
      "            A   B   C\n",
      "New_Index            \n",
      "1          10  40  70\n",
      "3          20  50  80\n",
      "5          30  60  90\n"
     ]
    }
   ],
   "source": [
    "import pandas as pd\n",
    "\n",
    "def reindex_with_increment(df):\n",
    "    # Create a new index starting from 1 and incrementing by 2\n",
    "    new_index = pd.Series(range(1, len(df)*2 + 1, 2), name='New_Index')\n",
    "\n",
    "    # Set the new index for the DataFrame\n",
    "    df_reindexed = df.set_index(new_index)\n",
    "\n",
    "    return df_reindexed\n",
    "\n",
    "# Example usage:\n",
    "# Assuming df is your original DataFrame with columns 'A', 'B', 'C'\n",
    "data = {'A': [10, 20, 30],\n",
    "        'B': [40, 50, 60],\n",
    "        'C': [70, 80, 90]}\n",
    "df = pd.DataFrame(data)\n",
    "\n",
    "# Call the function to re-index the DataFrame\n",
    "df_reindexed = reindex_with_increment(df)\n",
    "\n",
    "# Display the re-indexed DataFrame\n",
    "print(df_reindexed)\n"
   ]
  },
  {
   "cell_type": "markdown",
   "id": "353d3811-14da-4a6b-82d6-1b47566bbd6f",
   "metadata": {},
   "source": [
    "Q3. You have a Pandas DataFrame df with a column named 'Values'. Write a Python function that\n",
    "iterates over the DataFrame and calculates the sum of the first three values in the 'Values' column. The\n",
    "function should print the sum to the console."
   ]
  },
  {
   "cell_type": "code",
   "execution_count": 2,
   "id": "299acc04-14cc-4453-a3d7-ecf38f312fa2",
   "metadata": {},
   "outputs": [
    {
     "name": "stdout",
     "output_type": "stream",
     "text": [
      "Sum of the first three values in 'Values' column: 60\n"
     ]
    }
   ],
   "source": [
    "import pandas as pd\n",
    "\n",
    "def calculate_sum_of_first_three(df):\n",
    "    # Check if 'Values' column exists in the DataFrame\n",
    "    if 'Values' not in df.columns:\n",
    "        print(\"Error: 'Values' column not found.\")\n",
    "        return\n",
    "\n",
    "    # Select the first three values in the 'Values' column\n",
    "    first_three_values = df['Values'].iloc[:3]\n",
    "\n",
    "    # Calculate the sum and print it to the console\n",
    "    sum_of_first_three = first_three_values.sum()\n",
    "    print(f\"Sum of the first three values in 'Values' column: {sum_of_first_three}\")\n",
    "\n",
    "# Example usage:\n",
    "# Assuming df is your original DataFrame with a column 'Values'\n",
    "data = {'Values': [10, 20, 30, 40, 50]}\n",
    "df = pd.DataFrame(data)\n",
    "\n",
    "# Call the function to calculate and print the sum of the first three values\n",
    "calculate_sum_of_first_three(df)\n"
   ]
  },
  {
   "cell_type": "markdown",
   "id": "69a5bab0-92b0-4c04-950e-77f05ff5cd07",
   "metadata": {},
   "source": [
    "Q4. Given a Pandas DataFrame df with a column 'Text', write a Python function to create a new column\n",
    "'Word_Count' that contains the number of words in each row of the 'Text' column."
   ]
  },
  {
   "cell_type": "code",
   "execution_count": 3,
   "id": "016cefda-c719-44bf-9617-8881fa7ce4b0",
   "metadata": {},
   "outputs": [
    {
     "name": "stdout",
     "output_type": "stream",
     "text": [
      "                     Text  Word_Count\n",
      "0  This is a sample text.           5\n",
      "1        Another example.           2\n",
      "2           Only one word           3\n"
     ]
    }
   ],
   "source": [
    "import pandas as pd\n",
    "\n",
    "def add_word_count_column(df):\n",
    "    # Check if 'Text' column exists in the DataFrame\n",
    "    if 'Text' not in df.columns:\n",
    "        print(\"Error: 'Text' column not found.\")\n",
    "        return\n",
    "\n",
    "    # Create a new 'Word_Count' column by counting words in each row of 'Text'\n",
    "    df['Word_Count'] = df['Text'].apply(lambda x: len(str(x).split()))\n",
    "\n",
    "# Example usage:\n",
    "# Assuming df is your original DataFrame with a column 'Text'\n",
    "data = {'Text': ['This is a sample text.', 'Another example.', 'Only one word']}\n",
    "df = pd.DataFrame(data)\n",
    "\n",
    "# Call the function to add the 'Word_Count' column\n",
    "add_word_count_column(df)\n",
    "\n",
    "# Display the DataFrame with the new 'Word_Count' column\n",
    "print(df)\n"
   ]
  },
  {
   "cell_type": "markdown",
   "id": "d777dd3d-098e-4d39-ae48-74a2c15acb2e",
   "metadata": {},
   "source": [
    "Q5. How are DataFrame.size() and DataFrame.shape() different?"
   ]
  },
  {
   "cell_type": "markdown",
   "id": "a1331ba8-bab3-4b05-b81b-7ad907a7a549",
   "metadata": {},
   "source": [
    "size:\n",
    "\n",
    "Attribute: size is an attribute of a DataFrame.\n",
    "Purpose: It returns the total number of elements in the DataFrame, which is equal to the product of the number of rows and the number of columns.\n",
    "Example:"
   ]
  },
  {
   "cell_type": "code",
   "execution_count": 4,
   "id": "657355dc-047a-4f0a-9d0e-1f7a99827a43",
   "metadata": {},
   "outputs": [
    {
     "name": "stdout",
     "output_type": "stream",
     "text": [
      "DataFrame size: 6\n"
     ]
    }
   ],
   "source": [
    "import pandas as pd\n",
    "\n",
    "# Creating a DataFrame\n",
    "data = {'A': [1, 2, 3], 'B': [4, 5, 6]}\n",
    "df = pd.DataFrame(data)\n",
    "\n",
    "# Using size attribute\n",
    "df_size = df.size\n",
    "print(\"DataFrame size:\", df_size)\n"
   ]
  },
  {
   "cell_type": "markdown",
   "id": "6a35d73b-09fd-468a-83da-627f567fc486",
   "metadata": {},
   "source": [
    "shape:\n",
    "\n",
    "Attribute: shape is an attribute of a DataFrame.\n",
    "Purpose: It returns a tuple representing the dimensions of the DataFrame, where the first element is the number of rows and the second element is the number of columns.\n",
    "Example:"
   ]
  },
  {
   "cell_type": "code",
   "execution_count": 5,
   "id": "2d8c36a7-07e8-4a10-a677-26469e1c6f93",
   "metadata": {},
   "outputs": [
    {
     "name": "stdout",
     "output_type": "stream",
     "text": [
      "DataFrame shape: (3, 2)\n"
     ]
    }
   ],
   "source": [
    "import pandas as pd\n",
    "\n",
    "# Creating a DataFrame\n",
    "data = {'A': [1, 2, 3], 'B': [4, 5, 6]}\n",
    "df = pd.DataFrame(data)\n",
    "\n",
    "# Using shape attribute\n",
    "df_shape = df.shape\n",
    "print(\"DataFrame shape:\", df_shape)\n"
   ]
  },
  {
   "cell_type": "markdown",
   "id": "90a056ec-1f03-4596-b531-733c9e6ece14",
   "metadata": {},
   "source": [
    "Q6. Which function of pandas do we use to read an excel file?"
   ]
  },
  {
   "cell_type": "code",
   "execution_count": 6,
   "id": "2aeec2aa-4e03-4108-9be6-efc74c2d4036",
   "metadata": {},
   "outputs": [
    {
     "ename": "FileNotFoundError",
     "evalue": "[Errno 2] No such file or directory: 'example.xlsx'",
     "output_type": "error",
     "traceback": [
      "\u001b[0;31m---------------------------------------------------------------------------\u001b[0m",
      "\u001b[0;31mFileNotFoundError\u001b[0m                         Traceback (most recent call last)",
      "Cell \u001b[0;32mIn[6], line 4\u001b[0m\n\u001b[1;32m      1\u001b[0m \u001b[38;5;28;01mimport\u001b[39;00m \u001b[38;5;21;01mpandas\u001b[39;00m \u001b[38;5;28;01mas\u001b[39;00m \u001b[38;5;21;01mpd\u001b[39;00m\n\u001b[1;32m      3\u001b[0m \u001b[38;5;66;03m# Reading an Excel file into a DataFrame\u001b[39;00m\n\u001b[0;32m----> 4\u001b[0m df \u001b[38;5;241m=\u001b[39m \u001b[43mpd\u001b[49m\u001b[38;5;241;43m.\u001b[39;49m\u001b[43mread_excel\u001b[49m\u001b[43m(\u001b[49m\u001b[38;5;124;43m'\u001b[39;49m\u001b[38;5;124;43mexample.xlsx\u001b[39;49m\u001b[38;5;124;43m'\u001b[39;49m\u001b[43m)\u001b[49m\n\u001b[1;32m      6\u001b[0m \u001b[38;5;66;03m# Displaying the DataFrame\u001b[39;00m\n\u001b[1;32m      7\u001b[0m \u001b[38;5;28mprint\u001b[39m(df)\n",
      "File \u001b[0;32m/opt/conda/lib/python3.10/site-packages/pandas/util/_decorators.py:211\u001b[0m, in \u001b[0;36mdeprecate_kwarg.<locals>._deprecate_kwarg.<locals>.wrapper\u001b[0;34m(*args, **kwargs)\u001b[0m\n\u001b[1;32m    209\u001b[0m     \u001b[38;5;28;01melse\u001b[39;00m:\n\u001b[1;32m    210\u001b[0m         kwargs[new_arg_name] \u001b[38;5;241m=\u001b[39m new_arg_value\n\u001b[0;32m--> 211\u001b[0m \u001b[38;5;28;01mreturn\u001b[39;00m \u001b[43mfunc\u001b[49m\u001b[43m(\u001b[49m\u001b[38;5;241;43m*\u001b[39;49m\u001b[43margs\u001b[49m\u001b[43m,\u001b[49m\u001b[43m \u001b[49m\u001b[38;5;241;43m*\u001b[39;49m\u001b[38;5;241;43m*\u001b[39;49m\u001b[43mkwargs\u001b[49m\u001b[43m)\u001b[49m\n",
      "File \u001b[0;32m/opt/conda/lib/python3.10/site-packages/pandas/util/_decorators.py:331\u001b[0m, in \u001b[0;36mdeprecate_nonkeyword_arguments.<locals>.decorate.<locals>.wrapper\u001b[0;34m(*args, **kwargs)\u001b[0m\n\u001b[1;32m    325\u001b[0m \u001b[38;5;28;01mif\u001b[39;00m \u001b[38;5;28mlen\u001b[39m(args) \u001b[38;5;241m>\u001b[39m num_allow_args:\n\u001b[1;32m    326\u001b[0m     warnings\u001b[38;5;241m.\u001b[39mwarn(\n\u001b[1;32m    327\u001b[0m         msg\u001b[38;5;241m.\u001b[39mformat(arguments\u001b[38;5;241m=\u001b[39m_format_argument_list(allow_args)),\n\u001b[1;32m    328\u001b[0m         \u001b[38;5;167;01mFutureWarning\u001b[39;00m,\n\u001b[1;32m    329\u001b[0m         stacklevel\u001b[38;5;241m=\u001b[39mfind_stack_level(),\n\u001b[1;32m    330\u001b[0m     )\n\u001b[0;32m--> 331\u001b[0m \u001b[38;5;28;01mreturn\u001b[39;00m \u001b[43mfunc\u001b[49m\u001b[43m(\u001b[49m\u001b[38;5;241;43m*\u001b[39;49m\u001b[43margs\u001b[49m\u001b[43m,\u001b[49m\u001b[43m \u001b[49m\u001b[38;5;241;43m*\u001b[39;49m\u001b[38;5;241;43m*\u001b[39;49m\u001b[43mkwargs\u001b[49m\u001b[43m)\u001b[49m\n",
      "File \u001b[0;32m/opt/conda/lib/python3.10/site-packages/pandas/io/excel/_base.py:482\u001b[0m, in \u001b[0;36mread_excel\u001b[0;34m(io, sheet_name, header, names, index_col, usecols, squeeze, dtype, engine, converters, true_values, false_values, skiprows, nrows, na_values, keep_default_na, na_filter, verbose, parse_dates, date_parser, thousands, decimal, comment, skipfooter, convert_float, mangle_dupe_cols, storage_options)\u001b[0m\n\u001b[1;32m    480\u001b[0m \u001b[38;5;28;01mif\u001b[39;00m \u001b[38;5;129;01mnot\u001b[39;00m \u001b[38;5;28misinstance\u001b[39m(io, ExcelFile):\n\u001b[1;32m    481\u001b[0m     should_close \u001b[38;5;241m=\u001b[39m \u001b[38;5;28;01mTrue\u001b[39;00m\n\u001b[0;32m--> 482\u001b[0m     io \u001b[38;5;241m=\u001b[39m \u001b[43mExcelFile\u001b[49m\u001b[43m(\u001b[49m\u001b[43mio\u001b[49m\u001b[43m,\u001b[49m\u001b[43m \u001b[49m\u001b[43mstorage_options\u001b[49m\u001b[38;5;241;43m=\u001b[39;49m\u001b[43mstorage_options\u001b[49m\u001b[43m,\u001b[49m\u001b[43m \u001b[49m\u001b[43mengine\u001b[49m\u001b[38;5;241;43m=\u001b[39;49m\u001b[43mengine\u001b[49m\u001b[43m)\u001b[49m\n\u001b[1;32m    483\u001b[0m \u001b[38;5;28;01melif\u001b[39;00m engine \u001b[38;5;129;01mand\u001b[39;00m engine \u001b[38;5;241m!=\u001b[39m io\u001b[38;5;241m.\u001b[39mengine:\n\u001b[1;32m    484\u001b[0m     \u001b[38;5;28;01mraise\u001b[39;00m \u001b[38;5;167;01mValueError\u001b[39;00m(\n\u001b[1;32m    485\u001b[0m         \u001b[38;5;124m\"\u001b[39m\u001b[38;5;124mEngine should not be specified when passing \u001b[39m\u001b[38;5;124m\"\u001b[39m\n\u001b[1;32m    486\u001b[0m         \u001b[38;5;124m\"\u001b[39m\u001b[38;5;124man ExcelFile - ExcelFile already has the engine set\u001b[39m\u001b[38;5;124m\"\u001b[39m\n\u001b[1;32m    487\u001b[0m     )\n",
      "File \u001b[0;32m/opt/conda/lib/python3.10/site-packages/pandas/io/excel/_base.py:1652\u001b[0m, in \u001b[0;36mExcelFile.__init__\u001b[0;34m(self, path_or_buffer, engine, storage_options)\u001b[0m\n\u001b[1;32m   1650\u001b[0m     ext \u001b[38;5;241m=\u001b[39m \u001b[38;5;124m\"\u001b[39m\u001b[38;5;124mxls\u001b[39m\u001b[38;5;124m\"\u001b[39m\n\u001b[1;32m   1651\u001b[0m \u001b[38;5;28;01melse\u001b[39;00m:\n\u001b[0;32m-> 1652\u001b[0m     ext \u001b[38;5;241m=\u001b[39m \u001b[43minspect_excel_format\u001b[49m\u001b[43m(\u001b[49m\n\u001b[1;32m   1653\u001b[0m \u001b[43m        \u001b[49m\u001b[43mcontent_or_path\u001b[49m\u001b[38;5;241;43m=\u001b[39;49m\u001b[43mpath_or_buffer\u001b[49m\u001b[43m,\u001b[49m\u001b[43m \u001b[49m\u001b[43mstorage_options\u001b[49m\u001b[38;5;241;43m=\u001b[39;49m\u001b[43mstorage_options\u001b[49m\n\u001b[1;32m   1654\u001b[0m \u001b[43m    \u001b[49m\u001b[43m)\u001b[49m\n\u001b[1;32m   1655\u001b[0m     \u001b[38;5;28;01mif\u001b[39;00m ext \u001b[38;5;129;01mis\u001b[39;00m \u001b[38;5;28;01mNone\u001b[39;00m:\n\u001b[1;32m   1656\u001b[0m         \u001b[38;5;28;01mraise\u001b[39;00m \u001b[38;5;167;01mValueError\u001b[39;00m(\n\u001b[1;32m   1657\u001b[0m             \u001b[38;5;124m\"\u001b[39m\u001b[38;5;124mExcel file format cannot be determined, you must specify \u001b[39m\u001b[38;5;124m\"\u001b[39m\n\u001b[1;32m   1658\u001b[0m             \u001b[38;5;124m\"\u001b[39m\u001b[38;5;124man engine manually.\u001b[39m\u001b[38;5;124m\"\u001b[39m\n\u001b[1;32m   1659\u001b[0m         )\n",
      "File \u001b[0;32m/opt/conda/lib/python3.10/site-packages/pandas/io/excel/_base.py:1525\u001b[0m, in \u001b[0;36minspect_excel_format\u001b[0;34m(content_or_path, storage_options)\u001b[0m\n\u001b[1;32m   1522\u001b[0m \u001b[38;5;28;01mif\u001b[39;00m \u001b[38;5;28misinstance\u001b[39m(content_or_path, \u001b[38;5;28mbytes\u001b[39m):\n\u001b[1;32m   1523\u001b[0m     content_or_path \u001b[38;5;241m=\u001b[39m BytesIO(content_or_path)\n\u001b[0;32m-> 1525\u001b[0m \u001b[38;5;28;01mwith\u001b[39;00m \u001b[43mget_handle\u001b[49m\u001b[43m(\u001b[49m\n\u001b[1;32m   1526\u001b[0m \u001b[43m    \u001b[49m\u001b[43mcontent_or_path\u001b[49m\u001b[43m,\u001b[49m\u001b[43m \u001b[49m\u001b[38;5;124;43m\"\u001b[39;49m\u001b[38;5;124;43mrb\u001b[39;49m\u001b[38;5;124;43m\"\u001b[39;49m\u001b[43m,\u001b[49m\u001b[43m \u001b[49m\u001b[43mstorage_options\u001b[49m\u001b[38;5;241;43m=\u001b[39;49m\u001b[43mstorage_options\u001b[49m\u001b[43m,\u001b[49m\u001b[43m \u001b[49m\u001b[43mis_text\u001b[49m\u001b[38;5;241;43m=\u001b[39;49m\u001b[38;5;28;43;01mFalse\u001b[39;49;00m\n\u001b[1;32m   1527\u001b[0m \u001b[43m\u001b[49m\u001b[43m)\u001b[49m \u001b[38;5;28;01mas\u001b[39;00m handle:\n\u001b[1;32m   1528\u001b[0m     stream \u001b[38;5;241m=\u001b[39m handle\u001b[38;5;241m.\u001b[39mhandle\n\u001b[1;32m   1529\u001b[0m     stream\u001b[38;5;241m.\u001b[39mseek(\u001b[38;5;241m0\u001b[39m)\n",
      "File \u001b[0;32m/opt/conda/lib/python3.10/site-packages/pandas/io/common.py:865\u001b[0m, in \u001b[0;36mget_handle\u001b[0;34m(path_or_buf, mode, encoding, compression, memory_map, is_text, errors, storage_options)\u001b[0m\n\u001b[1;32m    856\u001b[0m         handle \u001b[38;5;241m=\u001b[39m \u001b[38;5;28mopen\u001b[39m(\n\u001b[1;32m    857\u001b[0m             handle,\n\u001b[1;32m    858\u001b[0m             ioargs\u001b[38;5;241m.\u001b[39mmode,\n\u001b[0;32m   (...)\u001b[0m\n\u001b[1;32m    861\u001b[0m             newline\u001b[38;5;241m=\u001b[39m\u001b[38;5;124m\"\u001b[39m\u001b[38;5;124m\"\u001b[39m,\n\u001b[1;32m    862\u001b[0m         )\n\u001b[1;32m    863\u001b[0m     \u001b[38;5;28;01melse\u001b[39;00m:\n\u001b[1;32m    864\u001b[0m         \u001b[38;5;66;03m# Binary mode\u001b[39;00m\n\u001b[0;32m--> 865\u001b[0m         handle \u001b[38;5;241m=\u001b[39m \u001b[38;5;28;43mopen\u001b[39;49m\u001b[43m(\u001b[49m\u001b[43mhandle\u001b[49m\u001b[43m,\u001b[49m\u001b[43m \u001b[49m\u001b[43mioargs\u001b[49m\u001b[38;5;241;43m.\u001b[39;49m\u001b[43mmode\u001b[49m\u001b[43m)\u001b[49m\n\u001b[1;32m    866\u001b[0m     handles\u001b[38;5;241m.\u001b[39mappend(handle)\n\u001b[1;32m    868\u001b[0m \u001b[38;5;66;03m# Convert BytesIO or file objects passed with an encoding\u001b[39;00m\n",
      "\u001b[0;31mFileNotFoundError\u001b[0m: [Errno 2] No such file or directory: 'example.xlsx'"
     ]
    }
   ],
   "source": [
    "import pandas as pd\n",
    "\n",
    "# Reading an Excel file into a DataFrame\n",
    "df = pd.read_excel('example.xlsx')\n",
    "\n",
    "# Displaying the DataFrame\n",
    "print(df)\n"
   ]
  },
  {
   "cell_type": "markdown",
   "id": "f785fc31-8a9b-451b-8317-f99dbd27605a",
   "metadata": {},
   "source": [
    "In this example, example.xlsx is the name of the Excel file you want to read. The read_excel function automatically detects the sheet with data in the Excel file and creates a DataFrame. You can specify additional parameters to customize the reading process, such as sheet name, header, index, etc.\n",
    "\n",
    "Make sure to install the openpyxl library if you haven't already, as it is required for reading and writing Excel files. You can install it using:"
   ]
  },
  {
   "cell_type": "code",
   "execution_count": null,
   "id": "9372ca7b-00de-4b76-8d83-c6669c7bd54e",
   "metadata": {},
   "outputs": [],
   "source": [
    "pip install openpyxl\n"
   ]
  },
  {
   "cell_type": "markdown",
   "id": "bd3bd4c4-4e4f-46fc-a5c2-b528496ac4f0",
   "metadata": {},
   "source": [
    "Q7. You have a Pandas DataFrame df that contains a column named 'Email' that contains email\n",
    "addresses in the format 'username@domain.com'. Write a Python function that creates a new column\n",
    "'Username' in df that contains only the username part of each email address.\n",
    "The username is the part of the email address that appears before the '@' symbol. For example, if the\n",
    "email address is 'john.doe@example.com', the 'Username' column should contain 'john.doe'. Your\n",
    "function should extract the username from each email address and store it in the new 'Username'\n",
    "column."
   ]
  },
  {
   "cell_type": "code",
   "execution_count": 7,
   "id": "bcec8d20-ed89-4034-953e-2c07cd0005e4",
   "metadata": {},
   "outputs": [
    {
     "name": "stdout",
     "output_type": "stream",
     "text": [
      "                     Email     Username\n",
      "0     john.doe@example.com     john.doe\n",
      "1  alice.smith@example.com  alice.smith\n",
      "2    bob.jones@example.com    bob.jones\n"
     ]
    }
   ],
   "source": [
    "import pandas as pd\n",
    "\n",
    "def extract_username_from_email(df):\n",
    "    # Check if 'Email' column exists in the DataFrame\n",
    "    if 'Email' not in df.columns:\n",
    "        print(\"Error: 'Email' column not found.\")\n",
    "        return\n",
    "\n",
    "    # Extracting the username from the 'Email' column\n",
    "    df['Username'] = df['Email'].str.split('@').str.get(0)\n",
    "\n",
    "# Example usage:\n",
    "# Assuming df is your original DataFrame with a column 'Email'\n",
    "data = {'Email': ['john.doe@example.com', 'alice.smith@example.com', 'bob.jones@example.com']}\n",
    "df = pd.DataFrame(data)\n",
    "\n",
    "# Call the function to extract usernames and create the 'Username' column\n",
    "extract_username_from_email(df)\n",
    "\n",
    "# Display the DataFrame with the new 'Username' column\n",
    "print(df)\n"
   ]
  },
  {
   "cell_type": "markdown",
   "id": "06d7a6e0-1b64-45df-bdbf-b48d881626de",
   "metadata": {},
   "source": [
    "Q8. You have a Pandas DataFrame df with columns 'A', 'B', and 'C'. Write a Python function that selects\n",
    "all rows where the value in column 'A' is greater than 5 and the value in column 'B' is less than 10. The\n",
    "function should return a new DataFrame that contains only the selected rows.\n",
    "For example, if df contains the following values:\n",
    "A B C\n",
    "0 3 5 1\n",
    "1 8 2 7\n",
    "2 6 9 4\n",
    "3 2 3 5\n",
    "4 9 1 2                                                                                                                                                Your function should select the following rows: A B C\n",
    "1 8 2 7\n",
    "4 9 1 2\n",
    "The function should return a new DataFrame that contains only the selected rows.     "
   ]
  },
  {
   "cell_type": "code",
   "execution_count": 8,
   "id": "6e8a913b-8adc-4122-a8c6-46dc6f0ced3f",
   "metadata": {},
   "outputs": [
    {
     "name": "stdout",
     "output_type": "stream",
     "text": [
      "   A  B  C\n",
      "1  8  2  7\n",
      "2  6  9  4\n",
      "4  9  1  2\n"
     ]
    }
   ],
   "source": [
    "import pandas as pd\n",
    "\n",
    "def select_rows_condition(df):\n",
    "    # Check if columns 'A' and 'B' exist in the DataFrame\n",
    "    if 'A' not in df.columns or 'B' not in df.columns:\n",
    "        print(\"Error: Columns 'A' and 'B' not found.\")\n",
    "        return\n",
    "\n",
    "    # Selecting rows where 'A' > 5 and 'B' < 10\n",
    "    selected_rows = df[(df['A'] > 5) & (df['B'] < 10)]\n",
    "\n",
    "    return selected_rows\n",
    "\n",
    "# Example usage:\n",
    "# Assuming df is your original DataFrame with columns 'A', 'B', and 'C'\n",
    "data = {'A': [3, 8, 6, 2, 9],\n",
    "        'B': [5, 2, 9, 3, 1],\n",
    "        'C': [1, 7, 4, 5, 2]}\n",
    "df = pd.DataFrame(data)\n",
    "\n",
    "# Call the function to select rows based on the conditions\n",
    "selected_df = select_rows_condition(df)\n",
    "\n",
    "# Display the new DataFrame with selected rows\n",
    "print(selected_df)\n"
   ]
  },
  {
   "cell_type": "markdown",
   "id": "f4ebbdc0-bafc-41a9-af3d-40b600555dd2",
   "metadata": {},
   "source": [
    "Q9. Given a Pandas DataFrame df with a column 'Values', write a Python function to calculate the mean,\n",
    "median, and standard deviation of the values in the 'Values' column."
   ]
  },
  {
   "cell_type": "code",
   "execution_count": 9,
   "id": "ea834b75-75bd-497c-9322-3d37ffc09218",
   "metadata": {},
   "outputs": [
    {
     "name": "stdout",
     "output_type": "stream",
     "text": [
      "Mean: 30.0\n",
      "Median: 30.0\n",
      "Standard Deviation: 15.811388300841896\n"
     ]
    }
   ],
   "source": [
    "import pandas as pd\n",
    "\n",
    "def calculate_statistics(df):\n",
    "    # Check if 'Values' column exists in the DataFrame\n",
    "    if 'Values' not in df.columns:\n",
    "        print(\"Error: 'Values' column not found.\")\n",
    "        return\n",
    "\n",
    "    # Calculate mean, median, and standard deviation\n",
    "    mean_value = df['Values'].mean()\n",
    "    median_value = df['Values'].median()\n",
    "    std_deviation = df['Values'].std()\n",
    "\n",
    "    # Display the calculated statistics\n",
    "    print(\"Mean:\", mean_value)\n",
    "    print(\"Median:\", median_value)\n",
    "    print(\"Standard Deviation:\", std_deviation)\n",
    "\n",
    "# Example usage:\n",
    "# Assuming df is your original DataFrame with a column 'Values'\n",
    "data = {'Values': [10, 20, 30, 40, 50]}\n",
    "df = pd.DataFrame(data)\n",
    "\n",
    "# Call the function to calculate and print statistics\n",
    "calculate_statistics(df)\n"
   ]
  },
  {
   "cell_type": "markdown",
   "id": "dda4bd7b-0a71-4b80-8aa3-e8956cbf2109",
   "metadata": {},
   "source": [
    "Q10. Given a Pandas DataFrame df with a column 'Sales' and a column 'Date', write a Python function to\n",
    "create a new column 'MovingAverage' that contains the moving average of the sales for the past 7 days\n",
    "for each row in the DataFrame. The moving average should be calculated using a window of size 7 and\n",
    "should include the current day."
   ]
  },
  {
   "cell_type": "code",
   "execution_count": 10,
   "id": "fd8489da-a2df-4f48-b88a-87156cdfcec6",
   "metadata": {},
   "outputs": [
    {
     "name": "stdout",
     "output_type": "stream",
     "text": [
      "   Sales       Date  MovingAverage\n",
      "0     10 2022-01-01      10.000000\n",
      "1     15 2022-01-02      12.500000\n",
      "2     12 2022-01-03      12.333333\n",
      "3     18 2022-01-04      13.750000\n",
      "4     20 2022-01-05      15.000000\n",
      "5     25 2022-01-06      16.666667\n",
      "6     22 2022-01-07      17.428571\n",
      "7     28 2022-01-08      20.000000\n"
     ]
    }
   ],
   "source": [
    "import pandas as pd\n",
    "\n",
    "def calculate_moving_average(df):\n",
    "    # Check if 'Sales' and 'Date' columns exist in the DataFrame\n",
    "    if 'Sales' not in df.columns or 'Date' not in df.columns:\n",
    "        print(\"Error: 'Sales' or 'Date' columns not found.\")\n",
    "        return\n",
    "\n",
    "    # Convert 'Date' column to datetime if it's not already\n",
    "    df['Date'] = pd.to_datetime(df['Date'])\n",
    "\n",
    "    # Sort DataFrame by 'Date' in ascending order\n",
    "    df = df.sort_values(by='Date')\n",
    "\n",
    "    # Calculate moving average with a window of size 7\n",
    "    df['MovingAverage'] = df['Sales'].rolling(window=7, min_periods=1).mean()\n",
    "\n",
    "    # Display the DataFrame with the new 'MovingAverage' column\n",
    "    print(df)\n",
    "\n",
    "# Example usage:\n",
    "# Assuming df is your original DataFrame with columns 'Sales' and 'Date'\n",
    "data = {'Sales': [10, 15, 12, 18, 20, 25, 22, 28],\n",
    "        'Date': ['2022-01-01', '2022-01-02', '2022-01-03', '2022-01-04', '2022-01-05', '2022-01-06', '2022-01-07', '2022-01-08']}\n",
    "df = pd.DataFrame(data)\n",
    "\n",
    "# Call the function to calculate and display the moving average\n",
    "calculate_moving_average(df)\n"
   ]
  },
  {
   "cell_type": "markdown",
   "id": "0d9b51f1-5128-46fe-8c65-89cc48ed2c68",
   "metadata": {},
   "source": [
    "Q11. You have a Pandas DataFrame df with a column 'Date'. Write a Python function that creates a new\n",
    "column 'Weekday' in the DataFrame. The 'Weekday' column should contain the weekday name (e.g.\n",
    "Monday, Tuesday) corresponding to each date in the 'Date' column.\n",
    "For example, if df contains the following values:\n",
    "Date\n",
    "0 2023-01-01\n",
    "1 2023-01-02\n",
    "2 2023-01-03\n",
    "3 2023-01-04\n",
    "4 2023-01-05\n",
    "Your function should create the following DataFrame:\n",
    "\n",
    "Date Weekday\n",
    "0 2023-01-01 Sunday\n",
    "1 2023-01-02 Monday\n",
    "2 2023-01-03 Tuesday\n",
    "3 2023-01-04 Wednesday\n",
    "4 2023-01-05 Thursday\n",
    "The function should return the modified DataFrame."
   ]
  },
  {
   "cell_type": "code",
   "execution_count": 11,
   "id": "dc7d97b1-dae9-44a9-aa51-2ff9ee510162",
   "metadata": {},
   "outputs": [
    {
     "name": "stdout",
     "output_type": "stream",
     "text": [
      "        Date    Weekday\n",
      "0 2023-01-01     Sunday\n",
      "1 2023-01-02     Monday\n",
      "2 2023-01-03    Tuesday\n",
      "3 2023-01-04  Wednesday\n",
      "4 2023-01-05   Thursday\n"
     ]
    }
   ],
   "source": [
    "import pandas as pd\n",
    "\n",
    "def add_weekday_column(df):\n",
    "    # Check if 'Date' column exists in the DataFrame\n",
    "    if 'Date' not in df.columns:\n",
    "        print(\"Error: 'Date' column not found.\")\n",
    "        return\n",
    "\n",
    "    # Convert 'Date' column to datetime if it's not already\n",
    "    df['Date'] = pd.to_datetime(df['Date'])\n",
    "\n",
    "    # Create a new 'Weekday' column with the weekday names\n",
    "    df['Weekday'] = df['Date'].dt.strftime('%A')\n",
    "\n",
    "    return df\n",
    "\n",
    "# Example usage:\n",
    "# Assuming df is your original DataFrame with a column 'Date'\n",
    "data = {'Date': ['2023-01-01', '2023-01-02', '2023-01-03', '2023-01-04', '2023-01-05']}\n",
    "df = pd.DataFrame(data)\n",
    "\n",
    "# Call the function to add the 'Weekday' column\n",
    "df_with_weekday = add_weekday_column(df)\n",
    "\n",
    "# Display the modified DataFrame\n",
    "print(df_with_weekday)\n"
   ]
  },
  {
   "cell_type": "markdown",
   "id": "69c7769b-1de1-4e6f-922c-d5e5c46a6dd2",
   "metadata": {},
   "source": [
    "Q12. Given a Pandas DataFrame df with a column 'Date' that contains timestamps, write a Python\n",
    "function to select all rows where the date is between '2023-01-01' and '2023-01-31'.\n",
    "\n"
   ]
  },
  {
   "cell_type": "code",
   "execution_count": 12,
   "id": "0d86ad64-8b89-4291-bfbd-ba34d4fdec35",
   "metadata": {},
   "outputs": [
    {
     "name": "stdout",
     "output_type": "stream",
     "text": [
      "        Date\n",
      "0 2023-01-01\n",
      "1 2023-01-15\n",
      "2 2023-01-25\n"
     ]
    }
   ],
   "source": [
    "import pandas as pd\n",
    "\n",
    "def select_rows_in_date_range(df):\n",
    "    # Check if 'Date' column exists in the DataFrame\n",
    "    if 'Date' not in df.columns:\n",
    "        print(\"Error: 'Date' column not found.\")\n",
    "        return\n",
    "\n",
    "    # Convert 'Date' column to datetime if it's not already\n",
    "    df['Date'] = pd.to_datetime(df['Date'])\n",
    "\n",
    "    # Selecting rows where the date is between '2023-01-01' and '2023-01-31'\n",
    "    selected_rows = df[(df['Date'] >= '2023-01-01') & (df['Date'] <= '2023-01-31')]\n",
    "\n",
    "    return selected_rows\n",
    "\n",
    "# Example usage:\n",
    "# Assuming df is your original DataFrame with a column 'Date'\n",
    "data = {'Date': ['2023-01-01', '2023-01-15', '2023-01-25', '2023-02-05']}\n",
    "df = pd.DataFrame(data)\n",
    "\n",
    "# Call the function to select rows in the specified date range\n",
    "selected_df = select_rows_in_date_range(df)\n",
    "\n",
    "# Display the new DataFrame with selected rows\n",
    "print(selected_df)\n"
   ]
  },
  {
   "cell_type": "markdown",
   "id": "f3059ece-1db2-4166-a15b-0f3f30206714",
   "metadata": {},
   "source": [
    "Q13. To use the basic functions of pandas, what is the first and foremost necessary library that needs to\n",
    "be imported?"
   ]
  },
  {
   "cell_type": "code",
   "execution_count": null,
   "id": "ca1808ac-8bf3-4419-9ab0-ffb024e7410a",
   "metadata": {},
   "outputs": [],
   "source": [
    "import pandas as pd\n"
   ]
  }
 ],
 "metadata": {
  "kernelspec": {
   "display_name": "Python 3 (ipykernel)",
   "language": "python",
   "name": "python3"
  },
  "language_info": {
   "codemirror_mode": {
    "name": "ipython",
    "version": 3
   },
   "file_extension": ".py",
   "mimetype": "text/x-python",
   "name": "python",
   "nbconvert_exporter": "python",
   "pygments_lexer": "ipython3",
   "version": "3.10.8"
  }
 },
 "nbformat": 4,
 "nbformat_minor": 5
}
