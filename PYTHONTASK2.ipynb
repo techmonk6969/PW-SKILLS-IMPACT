{
 "cells": [
  {
   "cell_type": "markdown",
   "id": "0e1e35d4-678b-4e18-b0ee-82fef5e70e43",
   "metadata": {},
   "source": [
    "Q1. You are writing code for a company. The requirement of the company is that you create a python\n",
    "function that will check whether the password entered by the user is correct or not. The function should\n",
    "take the password as input and return the string “Valid Password” if the entered password follows the\n",
    "below-given password guidelines else it should return “Invalid Password”.\n",
    "Note: 1. The Password should contain at least two uppercase letters and at least two lowercase letters.\n",
    "2. The Password should contain at least a number and three special characters.\n",
    "3. The length of the password should be 10 characters long."
   ]
  },
  {
   "cell_type": "code",
   "execution_count": 1,
   "id": "83c23594-4117-4923-82c9-f480e23a1e2b",
   "metadata": {},
   "outputs": [
    {
     "name": "stdout",
     "output_type": "stream",
     "text": [
      "Invalid Password\n",
      "Invalid Password\n"
     ]
    }
   ],
   "source": [
    "import string\n",
    "\n",
    "def check_password(password):\n",
    "    # Check if the length is 10 characters\n",
    "    if len(password) != 10:\n",
    "        return \"Invalid Password\"\n",
    "\n",
    "    # Count the number of uppercase and lowercase letters\n",
    "    uppercase_count = sum(1 for char in password if char.isupper())\n",
    "    lowercase_count = sum(1 for char in password if char.islower())\n",
    "\n",
    "    # Count the number of digits and special characters\n",
    "    digit_count = sum(1 for char in password if char.isdigit())\n",
    "    special_count = sum(1 for char in password if char in string.punctuation)\n",
    "\n",
    "    # Check if the password meets the guidelines\n",
    "    if uppercase_count >= 2 and lowercase_count >= 2 and digit_count >= 1 and special_count >= 3:\n",
    "        return \"Valid Password\"\n",
    "    else:\n",
    "        return \"Invalid Password\"\n",
    "\n",
    "# Example usage:\n",
    "password1 = \"Abcd123!@#\"\n",
    "password2 = \"Invalid123\"\n",
    "\n",
    "result1 = check_password(password1)\n",
    "result2 = check_password(password2)\n",
    "\n",
    "print(result1)  # Output: Valid Password\n",
    "print(result2)  # Output: Invalid Password\n"
   ]
  },
  {
   "cell_type": "markdown",
   "id": "d1424fc3-085c-4188-a3da-f282ca9b4a76",
   "metadata": {},
   "source": [
    "In this example:\n",
    "\n",
    "The check_password function takes a password as input.\n",
    "It checks the length of the password and counts the number of uppercase letters, lowercase letters, digits, and special characters.\n",
    "The function then verifies if the password meets the specified guidelines.\n",
    "Finally, it returns either \"Valid Password\" or \"Invalid Password\" based on the result.\n",
    "You can test the function with different passwords to see if they meet the specified criteria."
   ]
  },
  {
   "cell_type": "code",
   "execution_count": null,
   "id": "1c000bfe-2d17-43c8-950a-01b435e4f5d7",
   "metadata": {},
   "outputs": [],
   "source": []
  }
 ],
 "metadata": {
  "kernelspec": {
   "display_name": "Python 3 (ipykernel)",
   "language": "python",
   "name": "python3"
  },
  "language_info": {
   "codemirror_mode": {
    "name": "ipython",
    "version": 3
   },
   "file_extension": ".py",
   "mimetype": "text/x-python",
   "name": "python",
   "nbconvert_exporter": "python",
   "pygments_lexer": "ipython3",
   "version": "3.10.8"
  }
 },
 "nbformat": 4,
 "nbformat_minor": 5
}
