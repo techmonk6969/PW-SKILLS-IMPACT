{
 "cells": [
  {
   "cell_type": "markdown",
   "id": "07aae338-ebca-40e7-b3ce-19d942662890",
   "metadata": {},
   "source": [
    "Q1. Explain Class and Object with respect to Object-Oriented Programming. Give a suitable example."
   ]
  },
  {
   "cell_type": "markdown",
   "id": "4454211d-675a-4a43-9f34-b217119fa1a4",
   "metadata": {},
   "source": [
    "In Object-Oriented Programming (OOP), a class is a blueprint or a template for creating objects. It defines a set of attributes (properties) and methods (functions) that the objects created from the class will have. A class provides a way to model and organize code in a more modular and reusable manner.\n",
    "\n",
    "An object, on the other hand, is an instance of a class. It is a concrete entity created from the class, and it possesses the characteristics defined by the class, such as attributes and behaviors. Objects are the building blocks of an OOP system, and they represent real-world entities or concepts.\n",
    "\n",
    "Let's illustrate this with a simple example in Python:"
   ]
  },
  {
   "cell_type": "code",
   "execution_count": 1,
   "id": "a5d954e3-f172-407c-9e1f-0a2542d5a989",
   "metadata": {},
   "outputs": [
    {
     "name": "stdout",
     "output_type": "stream",
     "text": [
      "2022 Toyota Camry - Category: Automobile\n",
      "The 2022 Toyota Camry's engine is now running.\n",
      "2021 Ford Mustang - Category: Automobile\n",
      "The 2021 Ford Mustang's engine is now running.\n",
      "The 2022 Toyota Camry's engine has been stopped.\n",
      "The 2021 Ford Mustang's engine has been stopped.\n"
     ]
    }
   ],
   "source": [
    "# Defining a class named 'Car'\n",
    "class Car:\n",
    "    # Class attribute\n",
    "    category = 'Automobile'\n",
    "\n",
    "    # Constructor method (initializer)\n",
    "    def __init__(self, make, model, year):\n",
    "        # Instance attributes\n",
    "        self.make = make\n",
    "        self.model = model\n",
    "        self.year = year\n",
    "        self.is_running = False\n",
    "\n",
    "    # Method to start the car\n",
    "    def start_engine(self):\n",
    "        print(f\"The {self.year} {self.make} {self.model}'s engine is now running.\")\n",
    "        self.is_running = True\n",
    "\n",
    "    # Method to stop the car\n",
    "    def stop_engine(self):\n",
    "        print(f\"The {self.year} {self.make} {self.model}'s engine has been stopped.\")\n",
    "        self.is_running = False\n",
    "\n",
    "# Creating objects (instances) from the 'Car' class\n",
    "car1 = Car('Toyota', 'Camry', 2022)\n",
    "car2 = Car('Ford', 'Mustang', 2021)\n",
    "\n",
    "# Accessing attributes and calling methods on objects\n",
    "print(f\"{car1.year} {car1.make} {car1.model} - Category: {car1.category}\")\n",
    "car1.start_engine()\n",
    "\n",
    "print(f\"{car2.year} {car2.make} {car2.model} - Category: {car2.category}\")\n",
    "car2.start_engine()\n",
    "\n",
    "# Stopping the engines\n",
    "car1.stop_engine()\n",
    "car2.stop_engine()\n"
   ]
  },
  {
   "cell_type": "markdown",
   "id": "454cde89-84aa-4eed-8278-d26ae2f641a3",
   "metadata": {},
   "source": [
    "In this example:\n",
    "\n",
    "Car is a class with attributes (make, model, year, is_running) and methods (start_engine, stop_engine).\n",
    "car1 and car2 are objects (instances) created from the Car class.\n",
    "Objects have individual attributes and can call methods defined in the class.\n",
    "The class provides a blueprint for creating multiple objects with similar characteristics and behaviors.\n",
    "OOP concepts like encapsulation, inheritance, and polymorphism allow for more complex and modular code structures in larger software projects.\n",
    "\n",
    "\n",
    "\n",
    "\n"
   ]
  },
  {
   "cell_type": "markdown",
   "id": "ad625576-16e4-4034-bb8c-ff7bca52ef69",
   "metadata": {},
   "source": [
    "Q2. Name the four pillars of OOPs."
   ]
  },
  {
   "cell_type": "markdown",
   "id": "c2781267-e131-48e0-b029-60715e14997b",
   "metadata": {},
   "source": [
    "The four pillars of Object-Oriented Programming (OOP) are:\n",
    "\n",
    "1. **Encapsulation:** Encapsulation is the bundling of data (attributes) and methods (functions) that operate on the data into a single unit, called a class. It restricts access to some of the object's components, preventing direct modification. This helps in data hiding and ensures that an object's internal state remains consistent and valid.\n",
    "\n",
    "2. **Abstraction:** Abstraction is the concept of hiding the complex implementation details and showing only the essential features of an object. It allows the user to focus on what an object does rather than how it does it. Abstraction is achieved through abstract classes and interfaces, which define a set of methods without providing implementation details.\n",
    "\n",
    "3. **Inheritance:** Inheritance is the mechanism by which one class can inherit properties and behavior from another class. It allows a new class (subclass or derived class) to reuse, extend, or modify the behavior of an existing class (base class or superclass). Inheritance promotes code reusability and establishes a hierarchical relationship between classes.\n",
    "\n",
    "4. **Polymorphism:** Polymorphism allows objects of different classes to be treated as objects of a common superclass. It enables the same method to behave differently based on the object it is called on. There are two types of polymorphism: compile-time polymorphism (achieved through method overloading and operator overloading) and runtime polymorphism (achieved through method overriding and dynamic method dispatch). Polymorphism enhances flexibility and extensibility in object-oriented systems."
   ]
  },
  {
   "cell_type": "markdown",
   "id": "5d05c5c2-7b1b-493b-bc58-31692e8865ed",
   "metadata": {},
   "source": [
    "Q3. Explain why the __init__() function is used. Give a suitable example."
   ]
  },
  {
   "cell_type": "markdown",
   "id": "d5ec3ee5-65d4-4500-9c26-e13035558e65",
   "metadata": {},
   "source": [
    "The __init__() function in Python is a special method, also known as the constructor, that is automatically called when an object is created from a class. It is used to initialize the attributes of an object with values passed during the object's creation. The primary purpose of __init__() is to set up the initial state of the object.\n",
    "\n",
    "Here's an example to illustrate the use of __init__():"
   ]
  },
  {
   "cell_type": "code",
   "execution_count": 2,
   "id": "a9d87ad7-effe-4a61-839a-9c6031799a5f",
   "metadata": {},
   "outputs": [
    {
     "name": "stdout",
     "output_type": "stream",
     "text": [
      "My Car: 2022 Toyota Camry\n",
      "The 2022 Toyota Camry's engine is now running.\n",
      "The 2022 Toyota Camry's engine has been stopped.\n"
     ]
    }
   ],
   "source": [
    "class Car:\n",
    "    # The __init__ method is called when a Car object is created\n",
    "    def __init__(self, make, model, year):\n",
    "        # Initializing attributes with values provided during object creation\n",
    "        self.make = make\n",
    "        self.model = model\n",
    "        self.year = year\n",
    "        self.is_running = False\n",
    "\n",
    "    def start_engine(self):\n",
    "        print(f\"The {self.year} {self.make} {self.model}'s engine is now running.\")\n",
    "        self.is_running = True\n",
    "\n",
    "    def stop_engine(self):\n",
    "        print(f\"The {self.year} {self.make} {self.model}'s engine has been stopped.\")\n",
    "        self.is_running = False\n",
    "\n",
    "# Creating a Car object and providing values for attributes through __init__\n",
    "my_car = Car(make='Toyota', model='Camry', year=2022)\n",
    "\n",
    "# Accessing attributes and calling methods on the object\n",
    "print(f\"My Car: {my_car.year} {my_car.make} {my_car.model}\")\n",
    "my_car.start_engine()\n",
    "\n",
    "# Stopping the engine\n",
    "my_car.stop_engine()\n"
   ]
  },
  {
   "cell_type": "markdown",
   "id": "1cdf7c55-d3e8-449c-82b3-b281b60559b9",
   "metadata": {},
   "source": [
    "In this example:\n",
    "\n",
    "The __init__() method is defined within the Car class, and it takes the parameters make, model, and year along with self (which refers to the instance being created).\n",
    "When a Car object (my_car) is created, the __init__() method is automatically called, and the provided values for make, model, and year are used to initialize the object's attributes.\n",
    "The start_engine() and stop_engine() methods demonstrate how the initialized attributes can be used within the object's methods.\n",
    "Using __init__() allows for a clean and consistent way to set up the initial state of objects, making the code more readable and maintainable.\n",
    "\n",
    "\n",
    "\n",
    "\n"
   ]
  },
  {
   "cell_type": "markdown",
   "id": "636ffd74-95d8-4812-9d32-9747e310321e",
   "metadata": {},
   "source": [
    "Q4. Why self is used in OOPs?"
   ]
  },
  {
   "cell_type": "markdown",
   "id": "56a9d1e6-69e5-4ef1-b557-843ee3a3dfc5",
   "metadata": {},
   "source": [
    "In Object-Oriented Programming (OOP), self is a convention used as the first parameter in the method definitions within a class. It refers to the instance of the class itself. While the use of self is not mandatory (you could technically name it anything you like), it is a widely followed convention in the Python programming language.\n",
    "\n",
    "Here are the key reasons why self is used in OOP:\n",
    "\n",
    "Instance Reference:\n",
    "\n",
    "When a method is called on an object, the object itself is passed as the first parameter to the method.\n",
    "self is used to reference the instance variables (attributes) of the object within the class.\n",
    "Access to Object's Attributes and Methods:\n",
    "\n",
    "Using self, you can access and modify the attributes and call the methods of the object from within the class.\n",
    "It allows different instances of the same class to have their own unique state.\n",
    "Method Visibility:\n",
    "\n",
    "self helps distinguish instance methods from class methods.\n",
    "Without self, a method might inadvertently refer to a local variable or a class variable rather than an instance variable.\n",
    "Here's an example to illustrate the use of self in Python:"
   ]
  },
  {
   "cell_type": "code",
   "execution_count": 3,
   "id": "21164603-b4fc-4587-b80d-a4b2f9f52d47",
   "metadata": {},
   "outputs": [
    {
     "name": "stdout",
     "output_type": "stream",
     "text": [
      "Instance Value: 10\n",
      "Instance Value: 20\n"
     ]
    }
   ],
   "source": [
    "class Example:\n",
    "    def __init__(self, value):\n",
    "        self.value = value\n",
    "\n",
    "    def display_value(self):\n",
    "        print(f\"Instance Value: {self.value}\")\n",
    "\n",
    "# Creating two instances of the Example class\n",
    "obj1 = Example(10)\n",
    "obj2 = Example(20)\n",
    "\n",
    "# Calling instance methods using self\n",
    "obj1.display_value()  # Output: Instance Value: 10\n",
    "obj2.display_value()  # Output: Instance Value: 20\n"
   ]
  },
  {
   "cell_type": "markdown",
   "id": "ea1ec848-d160-47e2-9896-52a8257c4512",
   "metadata": {},
   "source": [
    "In this example:\n",
    "\n",
    "self refers to the instance of the class (obj1 or obj2) when display_value() is called.\n",
    "It allows access to the unique value attribute for each instance.\n",
    "Using self ensures that instance-specific data is correctly accessed and modified within the class methods, maintaining the encapsulation and integrity of each instance in an object-oriented program.\n",
    "\n",
    "\n",
    "\n",
    "\n"
   ]
  },
  {
   "cell_type": "markdown",
   "id": "5ca22fb1-12c0-4831-93a9-02c764bf17ad",
   "metadata": {},
   "source": [
    "Q5. What is inheritance? Give an example for each type of inheritance."
   ]
  },
  {
   "cell_type": "markdown",
   "id": "b73f2861-92d3-459f-a409-b294e02fd995",
   "metadata": {},
   "source": [
    "Inheritance is one of the core concepts in Object-Oriented Programming (OOP) that allows a new class (subclass or derived class) to inherit attributes and behaviors from an existing class (base class or superclass). The subclass can extend or override the functionality of the superclass, promoting code reuse and establishing a relationship between classes.\n",
    "\n",
    "There are several types of inheritance, and two common types are:\n",
    "\n",
    "Single Inheritance:\n",
    "\n",
    "In single inheritance, a class inherits from only one superclass.\n",
    "The subclass inherits the attributes and methods of the single superclass.\n",
    "Example:"
   ]
  },
  {
   "cell_type": "code",
   "execution_count": 4,
   "id": "82c7bf9d-4ab2-42f2-9eaf-8532ae0755a2",
   "metadata": {},
   "outputs": [
    {
     "name": "stdout",
     "output_type": "stream",
     "text": [
      "Animal speaks\n",
      "Dog barks\n"
     ]
    }
   ],
   "source": [
    "class Animal:\n",
    "    def speak(self):\n",
    "        print(\"Animal speaks\")\n",
    "\n",
    "class Dog(Animal):\n",
    "    def bark(self):\n",
    "        print(\"Dog barks\")\n",
    "\n",
    "# Creating an instance of Dog\n",
    "my_dog = Dog()\n",
    "\n",
    "# Inheriting from Animal and using both Animal's and Dog's methods\n",
    "my_dog.speak()  # Output: Animal speaks\n",
    "my_dog.bark()   # Output: Dog barks\n"
   ]
  },
  {
   "cell_type": "markdown",
   "id": "75e935c7-7ed9-44a1-b51c-d5271e57d8eb",
   "metadata": {},
   "source": [
    "Multiple Inheritance:\n",
    "\n",
    "In multiple inheritance, a class can inherit from more than one superclass.\n",
    "The subclass inherits attributes and methods from multiple superclasses.\n",
    "Example:"
   ]
  },
  {
   "cell_type": "code",
   "execution_count": 5,
   "id": "4b54f4b5-36d2-42a9-94e8-0840f2b7078b",
   "metadata": {},
   "outputs": [
    {
     "name": "stdout",
     "output_type": "stream",
     "text": [
      "Can fly\n",
      "Can swim\n"
     ]
    }
   ],
   "source": [
    "class Flyable:\n",
    "    def fly(self):\n",
    "        print(\"Can fly\")\n",
    "\n",
    "class Swimmable:\n",
    "    def swim(self):\n",
    "        print(\"Can swim\")\n",
    "\n",
    "class Amphibian(Flyable, Swimmable):\n",
    "    pass\n",
    "\n",
    "# Creating an instance of Amphibian\n",
    "frog = Amphibian()\n",
    "\n",
    "# Inheriting from both Flyable and Swimmable\n",
    "frog.fly()   # Output: Can fly\n",
    "frog.swim()  # Output: Can swim\n"
   ]
  },
  {
   "cell_type": "markdown",
   "id": "d6086ec1-f82b-4b43-a4db-9164d67ccc6e",
   "metadata": {},
   "source": [
    "In the multiple inheritance example, the Amphibian class inherits from both Flyable and Swimmable classes. The instance of Amphibian can use methods from both superclasses.\n",
    "\n",
    "While inheritance is a powerful concept, it should be used judiciously to avoid creating overly complex class hierarchies. Care should be taken to maintain code readability, and composition might be considered as an alternative when appropriate."
   ]
  }
 ],
 "metadata": {
  "kernelspec": {
   "display_name": "Python 3 (ipykernel)",
   "language": "python",
   "name": "python3"
  },
  "language_info": {
   "codemirror_mode": {
    "name": "ipython",
    "version": 3
   },
   "file_extension": ".py",
   "mimetype": "text/x-python",
   "name": "python",
   "nbconvert_exporter": "python",
   "pygments_lexer": "ipython3",
   "version": "3.10.8"
  }
 },
 "nbformat": 4,
 "nbformat_minor": 5
}
