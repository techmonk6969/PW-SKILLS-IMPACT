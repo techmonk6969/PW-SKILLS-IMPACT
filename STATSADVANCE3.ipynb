{
 "cells": [
  {
   "cell_type": "markdown",
   "id": "eb63f810-3c37-404b-b3eb-bfbdb89d61f7",
   "metadata": {},
   "source": [
    "Q1: What is Estimation Statistics? Explain point estimate and interval estimate."
   ]
  },
  {
   "cell_type": "markdown",
   "id": "936162e8-a1ab-47f7-a6e9-23043d88f8aa",
   "metadata": {},
   "source": [
    "**Estimation in Statistics:**\n",
    "\n",
    "Estimation in statistics involves the process of using sample data to make inferences about unknown population parameters. This can be done through point estimation and interval estimation.\n",
    "\n",
    "1. **Point Estimate:**\n",
    "   - A point estimate is a single value that is used to estimate an unknown population parameter. It is based on the sample data and provides a specific numerical approximation for the parameter. Common point estimates include the sample mean (\\(\\bar{X}\\)) as an estimate for the population mean (\\(\\mu\\)), and the sample proportion (\\(\\hat{p}\\)) as an estimate for the population proportion (\\(p\\)).\n",
    "\n",
    "2. **Interval Estimate:**\n",
    "   - An interval estimate, also known as a confidence interval, provides a range of values within which the true population parameter is likely to lie with a certain level of confidence. It recognizes the uncertainty associated with point estimates and gives a range of plausible values. A confidence interval is typically expressed as \\((\\text{lower limit, upper limit})\\), and it is associated with a confidence level (e.g., 95% confidence interval).\n",
    "\n",
    "**Example:**\n",
    "Let's consider estimating the average height (\\(\\mu\\)) of a population of adults. \n",
    "- **Point Estimate:** The sample mean (\\(\\bar{X}\\)) of the heights of a sample of individuals.\n",
    "- **Interval Estimate (Confidence Interval):** A 95% confidence interval for the population mean height might be \\((\\bar{X} - 1.96 \\cdot SE, \\bar{X} + 1.96 \\cdot SE)\\), where \\(SE\\) is the standard error of the mean.\n",
    "\n",
    "**Significance:**\n",
    "- **Point Estimate:** Provides a specific value for the parameter but doesn't indicate the range of uncertainty.\n",
    "- **Interval Estimate:** Incorporates a range of values, indicating the level of confidence in which the true parameter is expected to fall.\n",
    "\n",
    "Estimation is a fundamental aspect of statistical inference, allowing researchers and analysts to make informed statements about population parameters based on limited sample data."
   ]
  },
  {
   "cell_type": "markdown",
   "id": "150ac988-caf0-4cd0-8b2b-138a32927c35",
   "metadata": {},
   "source": [
    "Q2. Write a Python function to estimate the population mean using a sample mean and standard\n",
    "deviation."
   ]
  },
  {
   "cell_type": "code",
   "execution_count": 1,
   "id": "2a8fa70a-9bca-4945-b04a-8ff678a958ea",
   "metadata": {},
   "outputs": [
    {
     "name": "stdout",
     "output_type": "stream",
     "text": [
      "Estimated Population Mean: 25.5\n"
     ]
    }
   ],
   "source": [
    "def estimate_population_mean(sample_mean, sample_std, sample_size):\n",
    "    # Calculate the standard error of the mean (SEM)\n",
    "    standard_error_mean = sample_std / (sample_size ** 0.5)\n",
    "    \n",
    "    # Estimate the population mean using the sample mean\n",
    "    population_mean_estimate = sample_mean\n",
    "    \n",
    "    return population_mean_estimate\n",
    "\n",
    "# Example usage:\n",
    "sample_mean = 25.5\n",
    "sample_std = 3.0\n",
    "sample_size = 30\n",
    "\n",
    "estimated_mean = estimate_population_mean(sample_mean, sample_std, sample_size)\n",
    "print(f\"Estimated Population Mean: {estimated_mean}\")\n"
   ]
  },
  {
   "cell_type": "markdown",
   "id": "586a1fca-ba78-4b6e-90d4-2145d24d879a",
   "metadata": {},
   "source": [
    "Q3: What is Hypothesis testing? Why is it used? State the importance of Hypothesis testing."
   ]
  },
  {
   "cell_type": "markdown",
   "id": "084a7088-214e-4082-bd77-83f77340905d",
   "metadata": {},
   "source": [
    "**Hypothesis Testing:**\n",
    "\n",
    "Hypothesis testing is a statistical method used to make inferences about a population parameter based on a sample of data. It involves formulating two competing hypotheses about the population parameter and using sample data to assess the evidence in favor of one hypothesis over the other. The two primary hypotheses are:\n",
    "\n",
    "1. **Null Hypothesis (\\(H_0\\)):**\n",
    "   - The null hypothesis represents a statement of no effect, no difference, or no change. It is often denoted as \\(H_0\\) and is the hypothesis that researchers aim to test against.\n",
    "\n",
    "2. **Alternative Hypothesis (\\(H_a\\) or \\(H_1\\)):**\n",
    "   - The alternative hypothesis represents a statement that contradicts the null hypothesis. It suggests the presence of an effect, a difference, or a change in the population parameter. It is denoted as \\(H_a\\) or \\(H_1\\).\n",
    "\n",
    "**Process of Hypothesis Testing:**\n",
    "\n",
    "1. **Formulate Hypotheses:**\n",
    "   - Clearly state the null hypothesis (\\(H_0\\)) and the alternative hypothesis (\\(H_a\\) or \\(H_1\\)).\n",
    "\n",
    "2. **Collect and Analyze Data:**\n",
    "   - Gather a sample of data relevant to the hypothesis being tested. Analyze the data to obtain sample statistics.\n",
    "\n",
    "3. **Assess Evidence:**\n",
    "   - Use statistical methods to assess the evidence in the sample data. This often involves comparing sample statistics to expected values under the assumption of the null hypothesis.\n",
    "\n",
    "4. **Make a Decision:**\n",
    "   - Based on the evidence, decide whether to reject the null hypothesis or not. This decision is made at a predetermined significance level (alpha) and involves comparing a p-value to the significance level.\n",
    "\n",
    "5. **Draw Conclusions:**\n",
    "   - If the null hypothesis is rejected, it may be concluded that there is evidence in favor of the alternative hypothesis. If the null hypothesis is not rejected, there may not be enough evidence to support the alternative hypothesis.\n",
    "\n",
    "**Importance of Hypothesis Testing:**\n",
    "\n",
    "1. **Informed Decision-Making:**\n",
    "   - Hypothesis testing provides a systematic and objective method for decision-making. It helps researchers and analysts make informed decisions based on statistical evidence.\n",
    "\n",
    "2. **Scientific Inquiry:**\n",
    "   - In scientific research, hypothesis testing is essential for validating or refuting hypotheses. It contributes to the accumulation of knowledge and the refinement of scientific theories.\n",
    "\n",
    "3. **Quality Control:**\n",
    "   - In industries, hypothesis testing is used for quality control purposes. It helps ensure that products or processes meet specified standards.\n",
    "\n",
    "4. **Policy and Business Decisions:**\n",
    "   - Hypothesis testing is applied in various fields, including economics and public policy, to assess the impact of interventions and inform decision-making.\n",
    "\n",
    "5. **Medical and Pharmaceutical Research:**\n",
    "   - In medical and pharmaceutical research, hypothesis testing is crucial for determining the effectiveness of treatments, drugs, or interventions.\n",
    "\n",
    "6. **Statistical Inference:**\n",
    "   - Hypothesis testing is a key component of statistical inference. It allows researchers to draw conclusions about population parameters based on sample data.\n",
    "\n",
    "7. **Continuous Improvement:**\n",
    "   - In areas such as process improvement and optimization, hypothesis testing helps identify factors that contribute to improvement and guides decision-makers in implementing changes.\n",
    "\n",
    "In summary, hypothesis testing is a fundamental tool in statistics and research, providing a structured approach to drawing conclusions from data and supporting evidence-based decision-making."
   ]
  },
  {
   "cell_type": "markdown",
   "id": "afbf366e-bba4-4c9c-a365-5781e8fb4c88",
   "metadata": {},
   "source": [
    "Q4. Create a hypothesis that states whether the average weight of male college students is greater than\n",
    "the average weight of female college students."
   ]
  },
  {
   "cell_type": "markdown",
   "id": "c8714b99-30dc-40f0-bfc4-779cfd7260cb",
   "metadata": {},
   "source": [
    "**Hypothesis:**\n",
    "\n",
    "Null Hypothesis (\\(H_0\\)): The average weight of male college students is equal to or less than the average weight of female college students.\n",
    "\n",
    "Alternative Hypothesis (\\(H_a\\)): The average weight of male college students is greater than the average weight of female college students.\n",
    "\n",
    "**Symbolically:**\n",
    "\\[ H_0: \\mu_{\\text{male}} \\leq \\mu_{\\text{female}} \\]\n",
    "\\[ H_a: \\mu_{\\text{male}} > \\mu_{\\text{female}} \\]\n",
    "\n",
    "Here, \\(\\mu_{\\text{male}}\\) represents the population mean weight of male college students, and \\(\\mu_{\\text{female}}\\) represents the population mean weight of female college students.\n",
    "\n",
    "**Explanation:**\n",
    "- The null hypothesis (\\(H_0\\)) suggests that there is no significant difference or that the average weight of male college students is equal to or less than the average weight of female college students.\n",
    "- The alternative hypothesis (\\(H_a\\)) asserts that the average weight of male college students is greater than the average weight of female college students.\n",
    "\n",
    "This hypothesis can be tested using sample data through statistical methods, such as t-tests or z-tests, to determine whether there is enough evidence to reject the null hypothesis in favor of the alternative hypothesis. The significance level (\\(\\alpha\\)) will be predetermined to make a decision based on the p-value obtained from the statistical test."
   ]
  },
  {
   "cell_type": "markdown",
   "id": "33844cb9-fb19-48a6-b14a-9e3646befbd4",
   "metadata": {},
   "source": [
    "Q5. Write a Python script to conduct a hypothesis test on the difference between two population means,\n",
    "given a sample from each population."
   ]
  },
  {
   "cell_type": "code",
   "execution_count": 2,
   "id": "dcc7c2bf-347b-4fb8-9f1b-8adea922b543",
   "metadata": {},
   "outputs": [
    {
     "name": "stdout",
     "output_type": "stream",
     "text": [
      "Reject the null hypothesis. There is enough evidence to suggest a significant difference.\n",
      "t-statistic: 2.6451073409172747\n",
      "p-value: 0.01653653483488583\n"
     ]
    }
   ],
   "source": [
    "import scipy.stats as stats\n",
    "\n",
    "def two_sample_t_test(sample1, sample2, alpha=0.05):\n",
    "    # Calculate t-statistic and p-value\n",
    "    t_stat, p_value = stats.ttest_ind(sample1, sample2, equal_var=False)\n",
    "    \n",
    "    # Compare p-value to significance level\n",
    "    if p_value < alpha:\n",
    "        print(f\"Reject the null hypothesis. There is enough evidence to suggest a significant difference.\")\n",
    "    else:\n",
    "        print(\"Fail to reject the null hypothesis. There is not enough evidence to suggest a significant difference.\")\n",
    "\n",
    "    # Print t-statistic and p-value\n",
    "    print(f\"t-statistic: {t_stat}\")\n",
    "    print(f\"p-value: {p_value}\")\n",
    "\n",
    "# Example usage:\n",
    "# Replace sample1 and sample2 with your actual sample data\n",
    "sample1 = [72, 73, 71, 75, 74, 70, 72, 76, 78, 79]\n",
    "sample2 = [65, 68, 70, 72, 67, 71, 68, 73, 75, 74]\n",
    "\n",
    "# Set the significance level (alpha)\n",
    "alpha = 0.05\n",
    "\n",
    "# Perform the two-sample t-test\n",
    "two_sample_t_test(sample1, sample2, alpha)\n"
   ]
  },
  {
   "cell_type": "markdown",
   "id": "7b317d18-4b6f-4e6e-ae65-60a1e0b68b8b",
   "metadata": {},
   "source": [
    "Q6: What is a null and alternative hypothesis? Give some examples."
   ]
  },
  {
   "cell_type": "markdown",
   "id": "60c55e0e-1399-4333-a037-893d2eb4679e",
   "metadata": {},
   "source": [
    "**Null Hypothesis (\\(H_0\\)):**\n",
    "The null hypothesis is a statement that there is no significant difference, effect, or relationship in the population. It often represents a default or baseline assumption that researchers aim to test against. The null hypothesis is denoted as \\(H_0\\).\n",
    "\n",
    "**Examples:**\n",
    "1. **Population Mean:**\n",
    "   - \\(H_0\\): The population mean weight of a certain species is equal to 150 grams.\n",
    "   - \\(H_a\\): The population mean weight of the species is not equal to 150 grams.\n",
    "\n",
    "2. **Proportion Equality:**\n",
    "   - \\(H_0\\): The proportion of customers who prefer product A is equal to 0.5.\n",
    "   - \\(H_a\\): The proportion of customers who prefer product A is different from 0.5.\n",
    "\n",
    "3. **No Effect in Treatment:**\n",
    "   - \\(H_0\\): The new drug has no effect on reducing blood pressure.\n",
    "   - \\(H_a\\): The new drug has an effect on reducing blood pressure.\n",
    "\n",
    "**Alternative Hypothesis (\\(H_a\\) or \\(H_1\\)):**\n",
    "The alternative hypothesis is a statement that contradicts the null hypothesis. It represents the researcher's claim or the effect they are trying to detect. The alternative hypothesis is denoted as \\(H_a\\) or \\(H_1\\).\n",
    "\n",
    "**Examples:**\n",
    "1. **Population Mean Deviation:**\n",
    "   - \\(H_0\\): The average commute time is 20 minutes.\n",
    "   - \\(H_a\\): The average commute time is greater than 20 minutes.\n",
    "\n",
    "2. **Increased Conversion Rate:**\n",
    "   - \\(H_0\\): The conversion rate is 10%.\n",
    "   - \\(H_a\\): The conversion rate is greater than 10%.\n",
    "\n",
    "3. **Difference in Exam Scores:**\n",
    "   - \\(H_0\\): There is no difference in mean scores between Group A and Group B.\n",
    "   - \\(H_a\\): There is a difference in mean scores between Group A and Group B.\n",
    "\n",
    "In hypothesis testing, the null hypothesis is tested against the alternative hypothesis using statistical methods. The goal is to assess whether there is enough evidence in the sample data to reject the null hypothesis in favor of the alternative hypothesis. The choice of the null and alternative hypotheses depends on the research question and the hypothesis being investigated."
   ]
  },
  {
   "cell_type": "markdown",
   "id": "0be49b4a-acc8-4873-80b2-e19197e21ffa",
   "metadata": {},
   "source": [
    "Q7: Write down the steps involved in hypothesis testing."
   ]
  },
  {
   "cell_type": "markdown",
   "id": "7828d099-5b23-4338-9d2d-d273687d52ff",
   "metadata": {},
   "source": [
    "**Steps Involved in Hypothesis Testing:**\n",
    "\n",
    "1. **Formulate Hypotheses:**\n",
    "   - Clearly state the null hypothesis (\\(H_0\\)) and the alternative hypothesis (\\(H_a\\) or \\(H_1\\)). The null hypothesis typically represents no effect, no difference, or no change, while the alternative hypothesis represents the researcher's claim.\n",
    "\n",
    "2. **Select Significance Level (\\(\\alpha\\)):**\n",
    "   - Choose a significance level (\\(\\alpha\\)), which represents the probability of rejecting the null hypothesis when it is actually true. Common choices are 0.05, 0.01, or 0.10.\n",
    "\n",
    "3. **Collect and Analyze Data:**\n",
    "   - Gather a sample of data relevant to the hypothesis being tested. Analyze the data to obtain sample statistics, such as the sample mean, sample proportion, or other relevant measures.\n",
    "\n",
    "4. **Select Appropriate Test:**\n",
    "   - Choose the appropriate statistical test based on the type of data and the research question. Common tests include t-tests, z-tests, chi-square tests, and others.\n",
    "\n",
    "5. **Determine Test Statistic and Critical Region:**\n",
    "   - Calculate the test statistic based on the sample data. Determine the critical region (rejection region) in the distribution of the test statistic corresponding to the chosen significance level.\n",
    "\n",
    "6. **Calculate P-Value:**\n",
    "   - Calculate the p-value associated with the test statistic. The p-value represents the probability of observing the data, or more extreme data, under the assumption that the null hypothesis is true.\n",
    "\n",
    "7. **Make a Decision:**\n",
    "   - Compare the p-value to the significance level (\\(\\alpha\\)). If the p-value is less than or equal to \\(\\alpha\\), reject the null hypothesis. If the p-value is greater than \\(\\alpha\\), fail to reject the null hypothesis.\n",
    "\n",
    "8. **Draw Conclusions:**\n",
    "   - Based on the decision, draw conclusions about the null hypothesis and, if applicable, the alternative hypothesis. Provide interpretations in the context of the research question.\n",
    "\n",
    "9. **Report Results:**\n",
    "   - Report the results of the hypothesis test, including the test statistic, p-value, decision, and conclusions. Clearly communicate the implications of the findings.\n",
    "\n",
    "10. **Consider Limitations and Assumptions:**\n",
    "    - Acknowledge any limitations or assumptions associated with the hypothesis test. Consider the generalizability of the results to the broader population.\n",
    "\n",
    "11. **Interpretation and Discussion:**\n",
    "    - Interpret the practical significance of the results and discuss the implications for the research question or real-world scenario.\n",
    "\n",
    "It's important to note that the steps may vary slightly depending on the specific type of hypothesis test and the statistical method used. Additionally, understanding the context of the research question and the assumptions of the chosen test is crucial for accurate interpretation."
   ]
  },
  {
   "cell_type": "markdown",
   "id": "cdee5256-9ede-4913-ab3e-05f909882251",
   "metadata": {},
   "source": [
    "Q8. Define p-value and explain its significance in hypothesis testing."
   ]
  },
  {
   "cell_type": "markdown",
   "id": "bf365cd3-ac35-4895-bb05-e2e65dda8425",
   "metadata": {},
   "source": [
    "**P-Value Definition:**\n",
    "\n",
    "The p-value, or probability value, is a measure that quantifies the evidence against a null hypothesis in hypothesis testing. It represents the probability of obtaining sample data as extreme or more extreme than the observed data, assuming that the null hypothesis is true. In other words, the p-value helps assess the likelihood of observing the results obtained if there is no actual effect or difference in the population.\n",
    "\n",
    "**Significance of P-Value in Hypothesis Testing:**\n",
    "\n",
    "1. **Decision Rule:**\n",
    "   - In hypothesis testing, a significance level (\\(\\alpha\\)) is chosen (e.g., 0.05). The p-value is compared to this significance level. If the p-value is less than or equal to \\(\\alpha\\), the null hypothesis is rejected.\n",
    "\n",
    "2. **Interpretation:**\n",
    "   - Small p-values (typically less than 0.05) suggest that the observed data is unlikely to occur under the assumption of the null hypothesis. This leads to the rejection of the null hypothesis in favor of the alternative hypothesis.\n",
    "\n",
    "3. **Evidence Against Null Hypothesis:**\n",
    "   - A small p-value provides strong evidence against the null hypothesis. It indicates that the observed results are inconsistent with the idea that there is no effect, no difference, or no relationship in the population.\n",
    "\n",
    "4. **Decision Making:**\n",
    "   - The p-value guides decision-making in hypothesis testing. If the p-value is large, there is insufficient evidence to reject the null hypothesis. If the p-value is small, there is enough evidence to reject the null hypothesis.\n",
    "\n",
    "5. **Level of Significance:**\n",
    "   - The p-value is compared to the chosen level of significance (\\(\\alpha\\)). If the p-value is less than \\(\\alpha\\), the result is considered statistically significant, and the null hypothesis is rejected.\n",
    "\n",
    "6. **Influence on Conclusions:**\n",
    "   - The p-value influences the conclusions drawn from the hypothesis test. A smaller p-value strengthens the evidence against the null hypothesis, while a larger p-value weakens the evidence.\n",
    "\n",
    "7. **Continuous Scale:**\n",
    "   - The p-value provides a continuous scale for evidence. It is not a simple \"reject\" or \"fail to reject\" decision but rather a measure of the strength of evidence against the null hypothesis.\n",
    "\n",
    "8. **Sensitivity to Sample Size:**\n",
    "   - Larger sample sizes may lead to smaller p-values, indicating increased sensitivity to detect smaller effects. However, caution is needed in interpreting p-values without considering effect sizes and practical significance.\n",
    "\n",
    "It's crucial to interpret p-values in the context of the specific hypothesis test, research question, and the chosen significance level. While p-values are widely used, they should be complemented with careful consideration of effect sizes, confidence intervals, and practical implications. Additionally, p-values do not provide information about the probability that either hypothesis is true; they only quantify the strength of evidence against the null hypothesis."
   ]
  },
  {
   "cell_type": "markdown",
   "id": "92ec49ce-1b1f-4446-b0a9-389ecf4809e6",
   "metadata": {},
   "source": [
    "Q9. Generate a Student's t-distribution plot using Python's matplotlib library, with the degrees of freedom\n",
    "parameter set to 10."
   ]
  },
  {
   "cell_type": "code",
   "execution_count": 3,
   "id": "7a87283a-433b-4ae7-bd39-6a85975f3104",
   "metadata": {},
   "outputs": [
    {
     "data": {
      "image/png": "[encoded data removed]",
      "text/plain": [
       "<Figure size 800x600 with 1 Axes>"
      ]
     },
     "metadata": {},
     "output_type": "display_data"
    }
   ],
   "source": [
    "import numpy as np\n",
    "import matplotlib.pyplot as plt\n",
    "from scipy.stats import t\n",
    "\n",
    "# Set the degrees of freedom\n",
    "degrees_of_freedom = 10\n",
    "\n",
    "# Generate x values\n",
    "x_values = np.linspace(-4, 4, 1000)\n",
    "\n",
    "# Calculate the probability density function (PDF) for each x value\n",
    "pdf_values = t.pdf(x_values, df=degrees_of_freedom)\n",
    "\n",
    "# Plot the t-distribution\n",
    "plt.figure(figsize=(8, 6))\n",
    "plt.plot(x_values, pdf_values, label=f't-distribution (df={degrees_of_freedom})', color='blue')\n",
    "\n",
    "# Add labels and title\n",
    "plt.title(f\"Student's t-Distribution (Degrees of Freedom = {degrees_of_freedom})\")\n",
    "plt.xlabel('X')\n",
    "plt.ylabel('Probability Density Function (PDF)')\n",
    "plt.legend()\n",
    "\n",
    "# Show the plot\n",
    "plt.grid(True)\n",
    "plt.show()\n"
   ]
  },
  {
   "cell_type": "markdown",
   "id": "f807302f-034c-47c8-abc2-f1e582d1c89f",
   "metadata": {},
   "source": [
    "Q10. Write a Python program to calculate the two-sample t-test for independent samples, given two\n",
    "random samples of equal size and a null hypothesis that the population means are equal."
   ]
  },
  {
   "cell_type": "code",
   "execution_count": 4,
   "id": "3c0cbb8c-c7b5-4b92-9352-3782a6de6508",
   "metadata": {},
   "outputs": [
    {
     "name": "stdout",
     "output_type": "stream",
     "text": [
      "Reject the null hypothesis. There is enough evidence to suggest a significant difference.\n",
      "t-statistic: -2.3981151520102415\n",
      "p-value: 0.019717941865758228\n"
     ]
    }
   ],
   "source": [
    "import numpy as np\n",
    "from scipy.stats import ttest_ind\n",
    "\n",
    "def two_sample_t_test(sample1, sample2, alpha=0.05):\n",
    "    # Perform two-sample t-test\n",
    "    t_statistic, p_value = ttest_ind(sample1, sample2)\n",
    "\n",
    "    # Compare p-value to significance level\n",
    "    if p_value < alpha:\n",
    "        print(f\"Reject the null hypothesis. There is enough evidence to suggest a significant difference.\")\n",
    "    else:\n",
    "        print(\"Fail to reject the null hypothesis. There is not enough evidence to suggest a significant difference.\")\n",
    "\n",
    "    # Print t-statistic and p-value\n",
    "    print(f\"t-statistic: {t_statistic}\")\n",
    "    print(f\"p-value: {p_value}\")\n",
    "\n",
    "# Example usage:\n",
    "# Generate two random samples with equal size\n",
    "np.random.seed(42)  # Setting seed for reproducibility\n",
    "sample_size = 30\n",
    "sample1 = np.random.normal(loc=50, scale=10, size=sample_size)\n",
    "sample2 = np.random.normal(loc=55, scale=10, size=sample_size)\n",
    "\n",
    "# Set the significance level (alpha)\n",
    "alpha = 0.05\n",
    "\n",
    "# Perform the two-sample t-test\n",
    "two_sample_t_test(sample1, sample2, alpha)\n"
   ]
  },
  {
   "cell_type": "markdown",
   "id": "96c01bc5-4ffb-4547-9e86-1faf6775f604",
   "metadata": {},
   "source": [
    "Q11: What is Student’s t distribution? When to use the t-Distribution."
   ]
  },
  {
   "cell_type": "markdown",
   "id": "a6b6c374-2ece-4419-bddc-e5dc073b1543",
   "metadata": {},
   "source": [
    "**Student's t-Distribution:**\n",
    "\n",
    "Student's t-distribution, often referred to simply as the t-distribution, is a probability distribution that arises in the context of estimating the population mean from a small sample when the population standard deviation is unknown. It is named after William Sealy Gosset, who published under the pseudonym \"Student.\"\n",
    "\n",
    "**Characteristics of the t-Distribution:**\n",
    "- The t-distribution is bell-shaped and symmetric, similar to the normal distribution.\n",
    "- It depends on a parameter called the degrees of freedom (\\(df\\)), which is related to the sample size.\n",
    "- As the degrees of freedom increase, the t-distribution approaches the shape of the standard normal distribution (Z-distribution).\n",
    "- It has fatter tails compared to the normal distribution, making it more suitable for small sample sizes.\n",
    "\n",
    "**When to Use the t-Distribution:**\n",
    "\n",
    "The t-distribution is used in the following situations:\n",
    "\n",
    "1. **Small Sample Sizes:**\n",
    "   - When dealing with small sample sizes (typically when the sample size is less than 30) and the population standard deviation is unknown, the t-distribution is more appropriate than the normal distribution for making inferences about the population mean.\n",
    "\n",
    "2. **Population Standard Deviation Unknown:**\n",
    "   - When the population standard deviation is unknown and is estimated from the sample standard deviation, the t-distribution should be used. The normal distribution assumes knowledge of the population standard deviation.\n",
    "\n",
    "3. **Estimation of Confidence Intervals:**\n",
    "   - When constructing confidence intervals for the population mean based on a sample mean, the t-distribution is used. This accounts for the additional uncertainty introduced by estimating the population standard deviation from the sample.\n",
    "\n",
    "4. **Hypothesis Testing:**\n",
    "   - In hypothesis testing scenarios involving small sample sizes and unknown population standard deviation, the t-distribution is used for conducting tests on the population mean.\n",
    "\n",
    "**Formula for the t-Distribution:**\n",
    "The probability density function (PDF) of the t-distribution is given by:\n",
    "\n",
    "\\[ f(t; df) = \\frac{\\Gamma\\left(\\frac{df+1}{2}\\right)}{\\sqrt{df \\pi} \\Gamma\\left(\\frac{df}{2}\\right)} \\left(1 + \\frac{t^2}{df}\\right)^{-\\frac{df+1}{2}} \\]\n",
    "\n",
    "where \\(df\\) is the degrees of freedom and \\(\\Gamma\\) is the gamma function.\n",
    "\n",
    "In summary, the t-distribution is a valuable tool when working with small sample sizes and when the population standard deviation is unknown. It provides a more realistic model for making inferences about the population mean under these conditions."
   ]
  },
  {
   "cell_type": "markdown",
   "id": "a5312d0e-8387-41c8-9f76-5b61becbc8b1",
   "metadata": {},
   "source": [
    "Q12: What is t-statistic? State the formula for t-statistic."
   ]
  },
  {
   "cell_type": "markdown",
   "id": "adf98966-fbd1-46af-bb43-93bbc1523e29",
   "metadata": {},
   "source": [
    "**T-Statistic:**\n",
    "\n",
    "The t-statistic is a measure that quantifies how many standard errors a sample mean is from the population mean. It is used in hypothesis testing to assess whether the observed difference between the sample mean and the hypothesized population mean is statistically significant.\n",
    "\n",
    "**Formula for the T-Statistic:**\n",
    "\n",
    "The formula for the t-statistic depends on the context of its use, but the general formula for a one-sample t-test is as follows:\n",
    "\n",
    "\\[ t = \\frac{\\bar{x} - \\mu}{\\frac{s}{\\sqrt{n}}} \\]\n",
    "\n",
    "where:\n",
    "- \\( \\bar{x} \\) is the sample mean,\n",
    "- \\( \\mu \\) is the hypothesized population mean under the null hypothesis,\n",
    "- \\( s \\) is the sample standard deviation,\n",
    "- \\( n \\) is the sample size.\n",
    "\n",
    "For a two-sample t-test (independent samples), the formula is:\n",
    "\n",
    "\\[ t = \\frac{\\bar{x}_1 - \\bar{x}_2}{\\sqrt{\\frac{s_1^2}{n_1} + \\frac{s_2^2}{n_2}}} \\]\n",
    "\n",
    "where:\n",
    "- \\( \\bar{x}_1 \\) and \\( \\bar{x}_2 \\) are the sample means of the two groups,\n",
    "- \\( s_1 \\) and \\( s_2 \\) are the sample standard deviations of the two groups,\n",
    "- \\( n_1 \\) and \\( n_2 \\) are the sample sizes of the two groups.\n",
    "\n",
    "The t-statistic follows a t-distribution with \\( \\text{degrees of freedom} = n - 1 \\) for a one-sample t-test and \\( \\text{degrees of freedom} = \\text{min}(n_1 - 1, n_2 - 1) \\) for a two-sample t-test.\n",
    "\n",
    "**Interpretation:**\n",
    "- If the absolute value of the t-statistic is large, it suggests that the observed difference is unlikely to have occurred by chance alone.\n",
    "- The sign of the t-statistic indicates the direction of the difference (whether the sample mean is greater or less than the hypothesized mean).\n",
    "\n",
    "In hypothesis testing, the t-statistic is used to calculate the p-value, which is then compared to the chosen significance level (\\(\\alpha\\)) to make a decision about whether to reject the null hypothesis."
   ]
  },
  {
   "cell_type": "markdown",
   "id": "a08a68f6-15c7-4026-a6a7-635f4619ba60",
   "metadata": {},
   "source": [
    "Q13. A coffee shop owner wants to estimate the average daily revenue for their shop. They take a random\n",
    "sample of 50 days and find the sample mean revenue to be $500 with a standard deviation of $50.\n",
    "Estimate the population mean revenue with a 95% confidence interval."
   ]
  },
  {
   "cell_type": "markdown",
   "id": "de0a135d-2579-4c60-a4b9-e00717190056",
   "metadata": {},
   "source": [
    "To estimate the population mean revenue with a 95% confidence interval, we can use the formula for the confidence interval for the population mean:\n",
    "\n",
    "Confidence Interval\n",
    "=\n",
    "�\n",
    "ˉ\n",
    "±\n",
    "�\n",
    "(\n",
    "�\n",
    "�\n",
    ")\n",
    "Confidence Interval= \n",
    "x\n",
    "ˉ\n",
    " ±Z( \n",
    "n\n",
    "​\n",
    " \n",
    "s\n",
    "​\n",
    " )\n",
    "\n",
    "where:\n",
    "\n",
    "�\n",
    "ˉ\n",
    "x\n",
    "ˉ\n",
    "  is the sample mean,\n",
    "�\n",
    "s is the sample standard deviation,\n",
    "�\n",
    "n is the sample size,\n",
    "�\n",
    "Z is the Z-score associated with the desired confidence level.\n",
    "For a 95% confidence interval, the Z-score is approximately 1.96 (assuming a normal distribution).\n",
    "\n",
    "Let's calculate the confidence interval for the given information:\n",
    "\n",
    "Confidence Interval\n",
    "=\n",
    "500\n",
    "±\n",
    "1.96\n",
    "(\n",
    "50\n",
    "50\n",
    ")\n",
    "Confidence Interval=500±1.96( \n",
    "50\n",
    "​\n",
    " \n",
    "50\n",
    "​\n",
    " )"
   ]
  },
  {
   "cell_type": "code",
   "execution_count": 5,
   "id": "72228881-642f-437b-9958-d1f6edf6aeca",
   "metadata": {},
   "outputs": [
    {
     "name": "stdout",
     "output_type": "stream",
     "text": [
      "95% Confidence Interval for the population mean revenue: $486.14 to $513.86\n"
     ]
    }
   ],
   "source": [
    "import numpy as np\n",
    "\n",
    "# Given values\n",
    "sample_mean = 500\n",
    "sample_std = 50\n",
    "sample_size = 50\n",
    "confidence_level = 0.95\n",
    "\n",
    "# Calculate the margin of error (ME)\n",
    "margin_of_error = 1.96 * (sample_std / np.sqrt(sample_size))\n",
    "\n",
    "# Calculate the confidence interval\n",
    "confidence_interval = (sample_mean - margin_of_error, sample_mean + margin_of_error)\n",
    "\n",
    "print(f\"95% Confidence Interval for the population mean revenue: ${confidence_interval[0]:.2f} to ${confidence_interval[1]:.2f}\")\n"
   ]
  },
  {
   "cell_type": "markdown",
   "id": "0db5a90b-d331-439b-98ac-484ffd959030",
   "metadata": {},
   "source": [
    "Q14. A researcher hypothesizes that a new drug will decrease blood pressure by 10 mmHg. They conduct a\n",
    "clinical trial with 100 patients and find that the sample mean decrease in blood pressure is 8 mmHg with a\n",
    "standard deviation of 3 mmHg. Test the hypothesis with a significance level of 0.05."
   ]
  },
  {
   "cell_type": "code",
   "execution_count": 6,
   "id": "afa04dfa-4f17-4839-aed7-5217472da8d2",
   "metadata": {},
   "outputs": [
    {
     "name": "stdout",
     "output_type": "stream",
     "text": [
      "Reject the null hypothesis. There is enough evidence to suggest a significant difference.\n",
      "t-statistic: -6.666666666666667\n",
      "Critical value: 1.9842169515086827\n"
     ]
    }
   ],
   "source": [
    "import numpy as np\n",
    "from scipy.stats import t\n",
    "\n",
    "# Given values\n",
    "sample_mean = 8\n",
    "hypothesized_mean = 10\n",
    "sample_std = 3\n",
    "sample_size = 100\n",
    "significance_level = 0.05\n",
    "\n",
    "# Calculate the t-statistic\n",
    "t_statistic = (sample_mean - hypothesized_mean) / (sample_std / np.sqrt(sample_size))\n",
    "\n",
    "# Calculate the critical value for a two-tailed test\n",
    "critical_value = t.ppf(1 - significance_level / 2, df=sample_size - 1)\n",
    "\n",
    "# Compare the t-statistic to the critical value\n",
    "if np.abs(t_statistic) > critical_value:\n",
    "    print(\"Reject the null hypothesis. There is enough evidence to suggest a significant difference.\")\n",
    "else:\n",
    "    print(\"Fail to reject the null hypothesis. There is not enough evidence to suggest a significant difference.\")\n",
    "\n",
    "# Print t-statistic and critical value\n",
    "print(f\"t-statistic: {t_statistic}\")\n",
    "print(f\"Critical value: {critical_value}\")\n"
   ]
  },
  {
   "cell_type": "markdown",
   "id": "077a8540-fca7-40b1-b499-042ec46a143e",
   "metadata": {},
   "source": [
    "Q15. An electronics company produces a certain type of product with a mean weight of 5 pounds and a\n",
    "standard deviation of 0.5 pounds. A random sample of 25 products is taken, and the sample mean weight\n",
    "is found to be 4.8 pounds. Test the hypothesis that the true mean weight of the products is less than 5\n",
    "pounds with a significance level of 0.01."
   ]
  },
  {
   "cell_type": "code",
   "execution_count": 7,
   "id": "10e8a759-5048-4238-b38a-2a4a966263c0",
   "metadata": {},
   "outputs": [
    {
     "name": "stdout",
     "output_type": "stream",
     "text": [
      "Fail to reject the null hypothesis. There is not enough evidence to suggest that the true mean weight is less than 5 pounds.\n",
      "t-statistic: -2.0000000000000018\n",
      "Critical value: -2.4921594731575762\n"
     ]
    }
   ],
   "source": [
    "import numpy as np\n",
    "from scipy.stats import t\n",
    "\n",
    "# Given values\n",
    "sample_mean = 4.8\n",
    "hypothesized_mean = 5\n",
    "sample_std = 0.5\n",
    "sample_size = 25\n",
    "significance_level = 0.01\n",
    "\n",
    "# Calculate the t-statistic\n",
    "t_statistic = (sample_mean - hypothesized_mean) / (sample_std / np.sqrt(sample_size))\n",
    "\n",
    "# Calculate the critical value for a one-tailed test\n",
    "critical_value = t.ppf(significance_level, df=sample_size - 1)\n",
    "\n",
    "# Compare the t-statistic to the critical value\n",
    "if t_statistic < critical_value:\n",
    "    print(\"Reject the null hypothesis. There is enough evidence to suggest that the true mean weight is less than 5 pounds.\")\n",
    "else:\n",
    "    print(\"Fail to reject the null hypothesis. There is not enough evidence to suggest that the true mean weight is less than 5 pounds.\")\n",
    "\n",
    "# Print t-statistic and critical value\n",
    "print(f\"t-statistic: {t_statistic}\")\n",
    "print(f\"Critical value: {critical_value}\")\n"
   ]
  },
  {
   "cell_type": "markdown",
   "id": "cfe31404-d002-43c9-9a31-a0bd4802a11a",
   "metadata": {},
   "source": [
    "Q16. Two groups of students are given different study materials to prepare for a test. The first group (n1 =\n",
    "30) has a mean score of 80 with a standard deviation of 10, and the second group (n2 = 40) has a mean\n",
    "score of 75 with a standard deviation of 8. Test the hypothesis that the population means for the two\n",
    "groups are equal with a significance level of 0.01."
   ]
  },
  {
   "cell_type": "code",
   "execution_count": 8,
   "id": "3edea4ef-5da9-4aa2-baa5-f726557971cb",
   "metadata": {},
   "outputs": [
    {
     "name": "stdout",
     "output_type": "stream",
     "text": [
      "Fail to reject the null hypothesis. There is not enough evidence to suggest that the population means are not equal.\n",
      "t-statistic: 2.2511258444537408\n",
      "Critical value: 2.756385903670335\n"
     ]
    }
   ],
   "source": [
    "import numpy as np\n",
    "from scipy.stats import t\n",
    "\n",
    "# Group 1\n",
    "n1 = 30\n",
    "mean1 = 80\n",
    "std1 = 10\n",
    "\n",
    "# Group 2\n",
    "n2 = 40\n",
    "mean2 = 75\n",
    "std2 = 8\n",
    "\n",
    "# Significance level\n",
    "significance_level = 0.01\n",
    "\n",
    "# Calculate the t-statistic\n",
    "t_statistic = (mean1 - mean2) / np.sqrt((std1**2 / n1) + (std2**2 / n2))\n",
    "\n",
    "# Calculate the critical value for a two-tailed test\n",
    "degrees_of_freedom = min(n1 - 1, n2 - 1)\n",
    "critical_value = t.ppf(1 - significance_level / 2, df=degrees_of_freedom)\n",
    "\n",
    "# Compare the t-statistic to the critical value\n",
    "if np.abs(t_statistic) > critical_value:\n",
    "    print(\"Reject the null hypothesis. There is enough evidence to suggest that the population means are not equal.\")\n",
    "else:\n",
    "    print(\"Fail to reject the null hypothesis. There is not enough evidence to suggest that the population means are not equal.\")\n",
    "\n",
    "# Print t-statistic and critical value\n",
    "print(f\"t-statistic: {t_statistic}\")\n",
    "print(f\"Critical value: {critical_value}\")\n"
   ]
  },
  {
   "cell_type": "markdown",
   "id": "84d01cd5-72cb-4780-8342-9cf4bafe6960",
   "metadata": {},
   "source": [
    "Q17. A marketing company wants to estimate the average number of ads watched by viewers during a TV\n",
    "program. They take a random sample of 50 viewers and find that the sample mean is 4 with a standard\n",
    "deviation of 1.5. Estimate the population mean with a 99% confidence interval."
   ]
  },
  {
   "cell_type": "code",
   "execution_count": 9,
   "id": "8e81ab67-4788-4c8f-bcd2-7630c134a824",
   "metadata": {},
   "outputs": [
    {
     "name": "stdout",
     "output_type": "stream",
     "text": [
      "99% Confidence Interval for the population mean number of ads watched: 3.45 to 4.55\n"
     ]
    }
   ],
   "source": [
    "import numpy as np\n",
    "\n",
    "# Given values\n",
    "sample_mean = 4\n",
    "sample_std = 1.5\n",
    "sample_size = 50\n",
    "confidence_level = 0.99\n",
    "\n",
    "# Calculate the margin of error (ME)\n",
    "margin_of_error = 2.576 * (sample_std / np.sqrt(sample_size))\n",
    "\n",
    "# Calculate the confidence interval\n",
    "confidence_interval = (sample_mean - margin_of_error, sample_mean + margin_of_error)\n",
    "\n",
    "print(f\"99% Confidence Interval for the population mean number of ads watched: {confidence_interval[0]:.2f} to {confidence_interval[1]:.2f}\")\n"
   ]
  },
  {
   "cell_type": "code",
   "execution_count": null,
   "id": "a4383ab2-ab86-43ed-8fb1-8c964aaaeba5",
   "metadata": {},
   "outputs": [],
   "source": []
  }
 ],
 "metadata": {
  "kernelspec": {
   "display_name": "Python 3 (ipykernel)",
   "language": "python",
   "name": "python3"
  },
  "language_info": {
   "codemirror_mode": {
    "name": "ipython",
    "version": 3
   },
   "file_extension": ".py",
   "mimetype": "text/x-python",
   "name": "python",
   "nbconvert_exporter": "python",
   "pygments_lexer": "ipython3",
   "version": "3.10.8"
  }
 },
 "nbformat": 4,
 "nbformat_minor": 5
}
