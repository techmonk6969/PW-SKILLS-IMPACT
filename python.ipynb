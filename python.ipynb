{
 "cells": [
  {
   "cell_type": "markdown",
   "id": "1d2b9311-7f81-4f0f-89a0-d1bcefab7986",
   "metadata": {},
   "source": [
    "Q1. Create a python program to sort the given list of tuples based on integer value using a\n",
    "lambda function.\n",
    "[('Sachin Tendulkar', 34357), ('Ricky Ponting', 27483), ('Jack Kallis', 25534), ('Virat Kohli', 24936)]"
   ]
  },
  {
   "cell_type": "markdown",
   "id": "da9d82d5-647e-4474-9e5b-022751d432ab",
   "metadata": {},
   "source": [
    "Certainly! You can use the sorted() function with a lambda function as the key to sort the list of tuples based on the integer value. Here's an example:Certainly! You can use the sorted() function with a lambda function as the key to sort the list of tuples based on the integer value. Here's an example:"
   ]
  },
  {
   "cell_type": "code",
   "execution_count": 1,
   "id": "e8b842b7-dda9-42d8-a454-18c2de1937ee",
   "metadata": {},
   "outputs": [
    {
     "name": "stdout",
     "output_type": "stream",
     "text": [
      "Virat Kohli: 24936 runs\n",
      "Jack Kallis: 25534 runs\n",
      "Ricky Ponting: 27483 runs\n",
      "Sachin Tendulkar: 34357 runs\n"
     ]
    }
   ],
   "source": [
    "data = [('Sachin Tendulkar', 34357), ('Ricky Ponting', 27483), ('Jack Kallis', 25534), ('Virat Kohli', 24936)]\n",
    "\n",
    "sorted_data = sorted(data, key=lambda x: x[1])\n",
    "\n",
    "for player, runs in sorted_data:\n",
    "    print(f\"{player}: {runs} runs\")\n"
   ]
  },
  {
   "cell_type": "markdown",
   "id": "e4e73393-e010-4b24-9c24-33901fbab7f1",
   "metadata": {},
   "source": [
    "In this example, the lambda x: x[1] specifies that the sorting should be based on the second element of each tuple (the integer value representing runs). The sorted() function then sorts the list of tuples accordingly."
   ]
  },
  {
   "cell_type": "markdown",
   "id": "6808ca5c-9bf2-4d27-a3c4-e92cf0519c96",
   "metadata": {},
   "source": [
    "Q2. Write a Python Program to find the squares of all the numbers in the given list of integers using\n",
    "lambda and map functions.\n",
    "[1, 2, 3, 4, 5, 6, 7, 8, 9, 10]"
   ]
  },
  {
   "cell_type": "markdown",
   "id": "d735f167-c701-4bf8-9b4f-816e82f3f01c",
   "metadata": {},
   "source": [
    "Certainly! You can use the map() function with a lambda function to find the squares of all numbers in the given list. Here's an example:"
   ]
  },
  {
   "cell_type": "code",
   "execution_count": 2,
   "id": "6938a328-98d4-4fa2-9a57-025bac90c610",
   "metadata": {},
   "outputs": [
    {
     "name": "stdout",
     "output_type": "stream",
     "text": [
      "Original Numbers: [1, 2, 3, 4, 5, 6, 7, 8, 9, 10]\n",
      "Squares: [1, 4, 9, 16, 25, 36, 49, 64, 81, 100]\n"
     ]
    }
   ],
   "source": [
    "numbers = [1, 2, 3, 4, 5, 6, 7, 8, 9, 10]\n",
    "\n",
    "# Using lambda and map to find squares\n",
    "squares = list(map(lambda x: x**2, numbers))\n",
    "\n",
    "# Displaying the result\n",
    "print(\"Original Numbers:\", numbers)\n",
    "print(\"Squares:\", squares)\n"
   ]
  },
  {
   "cell_type": "markdown",
   "id": "746a33aa-15b4-444f-a617-cfe328405c10",
   "metadata": {},
   "source": [
    "In this example, the lambda x: x**2 represents a lambda function that takes an argument x and returns its square. The map() function applies this lambda function to each element in the list numbers, and the result is converted to a list using list()"
   ]
  },
  {
   "cell_type": "markdown",
   "id": "76f76210-5bab-4a60-add8-4644b676edaa",
   "metadata": {},
   "source": [
    "Q3. Write a python program to convert the given list of integers into a tuple of strings. Use map and\n",
    "lambda functions\n",
    "Given String: [1, 2, 3, 4, 5, 6, 7, 8, 9, 10]\n",
    "Expected output: ('1', '2', '3', '4', '5', '6', '7', '8', '9', '10')"
   ]
  },
  {
   "cell_type": "markdown",
   "id": "51d38d4c-c710-4fb7-a224-a941b0dcfc2f",
   "metadata": {},
   "source": [
    "Certainly! You can use the map() function with a lambda function to convert each integer in the given list to a string and then create a tuple from the resulting strings. Here's an example:"
   ]
  },
  {
   "cell_type": "code",
   "execution_count": 3,
   "id": "64773938-8898-4c44-a991-50a45ef7ca7b",
   "metadata": {},
   "outputs": [
    {
     "name": "stdout",
     "output_type": "stream",
     "text": [
      "Given List: [1, 2, 3, 4, 5, 6, 7, 8, 9, 10]\n",
      "Tuple of Strings: ('1', '2', '3', '4', '5', '6', '7', '8', '9', '10')\n"
     ]
    }
   ],
   "source": [
    "numbers = [1, 2, 3, 4, 5, 6, 7, 8, 9, 10]\n",
    "\n",
    "# Using lambda and map to convert integers to strings and create a tuple\n",
    "string_tuple = tuple(map(lambda x: str(x), numbers))\n",
    "\n",
    "# Displaying the result\n",
    "print(\"Given List:\", numbers)\n",
    "print(\"Tuple of Strings:\", string_tuple)\n"
   ]
  },
  {
   "cell_type": "markdown",
   "id": "82f56a3a-955b-46e6-bd4c-8d5b4f3b5ccd",
   "metadata": {},
   "source": [
    "In this example, the lambda x: str(x) represents a lambda function that takes an integer x and returns its string representation. The map() function applies this lambda function to each element in the list numbers, and the result is converted to a tuple using tuple()."
   ]
  },
  {
   "cell_type": "markdown",
   "id": "c45c0279-88fe-4e23-bd91-e9736091d242",
   "metadata": {},
   "source": [
    "Q4. Write a python program using reduce function to compute the product of a list containing numbers\n",
    "from 1 to 25."
   ]
  },
  {
   "cell_type": "markdown",
   "id": "8414cbdb-9286-449d-be49-278fedeec1a9",
   "metadata": {},
   "source": [
    "To compute the product of a list of numbers from 1 to 25 using the reduce() function, you can use the functools module. Here's an example:"
   ]
  },
  {
   "cell_type": "code",
   "execution_count": 4,
   "id": "b87b6695-b792-457d-8743-91e45dc7a299",
   "metadata": {},
   "outputs": [
    {
     "name": "stdout",
     "output_type": "stream",
     "text": [
      "List of Numbers: [1, 2, 3, 4, 5, 6, 7, 8, 9, 10, 11, 12, 13, 14, 15, 16, 17, 18, 19, 20, 21, 22, 23, 24, 25]\n",
      "Product: 15511210043330985984000000\n"
     ]
    }
   ],
   "source": [
    "from functools import reduce\n",
    "\n",
    "# Function to compute the product of two numbers\n",
    "def multiply(x, y):\n",
    "    return x * y\n",
    "\n",
    "# Creating a list of numbers from 1 to 25\n",
    "numbers = list(range(1, 26))\n",
    "\n",
    "# Using reduce to compute the product of the list\n",
    "product = reduce(multiply, numbers)\n",
    "\n",
    "# Displaying the result\n",
    "print(\"List of Numbers:\", numbers)\n",
    "print(\"Product:\", product)\n"
   ]
  },
  {
   "cell_type": "markdown",
   "id": "de024990-b18e-49dd-b042-1d6c5f4c7615",
   "metadata": {},
   "source": [
    "In this example, the multiply function is defined to compute the product of two numbers. The reduce() function is then used to apply this function cumulatively to the elements of the list numbers, resulting in the product of all the numbers."
   ]
  },
  {
   "cell_type": "markdown",
   "id": "e1b2060b-68f7-44f2-97a6-fe2c4f2a2a10",
   "metadata": {},
   "source": [
    "Q5. Write a python program to filter the numbers in a given list that are divisible by 2 and 3 using the\n",
    "filter function.\n",
    "[2, 3, 6, 9, 27, 60, 90, 120, 55, 46]"
   ]
  },
  {
   "cell_type": "markdown",
   "id": "98e0f6cb-cb23-4e8d-a8a9-e97abc390842",
   "metadata": {},
   "source": [
    "You can use the filter() function along with a lambda function to filter the numbers in the given list that are divisible by both 2 and 3. Here's an example:"
   ]
  },
  {
   "cell_type": "code",
   "execution_count": 5,
   "id": "c185b591-e2e9-429a-899c-68fd237158cd",
   "metadata": {},
   "outputs": [
    {
     "name": "stdout",
     "output_type": "stream",
     "text": [
      "Original List: [2, 3, 6, 9, 27, 60, 90, 120, 55, 46]\n",
      "Filtered Numbers (divisible by 2 and 3): [6, 60, 90, 120]\n"
     ]
    }
   ],
   "source": [
    "# Given list of numbers\n",
    "numbers = [2, 3, 6, 9, 27, 60, 90, 120, 55, 46]\n",
    "\n",
    "# Using filter and lambda to filter numbers divisible by 2 and 3\n",
    "filtered_numbers = list(filter(lambda x: x % 2 == 0 and x % 3 == 0, numbers))\n",
    "\n",
    "# Displaying the result\n",
    "print(\"Original List:\", numbers)\n",
    "print(\"Filtered Numbers (divisible by 2 and 3):\", filtered_numbers)\n"
   ]
  },
  {
   "cell_type": "markdown",
   "id": "3ea6bffb-06b7-4b76-aaa4-0732d36081d4",
   "metadata": {},
   "source": [
    "In this example, the lambda function lambda x: x % 2 == 0 and x % 3 == 0 checks if a number is divisible by both 2 and 3. The filter() function then filters the numbers in the given list based on this condition, and the result is converted to a list using list().\n",
    "\n",
    "\n",
    "\n",
    "\n"
   ]
  },
  {
   "cell_type": "markdown",
   "id": "6e915fbb-6838-4b0e-8be3-1beda9d114d6",
   "metadata": {},
   "source": [
    "Q6. Write a python program to find palindromes in the given list of strings using lambda and filter\n",
    "function.\n",
    "['python', 'php', 'aba', 'radar', 'level']"
   ]
  },
  {
   "cell_type": "markdown",
   "id": "742d0389-5385-4507-a650-ef3f9ebfdc57",
   "metadata": {},
   "source": [
    "You can use the filter() function along with a lambda function to find palindromes in the given list of strings. Here's an example:"
   ]
  },
  {
   "cell_type": "code",
   "execution_count": 6,
   "id": "9fae9e5a-245c-41e0-a223-bbbfb77c3923",
   "metadata": {},
   "outputs": [
    {
     "name": "stdout",
     "output_type": "stream",
     "text": [
      "Original List: ['python', 'php', 'aba', 'radar', 'level']\n",
      "Palindromes: ['php', 'aba', 'radar', 'level']\n"
     ]
    }
   ],
   "source": [
    "# Given list of strings\n",
    "strings_list = ['python', 'php', 'aba', 'radar', 'level']\n",
    "\n",
    "# Using filter and lambda to find palindromes\n",
    "palindromes = list(filter(lambda s: s == s[::-1], strings_list))\n",
    "\n",
    "# Displaying the result\n",
    "print(\"Original List:\", strings_list)\n",
    "print(\"Palindromes:\", palindromes)\n"
   ]
  },
  {
   "cell_type": "markdown",
   "id": "87218fb0-b50a-447b-8c7f-3c67d35cce00",
   "metadata": {},
   "source": [
    "In this example, the lambda function lambda s: s == s[::-1] checks if a string is a palindrome by comparing it to its reverse. The filter() function then filters the strings in the given list based on this condition, and the result is converted to a list using list()."
   ]
  },
  {
   "cell_type": "code",
   "execution_count": null,
   "id": "a520473f-c29e-486a-b0c3-6a023b21a12e",
   "metadata": {},
   "outputs": [],
   "source": []
  }
 ],
 "metadata": {
  "kernelspec": {
   "display_name": "Python 3 (ipykernel)",
   "language": "python",
   "name": "python3"
  },
  "language_info": {
   "codemirror_mode": {
    "name": "ipython",
    "version": 3
   },
   "file_extension": ".py",
   "mimetype": "text/x-python",
   "name": "python",
   "nbconvert_exporter": "python",
   "pygments_lexer": "ipython3",
   "version": "3.10.8"
  }
 },
 "nbformat": 4,
 "nbformat_minor": 5
}
