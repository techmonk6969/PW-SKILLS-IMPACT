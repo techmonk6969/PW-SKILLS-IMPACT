{
 "cells": [
  {
   "cell_type": "markdown",
   "id": "aaf32e83-dc3f-4bac-a0fe-23fa4403bb3d",
   "metadata": {},
   "source": [
    "Q1. What is data encoding? How is it useful in data science?"
   ]
  },
  {
   "cell_type": "markdown",
   "id": "56209246-8472-45b2-9c56-b1480aee53f5",
   "metadata": {},
   "source": [
    "Data encoding refers to the process of converting information from one format to another, often with the goal of ensuring compatibility, efficiency, or security. In the context of data science, encoding is particularly relevant in handling categorical variables and text data.\n",
    "\n",
    "1. **Categorical Variable Encoding:**\n",
    "   - **One-Hot Encoding:** Converts categorical variables into binary vectors, where each category is represented by a binary digit. This is useful for machine learning algorithms that require numerical input, as it avoids the implicit ordinal relationship between categories.\n",
    "   - **Label Encoding:** Assigns a unique numerical label to each category. This is suitable when there is an inherent ordinal relationship among categories.\n",
    "\n",
    "2. **Text Data Encoding:**\n",
    "   - **Tokenization:** Splits text into individual words or tokens.\n",
    "   - **Word Embeddings:** Represents words as dense vectors, capturing semantic relationships between words. Examples include Word2Vec, GloVe, and FastText.\n",
    "   - **Text Vectorization:** Converts text into numerical vectors, often using techniques like TF-IDF (Term Frequency-Inverse Document Frequency) or bag-of-words.\n",
    "\n",
    "3. **Data Compression:**\n",
    "   - Encoding can also be used for data compression, where information is represented in a more compact form to save storage space or reduce transmission time.\n",
    "\n",
    "4. **Security:**\n",
    "   - Encoding can be part of encryption processes to secure sensitive information.\n",
    "\n",
    "5. **Normalization:**\n",
    "   - Scaling numerical data to a standard range, such as between 0 and 1, to ensure that different features contribute equally to model training.\n",
    "\n",
    "In data science, proper encoding is crucial for building accurate and efficient machine learning models. Machine learning algorithms generally require numerical input, and encoding allows the transformation of diverse data types into a format suitable for analysis and modeling. Choosing the right encoding method depends on the nature of the data and the requirements of the specific task or algorithm at hand."
   ]
  },
  {
   "cell_type": "markdown",
   "id": "2b92c687-5ae3-4f09-aef1-74b63132bf6a",
   "metadata": {},
   "source": [
    "Q2. What is nominal encoding? Provide an example of how you would use it in a real-world scenario."
   ]
  },
  {
   "cell_type": "markdown",
   "id": "0a48dcc6-be7d-4977-bd13-2d53a9778be3",
   "metadata": {},
   "source": [
    "Nominal encoding is a type of categorical variable encoding where categories are assigned unique numerical labels without any inherent order or ranking. The numerical labels are used to represent different categories, but the order among these labels is arbitrary.\n",
    "\n",
    "Example of Nominal Encoding:\n",
    "\n",
    "Consider a dataset with a \"Color\" variable, which can take on values such as \"Red,\" \"Blue,\" and \"Green.\" In nominal encoding:\n",
    "\n",
    "\"Red\" might be encoded as 1.\n",
    "\"Blue\" might be encoded as 2.\n",
    "\"Green\" might be encoded as 3.\n",
    "Here, the assigned numerical labels are arbitrary and only serve as identifiers for different categories. Nominal encoding is appropriate when there is no inherent order or hierarchy among the categories.\n",
    "\n",
    "Real-World Scenario:\n",
    "\n",
    "Suppose you are working with a dataset containing information about fruits, including their colors. The \"Color\" variable has categories like \"Red,\" \"Blue,\" and \"Green.\" In a machine learning model, you need to encode this categorical variable for analysis."
   ]
  },
  {
   "cell_type": "code",
   "execution_count": 1,
   "id": "c5e5efd4-1aec-486b-aa7a-1967c318332c",
   "metadata": {},
   "outputs": [
    {
     "name": "stdout",
     "output_type": "stream",
     "text": [
      "       Fruit   Color  Color_Encoded\n",
      "0      Apple     Red              2\n",
      "1     Banana  Yellow              3\n",
      "2  Blueberry    Blue              0\n",
      "3     Grapes  Purple              1\n"
     ]
    }
   ],
   "source": [
    "# Sample dataset\n",
    "import pandas as pd\n",
    "\n",
    "data = {'Fruit': ['Apple', 'Banana', 'Blueberry', 'Grapes'],\n",
    "        'Color': ['Red', 'Yellow', 'Blue', 'Purple']}\n",
    "\n",
    "df = pd.DataFrame(data)\n",
    "\n",
    "# Nominal encoding using Label Encoding in Python\n",
    "from sklearn.preprocessing import LabelEncoder\n",
    "\n",
    "label_encoder = LabelEncoder()\n",
    "df['Color_Encoded'] = label_encoder.fit_transform(df['Color'])\n",
    "\n",
    "print(df[['Fruit', 'Color', 'Color_Encoded']])\n"
   ]
  },
  {
   "cell_type": "markdown",
   "id": "9207fdd4-ae85-4bc3-be22-30c1530f9835",
   "metadata": {},
   "source": [
    "Q3. In what situations is nominal encoding preferred over one-hot encoding? Provide a practical example."
   ]
  },
  {
   "cell_type": "markdown",
   "id": "220d0366-da84-4b90-8564-13a6371f9449",
   "metadata": {},
   "source": [
    "\n",
    "Nominal encoding is preferred over one-hot encoding in situations where there is no inherent order or hierarchy among the categories of a variable. One-hot encoding introduces binary features for each category, creating a sparse matrix, which can be less efficient in terms of storage and computational resources. Nominal encoding, on the other hand, assigns unique numerical labels to categories without introducing any ordinal relationships.\n",
    "\n",
    "Situations where Nominal Encoding is Preferred:\n",
    "\n",
    "Large Number of Categories:\n",
    "\n",
    "Nominal encoding is more efficient when dealing with a large number of categories. One-hot encoding would result in a high-dimensional and sparse feature space, making the dataset computationally expensive to handle.\n",
    "Categories with No Inherent Order:\n",
    "\n",
    "When the categories have no inherent order or ranking, nominal encoding is more appropriate. One-hot encoding might inadvertently introduce a false sense of ordinality by creating binary vectors.\n",
    "Practical Example:\n",
    "\n",
    "Consider a dataset with a \"Country\" variable, where each data point represents a person's nationality. The \"Country\" variable has categories like \"USA,\" \"Canada,\" \"Germany,\" and \"Japan.\" Since there is no inherent order among these countries, nominal encoding is preferred."
   ]
  },
  {
   "cell_type": "code",
   "execution_count": 2,
   "id": "4248cc45-f19b-4aa7-be1a-34f2cf39504b",
   "metadata": {},
   "outputs": [
    {
     "name": "stdout",
     "output_type": "stream",
     "text": [
      "    Person  Country  Country_Encoded\n",
      "0    Alice      USA                2\n",
      "1      Bob   Canada                0\n",
      "2  Charlie  Germany                1\n"
     ]
    }
   ],
   "source": [
    "# Sample dataset\n",
    "import pandas as pd\n",
    "\n",
    "data = {'Person': ['Alice', 'Bob', 'Charlie'],\n",
    "        'Country': ['USA', 'Canada', 'Germany']}\n",
    "\n",
    "df = pd.DataFrame(data)\n",
    "\n",
    "# Nominal encoding using Label Encoding in Python\n",
    "from sklearn.preprocessing import LabelEncoder\n",
    "\n",
    "label_encoder = LabelEncoder()\n",
    "df['Country_Encoded'] = label_encoder.fit_transform(df['Country'])\n",
    "\n",
    "print(df[['Person', 'Country', 'Country_Encoded']])\n"
   ]
  },
  {
   "cell_type": "markdown",
   "id": "4494a93f-c5b2-4056-a96b-3b58c510cc7e",
   "metadata": {},
   "source": [
    "Q4. Suppose you have a dataset containing categorical data with 5 unique values. Which encoding\n",
    "technique would you use to transform this data into a format suitable for machine learning algorithms?\n",
    "Explain why you made this choice."
   ]
  },
  {
   "cell_type": "markdown",
   "id": "83219c35-7285-472e-a978-c00a15ab832a",
   "metadata": {},
   "source": [
    "The choice of encoding technique depends on the nature of the categorical variable and the characteristics of the data. However, with 5 unique values, one common and practical approach is to use one-hot encoding.\n",
    "\n",
    "Reasons for choosing one-hot encoding:\n",
    "\n",
    "Number of Categories:\n",
    "\n",
    "One-hot encoding is well-suited when the categorical variable has a relatively small number of unique values. With 5 unique values, creating binary columns for each category is manageable and won't lead to an excessively high-dimensional feature space.\n",
    "No Ordinal Relationship:\n",
    "\n",
    "If the categorical variable represents values without any inherent order or hierarchy, one-hot encoding ensures that the machine learning algorithm does not interpret any ordinal relationship between the categories.\n",
    "Interpretability:\n",
    "\n",
    "One-hot encoding provides clear interpretability. Each category gets its own binary column, and the presence or absence of a 1 in a column indicates the presence or absence of that category.\n",
    "Model Compatibility:\n",
    "\n",
    "Many machine learning algorithms, including linear models and tree-based models, work well with one-hot encoded data. It allows these models to handle categorical variables effectively.\n",
    "Example:\n",
    "\n",
    "Suppose you have a dataset with a categorical variable \"Color\" having 5 unique values: Red, Blue, Green, Yellow, and Purple. Using one-hot encoding, you would create binary columns for each color."
   ]
  },
  {
   "cell_type": "code",
   "execution_count": 4,
   "id": "4b533a60-709b-4f4a-9cf7-870f271d3975",
   "metadata": {},
   "outputs": [
    {
     "ename": "KeyError",
     "evalue": "\"None of [Index(['Red'], dtype='object')] are in the [columns]\"",
     "output_type": "error",
     "traceback": [
      "\u001b[0;31m---------------------------------------------------------------------------\u001b[0m",
      "\u001b[0;31mKeyError\u001b[0m                                  Traceback (most recent call last)",
      "Cell \u001b[0;32mIn[4], line 10\u001b[0m\n\u001b[1;32m      7\u001b[0m df \u001b[38;5;241m=\u001b[39m pd\u001b[38;5;241m.\u001b[39mDataFrame(data)\n\u001b[1;32m      9\u001b[0m \u001b[38;5;66;03m# One-hot encoding in Python\u001b[39;00m\n\u001b[0;32m---> 10\u001b[0m df_encoded \u001b[38;5;241m=\u001b[39m \u001b[43mpd\u001b[49m\u001b[38;5;241;43m.\u001b[39;49m\u001b[43mget_dummies\u001b[49m\u001b[43m(\u001b[49m\u001b[43mdf\u001b[49m\u001b[43m,\u001b[49m\u001b[43m \u001b[49m\u001b[43mcolumns\u001b[49m\u001b[38;5;241;43m=\u001b[39;49m\u001b[43m[\u001b[49m\u001b[38;5;124;43m'\u001b[39;49m\u001b[38;5;124;43mRed\u001b[39;49m\u001b[38;5;124;43m'\u001b[39;49m\u001b[43m]\u001b[49m\u001b[43m,\u001b[49m\u001b[43m \u001b[49m\u001b[43mprefix\u001b[49m\u001b[38;5;241;43m=\u001b[39;49m\u001b[38;5;124;43m'\u001b[39;49m\u001b[38;5;124;43mYellow\u001b[39;49m\u001b[38;5;124;43m'\u001b[39;49m\u001b[43m)\u001b[49m\n\u001b[1;32m     12\u001b[0m \u001b[38;5;28mprint\u001b[39m(df_encoded[[\u001b[38;5;124m'\u001b[39m\u001b[38;5;124mObject\u001b[39m\u001b[38;5;124m'\u001b[39m, \u001b[38;5;124m'\u001b[39m\u001b[38;5;124mColor_Red\u001b[39m\u001b[38;5;124m'\u001b[39m, \u001b[38;5;124m'\u001b[39m\u001b[38;5;124mColor_Blue\u001b[39m\u001b[38;5;124m'\u001b[39m, \u001b[38;5;124m'\u001b[39m\u001b[38;5;124mColor_Green\u001b[39m\u001b[38;5;124m'\u001b[39m, \u001b[38;5;124m'\u001b[39m\u001b[38;5;124mColor_Yellow\u001b[39m\u001b[38;5;124m'\u001b[39m, \u001b[38;5;124m'\u001b[39m\u001b[38;5;124mColor_Purple\u001b[39m\u001b[38;5;124m'\u001b[39m]])\n",
      "File \u001b[0;32m/opt/conda/lib/python3.10/site-packages/pandas/core/reshape/encoding.py:146\u001b[0m, in \u001b[0;36mget_dummies\u001b[0;34m(data, prefix, prefix_sep, dummy_na, columns, sparse, drop_first, dtype)\u001b[0m\n\u001b[1;32m    144\u001b[0m     \u001b[38;5;28;01mraise\u001b[39;00m \u001b[38;5;167;01mTypeError\u001b[39;00m(\u001b[38;5;124m\"\u001b[39m\u001b[38;5;124mInput must be a list-like for parameter `columns`\u001b[39m\u001b[38;5;124m\"\u001b[39m)\n\u001b[1;32m    145\u001b[0m \u001b[38;5;28;01melse\u001b[39;00m:\n\u001b[0;32m--> 146\u001b[0m     data_to_encode \u001b[38;5;241m=\u001b[39m \u001b[43mdata\u001b[49m\u001b[43m[\u001b[49m\u001b[43mcolumns\u001b[49m\u001b[43m]\u001b[49m\n\u001b[1;32m    148\u001b[0m \u001b[38;5;66;03m# validate prefixes and separator to avoid silently dropping cols\u001b[39;00m\n\u001b[1;32m    149\u001b[0m \u001b[38;5;28;01mdef\u001b[39;00m \u001b[38;5;21mcheck_len\u001b[39m(item, name):\n",
      "File \u001b[0;32m/opt/conda/lib/python3.10/site-packages/pandas/core/frame.py:3811\u001b[0m, in \u001b[0;36mDataFrame.__getitem__\u001b[0;34m(self, key)\u001b[0m\n\u001b[1;32m   3809\u001b[0m     \u001b[38;5;28;01mif\u001b[39;00m is_iterator(key):\n\u001b[1;32m   3810\u001b[0m         key \u001b[38;5;241m=\u001b[39m \u001b[38;5;28mlist\u001b[39m(key)\n\u001b[0;32m-> 3811\u001b[0m     indexer \u001b[38;5;241m=\u001b[39m \u001b[38;5;28;43mself\u001b[39;49m\u001b[38;5;241;43m.\u001b[39;49m\u001b[43mcolumns\u001b[49m\u001b[38;5;241;43m.\u001b[39;49m\u001b[43m_get_indexer_strict\u001b[49m\u001b[43m(\u001b[49m\u001b[43mkey\u001b[49m\u001b[43m,\u001b[49m\u001b[43m \u001b[49m\u001b[38;5;124;43m\"\u001b[39;49m\u001b[38;5;124;43mcolumns\u001b[39;49m\u001b[38;5;124;43m\"\u001b[39;49m\u001b[43m)\u001b[49m[\u001b[38;5;241m1\u001b[39m]\n\u001b[1;32m   3813\u001b[0m \u001b[38;5;66;03m# take() does not accept boolean indexers\u001b[39;00m\n\u001b[1;32m   3814\u001b[0m \u001b[38;5;28;01mif\u001b[39;00m \u001b[38;5;28mgetattr\u001b[39m(indexer, \u001b[38;5;124m\"\u001b[39m\u001b[38;5;124mdtype\u001b[39m\u001b[38;5;124m\"\u001b[39m, \u001b[38;5;28;01mNone\u001b[39;00m) \u001b[38;5;241m==\u001b[39m \u001b[38;5;28mbool\u001b[39m:\n",
      "File \u001b[0;32m/opt/conda/lib/python3.10/site-packages/pandas/core/indexes/base.py:6113\u001b[0m, in \u001b[0;36mIndex._get_indexer_strict\u001b[0;34m(self, key, axis_name)\u001b[0m\n\u001b[1;32m   6110\u001b[0m \u001b[38;5;28;01melse\u001b[39;00m:\n\u001b[1;32m   6111\u001b[0m     keyarr, indexer, new_indexer \u001b[38;5;241m=\u001b[39m \u001b[38;5;28mself\u001b[39m\u001b[38;5;241m.\u001b[39m_reindex_non_unique(keyarr)\n\u001b[0;32m-> 6113\u001b[0m \u001b[38;5;28;43mself\u001b[39;49m\u001b[38;5;241;43m.\u001b[39;49m\u001b[43m_raise_if_missing\u001b[49m\u001b[43m(\u001b[49m\u001b[43mkeyarr\u001b[49m\u001b[43m,\u001b[49m\u001b[43m \u001b[49m\u001b[43mindexer\u001b[49m\u001b[43m,\u001b[49m\u001b[43m \u001b[49m\u001b[43maxis_name\u001b[49m\u001b[43m)\u001b[49m\n\u001b[1;32m   6115\u001b[0m keyarr \u001b[38;5;241m=\u001b[39m \u001b[38;5;28mself\u001b[39m\u001b[38;5;241m.\u001b[39mtake(indexer)\n\u001b[1;32m   6116\u001b[0m \u001b[38;5;28;01mif\u001b[39;00m \u001b[38;5;28misinstance\u001b[39m(key, Index):\n\u001b[1;32m   6117\u001b[0m     \u001b[38;5;66;03m# GH 42790 - Preserve name from an Index\u001b[39;00m\n",
      "File \u001b[0;32m/opt/conda/lib/python3.10/site-packages/pandas/core/indexes/base.py:6173\u001b[0m, in \u001b[0;36mIndex._raise_if_missing\u001b[0;34m(self, key, indexer, axis_name)\u001b[0m\n\u001b[1;32m   6171\u001b[0m     \u001b[38;5;28;01mif\u001b[39;00m use_interval_msg:\n\u001b[1;32m   6172\u001b[0m         key \u001b[38;5;241m=\u001b[39m \u001b[38;5;28mlist\u001b[39m(key)\n\u001b[0;32m-> 6173\u001b[0m     \u001b[38;5;28;01mraise\u001b[39;00m \u001b[38;5;167;01mKeyError\u001b[39;00m(\u001b[38;5;124mf\u001b[39m\u001b[38;5;124m\"\u001b[39m\u001b[38;5;124mNone of [\u001b[39m\u001b[38;5;132;01m{\u001b[39;00mkey\u001b[38;5;132;01m}\u001b[39;00m\u001b[38;5;124m] are in the [\u001b[39m\u001b[38;5;132;01m{\u001b[39;00maxis_name\u001b[38;5;132;01m}\u001b[39;00m\u001b[38;5;124m]\u001b[39m\u001b[38;5;124m\"\u001b[39m)\n\u001b[1;32m   6175\u001b[0m not_found \u001b[38;5;241m=\u001b[39m \u001b[38;5;28mlist\u001b[39m(ensure_index(key)[missing_mask\u001b[38;5;241m.\u001b[39mnonzero()[\u001b[38;5;241m0\u001b[39m]]\u001b[38;5;241m.\u001b[39munique())\n\u001b[1;32m   6176\u001b[0m \u001b[38;5;28;01mraise\u001b[39;00m \u001b[38;5;167;01mKeyError\u001b[39;00m(\u001b[38;5;124mf\u001b[39m\u001b[38;5;124m\"\u001b[39m\u001b[38;5;132;01m{\u001b[39;00mnot_found\u001b[38;5;132;01m}\u001b[39;00m\u001b[38;5;124m not in index\u001b[39m\u001b[38;5;124m\"\u001b[39m)\n",
      "\u001b[0;31mKeyError\u001b[0m: \"None of [Index(['Red'], dtype='object')] are in the [columns]\""
     ]
    }
   ],
   "source": [
    "# Sample dataset\n",
    "import pandas as pd\n",
    "\n",
    "data = {'Object': ['Apple', 'Banana', 'Leaf', 'Sunflower', 'Grapes'],\n",
    "        'Color': ['Red', 'Yellow', 'Green', 'Yellow', 'Purple']}\n",
    "\n",
    "df = pd.DataFrame(data)\n",
    "\n",
    "# One-hot encoding in Python\n",
    "df_encoded = pd.get_dummies(df, columns=['Red'], prefix='Yellow')\n",
    "\n",
    "print(df_encoded[['Object', 'Color_Red', 'Color_Blue', 'Color_Green', 'Color_Yellow', 'Color_Purple']])\n"
   ]
  },
  {
   "cell_type": "markdown",
   "id": "6d74b955-3944-4541-9c28-f2f4ecab3416",
   "metadata": {},
   "source": [
    "Q5. In a machine learning project, you have a dataset with 1000 rows and 5 columns. Two of the columns\n",
    "are categorical, and the remaining three columns are numerical. If you were to use nominal encoding to\n",
    "transform the categorical data, how many new columns would be created? Show your calculations."
   ]
  },
  {
   "cell_type": "markdown",
   "id": "97a0d829-843f-4424-bdda-386836961eb6",
   "metadata": {},
   "source": [
    "For nominal encoding, each unique category in a categorical variable is assigned a unique numerical label. The number of new columns created for nominal encoding is equal to the number of unique categories minus one.\n",
    "\n",
    "Let's denote the number of unique categories in each categorical column as follows:\n",
    "- Number of unique categories in the first categorical column: \\( N_1 \\)\n",
    "- Number of unique categories in the second categorical column: \\( N_2 \\)\n",
    "\n",
    "The number of new columns created for nominal encoding would be \\( (N_1 - 1) + (N_2 - 1) \\).\n",
    "\n",
    "Given that you have two categorical columns, let's assume the following:\n",
    "- \\( N_1 = 4 \\) (4 unique categories in the first categorical column)\n",
    "- \\( N_2 = 3 \\) (3 unique categories in the second categorical column)\n",
    "\n",
    "Now, we can calculate the total number of new columns:\n",
    "\\[ (N_1 - 1) + (N_2 - 1) = (4 - 1) + (3 - 1) = 3 + 2 = 5 \\]\n",
    "\n",
    "So, using nominal encoding for the two categorical columns in your dataset would create 5 new columns."
   ]
  },
  {
   "cell_type": "markdown",
   "id": "44761f20-4fec-4b19-b122-40cacbc784c3",
   "metadata": {},
   "source": [
    "Q6. You are working with a dataset containing information about different types of animals, including their\n",
    "species, habitat, and diet. Which encoding technique would you use to transform the categorical data into\n",
    "a format suitable for machine learning algorithms? Justify your answer."
   ]
  },
  {
   "cell_type": "markdown",
   "id": "25000c6a-fdf8-4ef2-9471-c2f74adb4fe6",
   "metadata": {},
   "source": [
    "The choice of encoding technique depends on the nature of the categorical variables in your dataset. In the case of animal-related data with categorical variables like \"species,\" \"habitat,\" and \"diet,\" the following encoding techniques may be suitable:\n",
    "\n",
    "Nominal Encoding:\n",
    "\n",
    "For variables like \"species\" and \"habitat\" where there is no inherent order or hierarchy among the categories, nominal encoding can be used. This involves assigning unique numerical labels to each category without implying any ordinal relationship.\n",
    "One-Hot Encoding:\n",
    "\n",
    "For variables like \"diet,\" where the categories might not have a natural order but are mutually exclusive (an animal can have only one type of diet at a time), one-hot encoding can be applied. This technique creates binary columns for each category, representing the presence or absence of that category.\n",
    "Justification:\n",
    "\n",
    "Species and Habitat: These variables likely represent categories without a specific order. Nominal encoding is appropriate to maintain the distinction between different species or habitats without introducing artificial ordering.\n",
    "\n",
    "Diet: Since an animal can have only one type of diet at a time, one-hot encoding ensures that the model understands the categorical nature of the variable. Each diet category gets its own binary column, making it clear and interpretable."
   ]
  },
  {
   "cell_type": "code",
   "execution_count": 5,
   "id": "ed684725-6da8-4a3c-a658-300b7d06a790",
   "metadata": {},
   "outputs": [
    {
     "name": "stdout",
     "output_type": "stream",
     "text": [
      "     Animal  Species_Encoded  Habitat_Encoded       Diet  Diet_Carnivore  \\\n",
      "0      Lion                1                2  Carnivore               1   \n",
      "1  Elephant                1                3  Herbivore               0   \n",
      "2      Fish                0                0   Omnivore               0   \n",
      "3    Monkey                1                1  Herbivore               0   \n",
      "\n",
      "   Diet_Herbivore  Diet_Omnivore  \n",
      "0               0              0  \n",
      "1               1              0  \n",
      "2               0              1  \n",
      "3               1              0  \n"
     ]
    }
   ],
   "source": [
    "# Sample dataset\n",
    "import pandas as pd\n",
    "\n",
    "data = {'Animal': ['Lion', 'Elephant', 'Fish', 'Monkey'],\n",
    "        'Species': ['Mammal', 'Mammal', 'Fish', 'Mammal'],\n",
    "        'Habitat': ['Grassland', 'Jungle', 'Aquatic', 'Forest'],\n",
    "        'Diet': ['Carnivore', 'Herbivore', 'Omnivore', 'Herbivore']}\n",
    "\n",
    "df = pd.DataFrame(data)\n",
    "\n",
    "# Nominal encoding for Species and Habitat\n",
    "from sklearn.preprocessing import LabelEncoder\n",
    "\n",
    "label_encoder = LabelEncoder()\n",
    "df['Species_Encoded'] = label_encoder.fit_transform(df['Species'])\n",
    "df['Habitat_Encoded'] = label_encoder.fit_transform(df['Habitat'])\n",
    "\n",
    "# One-hot encoding for Diet\n",
    "df_diet_encoded = pd.get_dummies(df['Diet'], prefix='Diet')\n",
    "\n",
    "# Concatenate the encoded columns to the original dataframe\n",
    "df_encoded = pd.concat([df, df_diet_encoded], axis=1)\n",
    "\n",
    "print(df_encoded[['Animal', 'Species_Encoded', 'Habitat_Encoded', 'Diet', 'Diet_Carnivore', 'Diet_Herbivore', 'Diet_Omnivore']])\n"
   ]
  },
  {
   "cell_type": "markdown",
   "id": "be70ee70-e4fe-4900-8343-5531fdc4ffb9",
   "metadata": {},
   "source": [
    "Q7.You are working on a project that involves predicting customer churn for a telecommunications\n",
    "company. You have a dataset with 5 features, including the customer's gender, age, contract type,\n",
    "monthly charges, and tenure. Which encoding technique(s) would you use to transform the categorical\n",
    "data into numerical data? Provide a step-by-step explanation of how you would implement the encoding."
   ]
  },
  {
   "cell_type": "markdown",
   "id": "3d948d0e-a295-45ca-89cc-ca82ed100193",
   "metadata": {},
   "source": [
    "\n",
    "To transform the categorical data into numerical data for predicting customer churn in a telecommunications dataset with features like gender and contract type, you can use encoding techniques such as Label Encoding or One-Hot Encoding. Here's a step-by-step explanation for both approaches:\n",
    "\n",
    "Option 1: Label Encoding\n",
    "Identify Categorical Variables:\n",
    "\n",
    "Identify the categorical variables in your dataset. In this case, \"gender\" and \"contract type\" are categorical.\n",
    "Apply Label Encoding:\n",
    "\n",
    "Use Label Encoding to convert categorical variables into numerical format.\n",
    "For \"gender,\" you can use binary encoding (0 for one gender, 1 for the other).\n",
    "For \"contract type,\" assign unique numerical labels (0, 1, etc.) to different contract types."
   ]
  },
  {
   "cell_type": "code",
   "execution_count": 6,
   "id": "5a3ea831-1362-4a95-9c96-ddeafef73b7e",
   "metadata": {},
   "outputs": [
    {
     "name": "stdout",
     "output_type": "stream",
     "text": [
      "   age  monthly_charges  tenure churn  gender_encoded  contract_type_encoded\n",
      "0   25             50.0      12    No               1                      0\n",
      "1   30             65.0      24    No               0                      1\n",
      "2   22             55.0       6   Yes               1                      0\n",
      "3   35             75.0      36    No               0                      2\n"
     ]
    }
   ],
   "source": [
    "# Sample dataset\n",
    "import pandas as pd\n",
    "\n",
    "data = {'gender': ['Male', 'Female', 'Male', 'Female'],\n",
    "        'contract_type': ['Month-to-month', 'One year', 'Month-to-month', 'Two year'],\n",
    "        'age': [25, 30, 22, 35],\n",
    "        'monthly_charges': [50.0, 65.0, 55.0, 75.0],\n",
    "        'tenure': [12, 24, 6, 36],\n",
    "        'churn': ['No', 'No', 'Yes', 'No']}\n",
    "\n",
    "df = pd.DataFrame(data)\n",
    "\n",
    "# Label Encoding for gender and contract type\n",
    "from sklearn.preprocessing import LabelEncoder\n",
    "\n",
    "label_encoder = LabelEncoder()\n",
    "df['gender_encoded'] = label_encoder.fit_transform(df['gender'])\n",
    "df['contract_type_encoded'] = label_encoder.fit_transform(df['contract_type'])\n",
    "\n",
    "# Drop the original categorical columns\n",
    "df = df.drop(['gender', 'contract_type'], axis=1)\n",
    "\n",
    "print(df)\n"
   ]
  },
  {
   "cell_type": "markdown",
   "id": "9633b97a-34f9-4a4b-b51c-95bb0e572e31",
   "metadata": {},
   "source": [
    "Option 2: One-Hot Encoding\n",
    "Identify Categorical Variables:\n",
    "\n",
    "Identify the categorical variables in your dataset (\"gender\" and \"contract type\").\n",
    "Apply One-Hot Encoding:\n",
    "\n",
    "Use One-Hot Encoding to create binary columns for each category.\n",
    "For \"gender,\" create two columns (e.g., \"gender_Male\" and \"gender_Female\").\n",
    "For \"contract type,\" create columns for each contract type."
   ]
  },
  {
   "cell_type": "code",
   "execution_count": 7,
   "id": "d84ce811-39a2-4d01-ac53-0b0836c1e3c6",
   "metadata": {},
   "outputs": [
    {
     "name": "stdout",
     "output_type": "stream",
     "text": [
      "   age  monthly_charges  tenure churn  gender_Female  gender_Male  \\\n",
      "0   25             50.0      12    No              0            1   \n",
      "1   30             65.0      24    No              1            0   \n",
      "2   22             55.0       6   Yes              0            1   \n",
      "3   35             75.0      36    No              1            0   \n",
      "\n",
      "   contract_Month-to-month  contract_One year  contract_Two year  \n",
      "0                        1                  0                  0  \n",
      "1                        0                  1                  0  \n",
      "2                        1                  0                  0  \n",
      "3                        0                  0                  1  \n"
     ]
    }
   ],
   "source": [
    "# Sample dataset (assuming the original dataset without label encoding)\n",
    "import pandas as pd\n",
    "\n",
    "data = {'gender': ['Male', 'Female', 'Male', 'Female'],\n",
    "        'contract_type': ['Month-to-month', 'One year', 'Month-to-month', 'Two year'],\n",
    "        'age': [25, 30, 22, 35],\n",
    "        'monthly_charges': [50.0, 65.0, 55.0, 75.0],\n",
    "        'tenure': [12, 24, 6, 36],\n",
    "        'churn': ['No', 'No', 'Yes', 'No']}\n",
    "\n",
    "df = pd.DataFrame(data)\n",
    "\n",
    "# One-Hot Encoding for gender and contract type\n",
    "df_encoded = pd.get_dummies(df, columns=['gender', 'contract_type'], prefix=['gender', 'contract'])\n",
    "\n",
    "print(df_encoded)\n"
   ]
  },
  {
   "cell_type": "code",
   "execution_count": null,
   "id": "087e6df8-d33c-407b-8f8b-0344109874f7",
   "metadata": {},
   "outputs": [],
   "source": []
  }
 ],
 "metadata": {
  "kernelspec": {
   "display_name": "Python 3 (ipykernel)",
   "language": "python",
   "name": "python3"
  },
  "language_info": {
   "codemirror_mode": {
    "name": "ipython",
    "version": 3
   },
   "file_extension": ".py",
   "mimetype": "text/x-python",
   "name": "python",
   "nbconvert_exporter": "python",
   "pygments_lexer": "ipython3",
   "version": "3.10.8"
  }
 },
 "nbformat": 4,
 "nbformat_minor": 5
}
