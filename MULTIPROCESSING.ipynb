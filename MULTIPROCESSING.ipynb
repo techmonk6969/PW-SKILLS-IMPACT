{
 "cells": [
  {
   "cell_type": "markdown",
   "id": "1fe3b4c9-2ed1-4339-9533-5a8e66db6503",
   "metadata": {},
   "source": [
    "Q1. What is multiprocessing in python? Why is it useful?\n"
   ]
  },
  {
   "cell_type": "markdown",
   "id": "42e7289f-6c22-4814-9fdf-2cb2d635f275",
   "metadata": {},
   "source": [
    "Multiprocessing in Python refers to the concurrent execution of multiple processes, each having its own Python interpreter and memory space. It is a form of parallelism that enables the execution of multiple tasks or computations simultaneously, taking advantage of multi-core processors and distributing the workload across different processes.\n",
    "\n",
    "Key features and reasons why multiprocessing is useful in Python:\n",
    "\n",
    "Parallelism:\n",
    "\n",
    "Multiprocessing allows parallel execution of tasks, making it possible to utilize multiple CPU cores simultaneously. This can lead to significant improvements in performance, especially for CPU-bound tasks.\n",
    "Improved Performance:\n",
    "\n",
    "By distributing tasks across multiple processes, multiprocessing can lead to improved overall performance, particularly in scenarios where tasks can be executed independently.\n",
    "Isolation:\n",
    "\n",
    "Each process has its own memory space and Python interpreter, providing isolation between processes. This helps prevent interference between processes and ensures that they do not share data unintentionally.\n",
    "Resource Utilization:\n",
    "\n",
    "Multiprocessing can make efficient use of available resources on multi-core systems. Each process can run on a separate core, maximizing CPU usage.\n",
    "Fault Isolation:\n",
    "\n",
    "If one process encounters an error or crashes, it does not affect the execution of other processes. Faults in one process are isolated from others.\n",
    "Scalability:\n",
    "\n",
    "Multiprocessing is scalable, allowing applications to handle an increasing number of tasks or workload by creating additional processes.\n",
    "Concurrency for I/O-bound Tasks:\n",
    "\n",
    "While multiprocessing is commonly associated with CPU-bound tasks, it can also be beneficial for certain I/O-bound tasks, such as reading and writing to files or making network requests. This is particularly true when using asynchronous programming with multiprocessing.\n",
    "Facilitates Parallel Algorithms:\n",
    "\n",
    "Multiprocessing is well-suited for parallel algorithms where different processes can work on separate parts of a larger problem concurrently.\n",
    "In Python, the multiprocessing module provides a framework for creating and managing processes. It includes features for inter-process communication, synchronization, and other utilities for handling parallel execution.\n",
    "\n",
    "Example of using multiprocessing to parallelize a simple task:"
   ]
  },
  {
   "cell_type": "code",
   "execution_count": 1,
   "id": "d50c411a-fa93-45a6-8165-e4e3c37742e8",
   "metadata": {},
   "outputs": [
    {
     "name": "stdout",
     "output_type": "stream",
     "text": [
      "[1, 4, 9, 16, 25]\n"
     ]
    }
   ],
   "source": [
    "import multiprocessing\n",
    "\n",
    "def square(number):\n",
    "    return number**2\n",
    "\n",
    "if __name__ == \"__main__\":\n",
    "    numbers = [1, 2, 3, 4, 5]\n",
    "    \n",
    "    with multiprocessing.Pool() as pool:\n",
    "        result = pool.map(square, numbers)\n",
    "    \n",
    "    print(result)\n"
   ]
  },
  {
   "cell_type": "markdown",
   "id": "c51a6daa-f158-460f-bc3c-24ed2f9d0a58",
   "metadata": {},
   "source": [
    "Q2. What are the differences between multiprocessing and multithreading?"
   ]
  },
  {
   "cell_type": "markdown",
   "id": "50419884-3290-4942-8fab-3d5360ae546b",
   "metadata": {},
   "source": [
    "Multiprocessing and multithreading are both techniques used to achieve parallelism in computing, but they differ in their approaches and characteristics. Here are the key differences between multiprocessing and multithreading:\n",
    "\n",
    "1. **Definition:**\n",
    "   - **Multiprocessing:** Involves the concurrent execution of multiple processes, where each process has its own memory space and Python interpreter.\n",
    "   - **Multithreading:** Involves the concurrent execution of multiple threads within the same process, sharing the same memory space and Python interpreter.\n",
    "\n",
    "2. **Isolation:**\n",
    "   - **Multiprocessing:** Provides strong isolation between processes. Each process has its own address space, and communication between processes requires inter-process communication (IPC) mechanisms.\n",
    "   - **Multithreading:** Threads within the same process share the same memory space, so they can directly access and modify shared data. This can lead to potential race conditions and requires synchronization mechanisms.\n",
    "\n",
    "3. **Resource Utilization:**\n",
    "   - **Multiprocessing:** Can make better use of multiple CPU cores, as each process can run on a separate core, maximizing CPU usage.\n",
    "   - **Multithreading:** Limited by the Global Interpreter Lock (GIL) in CPython, which allows only one thread to execute Python bytecode at a time. This limits the effectiveness of multithreading for CPU-bound tasks in Python.\n",
    "\n",
    "4. **Communication:**\n",
    "   - **Multiprocessing:** Communication between processes often involves more overhead due to IPC mechanisms such as pipes, queues, or shared memory.\n",
    "   - **Multithreading:** Communication between threads is more direct, as threads can share data through shared variables. However, this requires careful synchronization to avoid race conditions.\n",
    "\n",
    "5. **Fault Isolation:**\n",
    "   - **Multiprocessing:** If one process crashes or encounters an error, it does not affect other processes, providing better fault isolation.\n",
    "   - **Multithreading:** An error in one thread can potentially affect the entire process, making fault isolation more challenging.\n",
    "\n",
    "6. **Scalability:**\n",
    "   - **Multiprocessing:** Can scale well on multi-core systems, allowing for efficient parallelization of CPU-bound tasks.\n",
    "   - **Multithreading:** Limited scalability in Python due to the GIL. It is more suitable for I/O-bound tasks or situations where GIL is not a significant bottleneck.\n",
    "\n",
    "7. **Use Cases:**\n",
    "   - **Multiprocessing:** Well-suited for CPU-bound tasks, parallel algorithms, and scenarios where strong isolation between tasks is required.\n",
    "   - **Multithreading:** More appropriate for I/O-bound tasks, tasks with frequent communication between threads, and situations where GIL limitations are not critical.\n",
    "\n",
    "8. **Implementation:**\n",
    "   - **Multiprocessing:** Implemented using the `multiprocessing` module in Python.\n",
    "   - **Multithreading:** Implemented using the `threading` module in Python.\n",
    "\n",
    "In summary, the choice between multiprocessing and multithreading depends on the nature of the task and the specific requirements of the application. Multiprocessing is often preferred for CPU-bound tasks and scenarios requiring strong isolation, while multithreading can be effective for I/O-bound tasks and situations where shared memory access is acceptable."
   ]
  },
  {
   "cell_type": "markdown",
   "id": "6972ab5a-2e4f-49bf-8602-189da5552c4d",
   "metadata": {},
   "source": [
    "Q3. Write a python code to create a process using the multiprocessing module."
   ]
  },
  {
   "cell_type": "code",
   "execution_count": 2,
   "id": "14112e76-f5bf-4851-9653-254f66e4b5fd",
   "metadata": {},
   "outputs": [
    {
     "name": "stdout",
     "output_type": "stream",
     "text": [
      "Process 1 (PID 308) is running.\n",
      "Process 2 (PID 311) is running.\n",
      "Process 1 is exiting.\n",
      "Process 2 is exiting.\n",
      "Main program exiting.\n"
     ]
    }
   ],
   "source": [
    "import multiprocessing\n",
    "import os\n",
    "import time\n",
    "\n",
    "def print_info(process_name):\n",
    "    print(f\"Process {process_name} (PID {os.getpid()}) is running.\")\n",
    "    time.sleep(2)\n",
    "    print(f\"Process {process_name} is exiting.\")\n",
    "\n",
    "if __name__ == \"__main__\":\n",
    "    # Create two processes\n",
    "    process1 = multiprocessing.Process(target=print_info, args=(\"1\",))\n",
    "    process2 = multiprocessing.Process(target=print_info, args=(\"2\",))\n",
    "\n",
    "    # Start both processes\n",
    "    process1.start()\n",
    "    process2.start()\n",
    "\n",
    "    # Wait for both processes to finish\n",
    "    process1.join()\n",
    "    process2.join()\n",
    "\n",
    "    print(\"Main program exiting.\")\n"
   ]
  },
  {
   "cell_type": "markdown",
   "id": "a2dd4455-95de-43a0-81af-5af0e9545a8a",
   "metadata": {},
   "source": [
    "Q4. What is a multiprocessing pool in python? Why is it used?"
   ]
  },
  {
   "cell_type": "markdown",
   "id": "024a155d-dd8e-43c2-a4de-0915b6670a1a",
   "metadata": {},
   "source": [
    "A multiprocessing pool in Python is a mechanism provided by the multiprocessing module to create and manage a pool of worker processes. This pool is designed to parallelize the execution of a function across multiple input values by distributing the workload among the available processes. The pool abstracts away the details of process creation, management, and communication.\n",
    "\n",
    "The main class responsible for creating a multiprocessing pool is multiprocessing.Pool. This class provides methods for parallelizing the execution of functions by spreading the input data across the worker processes.\n",
    "\n",
    "Key features and reasons for using a multiprocessing pool:\n",
    "\n",
    "Parallel Execution:\n",
    "\n",
    "A multiprocessing pool allows you to execute a function in parallel on different input values. This is particularly useful for tasks that can be divided into independent subtasks, such as mapping a function over a list of elements.\n",
    "Utilizing Multiple Cores:\n",
    "\n",
    "The pool automatically manages the distribution of tasks among the available CPU cores. This leads to better utilization of multiple cores, resulting in improved performance, especially for CPU-bound tasks.\n",
    "Simplified Parallelism:\n",
    "\n",
    "Using a pool abstracts away the complexities of managing individual processes, inter-process communication, and synchronization. It simplifies the process of parallelizing tasks, making it easier to incorporate parallelism into your code.\n",
    "Load Balancing:\n",
    "\n",
    "The pool dynamically distributes tasks to the available worker processes, providing a form of load balancing. This ensures that processes are kept busy with work as long as there are tasks to perform.\n",
    "Automatic Process Management:\n",
    "\n",
    "The pool automatically creates and manages worker processes. You don't need to explicitly create and join processes, making it convenient for parallelizing tasks without dealing with low-level process management.\n",
    "Here's a simple example demonstrating the use of a multiprocessing pool to square a list of numbers in parallel:"
   ]
  },
  {
   "cell_type": "code",
   "execution_count": 3,
   "id": "9ab64170-3f33-486e-aadf-8566a65fb098",
   "metadata": {},
   "outputs": [
    {
     "name": "stdout",
     "output_type": "stream",
     "text": [
      "Squared numbers: [1, 4, 9, 16, 25]\n"
     ]
    }
   ],
   "source": [
    "import multiprocessing\n",
    "\n",
    "def square(number):\n",
    "    return number**2\n",
    "\n",
    "if __name__ == \"__main__\":\n",
    "    # Create a multiprocessing pool with 2 worker processes\n",
    "    with multiprocessing.Pool(processes=2) as pool:\n",
    "        # List of numbers to square\n",
    "        numbers = [1, 2, 3, 4, 5]\n",
    "\n",
    "        # Use the map function to apply the square function to each number in parallel\n",
    "        result = pool.map(square, numbers)\n",
    "\n",
    "        # Output the result\n",
    "        print(\"Squared numbers:\", result)\n"
   ]
  },
  {
   "cell_type": "markdown",
   "id": "81a63d65-1fb5-4390-96ff-8c8ac3347562",
   "metadata": {},
   "source": [
    "Q5. How can we create a pool of worker processes in python using the multiprocessing module?"
   ]
  },
  {
   "cell_type": "code",
   "execution_count": 4,
   "id": "9adf0acd-d9c3-4c33-9ff1-da70ba7a5ce9",
   "metadata": {},
   "outputs": [
    {
     "name": "stdout",
     "output_type": "stream",
     "text": [
      "Squared numbers: [1, 4, 9, 16, 25]\n"
     ]
    }
   ],
   "source": [
    "import multiprocessing\n",
    "\n",
    "def square(number):\n",
    "    return number**2\n",
    "\n",
    "if __name__ == \"__main__\":\n",
    "    # Create a multiprocessing pool with 3 worker processes\n",
    "    with multiprocessing.Pool(processes=3) as pool:\n",
    "        # List of numbers to square\n",
    "        numbers = [1, 2, 3, 4, 5]\n",
    "\n",
    "        # Use the map function to apply the square function to each number in parallel\n",
    "        result = pool.map(square, numbers)\n",
    "\n",
    "        # Output the result\n",
    "        print(\"Squared numbers:\", result)\n"
   ]
  },
  {
   "cell_type": "markdown",
   "id": "81a4e13e-b239-4067-be9a-f5bf02fca5f4",
   "metadata": {},
   "source": [
    "In this example:\n",
    "\n",
    "The square function is defined, which takes a number and returns its square.\n",
    "Inside the __main__ block, a multiprocessing.Pool is created using the with statement. The argument processes=3 specifies that the pool should have three worker processes.\n",
    "A list of numbers (numbers) is defined.\n",
    "The pool.map function is used to apply the square function to each element of the numbers list in parallel. The result is a list of squared numbers.\n",
    "The result is printed to the console.\n",
    "The with statement ensures that the Pool resources are properly cleaned up when the block is exited.\n",
    "\n",
    "This is a basic example, and the Pool class provides additional methods for more advanced parallelization, such as imap, imap_unordered, and apply_async. These methods allow you to apply functions to iterables, handle unordered results, and use asynchronous execution.\n",
    "\n",
    "Keep in mind that the number of worker processes specified in processes should be chosen based on the available resources (CPU cores) and the nature of the tasks being parallelized. It's often beneficial to have a number of processes equal to or slightly less than the number of CPU cores to achieve optimal performance."
   ]
  },
  {
   "cell_type": "markdown",
   "id": "c1c7d50b-0889-45d5-b3c7-1b8bb13772d3",
   "metadata": {},
   "source": [
    "Q6. Write a python program to create 4 processes, each process should print a different number using the\n",
    "multiprocessing module in python."
   ]
  },
  {
   "cell_type": "code",
   "execution_count": 5,
   "id": "ed0b117a-4027-473c-b075-9f796945d7ec",
   "metadata": {},
   "outputs": [
    {
     "name": "stdout",
     "output_type": "stream",
     "text": [
      "Process 1: My process ID is 428Process 4: My process ID is 431Process 3: My process ID is 430Process 2: My process ID is 429\n",
      "\n",
      "\n",
      "\n"
     ]
    }
   ],
   "source": [
    "import multiprocessing\n",
    "\n",
    "def print_number(number):\n",
    "    print(f\"Process {number}: My process ID is {multiprocessing.current_process().pid}\")\n",
    "\n",
    "if __name__ == \"__main__\":\n",
    "    # Create a list of numbers for each process\n",
    "    process_numbers = [1, 2, 3, 4]\n",
    "\n",
    "    # Create and start four processes\n",
    "    with multiprocessing.Pool(processes=4) as pool:\n",
    "        pool.map(print_number, process_numbers)\n"
   ]
  },
  {
   "cell_type": "markdown",
   "id": "9da6b679-0d93-4ac7-b20e-f1e267d5a454",
   "metadata": {},
   "source": [
    "In this program:\n",
    "\n",
    "The print_number function is defined to print the process number and the process ID (pid).\n",
    "Inside the __main__ block, a list process_numbers is created, containing the numbers 1, 2, 3, and 4.\n",
    "The multiprocessing.Pool is used to create a pool with four worker processes (processes=4).\n",
    "The pool.map function is used to apply the print_number function to each element of the process_numbers list in parallel.\n",
    "The program takes advantage of the context manager (with statement) to ensure proper cleanup of resources after the processes finish.\n",
    "When you run this program, you should see output indicating that four processes are running concurrently, and each process prints its assigned number and process ID. The order of the output may vary due to the concurrent nature of multiprocessing.\n",
    "\n",
    "\n",
    "\n",
    "\n"
   ]
  }
 ],
 "metadata": {
  "kernelspec": {
   "display_name": "Python 3 (ipykernel)",
   "language": "python",
   "name": "python3"
  },
  "language_info": {
   "codemirror_mode": {
    "name": "ipython",
    "version": 3
   },
   "file_extension": ".py",
   "mimetype": "text/x-python",
   "name": "python",
   "nbconvert_exporter": "python",
   "pygments_lexer": "ipython3",
   "version": "3.10.8"
  }
 },
 "nbformat": 4,
 "nbformat_minor": 5
}
