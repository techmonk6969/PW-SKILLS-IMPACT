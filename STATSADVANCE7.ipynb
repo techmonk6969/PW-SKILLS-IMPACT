{
 "cells": [
  {
   "cell_type": "markdown",
   "id": "149eec4d-347f-46d5-b684-ab5a33eadc6b",
   "metadata": {},
   "source": [
    "Q1. Write a Python function that takes in two arrays of data and calculates the F-value for a variance ratio\n",
    "test. The function should return the F-value and the corresponding p-value for the test."
   ]
  },
  {
   "cell_type": "code",
   "execution_count": 1,
   "id": "9391137e-070c-4a57-84f5-e92ed5af5c2c",
   "metadata": {},
   "outputs": [
    {
     "name": "stdout",
     "output_type": "stream",
     "text": [
      "F-value: 11.701943844492439\n",
      "P-value: 0.0015162881818376283\n"
     ]
    }
   ],
   "source": [
    "import scipy.stats as stats\n",
    "\n",
    "def calculate_f_value(data_arrays):\n",
    "    \"\"\"\n",
    "    Calculate the F-value for a variance ratio test (ANOVA).\n",
    "\n",
    "    Parameters:\n",
    "    - data_arrays: a list of arrays, where each array represents the data for a group\n",
    "\n",
    "    Returns:\n",
    "    - f_value: the calculated F-value\n",
    "    - p_value: the corresponding p-value\n",
    "    \"\"\"\n",
    "\n",
    "    # Perform one-way ANOVA\n",
    "    f_value, p_value = stats.f_oneway(*data_arrays)\n",
    "\n",
    "    return f_value, p_value\n",
    "\n",
    "# Example usage:\n",
    "group1 = [30, 25, 28, 32, 27]\n",
    "group2 = [20, 18, 25, 30, 22]\n",
    "group3 = [35, 40, 32, 38, 30]\n",
    "\n",
    "f_value, p_value = calculate_f_value([group1, group2, group3])\n",
    "\n",
    "print(f\"F-value: {f_value}\")\n",
    "print(f\"P-value: {p_value}\")\n"
   ]
  },
  {
   "cell_type": "markdown",
   "id": "46954d33-1b05-45dd-a76d-6b49be0cceb7",
   "metadata": {},
   "source": [
    "Q2. Given a significance level of 0.05 and the degrees of freedom for the numerator and denominator of an\n",
    "F-distribution, write a Python function that returns the critical F-value for a two-tailed test."
   ]
  },
  {
   "cell_type": "code",
   "execution_count": 2,
   "id": "8c7972d7-db97-40ec-8e62-1730068d1efb",
   "metadata": {},
   "outputs": [
    {
     "name": "stdout",
     "output_type": "stream",
     "text": [
      "Critical F-value: 3.8586986662732143\n"
     ]
    }
   ],
   "source": [
    "import scipy.stats as stats\n",
    "\n",
    "def critical_f_value(significance_level, df_num, df_denom):\n",
    "    \"\"\"\n",
    "    Calculate the critical F-value for a two-tailed test.\n",
    "\n",
    "    Parameters:\n",
    "    - significance_level: the desired significance level (e.g., 0.05)\n",
    "    - df_num: degrees of freedom for the numerator\n",
    "    - df_denom: degrees of freedom for the denominator\n",
    "\n",
    "    Returns:\n",
    "    - critical_f: the critical F-value\n",
    "    \"\"\"\n",
    "\n",
    "    # Calculate the critical F-value\n",
    "    alpha = significance_level / 2  # Two-tailed test\n",
    "    critical_f = stats.f.ppf(1 - alpha, df_num, df_denom)\n",
    "\n",
    "    return critical_f\n",
    "\n",
    "# Example usage:\n",
    "significance_level = 0.05\n",
    "df_num = 3\n",
    "df_denom = 20\n",
    "\n",
    "critical_f = critical_f_value(significance_level, df_num, df_denom)\n",
    "\n",
    "print(f\"Critical F-value: {critical_f}\")\n"
   ]
  },
  {
   "cell_type": "markdown",
   "id": "d8875a13-a40d-4313-8363-92b6c5bb64f7",
   "metadata": {},
   "source": [
    "Q3. Write a Python program that generates random samples from two normal distributions with known\n",
    "\n",
    "variances and uses an F-test to determine if the variances are equal. The program should output the F-\n",
    "value, degrees of freedom, and p-value for the test."
   ]
  },
  {
   "cell_type": "code",
   "execution_count": 3,
   "id": "8f6084c2-dc1c-40a2-acc0-9297cf104706",
   "metadata": {},
   "outputs": [
    {
     "name": "stdout",
     "output_type": "stream",
     "text": [
      "F-value: 0.07131684413323128\n",
      "Degrees of Freedom (numerator): 1\n",
      "Degrees of Freedom (denominator): 68\n",
      "P-value: 0.7902372612820986\n"
     ]
    }
   ],
   "source": [
    "import numpy as np\n",
    "import scipy.stats as stats\n",
    "\n",
    "def equal_variances_test(sample_size1, sample_size2, variance1, variance2):\n",
    "    \"\"\"\n",
    "    Perform an F-test for equality of variances.\n",
    "\n",
    "    Parameters:\n",
    "    - sample_size1: size of the first random sample\n",
    "    - sample_size2: size of the second random sample\n",
    "    - variance1: variance of the first normal distribution\n",
    "    - variance2: variance of the second normal distribution\n",
    "\n",
    "    Returns:\n",
    "    - f_value: the calculated F-value\n",
    "    - df_num: degrees of freedom for the numerator\n",
    "    - df_denom: degrees of freedom for the denominator\n",
    "    - p_value: the corresponding p-value\n",
    "    \"\"\"\n",
    "\n",
    "    # Generate random samples from normal distributions\n",
    "    sample1 = np.random.normal(0, np.sqrt(variance1), size=sample_size1)\n",
    "    sample2 = np.random.normal(0, np.sqrt(variance2), size=sample_size2)\n",
    "\n",
    "    # Perform F-test\n",
    "    f_value, p_value = stats.levene(sample1, sample2)\n",
    "\n",
    "    # Degrees of freedom\n",
    "    df_num = 1\n",
    "    df_denom = len(sample1) + len(sample2) - 2\n",
    "\n",
    "    return f_value, df_num, df_denom, p_value\n",
    "\n",
    "# Example usage:\n",
    "sample_size1 = 30\n",
    "sample_size2 = 40\n",
    "variance1 = 4\n",
    "variance2 = 6\n",
    "\n",
    "f_value, df_num, df_denom, p_value = equal_variances_test(sample_size1, sample_size2, variance1, variance2)\n",
    "\n",
    "print(f\"F-value: {f_value}\")\n",
    "print(f\"Degrees of Freedom (numerator): {df_num}\")\n",
    "print(f\"Degrees of Freedom (denominator): {df_denom}\")\n",
    "print(f\"P-value: {p_value}\")\n"
   ]
  },
  {
   "cell_type": "markdown",
   "id": "f386c4e5-9c83-4a83-af95-a27621973e2d",
   "metadata": {},
   "source": [
    "Q4.The variances of two populations are known to be 10 and 15. A sample of 12 observations is taken from\n",
    "each population. Conduct an F-test at the 5% significance level to determine if the variances are\n",
    "significantly different."
   ]
  },
  {
   "cell_type": "code",
   "execution_count": 4,
   "id": "89762736-1f86-4e98-817b-8bcf9949a8e2",
   "metadata": {},
   "outputs": [
    {
     "name": "stdout",
     "output_type": "stream",
     "text": [
      "F-value: 0.2561948993678998\n",
      "P-value: 0.7438051006321003\n",
      "Is significant at 0.05 level? No\n"
     ]
    }
   ],
   "source": [
    "import scipy.stats as stats\n",
    "\n",
    "def f_test_for_variances(variance1, variance2, sample_size1, sample_size2, significance_level):\n",
    "    \"\"\"\n",
    "    Perform an F-test for equality of variances.\n",
    "\n",
    "    Parameters:\n",
    "    - variance1: variance of the first population\n",
    "    - variance2: variance of the second population\n",
    "    - sample_size1: size of the first sample\n",
    "    - sample_size2: size of the second sample\n",
    "    - significance_level: desired significance level (e.g., 0.05)\n",
    "\n",
    "    Returns:\n",
    "    - f_value: the calculated F-value\n",
    "    - p_value: the corresponding p-value\n",
    "    \"\"\"\n",
    "\n",
    "    # Perform F-test\n",
    "    f_value, p_value = stats.f.cdf(variance1 / variance2, sample_size1 - 1, sample_size2 - 1), stats.f.sf(variance1 / variance2, sample_size1 - 1, sample_size2 - 1)\n",
    "\n",
    "    # Compare p-value with significance level\n",
    "    is_significant = p_value < significance_level\n",
    "\n",
    "    return f_value, p_value, is_significant\n",
    "\n",
    "# Given data\n",
    "variance1 = 10\n",
    "variance2 = 15\n",
    "sample_size1 = 12\n",
    "sample_size2 = 12\n",
    "significance_level = 0.05\n",
    "\n",
    "# Perform F-test\n",
    "f_value, p_value, is_significant = f_test_for_variances(variance1, variance2, sample_size1, sample_size2, significance_level)\n",
    "\n",
    "# Output results\n",
    "print(f\"F-value: {f_value}\")\n",
    "print(f\"P-value: {p_value}\")\n",
    "print(f\"Is significant at {significance_level} level? {'Yes' if is_significant else 'No'}\")\n"
   ]
  },
  {
   "cell_type": "markdown",
   "id": "e19b06d3-3971-4b00-a9d0-86fca616cda0",
   "metadata": {},
   "source": [
    "Q5. A manufacturer claims that the variance of the diameter of a certain product is 0.005. A sample of 25\n",
    "products is taken, and the sample variance is found to be 0.006. Conduct an F-test at the 1% significance\n",
    "level to determine if the claim is justified."
   ]
  },
  {
   "cell_type": "code",
   "execution_count": 5,
   "id": "1cc13783-3890-445d-adc8-1f789cc3eead",
   "metadata": {},
   "outputs": [
    {
     "name": "stdout",
     "output_type": "stream",
     "text": [
      "F-value: 1.2\n",
      "P-value: 0.28419331688388544\n",
      "Is the claim justified at 0.01 level? Yes\n"
     ]
    }
   ],
   "source": [
    "import scipy.stats as stats\n",
    "\n",
    "def f_test_for_variance(claim_variance, sample_variance, sample_size, significance_level):\n",
    "    \"\"\"\n",
    "    Perform an F-test for variance.\n",
    "\n",
    "    Parameters:\n",
    "    - claim_variance: claimed variance by the manufacturer\n",
    "    - sample_variance: observed variance from the sample\n",
    "    - sample_size: size of the sample\n",
    "    - significance_level: desired significance level (e.g., 0.01 for 1%)\n",
    "\n",
    "    Returns:\n",
    "    - f_value: the calculated F-value\n",
    "    - p_value: the corresponding p-value\n",
    "    - is_significant: True if the claim is not justified, False otherwise\n",
    "    \"\"\"\n",
    "\n",
    "    # Degrees of freedom\n",
    "    df_claim = 1  # degrees of freedom for the claim\n",
    "    df_sample = sample_size - 1  # degrees of freedom for the sample\n",
    "\n",
    "    # Perform F-test\n",
    "    f_value = sample_variance / claim_variance\n",
    "    p_value = stats.f.sf(f_value, df_claim, df_sample)\n",
    "\n",
    "    # Compare p-value with significance level\n",
    "    is_significant = p_value < significance_level\n",
    "\n",
    "    return f_value, p_value, is_significant\n",
    "\n",
    "# Given data\n",
    "claim_variance = 0.005\n",
    "sample_variance = 0.006\n",
    "sample_size = 25\n",
    "significance_level = 0.01\n",
    "\n",
    "# Perform F-test\n",
    "f_value, p_value, is_significant = f_test_for_variance(claim_variance, sample_variance, sample_size, significance_level)\n",
    "\n",
    "# Output results\n",
    "print(f\"F-value: {f_value}\")\n",
    "print(f\"P-value: {p_value}\")\n",
    "print(f\"Is the claim justified at {significance_level} level? {'No' if is_significant else 'Yes'}\")\n"
   ]
  },
  {
   "cell_type": "markdown",
   "id": "4f82f920-f1b5-4d44-b73b-f61032d4cfeb",
   "metadata": {},
   "source": [
    "Q6. Write a Python function that takes in the degrees of freedom for the numerator and denominator of an\n",
    "F-distribution and calculates the mean and variance of the distribution. The function should return the\n",
    "mean and variance as a tuple."
   ]
  },
  {
   "cell_type": "code",
   "execution_count": 6,
   "id": "239e4090-5366-47b4-a3c6-9e7e25951a00",
   "metadata": {},
   "outputs": [
    {
     "name": "stdout",
     "output_type": "stream",
     "text": [
      "Mean of F-distribution: 1.1111111111111112\n",
      "Variance of F-distribution: 1.0802469135802468\n"
     ]
    }
   ],
   "source": [
    "def calculate_f_distribution_params(df_numerator, df_denominator):\n",
    "    \"\"\"\n",
    "    Calculate the mean and variance of an F-distribution.\n",
    "\n",
    "    Parameters:\n",
    "    - df_numerator: degrees of freedom for the numerator\n",
    "    - df_denominator: degrees of freedom for the denominator\n",
    "\n",
    "    Returns:\n",
    "    - mean: mean of the F-distribution\n",
    "    - variance: variance of the F-distribution\n",
    "    \"\"\"\n",
    "\n",
    "    # Mean of the F-distribution\n",
    "    mean = df_denominator / (df_denominator - 2) if df_denominator > 2 else None\n",
    "\n",
    "    # Variance of the F-distribution\n",
    "    variance_numerator = 2 * (df_denominator ** 2) * (df_numerator + df_denominator - 2)\n",
    "    variance_denominator = df_numerator * ((df_denominator - 2) ** 2) * (df_denominator - 4)\n",
    "    variance = variance_numerator / variance_denominator if df_denominator > 4 else None\n",
    "\n",
    "    return mean, variance\n",
    "\n",
    "# Example usage\n",
    "df_numerator = 3\n",
    "df_denominator = 20\n",
    "\n",
    "# Calculate mean and variance\n",
    "mean, variance = calculate_f_distribution_params(df_numerator, df_denominator)\n",
    "\n",
    "# Output results\n",
    "print(f\"Mean of F-distribution: {mean}\")\n",
    "print(f\"Variance of F-distribution: {variance}\")\n"
   ]
  },
  {
   "cell_type": "markdown",
   "id": "4a40ebbb-2e5c-41b5-b3da-462152a27e38",
   "metadata": {},
   "source": [
    "Q7. A random sample of 10 measurements is taken from a normal population with unknown variance. The\n",
    "sample variance is found to be 25. Another random sample of 15 measurements is taken from another\n",
    "normal population with unknown variance, and the sample variance is found to be 20. Conduct an F-test\n",
    "at the 10% significance level to determine if the variances are significantly different."
   ]
  },
  {
   "cell_type": "code",
   "execution_count": 7,
   "id": "e43c1e43-6a10-4b65-9133-c5391d6bce61",
   "metadata": {},
   "outputs": [
    {
     "name": "stdout",
     "output_type": "stream",
     "text": [
      "F-value: 1.25\n",
      "P-value: 0.34160971912929744\n",
      "Are the variances significantly different at 0.1 level? No\n"
     ]
    }
   ],
   "source": [
    "import scipy.stats as stats\n",
    "\n",
    "def f_test_for_variances(sample_var1, sample_size1, sample_var2, sample_size2, significance_level):\n",
    "    \"\"\"\n",
    "    Perform an F-test for equality of variances.\n",
    "\n",
    "    Parameters:\n",
    "    - sample_var1: sample variance for the first population\n",
    "    - sample_size1: size of the first sample\n",
    "    - sample_var2: sample variance for the second population\n",
    "    - sample_size2: size of the second sample\n",
    "    - significance_level: desired significance level\n",
    "\n",
    "    Returns:\n",
    "    - f_value: the calculated F-value\n",
    "    - p_value: the corresponding p-value\n",
    "    - is_significant: True if variances are significantly different, False otherwise\n",
    "    \"\"\"\n",
    "\n",
    "    # Degrees of freedom\n",
    "    df1 = sample_size1 - 1\n",
    "    df2 = sample_size2 - 1\n",
    "\n",
    "    # Perform F-test\n",
    "    f_value = sample_var1 / sample_var2\n",
    "    p_value = stats.f.sf(f_value, df1, df2)\n",
    "\n",
    "    # Compare p-value with significance level\n",
    "    is_significant = p_value < significance_level\n",
    "\n",
    "    return f_value, p_value, is_significant\n",
    "\n",
    "# Given data\n",
    "sample_var1 = 25\n",
    "sample_size1 = 10\n",
    "sample_var2 = 20\n",
    "sample_size2 = 15\n",
    "significance_level = 0.10\n",
    "\n",
    "# Perform F-test\n",
    "f_value, p_value, is_significant = f_test_for_variances(sample_var1, sample_size1, sample_var2, sample_size2, significance_level)\n",
    "\n",
    "# Output results\n",
    "print(f\"F-value: {f_value}\")\n",
    "print(f\"P-value: {p_value}\")\n",
    "print(f\"Are the variances significantly different at {significance_level} level? {'Yes' if is_significant else 'No'}\")\n"
   ]
  },
  {
   "cell_type": "markdown",
   "id": "ad5fbbe3-db13-485f-b8bb-43a1e4e9480a",
   "metadata": {},
   "source": [
    "Q8. The following data represent the waiting times in minutes at two different restaurants on a Saturday\n",
    "night: Restaurant A: 24, 25, 28, 23, 22, 20, 27; Restaurant B: 31, 33, 35, 30, 32, 36. Conduct an F-test at the 5%\n",
    "significance level to determine if the variances are significantly different."
   ]
  },
  {
   "cell_type": "code",
   "execution_count": 8,
   "id": "65c65119-5fca-4157-902a-a9511c641989",
   "metadata": {},
   "outputs": [
    {
     "name": "stdout",
     "output_type": "stream",
     "text": [
      "F-value: 1.4551907719609583\n",
      "P-value: 0.34874078739687414\n",
      "Are the variances significantly different at 0.05 level? No\n"
     ]
    }
   ],
   "source": [
    "import scipy.stats as stats\n",
    "\n",
    "def f_test_for_variances(data1, data2, significance_level):\n",
    "    \"\"\"\n",
    "    Perform an F-test for equality of variances.\n",
    "\n",
    "    Parameters:\n",
    "    - data1: list or array of data for the first group\n",
    "    - data2: list or array of data for the second group\n",
    "    - significance_level: desired significance level\n",
    "\n",
    "    Returns:\n",
    "    - f_value: the calculated F-value\n",
    "    - p_value: the corresponding p-value\n",
    "    - is_significant: True if variances are significantly different, False otherwise\n",
    "    \"\"\"\n",
    "\n",
    "    # Calculate sample variances\n",
    "    sample_var1 = sum((x - sum(data1) / len(data1))**2 for x in data1) / (len(data1) - 1)\n",
    "    sample_var2 = sum((x - sum(data2) / len(data2))**2 for x in data2) / (len(data2) - 1)\n",
    "\n",
    "    # Degrees of freedom\n",
    "    df1 = len(data1) - 1\n",
    "    df2 = len(data2) - 1\n",
    "\n",
    "    # Perform F-test\n",
    "    f_value = sample_var1 / sample_var2\n",
    "    p_value = stats.f.sf(f_value, df1, df2)\n",
    "\n",
    "    # Compare p-value with significance level\n",
    "    is_significant = p_value < significance_level\n",
    "\n",
    "    return f_value, p_value, is_significant\n",
    "\n",
    "# Given data\n",
    "data_restaurant_a = [24, 25, 28, 23, 22, 20, 27]\n",
    "data_restaurant_b = [31, 33, 35, 30, 32, 36]\n",
    "significance_level = 0.05\n",
    "\n",
    "# Perform F-test\n",
    "f_value, p_value, is_significant = f_test_for_variances(data_restaurant_a, data_restaurant_b, significance_level)\n",
    "\n",
    "# Output results\n",
    "print(f\"F-value: {f_value}\")\n",
    "print(f\"P-value: {p_value}\")\n",
    "print(f\"Are the variances significantly different at {significance_level} level? {'Yes' if is_significant else 'No'}\")\n"
   ]
  },
  {
   "cell_type": "markdown",
   "id": "199fe0f0-6cd3-4d1e-9246-7c4175122482",
   "metadata": {},
   "source": [
    "Q9. The following data represent the test scores of two groups of students: Group A: 80, 85, 90, 92, 87, 83;\n",
    "Group B: 75, 78, 82, 79, 81, 84. Conduct an F-test at the 1% significance level to determine if the variances\n",
    "are significantly different."
   ]
  },
  {
   "cell_type": "code",
   "execution_count": 9,
   "id": "992e16c0-a808-43e0-868f-197e16637eef",
   "metadata": {},
   "outputs": [
    {
     "name": "stdout",
     "output_type": "stream",
     "text": [
      "F-value: 1.9442622950819677\n",
      "P-value: 0.2415521774535344\n",
      "Are the variances significantly different at 0.01 level? No\n"
     ]
    }
   ],
   "source": [
    "import scipy.stats as stats\n",
    "\n",
    "def f_test_for_variances(data1, data2, significance_level):\n",
    "    \"\"\"\n",
    "    Perform an F-test for equality of variances.\n",
    "\n",
    "    Parameters:\n",
    "    - data1: list or array of data for the first group\n",
    "    - data2: list or array of data for the second group\n",
    "    - significance_level: desired significance level\n",
    "\n",
    "    Returns:\n",
    "    - f_value: the calculated F-value\n",
    "    - p_value: the corresponding p-value\n",
    "    - is_significant: True if variances are significantly different, False otherwise\n",
    "    \"\"\"\n",
    "\n",
    "    # Calculate sample variances\n",
    "    sample_var1 = sum((x - sum(data1) / len(data1))**2 for x in data1) / (len(data1) - 1)\n",
    "    sample_var2 = sum((x - sum(data2) / len(data2))**2 for x in data2) / (len(data2) - 1)\n",
    "\n",
    "    # Degrees of freedom\n",
    "    df1 = len(data1) - 1\n",
    "    df2 = len(data2) - 1\n",
    "\n",
    "    # Perform F-test\n",
    "    f_value = sample_var1 / sample_var2\n",
    "    p_value = stats.f.sf(f_value, df1, df2)\n",
    "\n",
    "    # Compare p-value with significance level\n",
    "    is_significant = p_value < significance_level\n",
    "\n",
    "    return f_value, p_value, is_significant\n",
    "\n",
    "# Given data\n",
    "data_group_a = [80, 85, 90, 92, 87, 83]\n",
    "data_group_b = [75, 78, 82, 79, 81, 84]\n",
    "significance_level = 0.01\n",
    "\n",
    "# Perform F-test\n",
    "f_value, p_value, is_significant = f_test_for_variances(data_group_a, data_group_b, significance_level)\n",
    "\n",
    "# Output results\n",
    "print(f\"F-value: {f_value}\")\n",
    "print(f\"P-value: {p_value}\")\n",
    "print(f\"Are the variances significantly different at {significance_level} level? {'Yes' if is_significant else 'No'}\")\n"
   ]
  },
  {
   "cell_type": "code",
   "execution_count": null,
   "id": "7bfa0164-451f-4eb4-b47d-d7bbcc9815e5",
   "metadata": {},
   "outputs": [],
   "source": []
  }
 ],
 "metadata": {
  "kernelspec": {
   "display_name": "Python 3 (ipykernel)",
   "language": "python",
   "name": "python3"
  },
  "language_info": {
   "codemirror_mode": {
    "name": "ipython",
    "version": 3
   },
   "file_extension": ".py",
   "mimetype": "text/x-python",
   "name": "python",
   "nbconvert_exporter": "python",
   "pygments_lexer": "ipython3",
   "version": "3.10.8"
  }
 },
 "nbformat": 4,
 "nbformat_minor": 5
}
