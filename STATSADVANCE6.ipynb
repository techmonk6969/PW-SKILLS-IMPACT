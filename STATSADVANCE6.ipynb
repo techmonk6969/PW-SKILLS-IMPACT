{
 "cells": [
  {
   "cell_type": "markdown",
   "id": "310ef9ef-6c7d-41f9-afe3-88589ca1ebe7",
   "metadata": {},
   "source": [
    "Q1. Explain the assumptions required to use ANOVA and provide examples of violations that could impact\n",
    "the validity of the results."
   ]
  },
  {
   "cell_type": "markdown",
   "id": "60d0a1e4-40cc-49e3-9a51-ce09ef55254a",
   "metadata": {},
   "source": [
    "Analysis of Variance (ANOVA) is a statistical technique used to compare means among multiple groups. However, ANOVA comes with certain assumptions, and violations of these assumptions can impact the validity of the results. The key assumptions for ANOVA are:\n",
    "\n",
    "1. **Normality:**\n",
    "   - **Assumption:** The residuals (the differences between observed and predicted values) should be normally distributed.\n",
    "   - **Example Violation:** If the residuals are significantly skewed or do not follow a normal distribution, it may impact the reliability of ANOVA results.\n",
    "\n",
    "2. **Homogeneity of Variances (Homoscedasticity):**\n",
    "   - **Assumption:** The variances of the residuals should be approximately equal across all groups.\n",
    "   - **Example Violation:** Heteroscedasticity occurs when the variability of the residuals differs among groups. This can lead to inaccurate conclusions if not addressed.\n",
    "\n",
    "3. **Independence of Observations:**\n",
    "   - **Assumption:** Observations within each group should be independent of each other.\n",
    "   - **Example Violation:** If observations are not independent, it can lead to pseudoreplication and affect the overall validity of the results.\n",
    "\n",
    "4. **Homogeneity of Group Sizes:**\n",
    "   - **Assumption:** The sample sizes in each group should be roughly equal.\n",
    "   - **Example Violation:** Large disparities in group sizes may affect the power of the ANOVA and could lead to biased results.\n",
    "\n",
    "5. **Interval or Ratio Scale Data:**\n",
    "   - **Assumption:** The dependent variable should be measured on an interval or ratio scale.\n",
    "   - **Example Violation:** Using ANOVA on ordinal or nominal data may not be appropriate and could lead to misleading results.\n",
    "\n",
    "**Examples of Violations:**\n",
    "1. **Non-Normality:**\n",
    "   - Violation Example: If residuals are skewed or do not follow a normal distribution, it may indicate that ANOVA assumptions are violated. This can be checked using normality tests or diagnostic plots.\n",
    "\n",
    "2. **Heteroscedasticity:**\n",
    "   - Violation Example: Unequal variances among groups may be evident in residual plots, indicating that the assumption of homogeneity of variances is violated.\n",
    "\n",
    "3. **Dependence of Observations:**\n",
    "   - Violation Example: If observations within groups are not independent (e.g., repeated measures or nested designs), it can violate the independence assumption.\n",
    "\n",
    "4. **Unequal Group Sizes:**\n",
    "   - Violation Example: Large differences in group sizes can impact the validity of ANOVA results. Unequal n's may lead to reduced power and biased F-statistics.\n",
    "\n",
    "It's important to assess these assumptions before relying on ANOVA results. If violations are identified, alternative approaches or transformations may be considered to address the issues and improve the reliability of the analysis."
   ]
  },
  {
   "cell_type": "markdown",
   "id": "6b172afb-ddba-49b4-8538-29372c5daedc",
   "metadata": {},
   "source": [
    "Q2. What are the three types of ANOVA, and in what situations would each be used?"
   ]
  },
  {
   "cell_type": "markdown",
   "id": "5ac04697-6e14-4c2d-ad99-59bafa5a4540",
   "metadata": {},
   "source": [
    "Analysis of Variance (ANOVA) comes in different forms to address specific situations and research questions. The three main types of ANOVA are:\n",
    "\n",
    "1. **One-Way ANOVA:**\n",
    "   - **Situation:** Used when comparing means of three or more independent (unrelated) groups.\n",
    "   - **Example:** Testing whether the average scores on an exam differ among students who attended different teaching methods (e.g., Method A, Method B, Method C).\n",
    "\n",
    "2. **Two-Way ANOVA:**\n",
    "   - **Situation:** Used when there are two independent categorical variables (factors) and their interaction, and the goal is to examine their effects on a continuous dependent variable.\n",
    "   - **Example:** Investigating the impact of both gender (Male/Female) and treatment type (Drug A/Placebo) on blood pressure.\n",
    "\n",
    "3. **Repeated Measures ANOVA:**\n",
    "   - **Situation:** Used when the same subjects are used for each treatment or measurement (within-subjects design), and the goal is to examine the effect of a within-subjects factor or the interaction between within-subjects factors.\n",
    "   - **Example:** Assessing the impact of different time points (e.g., Before, During, After) on individuals' stress levels in a longitudinal study.\n",
    "\n",
    "**Situational Guidelines:**\n",
    "- **One-Way ANOVA:** Used when comparing means across multiple independent groups or levels of a single factor.\n",
    "  - **Example:** Comparing the average test scores of students who studied under different teaching methods.\n",
    "\n",
    "- **Two-Way ANOVA:**\n",
    "  - **Main Effects:** Examining the individual effects of two independent variables on a dependent variable.\n",
    "  - **Interaction Effect:** Investigating whether the effect of one variable depends on the level of another variable.\n",
    "  - **Example:** Assessing how both gender and treatment type jointly influence blood pressure.\n",
    "\n",
    "- **Repeated Measures ANOVA:**\n",
    "  - **Situation:** Used when the same subjects are measured multiple times or under different conditions.\n",
    "  - **Example:** Studying the impact of time on stress levels by measuring stress levels at multiple time points for the same group of individuals.\n",
    "\n",
    "Selecting the appropriate type of ANOVA depends on the experimental design, the number of factors involved, and the nature of the data. Researchers need to consider whether factors are independent or related, how many factors are involved, and whether interactions between factors need to be explored."
   ]
  },
  {
   "cell_type": "markdown",
   "id": "25fd57c1-9e04-426a-b5bc-c34daaaf2ffd",
   "metadata": {},
   "source": [
    "Q3. What is the partitioning of variance in ANOVA, and why is it important to understand this concept?"
   ]
  },
  {
   "cell_type": "markdown",
   "id": "8f92eeea-9e8f-40a2-b35c-9622f430f976",
   "metadata": {},
   "source": [
    "The partitioning of variance in Analysis of Variance (ANOVA) refers to the division of the total variance observed in the data into different components associated with the various sources of variation. Understanding this concept is crucial because it helps researchers assess the relative contributions of different factors or sources to the overall variability in the data. The variance is partitioned into three main components:\n",
    "\n",
    "1. **Between-Group Variance (SSB):**\n",
    "   - **Definition:** The variability in the dependent variable that is attributable to differences between the group means.\n",
    "   - **Calculation:** SSB is the sum of squared deviations of each group mean from the overall mean, weighted by the number of observations in each group.\n",
    "   - **Importance:** It represents the extent to which group means differ from each other. A large SSB suggests that there are significant differences between the group means.\n",
    "\n",
    "2. **Within-Group Variance (SSW or SSE):**\n",
    "   - **Definition:** The variability in the dependent variable that is not explained by differences between the group means. It accounts for random variability within each group.\n",
    "   - **Calculation:** SSW is the sum of squared deviations of individual observations from their respective group means.\n",
    "   - **Importance:** It serves as a measure of the inherent variability or noise within each group. A small SSW indicates that observations within each group are relatively homogeneous.\n",
    "\n",
    "3. **Total Variance (SST):**\n",
    "   - **Definition:** The overall variability in the dependent variable across all observations.\n",
    "   - **Calculation:** SST is the sum of squared deviations of individual observations from the overall mean.\n",
    "   - **Importance:** It represents the total variability in the dataset. SST = SSB + SSW, and understanding this relationship is essential for interpreting ANOVA results.\n",
    "\n",
    "**Importance of Understanding Partitioning of Variance:**\n",
    "\n",
    "1. **Identification of Sources of Variation:**\n",
    "   - Partitioning of variance allows researchers to identify the sources of variability in the data. It helps answer questions such as whether group differences contribute significantly to the overall variability.\n",
    "\n",
    "2. **Assessment of Group Differences:**\n",
    "   - By examining the proportion of total variance explained by between-group differences (SSB), researchers can assess the significance and practical importance of group differences.\n",
    "\n",
    "3. **Evaluation of Model Fit:**\n",
    "   - Partitioning of variance is crucial for assessing how well the ANOVA model fits the data. A good fit is characterized by a large SSB relative to SSW.\n",
    "\n",
    "4. **Interpretation of ANOVA Results:**\n",
    "   - Understanding the partitioning of variance aids in the interpretation of ANOVA results. Researchers can determine whether the factors under investigation contribute significantly to the observed variation.\n",
    "\n",
    "In summary, the partitioning of variance in ANOVA provides insights into the relative contributions of different factors to the observed variability in the data. It helps researchers make informed conclusions about the significance and impact of group differences or experimental manipulations."
   ]
  },
  {
   "cell_type": "markdown",
   "id": "efee4a2b-428e-4f55-8e76-388b7b644ee3",
   "metadata": {},
   "source": [
    "Q4. How would you calculate the total sum of squares (SST), explained sum of squares (SSE), and residual\n",
    "sum of squares (SSR) in a one-way ANOVA using Python?"
   ]
  },
  {
   "cell_type": "code",
   "execution_count": 1,
   "id": "ab30008d-e10b-4418-8288-1378668038d1",
   "metadata": {},
   "outputs": [
    {
     "name": "stdout",
     "output_type": "stream",
     "text": [
      "Total Sum of Squares (SST): 280.0\n",
      "Explained Sum of Squares (SSE): 250.0\n",
      "Residual Sum of Squares (SSR): 30.0\n"
     ]
    }
   ],
   "source": [
    "import numpy as np\n",
    "import scipy.stats as stats\n",
    "\n",
    "# Example data for three groups\n",
    "group1 = np.array([4, 5, 6, 7, 8])\n",
    "group2 = np.array([9, 10, 11, 12, 13])\n",
    "group3 = np.array([14, 15, 16, 17, 18])\n",
    "\n",
    "# Combine data from all groups\n",
    "all_data = np.concatenate([group1, group2, group3])\n",
    "\n",
    "# Calculate overall mean (Grand Mean)\n",
    "grand_mean = np.mean(all_data)\n",
    "\n",
    "# Calculate total sum of squares (SST)\n",
    "sst = np.sum((all_data - grand_mean)**2)\n",
    "\n",
    "# Calculate group means\n",
    "mean_group1 = np.mean(group1)\n",
    "mean_group2 = np.mean(group2)\n",
    "mean_group3 = np.mean(group3)\n",
    "\n",
    "# Calculate explained sum of squares (SSE)\n",
    "sse = len(group1) * (mean_group1 - grand_mean)**2 + len(group2) * (mean_group2 - grand_mean)**2 + len(group3) * (mean_group3 - grand_mean)**2\n",
    "\n",
    "# Calculate residual sum of squares (SSR)\n",
    "ssr = np.sum((group1 - mean_group1)**2) + np.sum((group2 - mean_group2)**2) + np.sum((group3 - mean_group3)**2)\n",
    "\n",
    "# Verify that SST = SSE + SSR\n",
    "assert np.isclose(sst, sse + ssr), \"SST is not equal to SSE + SSR\"\n",
    "\n",
    "# Display results\n",
    "print(f\"Total Sum of Squares (SST): {sst}\")\n",
    "print(f\"Explained Sum of Squares (SSE): {sse}\")\n",
    "print(f\"Residual Sum of Squares (SSR): {ssr}\")\n"
   ]
  },
  {
   "cell_type": "markdown",
   "id": "fd21166e-d812-4dd4-960c-a86c9e176032",
   "metadata": {},
   "source": [
    "Q5. In a two-way ANOVA, how would you calculate the main effects and interaction effects using Python?"
   ]
  },
  {
   "cell_type": "code",
   "execution_count": 2,
   "id": "49d40d12-9d02-448c-8f11-55d74e091edd",
   "metadata": {},
   "outputs": [
    {
     "name": "stdout",
     "output_type": "stream",
     "text": [
      "              sum_sq    df         F    PR(>F)\n",
      "A           0.358546   1.0  0.091886  0.763538\n",
      "B           0.289460   1.0  0.074181  0.786900\n",
      "A:B         0.501032   1.0  0.128401  0.722188\n",
      "Residual  140.474775  36.0       NaN       NaN\n"
     ]
    }
   ],
   "source": [
    "import numpy as np\n",
    "import pandas as pd\n",
    "import statsmodels.api as sm\n",
    "from statsmodels.formula.api import ols\n",
    "\n",
    "# Create a sample dataset\n",
    "np.random.seed(42)\n",
    "\n",
    "# Factors A and B\n",
    "A = np.repeat(['A1', 'A2'], 20)\n",
    "B = np.tile(['B1', 'B2'], 20)\n",
    "\n",
    "# Response variable Y\n",
    "Y = np.random.normal(loc=10, scale=2, size=40)\n",
    "\n",
    "# Create a DataFrame\n",
    "df = pd.DataFrame({'A': A, 'B': B, 'Y': Y})\n",
    "\n",
    "# Fit a two-way ANOVA model\n",
    "model = ols('Y ~ A + B + A:B', data=df).fit()\n",
    "\n",
    "# Print ANOVA table\n",
    "print(sm.stats.anova_lm(model, typ=2))\n"
   ]
  },
  {
   "cell_type": "markdown",
   "id": "2e65370d-7311-4c26-bf71-f47a9a57ebe9",
   "metadata": {},
   "source": [
    "Q6. Suppose you conducted a one-way ANOVA and obtained an F-statistic of 5.23 and a p-value of 0.02.\n",
    "What can you conclude about the differences between the groups, and how would you interpret these\n",
    "results?"
   ]
  },
  {
   "cell_type": "markdown",
   "id": "96819ad5-d302-4144-a291-8d09dea3b1dc",
   "metadata": {},
   "source": [
    "In a one-way ANOVA, the F-statistic is used to test whether there are statistically significant differences among the means of multiple groups. The p-value associated with the F-statistic helps determine the significance of these differences. Here's how you can interpret the results:\n",
    "\n",
    "1. **Null Hypothesis (H0):** The null hypothesis in ANOVA states that there are no significant differences among the group means.\n",
    "\n",
    "2. **Alternative Hypothesis (H1):** The alternative hypothesis suggests that there are significant differences among the group means.\n",
    "\n",
    "In your scenario:\n",
    "\n",
    "- **F-Statistic:** The F-statistic is a ratio of the variance between groups to the variance within groups. A larger F-statistic suggests a larger difference between the group means relative to the variability within each group.\n",
    "\n",
    "- **p-value:** The p-value associated with the F-statistic is the probability of observing such extreme F-values (or more extreme) if the null hypothesis is true. A lower p-value indicates stronger evidence against the null hypothesis.\n",
    "\n",
    "Now, interpreting the results:\n",
    "\n",
    "- **F-Statistic (5.23):** This value suggests that there is some evidence of differences among the group means.\n",
    "\n",
    "- **p-value (0.02):** The p-value is less than the commonly used significance level of 0.05. This indicates that the probability of observing the obtained F-statistic (or more extreme) under the assumption of no differences among group means is 0.02.\n",
    "\n",
    "**Conclusion:**\n",
    "Since the p-value is less than the significance level (0.02 < 0.05), you would reject the null hypothesis. Therefore, you have evidence to suggest that there are statistically significant differences among the group means. In practical terms, this means that at least one group mean is different from the others.\n",
    "\n",
    "It's important to note that while the overall test is significant, further post-hoc tests or pairwise comparisons may be needed to identify which specific groups differ from each other. Additionally, the effect size and practical significance should be considered for a comprehensive interpretation of the results."
   ]
  },
  {
   "cell_type": "markdown",
   "id": "3fc2c40c-d5e1-43e0-b918-3676a74b24dd",
   "metadata": {},
   "source": [
    "Q7. In a repeated measures ANOVA, how would you handle missing data, and what are the potential\n",
    "consequences of using different methods to handle missing data?"
   ]
  },
  {
   "cell_type": "markdown",
   "id": "40f773bd-f769-4333-8a0c-089af1cb7ff5",
   "metadata": {},
   "source": [
    "Handling missing data in repeated measures ANOVA is crucial to obtaining valid and reliable results. There are several methods to handle missing data, each with its own implications. Here are some common approaches:\n",
    "\n",
    "1. **Complete Case Analysis (CCA):**\n",
    "   - **Handling:** Exclude cases with missing data from the analysis.\n",
    "   - **Consequences:** CCA may lead to biased results if the missing data are not missing completely at random (MCAR). If the missingness is related to the outcome or other variables, the analysis may be less representative and may introduce bias.\n",
    "\n",
    "2. **Pairwise Deletion:**\n",
    "   - **Handling:** Include all available data for each pair of repeated measures.\n",
    "   - **Consequences:** Similar to CCA, pairwise deletion may introduce bias if missingness is related to the outcome or other variables. It can also result in different sample sizes for each pairwise comparison, affecting statistical power.\n",
    "\n",
    "3. **Mean Imputation:**\n",
    "   - **Handling:** Replace missing values with the mean of the available values for that variable.\n",
    "   - **Consequences:** Mean imputation assumes that missing values are missing at random (MAR) and can introduce bias if the missingness is related to unobserved factors. It may underestimate variability and affect standard errors.\n",
    "\n",
    "4. **Last Observation Carried Forward (LOCF) or Next Observation Carried Backward (NOCB):**\n",
    "   - **Handling:** Replace missing values with the last (LOCF) or next (NOCB) observed value.\n",
    "   - **Consequences:** LOCF and NOCB assume that missing values remain constant over time. They may distort the true variability of the data, especially if there are systematic patterns in the missingness.\n",
    "\n",
    "5. **Interpolation or Regression Imputation:**\n",
    "   - **Handling:** Predict missing values based on observed data using interpolation or regression.\n",
    "   - **Consequences:** This method assumes a certain relationship between the variables and may introduce bias if the assumed relationship is incorrect. It is sensitive to the chosen model.\n",
    "\n",
    "6. **Multiple Imputation:**\n",
    "   - **Handling:** Generate multiple imputed datasets, analyze each separately, and combine the results.\n",
    "   - **Consequences:** Multiple imputation is a sophisticated method that accounts for uncertainty related to missing data. It provides more accurate standard errors and valid statistical inferences. However, it requires more computational resources and assumes that the missing data are MAR.\n",
    "\n",
    "**Choosing the appropriate method:**\n",
    "- The choice of method depends on the nature of the missing data and the assumptions made about the missingness mechanism.\n",
    "- Multiple imputation is generally considered a robust approach, but it requires careful implementation and consideration of model assumptions.\n",
    "- It is crucial to report the method used for handling missing data and conduct sensitivity analyses to assess the robustness of the results to different imputation methods.\n",
    "\n",
    "Always carefully consider the characteristics of your data and the assumptions underlying each imputation method when handling missing data in repeated measures ANOVA."
   ]
  },
  {
   "cell_type": "markdown",
   "id": "d69f37f6-76e8-4c24-b0cb-4ad9fcb039d9",
   "metadata": {},
   "source": [
    "Q8. What are some common post-hoc tests used after ANOVA, and when would you use each one? Provide\n",
    "an example of a situation where a post-hoc test might be necessary."
   ]
  },
  {
   "cell_type": "markdown",
   "id": "ae47dacf-02a4-498b-a9f1-1b17bd45c349",
   "metadata": {},
   "source": [
    "After conducting an Analysis of Variance (ANOVA) and determining that there are significant differences among groups, post-hoc tests are often employed to identify specific group differences. Common post-hoc tests include:\n",
    "\n",
    "1. **Tukey's Honestly Significant Difference (HSD):**\n",
    "   - **When to use:** Tukey's HSD is used when you have three or more groups and want to test all possible pairwise group differences.\n",
    "   - **Example:** In a study comparing the performance of three different teaching methods, if the ANOVA indicates a significant difference, Tukey's HSD can be applied to identify which pairs of teaching methods are significantly different from each other.\n",
    "\n",
    "2. **Bonferroni Correction:**\n",
    "   - **When to use:** Bonferroni correction is suitable when conducting multiple pairwise comparisons, and it adjusts the significance level to control the overall Type I error rate.\n",
    "   - **Example:** In a clinical trial with multiple treatment groups, the Bonferroni correction can be applied to adjust the significance level for comparing the efficacy of each treatment against the control group.\n",
    "\n",
    "3. **Scheffé's Method:**\n",
    "   - **When to use:** Scheffé's method is a conservative option for comparing all possible pairwise group differences, especially when sample sizes are unequal.\n",
    "   - **Example:** In a study comparing the mean scores of different age groups on a cognitive test, if the ANOVA reveals significant differences, Scheffé's method can be applied to explore specific group differences.\n",
    "\n",
    "4. **Dunnett's Test:**\n",
    "   - **When to use:** Dunnett's test is used when comparing each treatment group with a control group.\n",
    "   - **Example:** In a drug trial with one control group and several experimental groups receiving different doses, Dunnett's test can be applied to determine which experimental groups show significant differences from the control group.\n",
    "\n",
    "5. **Games-Howell Test:**\n",
    "   - **When to use:** Games-Howell is appropriate when sample sizes are unequal, and the assumption of equal variances is violated.\n",
    "   - **Example:** In a study comparing the performance of different machine learning algorithms across datasets of varying sizes, if ANOVA indicates significant differences, Games-Howell can be used for pairwise comparisons.\n",
    "\n",
    "**Example Scenario:**\n",
    "Consider a research study examining the effectiveness of four different treatments for pain management. The ANOVA results show a significant difference among the treatment groups. In this scenario, you might choose a post-hoc test, such as Tukey's HSD or Bonferroni correction, to identify which specific pairs of treatments are significantly different from each other.\n",
    "\n",
    "It's important to select a post-hoc test based on the specific assumptions of your data and the research question at hand. Additionally, adjusting for multiple comparisons helps control the overall Type I error rate when conducting multiple tests."
   ]
  },
  {
   "cell_type": "markdown",
   "id": "75a94967-37b9-48d4-996d-d3d39b9510de",
   "metadata": {},
   "source": [
    "Q9. A researcher wants to compare the mean weight loss of three diets: A, B, and C. They collect data from\n",
    "50 participants who were randomly assigned to one of the diets. Conduct a one-way ANOVA using Python\n",
    "to determine if there are any significant differences between the mean weight loss of the three diets.\n",
    "Report the F-statistic and p-value, and interpret the results."
   ]
  },
  {
   "cell_type": "code",
   "execution_count": 3,
   "id": "32b49cd6-a7c7-4fef-a9d1-b3197a82b37c",
   "metadata": {},
   "outputs": [
    {
     "name": "stdout",
     "output_type": "stream",
     "text": [
      "F-statistic: 497.96901532155664\n",
      "P-value: 3.4131615110089095e-66\n",
      "There is a significant difference in mean weight loss among the three diets.\n"
     ]
    }
   ],
   "source": [
    "import scipy.stats as stats\n",
    "\n",
    "# Weight loss data for three diets: A, B, and C\n",
    "diet_A = [2.5, 3.0, 2.8, 2.2, 3.5, 2.0, 2.9, 3.2, 2.7, 2.4,\n",
    "          2.6, 3.1, 2.8, 2.3, 2.7, 3.0, 2.5, 2.9, 2.4, 3.3,\n",
    "          2.6, 3.2, 2.8, 2.1, 3.0, 2.7, 2.4, 2.9, 3.4, 2.6,\n",
    "          2.8, 3.1, 2.5, 2.7, 2.3, 2.9, 3.2, 2.6, 2.8, 2.4,\n",
    "          2.1, 3.0, 2.7, 2.4, 2.9, 3.3, 2.6, 3.2, 2.8, 2.5]\n",
    "\n",
    "diet_B = [3.8, 4.0, 3.5, 4.2, 3.6, 4.1, 3.7, 4.0, 3.9, 4.5,\n",
    "          3.8, 4.2, 3.6, 4.1, 3.7, 4.0, 3.9, 4.5, 3.8, 4.2,\n",
    "          3.6, 4.1, 3.7, 4.0, 3.9, 4.5, 3.8, 4.2, 3.6, 4.1,\n",
    "          3.7, 4.0, 3.9, 4.5, 3.8, 4.2, 3.6, 4.1, 3.7, 4.0,\n",
    "          3.9, 4.5, 3.8, 4.2, 3.6, 4.1, 3.7, 4.0, 3.9, 4.5]\n",
    "\n",
    "diet_C = [2.0, 1.8, 2.3, 2.1, 2.5, 2.2, 1.9, 2.4, 2.0, 2.3,\n",
    "          2.1, 2.5, 2.2, 1.8, 2.3, 2.1, 2.5, 2.2, 1.9, 2.4,\n",
    "          2.0, 2.3, 2.1, 2.5, 2.2, 1.8, 2.3, 2.1, 2.5, 2.2,\n",
    "          1.9, 2.4, 2.0, 2.3, 2.1, 2.5, 2.2, 1.8, 2.3, 2.1,\n",
    "          2.5, 2.2, 1.9, 2.4, 2.0, 2.3, 2.1, 2.5, 2.2, 1.8]\n",
    "\n",
    "# Perform one-way ANOVA\n",
    "f_statistic, p_value = stats.f_oneway(diet_A, diet_B, diet_C)\n",
    "\n",
    "# Print results\n",
    "print(f\"F-statistic: {f_statistic}\")\n",
    "print(f\"P-value: {p_value}\")\n",
    "\n",
    "# Interpret results\n",
    "if p_value < 0.05:\n",
    "    print(\"There is a significant difference in mean weight loss among the three diets.\")\n",
    "else:\n",
    "    print(\"There is no significant difference in mean weight loss among the three diets.\")\n"
   ]
  },
  {
   "cell_type": "markdown",
   "id": "276dc8d8-4546-409b-8751-5c5e796beb9c",
   "metadata": {},
   "source": [
    "Q10. A company wants to know if there are any significant differences in the average time it takes to\n",
    "complete a task using three different software programs: Program A, Program B, and Program C. They\n",
    "randomly assign 30 employees to one of the programs and record the time it takes each employee to\n",
    "complete the task. Conduct a two-way ANOVA using Python to determine if there are any main effects or\n",
    "interaction effects between the software programs and employee experience level (novice vs.\n",
    "experienced). Report the F-statistics and p-values, and interpret the results."
   ]
  },
  {
   "cell_type": "code",
   "execution_count": 4,
   "id": "0fdd1f5f-585f-46d5-adc2-4dc4e842b11d",
   "metadata": {},
   "outputs": [
    {
     "ename": "ValueError",
     "evalue": "All arrays must be of the same length",
     "output_type": "error",
     "traceback": [
      "\u001b[0;31m---------------------------------------------------------------------------\u001b[0m",
      "\u001b[0;31mValueError\u001b[0m                                Traceback (most recent call last)",
      "Cell \u001b[0;32mIn[4], line 12\u001b[0m\n\u001b[1;32m      5\u001b[0m \u001b[38;5;66;03m# Create a DataFrame with the data\u001b[39;00m\n\u001b[1;32m      6\u001b[0m data \u001b[38;5;241m=\u001b[39m {\n\u001b[1;32m      7\u001b[0m     \u001b[38;5;124m'\u001b[39m\u001b[38;5;124mTime\u001b[39m\u001b[38;5;124m'\u001b[39m: [\u001b[38;5;241m15\u001b[39m, \u001b[38;5;241m18\u001b[39m, \u001b[38;5;241m20\u001b[39m, \u001b[38;5;241m16\u001b[39m, \u001b[38;5;241m17\u001b[39m, \u001b[38;5;241m22\u001b[39m, \u001b[38;5;241m19\u001b[39m, \u001b[38;5;241m14\u001b[39m, \u001b[38;5;241m16\u001b[39m, \u001b[38;5;241m18\u001b[39m, \u001b[38;5;241m25\u001b[39m, \u001b[38;5;241m21\u001b[39m, \u001b[38;5;241m19\u001b[39m, \u001b[38;5;241m23\u001b[39m, \u001b[38;5;241m17\u001b[39m, \u001b[38;5;241m16\u001b[39m, \u001b[38;5;241m18\u001b[39m, \u001b[38;5;241m20\u001b[39m, \u001b[38;5;241m24\u001b[39m, \u001b[38;5;241m22\u001b[39m, \u001b[38;5;241m21\u001b[39m, \u001b[38;5;241m18\u001b[39m, \u001b[38;5;241m15\u001b[39m, \u001b[38;5;241m20\u001b[39m, \u001b[38;5;241m23\u001b[39m, \u001b[38;5;241m19\u001b[39m, \u001b[38;5;241m18\u001b[39m, \u001b[38;5;241m22\u001b[39m, \u001b[38;5;241m24\u001b[39m, \u001b[38;5;241m21\u001b[39m, \u001b[38;5;241m20\u001b[39m],\n\u001b[1;32m      8\u001b[0m     \u001b[38;5;124m'\u001b[39m\u001b[38;5;124mProgram\u001b[39m\u001b[38;5;124m'\u001b[39m: [\u001b[38;5;124m'\u001b[39m\u001b[38;5;124mA\u001b[39m\u001b[38;5;124m'\u001b[39m, \u001b[38;5;124m'\u001b[39m\u001b[38;5;124mB\u001b[39m\u001b[38;5;124m'\u001b[39m, \u001b[38;5;124m'\u001b[39m\u001b[38;5;124mC\u001b[39m\u001b[38;5;124m'\u001b[39m] \u001b[38;5;241m*\u001b[39m \u001b[38;5;241m10\u001b[39m,\n\u001b[1;32m      9\u001b[0m     \u001b[38;5;124m'\u001b[39m\u001b[38;5;124mExperience\u001b[39m\u001b[38;5;124m'\u001b[39m: [\u001b[38;5;124m'\u001b[39m\u001b[38;5;124mNovice\u001b[39m\u001b[38;5;124m'\u001b[39m, \u001b[38;5;124m'\u001b[39m\u001b[38;5;124mExperienced\u001b[39m\u001b[38;5;124m'\u001b[39m] \u001b[38;5;241m*\u001b[39m \u001b[38;5;241m15\u001b[39m\n\u001b[1;32m     10\u001b[0m }\n\u001b[0;32m---> 12\u001b[0m df \u001b[38;5;241m=\u001b[39m \u001b[43mpd\u001b[49m\u001b[38;5;241;43m.\u001b[39;49m\u001b[43mDataFrame\u001b[49m\u001b[43m(\u001b[49m\u001b[43mdata\u001b[49m\u001b[43m)\u001b[49m\n\u001b[1;32m     14\u001b[0m \u001b[38;5;66;03m# Perform two-way ANOVA\u001b[39;00m\n\u001b[1;32m     15\u001b[0m formula \u001b[38;5;241m=\u001b[39m \u001b[38;5;124m'\u001b[39m\u001b[38;5;124mTime ~ C(Program) + C(Experience) + C(Program):C(Experience)\u001b[39m\u001b[38;5;124m'\u001b[39m\n",
      "File \u001b[0;32m/opt/conda/lib/python3.10/site-packages/pandas/core/frame.py:663\u001b[0m, in \u001b[0;36mDataFrame.__init__\u001b[0;34m(self, data, index, columns, dtype, copy)\u001b[0m\n\u001b[1;32m    657\u001b[0m     mgr \u001b[38;5;241m=\u001b[39m \u001b[38;5;28mself\u001b[39m\u001b[38;5;241m.\u001b[39m_init_mgr(\n\u001b[1;32m    658\u001b[0m         data, axes\u001b[38;5;241m=\u001b[39m{\u001b[38;5;124m\"\u001b[39m\u001b[38;5;124mindex\u001b[39m\u001b[38;5;124m\"\u001b[39m: index, \u001b[38;5;124m\"\u001b[39m\u001b[38;5;124mcolumns\u001b[39m\u001b[38;5;124m\"\u001b[39m: columns}, dtype\u001b[38;5;241m=\u001b[39mdtype, copy\u001b[38;5;241m=\u001b[39mcopy\n\u001b[1;32m    659\u001b[0m     )\n\u001b[1;32m    661\u001b[0m \u001b[38;5;28;01melif\u001b[39;00m \u001b[38;5;28misinstance\u001b[39m(data, \u001b[38;5;28mdict\u001b[39m):\n\u001b[1;32m    662\u001b[0m     \u001b[38;5;66;03m# GH#38939 de facto copy defaults to False only in non-dict cases\u001b[39;00m\n\u001b[0;32m--> 663\u001b[0m     mgr \u001b[38;5;241m=\u001b[39m \u001b[43mdict_to_mgr\u001b[49m\u001b[43m(\u001b[49m\u001b[43mdata\u001b[49m\u001b[43m,\u001b[49m\u001b[43m \u001b[49m\u001b[43mindex\u001b[49m\u001b[43m,\u001b[49m\u001b[43m \u001b[49m\u001b[43mcolumns\u001b[49m\u001b[43m,\u001b[49m\u001b[43m \u001b[49m\u001b[43mdtype\u001b[49m\u001b[38;5;241;43m=\u001b[39;49m\u001b[43mdtype\u001b[49m\u001b[43m,\u001b[49m\u001b[43m \u001b[49m\u001b[43mcopy\u001b[49m\u001b[38;5;241;43m=\u001b[39;49m\u001b[43mcopy\u001b[49m\u001b[43m,\u001b[49m\u001b[43m \u001b[49m\u001b[43mtyp\u001b[49m\u001b[38;5;241;43m=\u001b[39;49m\u001b[43mmanager\u001b[49m\u001b[43m)\u001b[49m\n\u001b[1;32m    664\u001b[0m \u001b[38;5;28;01melif\u001b[39;00m \u001b[38;5;28misinstance\u001b[39m(data, ma\u001b[38;5;241m.\u001b[39mMaskedArray):\n\u001b[1;32m    665\u001b[0m     \u001b[38;5;28;01mimport\u001b[39;00m \u001b[38;5;21;01mnumpy\u001b[39;00m\u001b[38;5;21;01m.\u001b[39;00m\u001b[38;5;21;01mma\u001b[39;00m\u001b[38;5;21;01m.\u001b[39;00m\u001b[38;5;21;01mmrecords\u001b[39;00m \u001b[38;5;28;01mas\u001b[39;00m \u001b[38;5;21;01mmrecords\u001b[39;00m\n",
      "File \u001b[0;32m/opt/conda/lib/python3.10/site-packages/pandas/core/internals/construction.py:493\u001b[0m, in \u001b[0;36mdict_to_mgr\u001b[0;34m(data, index, columns, dtype, typ, copy)\u001b[0m\n\u001b[1;32m    489\u001b[0m     \u001b[38;5;28;01melse\u001b[39;00m:\n\u001b[1;32m    490\u001b[0m         \u001b[38;5;66;03m# dtype check to exclude e.g. range objects, scalars\u001b[39;00m\n\u001b[1;32m    491\u001b[0m         arrays \u001b[38;5;241m=\u001b[39m [x\u001b[38;5;241m.\u001b[39mcopy() \u001b[38;5;28;01mif\u001b[39;00m \u001b[38;5;28mhasattr\u001b[39m(x, \u001b[38;5;124m\"\u001b[39m\u001b[38;5;124mdtype\u001b[39m\u001b[38;5;124m\"\u001b[39m) \u001b[38;5;28;01melse\u001b[39;00m x \u001b[38;5;28;01mfor\u001b[39;00m x \u001b[38;5;129;01min\u001b[39;00m arrays]\n\u001b[0;32m--> 493\u001b[0m \u001b[38;5;28;01mreturn\u001b[39;00m \u001b[43marrays_to_mgr\u001b[49m\u001b[43m(\u001b[49m\u001b[43marrays\u001b[49m\u001b[43m,\u001b[49m\u001b[43m \u001b[49m\u001b[43mcolumns\u001b[49m\u001b[43m,\u001b[49m\u001b[43m \u001b[49m\u001b[43mindex\u001b[49m\u001b[43m,\u001b[49m\u001b[43m \u001b[49m\u001b[43mdtype\u001b[49m\u001b[38;5;241;43m=\u001b[39;49m\u001b[43mdtype\u001b[49m\u001b[43m,\u001b[49m\u001b[43m \u001b[49m\u001b[43mtyp\u001b[49m\u001b[38;5;241;43m=\u001b[39;49m\u001b[43mtyp\u001b[49m\u001b[43m,\u001b[49m\u001b[43m \u001b[49m\u001b[43mconsolidate\u001b[49m\u001b[38;5;241;43m=\u001b[39;49m\u001b[43mcopy\u001b[49m\u001b[43m)\u001b[49m\n",
      "File \u001b[0;32m/opt/conda/lib/python3.10/site-packages/pandas/core/internals/construction.py:118\u001b[0m, in \u001b[0;36marrays_to_mgr\u001b[0;34m(arrays, columns, index, dtype, verify_integrity, typ, consolidate)\u001b[0m\n\u001b[1;32m    115\u001b[0m \u001b[38;5;28;01mif\u001b[39;00m verify_integrity:\n\u001b[1;32m    116\u001b[0m     \u001b[38;5;66;03m# figure out the index, if necessary\u001b[39;00m\n\u001b[1;32m    117\u001b[0m     \u001b[38;5;28;01mif\u001b[39;00m index \u001b[38;5;129;01mis\u001b[39;00m \u001b[38;5;28;01mNone\u001b[39;00m:\n\u001b[0;32m--> 118\u001b[0m         index \u001b[38;5;241m=\u001b[39m \u001b[43m_extract_index\u001b[49m\u001b[43m(\u001b[49m\u001b[43marrays\u001b[49m\u001b[43m)\u001b[49m\n\u001b[1;32m    119\u001b[0m     \u001b[38;5;28;01melse\u001b[39;00m:\n\u001b[1;32m    120\u001b[0m         index \u001b[38;5;241m=\u001b[39m ensure_index(index)\n",
      "File \u001b[0;32m/opt/conda/lib/python3.10/site-packages/pandas/core/internals/construction.py:666\u001b[0m, in \u001b[0;36m_extract_index\u001b[0;34m(data)\u001b[0m\n\u001b[1;32m    664\u001b[0m lengths \u001b[38;5;241m=\u001b[39m \u001b[38;5;28mlist\u001b[39m(\u001b[38;5;28mset\u001b[39m(raw_lengths))\n\u001b[1;32m    665\u001b[0m \u001b[38;5;28;01mif\u001b[39;00m \u001b[38;5;28mlen\u001b[39m(lengths) \u001b[38;5;241m>\u001b[39m \u001b[38;5;241m1\u001b[39m:\n\u001b[0;32m--> 666\u001b[0m     \u001b[38;5;28;01mraise\u001b[39;00m \u001b[38;5;167;01mValueError\u001b[39;00m(\u001b[38;5;124m\"\u001b[39m\u001b[38;5;124mAll arrays must be of the same length\u001b[39m\u001b[38;5;124m\"\u001b[39m)\n\u001b[1;32m    668\u001b[0m \u001b[38;5;28;01mif\u001b[39;00m have_dicts:\n\u001b[1;32m    669\u001b[0m     \u001b[38;5;28;01mraise\u001b[39;00m \u001b[38;5;167;01mValueError\u001b[39;00m(\n\u001b[1;32m    670\u001b[0m         \u001b[38;5;124m\"\u001b[39m\u001b[38;5;124mMixing dicts with non-Series may lead to ambiguous ordering.\u001b[39m\u001b[38;5;124m\"\u001b[39m\n\u001b[1;32m    671\u001b[0m     )\n",
      "\u001b[0;31mValueError\u001b[0m: All arrays must be of the same length"
     ]
    }
   ],
   "source": [
    "import pandas as pd\n",
    "import statsmodels.api as sm\n",
    "from statsmodels.formula.api import ols\n",
    "\n",
    "# Create a DataFrame with the data\n",
    "data = {\n",
    "    'Time': [15, 18, 20, 16, 17, 22, 19, 14, 16, 18, 25, 21, 19, 23, 17, 16, 18, 20, 24, 22, 21, 18, 15, 20, 23, 19, 18, 22, 24, 21, 20],\n",
    "    'Program': ['A', 'B', 'C'] * 10,\n",
    "    'Experience': ['Novice', 'Experienced'] * 15\n",
    "}\n",
    "\n",
    "df = pd.DataFrame(data)\n",
    "\n",
    "# Perform two-way ANOVA\n",
    "formula = 'Time ~ C(Program) + C(Experience) + C(Program):C(Experience)'\n",
    "model = ols(formula, df).fit()\n",
    "anova_table = sm.stats.anova_lm(model, typ=2)\n",
    "\n",
    "# Print the ANOVA table\n",
    "print(anova_table)\n",
    "\n",
    "# Interpret results\n",
    "alpha = 0.05\n",
    "if anova_table['PR(>F)']['C(Program)'] < alpha:\n",
    "    print(\"There is a significant main effect of Software Program on completion time.\")\n",
    "else:\n",
    "    print(\"There is no significant main effect of Software Program on completion time.\")\n",
    "\n",
    "if anova_table['PR(>F)']['C(Experience)'] < alpha:\n",
    "    print(\"There is a significant main effect of Employee Experience on completion time.\")\n",
    "else:\n",
    "    print(\"There is no significant main effect of Employee Experience on completion time.\")\n",
    "\n",
    "if anova_table['PR(>F)']['C(Program):C(Experience)'] < alpha:\n",
    "    print(\"There is a significant interaction effect between Software Program and Employee Experience.\")\n",
    "else:\n",
    "    print(\"There is no significant interaction effect between Software Program and Employee Experience.\")\n"
   ]
  },
  {
   "cell_type": "markdown",
   "id": "06f39e35-81e0-4563-9830-079ef05758dd",
   "metadata": {},
   "source": [
    "Q11. An educational researcher is interested in whether a new teaching method improves student test\n",
    "scores. They randomly assign 100 students to either the control group (traditional teaching method) or the\n",
    "experimental group (new teaching method) and administer a test at the end of the semester. Conduct a\n",
    "two-sample t-test using Python to determine if there are any significant differences in test scores\n",
    "between the two groups. If the results are significant, follow up with a post-hoc test to determine which\n",
    "group(s) differ significantly from each other."
   ]
  },
  {
   "cell_type": "code",
   "execution_count": 5,
   "id": "4a592576-9fa0-452c-a963-7dd3695f295c",
   "metadata": {},
   "outputs": [
    {
     "ename": "ValueError",
     "evalue": "All arrays must be of the same length",
     "output_type": "error",
     "traceback": [
      "\u001b[0;31m---------------------------------------------------------------------------\u001b[0m",
      "\u001b[0;31mValueError\u001b[0m                                Traceback (most recent call last)",
      "Cell \u001b[0;32mIn[5], line 12\u001b[0m\n\u001b[1;32m      6\u001b[0m \u001b[38;5;66;03m# Create a DataFrame with the data\u001b[39;00m\n\u001b[1;32m      7\u001b[0m data \u001b[38;5;241m=\u001b[39m {\n\u001b[1;32m      8\u001b[0m     \u001b[38;5;124m'\u001b[39m\u001b[38;5;124mTest_Scores\u001b[39m\u001b[38;5;124m'\u001b[39m: [\u001b[38;5;241m75\u001b[39m, \u001b[38;5;241m80\u001b[39m, \u001b[38;5;241m85\u001b[39m, \u001b[38;5;241m78\u001b[39m, \u001b[38;5;241m82\u001b[39m, \u001b[38;5;241m88\u001b[39m, \u001b[38;5;241m79\u001b[39m, \u001b[38;5;241m83\u001b[39m, \u001b[38;5;241m87\u001b[39m, \u001b[38;5;241m90\u001b[39m, \u001b[38;5;241m72\u001b[39m, \u001b[38;5;241m76\u001b[39m, \u001b[38;5;241m80\u001b[39m, \u001b[38;5;241m73\u001b[39m, \u001b[38;5;241m78\u001b[39m, \u001b[38;5;241m85\u001b[39m, \u001b[38;5;241m89\u001b[39m, \u001b[38;5;241m92\u001b[39m, \u001b[38;5;241m77\u001b[39m, \u001b[38;5;241m81\u001b[39m, \u001b[38;5;241m86\u001b[39m, \u001b[38;5;241m95\u001b[39m, \u001b[38;5;241m98\u001b[39m, \u001b[38;5;241m76\u001b[39m, \u001b[38;5;241m79\u001b[39m, \u001b[38;5;241m84\u001b[39m, \u001b[38;5;241m88\u001b[39m, \u001b[38;5;241m91\u001b[39m, \u001b[38;5;241m94\u001b[39m, \u001b[38;5;241m77\u001b[39m, \u001b[38;5;241m82\u001b[39m],\n\u001b[1;32m      9\u001b[0m     \u001b[38;5;124m'\u001b[39m\u001b[38;5;124mTeaching_Method\u001b[39m\u001b[38;5;124m'\u001b[39m: [\u001b[38;5;124m'\u001b[39m\u001b[38;5;124mControl\u001b[39m\u001b[38;5;124m'\u001b[39m] \u001b[38;5;241m*\u001b[39m \u001b[38;5;241m15\u001b[39m \u001b[38;5;241m+\u001b[39m [\u001b[38;5;124m'\u001b[39m\u001b[38;5;124mExperimental\u001b[39m\u001b[38;5;124m'\u001b[39m] \u001b[38;5;241m*\u001b[39m \u001b[38;5;241m15\u001b[39m\n\u001b[1;32m     10\u001b[0m }\n\u001b[0;32m---> 12\u001b[0m df \u001b[38;5;241m=\u001b[39m \u001b[43mpd\u001b[49m\u001b[38;5;241;43m.\u001b[39;49m\u001b[43mDataFrame\u001b[49m\u001b[43m(\u001b[49m\u001b[43mdata\u001b[49m\u001b[43m)\u001b[49m\n\u001b[1;32m     14\u001b[0m \u001b[38;5;66;03m# Perform two-sample t-test\u001b[39;00m\n\u001b[1;32m     15\u001b[0m control_scores \u001b[38;5;241m=\u001b[39m df[df[\u001b[38;5;124m'\u001b[39m\u001b[38;5;124mTeaching_Method\u001b[39m\u001b[38;5;124m'\u001b[39m] \u001b[38;5;241m==\u001b[39m \u001b[38;5;124m'\u001b[39m\u001b[38;5;124mControl\u001b[39m\u001b[38;5;124m'\u001b[39m][\u001b[38;5;124m'\u001b[39m\u001b[38;5;124mTest_Scores\u001b[39m\u001b[38;5;124m'\u001b[39m]\n",
      "File \u001b[0;32m/opt/conda/lib/python3.10/site-packages/pandas/core/frame.py:663\u001b[0m, in \u001b[0;36mDataFrame.__init__\u001b[0;34m(self, data, index, columns, dtype, copy)\u001b[0m\n\u001b[1;32m    657\u001b[0m     mgr \u001b[38;5;241m=\u001b[39m \u001b[38;5;28mself\u001b[39m\u001b[38;5;241m.\u001b[39m_init_mgr(\n\u001b[1;32m    658\u001b[0m         data, axes\u001b[38;5;241m=\u001b[39m{\u001b[38;5;124m\"\u001b[39m\u001b[38;5;124mindex\u001b[39m\u001b[38;5;124m\"\u001b[39m: index, \u001b[38;5;124m\"\u001b[39m\u001b[38;5;124mcolumns\u001b[39m\u001b[38;5;124m\"\u001b[39m: columns}, dtype\u001b[38;5;241m=\u001b[39mdtype, copy\u001b[38;5;241m=\u001b[39mcopy\n\u001b[1;32m    659\u001b[0m     )\n\u001b[1;32m    661\u001b[0m \u001b[38;5;28;01melif\u001b[39;00m \u001b[38;5;28misinstance\u001b[39m(data, \u001b[38;5;28mdict\u001b[39m):\n\u001b[1;32m    662\u001b[0m     \u001b[38;5;66;03m# GH#38939 de facto copy defaults to False only in non-dict cases\u001b[39;00m\n\u001b[0;32m--> 663\u001b[0m     mgr \u001b[38;5;241m=\u001b[39m \u001b[43mdict_to_mgr\u001b[49m\u001b[43m(\u001b[49m\u001b[43mdata\u001b[49m\u001b[43m,\u001b[49m\u001b[43m \u001b[49m\u001b[43mindex\u001b[49m\u001b[43m,\u001b[49m\u001b[43m \u001b[49m\u001b[43mcolumns\u001b[49m\u001b[43m,\u001b[49m\u001b[43m \u001b[49m\u001b[43mdtype\u001b[49m\u001b[38;5;241;43m=\u001b[39;49m\u001b[43mdtype\u001b[49m\u001b[43m,\u001b[49m\u001b[43m \u001b[49m\u001b[43mcopy\u001b[49m\u001b[38;5;241;43m=\u001b[39;49m\u001b[43mcopy\u001b[49m\u001b[43m,\u001b[49m\u001b[43m \u001b[49m\u001b[43mtyp\u001b[49m\u001b[38;5;241;43m=\u001b[39;49m\u001b[43mmanager\u001b[49m\u001b[43m)\u001b[49m\n\u001b[1;32m    664\u001b[0m \u001b[38;5;28;01melif\u001b[39;00m \u001b[38;5;28misinstance\u001b[39m(data, ma\u001b[38;5;241m.\u001b[39mMaskedArray):\n\u001b[1;32m    665\u001b[0m     \u001b[38;5;28;01mimport\u001b[39;00m \u001b[38;5;21;01mnumpy\u001b[39;00m\u001b[38;5;21;01m.\u001b[39;00m\u001b[38;5;21;01mma\u001b[39;00m\u001b[38;5;21;01m.\u001b[39;00m\u001b[38;5;21;01mmrecords\u001b[39;00m \u001b[38;5;28;01mas\u001b[39;00m \u001b[38;5;21;01mmrecords\u001b[39;00m\n",
      "File \u001b[0;32m/opt/conda/lib/python3.10/site-packages/pandas/core/internals/construction.py:493\u001b[0m, in \u001b[0;36mdict_to_mgr\u001b[0;34m(data, index, columns, dtype, typ, copy)\u001b[0m\n\u001b[1;32m    489\u001b[0m     \u001b[38;5;28;01melse\u001b[39;00m:\n\u001b[1;32m    490\u001b[0m         \u001b[38;5;66;03m# dtype check to exclude e.g. range objects, scalars\u001b[39;00m\n\u001b[1;32m    491\u001b[0m         arrays \u001b[38;5;241m=\u001b[39m [x\u001b[38;5;241m.\u001b[39mcopy() \u001b[38;5;28;01mif\u001b[39;00m \u001b[38;5;28mhasattr\u001b[39m(x, \u001b[38;5;124m\"\u001b[39m\u001b[38;5;124mdtype\u001b[39m\u001b[38;5;124m\"\u001b[39m) \u001b[38;5;28;01melse\u001b[39;00m x \u001b[38;5;28;01mfor\u001b[39;00m x \u001b[38;5;129;01min\u001b[39;00m arrays]\n\u001b[0;32m--> 493\u001b[0m \u001b[38;5;28;01mreturn\u001b[39;00m \u001b[43marrays_to_mgr\u001b[49m\u001b[43m(\u001b[49m\u001b[43marrays\u001b[49m\u001b[43m,\u001b[49m\u001b[43m \u001b[49m\u001b[43mcolumns\u001b[49m\u001b[43m,\u001b[49m\u001b[43m \u001b[49m\u001b[43mindex\u001b[49m\u001b[43m,\u001b[49m\u001b[43m \u001b[49m\u001b[43mdtype\u001b[49m\u001b[38;5;241;43m=\u001b[39;49m\u001b[43mdtype\u001b[49m\u001b[43m,\u001b[49m\u001b[43m \u001b[49m\u001b[43mtyp\u001b[49m\u001b[38;5;241;43m=\u001b[39;49m\u001b[43mtyp\u001b[49m\u001b[43m,\u001b[49m\u001b[43m \u001b[49m\u001b[43mconsolidate\u001b[49m\u001b[38;5;241;43m=\u001b[39;49m\u001b[43mcopy\u001b[49m\u001b[43m)\u001b[49m\n",
      "File \u001b[0;32m/opt/conda/lib/python3.10/site-packages/pandas/core/internals/construction.py:118\u001b[0m, in \u001b[0;36marrays_to_mgr\u001b[0;34m(arrays, columns, index, dtype, verify_integrity, typ, consolidate)\u001b[0m\n\u001b[1;32m    115\u001b[0m \u001b[38;5;28;01mif\u001b[39;00m verify_integrity:\n\u001b[1;32m    116\u001b[0m     \u001b[38;5;66;03m# figure out the index, if necessary\u001b[39;00m\n\u001b[1;32m    117\u001b[0m     \u001b[38;5;28;01mif\u001b[39;00m index \u001b[38;5;129;01mis\u001b[39;00m \u001b[38;5;28;01mNone\u001b[39;00m:\n\u001b[0;32m--> 118\u001b[0m         index \u001b[38;5;241m=\u001b[39m \u001b[43m_extract_index\u001b[49m\u001b[43m(\u001b[49m\u001b[43marrays\u001b[49m\u001b[43m)\u001b[49m\n\u001b[1;32m    119\u001b[0m     \u001b[38;5;28;01melse\u001b[39;00m:\n\u001b[1;32m    120\u001b[0m         index \u001b[38;5;241m=\u001b[39m ensure_index(index)\n",
      "File \u001b[0;32m/opt/conda/lib/python3.10/site-packages/pandas/core/internals/construction.py:666\u001b[0m, in \u001b[0;36m_extract_index\u001b[0;34m(data)\u001b[0m\n\u001b[1;32m    664\u001b[0m lengths \u001b[38;5;241m=\u001b[39m \u001b[38;5;28mlist\u001b[39m(\u001b[38;5;28mset\u001b[39m(raw_lengths))\n\u001b[1;32m    665\u001b[0m \u001b[38;5;28;01mif\u001b[39;00m \u001b[38;5;28mlen\u001b[39m(lengths) \u001b[38;5;241m>\u001b[39m \u001b[38;5;241m1\u001b[39m:\n\u001b[0;32m--> 666\u001b[0m     \u001b[38;5;28;01mraise\u001b[39;00m \u001b[38;5;167;01mValueError\u001b[39;00m(\u001b[38;5;124m\"\u001b[39m\u001b[38;5;124mAll arrays must be of the same length\u001b[39m\u001b[38;5;124m\"\u001b[39m)\n\u001b[1;32m    668\u001b[0m \u001b[38;5;28;01mif\u001b[39;00m have_dicts:\n\u001b[1;32m    669\u001b[0m     \u001b[38;5;28;01mraise\u001b[39;00m \u001b[38;5;167;01mValueError\u001b[39;00m(\n\u001b[1;32m    670\u001b[0m         \u001b[38;5;124m\"\u001b[39m\u001b[38;5;124mMixing dicts with non-Series may lead to ambiguous ordering.\u001b[39m\u001b[38;5;124m\"\u001b[39m\n\u001b[1;32m    671\u001b[0m     )\n",
      "\u001b[0;31mValueError\u001b[0m: All arrays must be of the same length"
     ]
    }
   ],
   "source": [
    "import pandas as pd\n",
    "from scipy import stats\n",
    "import statsmodels.api as sm\n",
    "from statsmodels.stats.multicomp import pairwise_tukeyhsd\n",
    "\n",
    "# Create a DataFrame with the data\n",
    "data = {\n",
    "    'Test_Scores': [75, 80, 85, 78, 82, 88, 79, 83, 87, 90, 72, 76, 80, 73, 78, 85, 89, 92, 77, 81, 86, 95, 98, 76, 79, 84, 88, 91, 94, 77, 82],\n",
    "    'Teaching_Method': ['Control'] * 15 + ['Experimental'] * 15\n",
    "}\n",
    "\n",
    "df = pd.DataFrame(data)\n",
    "\n",
    "# Perform two-sample t-test\n",
    "control_scores = df[df['Teaching_Method'] == 'Control']['Test_Scores']\n",
    "experimental_scores = df[df['Teaching_Method'] == 'Experimental']['Test_Scores']\n",
    "\n",
    "t_statistic, p_value = stats.ttest_ind(control_scores, experimental_scores)\n",
    "\n",
    "# Print the t-test results\n",
    "print(f\"t-statistic: {t_statistic}\")\n",
    "print(f\"P-value: {p_value}\")\n",
    "\n",
    "# Follow up with Tukey's HSD post-hoc test\n",
    "mc = pairwise_tukeyhsd(df['Test_Scores'], df['Teaching_Method'])\n",
    "\n",
    "# Print the post-hoc test results\n",
    "print(mc)\n",
    "\n",
    "# Interpret results\n",
    "alpha = 0.05\n",
    "if p_value < alpha:\n",
    "    print(\"There is a significant difference in test scores between the two teaching methods.\")\n",
    "    print(\"Post-hoc test results:\")\n",
    "    print(mc.summary())\n",
    "else:\n",
    "    print(\"There is no significant difference in test scores between the two teaching methods.\")\n"
   ]
  },
  {
   "cell_type": "markdown",
   "id": "d04c9148-c2fa-4622-a797-1b8004211a7a",
   "metadata": {},
   "source": [
    "Q12. A researcher wants to know if there are any significant differences in the average daily sales of three\n",
    "retail stores: Store A, Store B, and Store C. They randomly select 30 days and record the sales for each store\n",
    "on those days. Conduct a repeated measures ANOVA using Python to determine if there are any\n",
    "\n",
    "significant differences in sales between the three stores. If the results are significant, follow up with a post-\n",
    "hoc test to determine which store(s) differ significantly from each other."
   ]
  },
  {
   "cell_type": "code",
   "execution_count": 6,
   "id": "2127a85c-6393-471e-8c42-eb152f96fff5",
   "metadata": {},
   "outputs": [
    {
     "ename": "ValueError",
     "evalue": "All arrays must be of the same length",
     "output_type": "error",
     "traceback": [
      "\u001b[0;31m---------------------------------------------------------------------------\u001b[0m",
      "\u001b[0;31mValueError\u001b[0m                                Traceback (most recent call last)",
      "Cell \u001b[0;32mIn[6], line 13\u001b[0m\n\u001b[1;32m      6\u001b[0m \u001b[38;5;66;03m# Create a DataFrame with the data\u001b[39;00m\n\u001b[1;32m      7\u001b[0m data \u001b[38;5;241m=\u001b[39m {\n\u001b[1;32m      8\u001b[0m     \u001b[38;5;124m'\u001b[39m\u001b[38;5;124mDay\u001b[39m\u001b[38;5;124m'\u001b[39m: \u001b[38;5;28mlist\u001b[39m(\u001b[38;5;28mrange\u001b[39m(\u001b[38;5;241m1\u001b[39m, \u001b[38;5;241m31\u001b[39m)) \u001b[38;5;241m*\u001b[39m \u001b[38;5;241m3\u001b[39m,\n\u001b[1;32m      9\u001b[0m     \u001b[38;5;124m'\u001b[39m\u001b[38;5;124mSales\u001b[39m\u001b[38;5;124m'\u001b[39m: [\u001b[38;5;241m50\u001b[39m, \u001b[38;5;241m55\u001b[39m, \u001b[38;5;241m60\u001b[39m, \u001b[38;5;241m48\u001b[39m, \u001b[38;5;241m53\u001b[39m, \u001b[38;5;241m58\u001b[39m, \u001b[38;5;241m55\u001b[39m, \u001b[38;5;241m60\u001b[39m, \u001b[38;5;241m65\u001b[39m, \u001b[38;5;241m52\u001b[39m, \u001b[38;5;241m57\u001b[39m, \u001b[38;5;241m62\u001b[39m, \u001b[38;5;241m49\u001b[39m, \u001b[38;5;241m54\u001b[39m, \u001b[38;5;241m59\u001b[39m, \u001b[38;5;241m58\u001b[39m, \u001b[38;5;241m63\u001b[39m, \u001b[38;5;241m68\u001b[39m, \u001b[38;5;241m47\u001b[39m, \u001b[38;5;241m52\u001b[39m, \u001b[38;5;241m57\u001b[39m, \u001b[38;5;241m45\u001b[39m, \u001b[38;5;241m50\u001b[39m, \u001b[38;5;241m55\u001b[39m, \u001b[38;5;241m60\u001b[39m, \u001b[38;5;241m58\u001b[39m, \u001b[38;5;241m63\u001b[39m, \u001b[38;5;241m68\u001b[39m, \u001b[38;5;241m53\u001b[39m, \u001b[38;5;241m58\u001b[39m, \u001b[38;5;241m63\u001b[39m],\n\u001b[1;32m     10\u001b[0m     \u001b[38;5;124m'\u001b[39m\u001b[38;5;124mStore\u001b[39m\u001b[38;5;124m'\u001b[39m: [\u001b[38;5;124m'\u001b[39m\u001b[38;5;124mStore A\u001b[39m\u001b[38;5;124m'\u001b[39m] \u001b[38;5;241m*\u001b[39m \u001b[38;5;241m30\u001b[39m \u001b[38;5;241m+\u001b[39m [\u001b[38;5;124m'\u001b[39m\u001b[38;5;124mStore B\u001b[39m\u001b[38;5;124m'\u001b[39m] \u001b[38;5;241m*\u001b[39m \u001b[38;5;241m30\u001b[39m \u001b[38;5;241m+\u001b[39m [\u001b[38;5;124m'\u001b[39m\u001b[38;5;124mStore C\u001b[39m\u001b[38;5;124m'\u001b[39m] \u001b[38;5;241m*\u001b[39m \u001b[38;5;241m30\u001b[39m\n\u001b[1;32m     11\u001b[0m }\n\u001b[0;32m---> 13\u001b[0m df \u001b[38;5;241m=\u001b[39m \u001b[43mpd\u001b[49m\u001b[38;5;241;43m.\u001b[39;49m\u001b[43mDataFrame\u001b[49m\u001b[43m(\u001b[49m\u001b[43mdata\u001b[49m\u001b[43m)\u001b[49m\n\u001b[1;32m     15\u001b[0m \u001b[38;5;66;03m# Perform repeated measures ANOVA\u001b[39;00m\n\u001b[1;32m     16\u001b[0m aovrm \u001b[38;5;241m=\u001b[39m AnovaRM(df, \u001b[38;5;124m'\u001b[39m\u001b[38;5;124mSales\u001b[39m\u001b[38;5;124m'\u001b[39m, \u001b[38;5;124m'\u001b[39m\u001b[38;5;124mDay\u001b[39m\u001b[38;5;124m'\u001b[39m, within\u001b[38;5;241m=\u001b[39m[\u001b[38;5;124m'\u001b[39m\u001b[38;5;124mStore\u001b[39m\u001b[38;5;124m'\u001b[39m])\n",
      "File \u001b[0;32m/opt/conda/lib/python3.10/site-packages/pandas/core/frame.py:663\u001b[0m, in \u001b[0;36mDataFrame.__init__\u001b[0;34m(self, data, index, columns, dtype, copy)\u001b[0m\n\u001b[1;32m    657\u001b[0m     mgr \u001b[38;5;241m=\u001b[39m \u001b[38;5;28mself\u001b[39m\u001b[38;5;241m.\u001b[39m_init_mgr(\n\u001b[1;32m    658\u001b[0m         data, axes\u001b[38;5;241m=\u001b[39m{\u001b[38;5;124m\"\u001b[39m\u001b[38;5;124mindex\u001b[39m\u001b[38;5;124m\"\u001b[39m: index, \u001b[38;5;124m\"\u001b[39m\u001b[38;5;124mcolumns\u001b[39m\u001b[38;5;124m\"\u001b[39m: columns}, dtype\u001b[38;5;241m=\u001b[39mdtype, copy\u001b[38;5;241m=\u001b[39mcopy\n\u001b[1;32m    659\u001b[0m     )\n\u001b[1;32m    661\u001b[0m \u001b[38;5;28;01melif\u001b[39;00m \u001b[38;5;28misinstance\u001b[39m(data, \u001b[38;5;28mdict\u001b[39m):\n\u001b[1;32m    662\u001b[0m     \u001b[38;5;66;03m# GH#38939 de facto copy defaults to False only in non-dict cases\u001b[39;00m\n\u001b[0;32m--> 663\u001b[0m     mgr \u001b[38;5;241m=\u001b[39m \u001b[43mdict_to_mgr\u001b[49m\u001b[43m(\u001b[49m\u001b[43mdata\u001b[49m\u001b[43m,\u001b[49m\u001b[43m \u001b[49m\u001b[43mindex\u001b[49m\u001b[43m,\u001b[49m\u001b[43m \u001b[49m\u001b[43mcolumns\u001b[49m\u001b[43m,\u001b[49m\u001b[43m \u001b[49m\u001b[43mdtype\u001b[49m\u001b[38;5;241;43m=\u001b[39;49m\u001b[43mdtype\u001b[49m\u001b[43m,\u001b[49m\u001b[43m \u001b[49m\u001b[43mcopy\u001b[49m\u001b[38;5;241;43m=\u001b[39;49m\u001b[43mcopy\u001b[49m\u001b[43m,\u001b[49m\u001b[43m \u001b[49m\u001b[43mtyp\u001b[49m\u001b[38;5;241;43m=\u001b[39;49m\u001b[43mmanager\u001b[49m\u001b[43m)\u001b[49m\n\u001b[1;32m    664\u001b[0m \u001b[38;5;28;01melif\u001b[39;00m \u001b[38;5;28misinstance\u001b[39m(data, ma\u001b[38;5;241m.\u001b[39mMaskedArray):\n\u001b[1;32m    665\u001b[0m     \u001b[38;5;28;01mimport\u001b[39;00m \u001b[38;5;21;01mnumpy\u001b[39;00m\u001b[38;5;21;01m.\u001b[39;00m\u001b[38;5;21;01mma\u001b[39;00m\u001b[38;5;21;01m.\u001b[39;00m\u001b[38;5;21;01mmrecords\u001b[39;00m \u001b[38;5;28;01mas\u001b[39;00m \u001b[38;5;21;01mmrecords\u001b[39;00m\n",
      "File \u001b[0;32m/opt/conda/lib/python3.10/site-packages/pandas/core/internals/construction.py:493\u001b[0m, in \u001b[0;36mdict_to_mgr\u001b[0;34m(data, index, columns, dtype, typ, copy)\u001b[0m\n\u001b[1;32m    489\u001b[0m     \u001b[38;5;28;01melse\u001b[39;00m:\n\u001b[1;32m    490\u001b[0m         \u001b[38;5;66;03m# dtype check to exclude e.g. range objects, scalars\u001b[39;00m\n\u001b[1;32m    491\u001b[0m         arrays \u001b[38;5;241m=\u001b[39m [x\u001b[38;5;241m.\u001b[39mcopy() \u001b[38;5;28;01mif\u001b[39;00m \u001b[38;5;28mhasattr\u001b[39m(x, \u001b[38;5;124m\"\u001b[39m\u001b[38;5;124mdtype\u001b[39m\u001b[38;5;124m\"\u001b[39m) \u001b[38;5;28;01melse\u001b[39;00m x \u001b[38;5;28;01mfor\u001b[39;00m x \u001b[38;5;129;01min\u001b[39;00m arrays]\n\u001b[0;32m--> 493\u001b[0m \u001b[38;5;28;01mreturn\u001b[39;00m \u001b[43marrays_to_mgr\u001b[49m\u001b[43m(\u001b[49m\u001b[43marrays\u001b[49m\u001b[43m,\u001b[49m\u001b[43m \u001b[49m\u001b[43mcolumns\u001b[49m\u001b[43m,\u001b[49m\u001b[43m \u001b[49m\u001b[43mindex\u001b[49m\u001b[43m,\u001b[49m\u001b[43m \u001b[49m\u001b[43mdtype\u001b[49m\u001b[38;5;241;43m=\u001b[39;49m\u001b[43mdtype\u001b[49m\u001b[43m,\u001b[49m\u001b[43m \u001b[49m\u001b[43mtyp\u001b[49m\u001b[38;5;241;43m=\u001b[39;49m\u001b[43mtyp\u001b[49m\u001b[43m,\u001b[49m\u001b[43m \u001b[49m\u001b[43mconsolidate\u001b[49m\u001b[38;5;241;43m=\u001b[39;49m\u001b[43mcopy\u001b[49m\u001b[43m)\u001b[49m\n",
      "File \u001b[0;32m/opt/conda/lib/python3.10/site-packages/pandas/core/internals/construction.py:118\u001b[0m, in \u001b[0;36marrays_to_mgr\u001b[0;34m(arrays, columns, index, dtype, verify_integrity, typ, consolidate)\u001b[0m\n\u001b[1;32m    115\u001b[0m \u001b[38;5;28;01mif\u001b[39;00m verify_integrity:\n\u001b[1;32m    116\u001b[0m     \u001b[38;5;66;03m# figure out the index, if necessary\u001b[39;00m\n\u001b[1;32m    117\u001b[0m     \u001b[38;5;28;01mif\u001b[39;00m index \u001b[38;5;129;01mis\u001b[39;00m \u001b[38;5;28;01mNone\u001b[39;00m:\n\u001b[0;32m--> 118\u001b[0m         index \u001b[38;5;241m=\u001b[39m \u001b[43m_extract_index\u001b[49m\u001b[43m(\u001b[49m\u001b[43marrays\u001b[49m\u001b[43m)\u001b[49m\n\u001b[1;32m    119\u001b[0m     \u001b[38;5;28;01melse\u001b[39;00m:\n\u001b[1;32m    120\u001b[0m         index \u001b[38;5;241m=\u001b[39m ensure_index(index)\n",
      "File \u001b[0;32m/opt/conda/lib/python3.10/site-packages/pandas/core/internals/construction.py:666\u001b[0m, in \u001b[0;36m_extract_index\u001b[0;34m(data)\u001b[0m\n\u001b[1;32m    664\u001b[0m lengths \u001b[38;5;241m=\u001b[39m \u001b[38;5;28mlist\u001b[39m(\u001b[38;5;28mset\u001b[39m(raw_lengths))\n\u001b[1;32m    665\u001b[0m \u001b[38;5;28;01mif\u001b[39;00m \u001b[38;5;28mlen\u001b[39m(lengths) \u001b[38;5;241m>\u001b[39m \u001b[38;5;241m1\u001b[39m:\n\u001b[0;32m--> 666\u001b[0m     \u001b[38;5;28;01mraise\u001b[39;00m \u001b[38;5;167;01mValueError\u001b[39;00m(\u001b[38;5;124m\"\u001b[39m\u001b[38;5;124mAll arrays must be of the same length\u001b[39m\u001b[38;5;124m\"\u001b[39m)\n\u001b[1;32m    668\u001b[0m \u001b[38;5;28;01mif\u001b[39;00m have_dicts:\n\u001b[1;32m    669\u001b[0m     \u001b[38;5;28;01mraise\u001b[39;00m \u001b[38;5;167;01mValueError\u001b[39;00m(\n\u001b[1;32m    670\u001b[0m         \u001b[38;5;124m\"\u001b[39m\u001b[38;5;124mMixing dicts with non-Series may lead to ambiguous ordering.\u001b[39m\u001b[38;5;124m\"\u001b[39m\n\u001b[1;32m    671\u001b[0m     )\n",
      "\u001b[0;31mValueError\u001b[0m: All arrays must be of the same length"
     ]
    }
   ],
   "source": [
    "import pandas as pd\n",
    "import statsmodels.api as sm\n",
    "from statsmodels.stats.anova import AnovaRM\n",
    "from statsmodels.stats.multicomp import pairwise_tukeyhsd\n",
    "\n",
    "# Create a DataFrame with the data\n",
    "data = {\n",
    "    'Day': list(range(1, 31)) * 3,\n",
    "    'Sales': [50, 55, 60, 48, 53, 58, 55, 60, 65, 52, 57, 62, 49, 54, 59, 58, 63, 68, 47, 52, 57, 45, 50, 55, 60, 58, 63, 68, 53, 58, 63],\n",
    "    'Store': ['Store A'] * 30 + ['Store B'] * 30 + ['Store C'] * 30\n",
    "}\n",
    "\n",
    "df = pd.DataFrame(data)\n",
    "\n",
    "# Perform repeated measures ANOVA\n",
    "aovrm = AnovaRM(df, 'Sales', 'Day', within=['Store'])\n",
    "result = aovrm.fit()\n",
    "\n",
    "# Print the ANOVA results\n",
    "print(result)\n",
    "\n",
    "# Follow up with Tukey's HSD post-hoc test\n",
    "mc = pairwise_tukeyhsd(df['Sales'], df['Store'])\n",
    "\n",
    "# Print the post-hoc test results\n",
    "print(mc)\n",
    "\n",
    "# Interpret results\n",
    "alpha = 0.05\n",
    "if result.pvalues['Store'] < alpha:\n",
    "    print(\"There is a significant difference in daily sales between the three stores.\")\n",
    "    print(\"Post-hoc test results:\")\n",
    "    print(mc.summary())\n",
    "else:\n",
    "    print(\"There is no significant difference in daily sales between the three stores.\")\n"
   ]
  },
  {
   "cell_type": "code",
   "execution_count": null,
   "id": "516dd6b3-d04d-4689-be47-a4198bbd1854",
   "metadata": {},
   "outputs": [],
   "source": []
  }
 ],
 "metadata": {
  "kernelspec": {
   "display_name": "Python 3 (ipykernel)",
   "language": "python",
   "name": "python3"
  },
  "language_info": {
   "codemirror_mode": {
    "name": "ipython",
    "version": 3
   },
   "file_extension": ".py",
   "mimetype": "text/x-python",
   "name": "python",
   "nbconvert_exporter": "python",
   "pygments_lexer": "ipython3",
   "version": "3.10.8"
  }
 },
 "nbformat": 4,
 "nbformat_minor": 5
}
