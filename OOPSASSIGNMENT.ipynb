{
 "cells": [
  {
   "cell_type": "markdown",
   "id": "70762549-aa99-4198-a038-d7558848a342",
   "metadata": {},
   "source": [
    "Q1. Which function is used to open a file? What are the different modes of opening a file? Explain each mode\n",
    "of file opening."
   ]
  },
  {
   "cell_type": "code",
   "execution_count": 1,
   "id": "33e2908e-462b-4ede-ab98-569fb736bf38",
   "metadata": {},
   "outputs": [
    {
     "ename": "NameError",
     "evalue": "name 'file' is not defined",
     "output_type": "error",
     "traceback": [
      "\u001b[0;31m---------------------------------------------------------------------------\u001b[0m",
      "\u001b[0;31mNameError\u001b[0m                                 Traceback (most recent call last)",
      "Cell \u001b[0;32mIn[1], line 1\u001b[0m\n\u001b[0;32m----> 1\u001b[0m \u001b[38;5;28mopen\u001b[39m(\u001b[43mfile\u001b[49m, mode\u001b[38;5;241m=\u001b[39m\u001b[38;5;124m'\u001b[39m\u001b[38;5;124mr\u001b[39m\u001b[38;5;124m'\u001b[39m, buffering\u001b[38;5;241m=\u001b[39m\u001b[38;5;241m-\u001b[39m\u001b[38;5;241m1\u001b[39m, encoding\u001b[38;5;241m=\u001b[39m\u001b[38;5;28;01mNone\u001b[39;00m, errors\u001b[38;5;241m=\u001b[39m\u001b[38;5;28;01mNone\u001b[39;00m, newline\u001b[38;5;241m=\u001b[39m\u001b[38;5;28;01mNone\u001b[39;00m, closefd\u001b[38;5;241m=\u001b[39m\u001b[38;5;28;01mTrue\u001b[39;00m, opener\u001b[38;5;241m=\u001b[39m\u001b[38;5;28;01mNone\u001b[39;00m)\n",
      "\u001b[0;31mNameError\u001b[0m: name 'file' is not defined"
     ]
    }
   ],
   "source": [
    "open(file, mode='r', buffering=-1, encoding=None, errors=None, newline=None, closefd=True, opener=None)\n"
   ]
  },
  {
   "cell_type": "markdown",
   "id": "701571dc-b1d2-4fe6-b5c7-a7ccf5756b1d",
   "metadata": {},
   "source": [
    "'r' (read): This is the default mode. It opens the file for reading. If the file does not exist, it raises a FileNotFoundError.\n",
    "\n",
    "Example:"
   ]
  },
  {
   "cell_type": "code",
   "execution_count": 2,
   "id": "4417356b-0c4a-4913-9040-ce25df3935bc",
   "metadata": {},
   "outputs": [
    {
     "ename": "FileNotFoundError",
     "evalue": "[Errno 2] No such file or directory: 'example.txt'",
     "output_type": "error",
     "traceback": [
      "\u001b[0;31m---------------------------------------------------------------------------\u001b[0m",
      "\u001b[0;31mFileNotFoundError\u001b[0m                         Traceback (most recent call last)",
      "Cell \u001b[0;32mIn[2], line 1\u001b[0m\n\u001b[0;32m----> 1\u001b[0m file \u001b[38;5;241m=\u001b[39m \u001b[38;5;28;43mopen\u001b[39;49m\u001b[43m(\u001b[49m\u001b[38;5;124;43m'\u001b[39;49m\u001b[38;5;124;43mexample.txt\u001b[39;49m\u001b[38;5;124;43m'\u001b[39;49m\u001b[43m,\u001b[49m\u001b[43m \u001b[49m\u001b[38;5;124;43m'\u001b[39;49m\u001b[38;5;124;43mr\u001b[39;49m\u001b[38;5;124;43m'\u001b[39;49m\u001b[43m)\u001b[49m\n",
      "File \u001b[0;32m/opt/conda/lib/python3.10/site-packages/IPython/core/interactiveshell.py:282\u001b[0m, in \u001b[0;36m_modified_open\u001b[0;34m(file, *args, **kwargs)\u001b[0m\n\u001b[1;32m    275\u001b[0m \u001b[38;5;28;01mif\u001b[39;00m file \u001b[38;5;129;01min\u001b[39;00m {\u001b[38;5;241m0\u001b[39m, \u001b[38;5;241m1\u001b[39m, \u001b[38;5;241m2\u001b[39m}:\n\u001b[1;32m    276\u001b[0m     \u001b[38;5;28;01mraise\u001b[39;00m \u001b[38;5;167;01mValueError\u001b[39;00m(\n\u001b[1;32m    277\u001b[0m         \u001b[38;5;124mf\u001b[39m\u001b[38;5;124m\"\u001b[39m\u001b[38;5;124mIPython won\u001b[39m\u001b[38;5;124m'\u001b[39m\u001b[38;5;124mt let you open fd=\u001b[39m\u001b[38;5;132;01m{\u001b[39;00mfile\u001b[38;5;132;01m}\u001b[39;00m\u001b[38;5;124m by default \u001b[39m\u001b[38;5;124m\"\u001b[39m\n\u001b[1;32m    278\u001b[0m         \u001b[38;5;124m\"\u001b[39m\u001b[38;5;124mas it is likely to crash IPython. If you know what you are doing, \u001b[39m\u001b[38;5;124m\"\u001b[39m\n\u001b[1;32m    279\u001b[0m         \u001b[38;5;124m\"\u001b[39m\u001b[38;5;124myou can use builtins\u001b[39m\u001b[38;5;124m'\u001b[39m\u001b[38;5;124m open.\u001b[39m\u001b[38;5;124m\"\u001b[39m\n\u001b[1;32m    280\u001b[0m     )\n\u001b[0;32m--> 282\u001b[0m \u001b[38;5;28;01mreturn\u001b[39;00m \u001b[43mio_open\u001b[49m\u001b[43m(\u001b[49m\u001b[43mfile\u001b[49m\u001b[43m,\u001b[49m\u001b[43m \u001b[49m\u001b[38;5;241;43m*\u001b[39;49m\u001b[43margs\u001b[49m\u001b[43m,\u001b[49m\u001b[43m \u001b[49m\u001b[38;5;241;43m*\u001b[39;49m\u001b[38;5;241;43m*\u001b[39;49m\u001b[43mkwargs\u001b[49m\u001b[43m)\u001b[49m\n",
      "\u001b[0;31mFileNotFoundError\u001b[0m: [Errno 2] No such file or directory: 'example.txt'"
     ]
    }
   ],
   "source": [
    "file = open('example.txt', 'r')\n"
   ]
  },
  {
   "cell_type": "markdown",
   "id": "5dacd39e-aac3-49cf-8c00-d6d96d404f81",
   "metadata": {},
   "source": [
    "'w' (write): This mode opens the file for writing. If the file already exists, it truncates the file to zero length. If the file does not exist, it creates a new file.\n",
    "\n",
    "Example:"
   ]
  },
  {
   "cell_type": "code",
   "execution_count": null,
   "id": "00037879-0ee5-4ed5-8d7e-70dd9d7e859d",
   "metadata": {},
   "outputs": [],
   "source": [
    "file = open('example.txt', 'w')\n"
   ]
  },
  {
   "cell_type": "markdown",
   "id": "fb592495-5ff7-4a49-beda-c9691560ea46",
   "metadata": {},
   "source": [
    "'a' (append): This mode opens the file for writing. If the file already exists, it appends the new data to the end of the file. If the file does not exist, it creates a new file.\n",
    "\n",
    "Example:"
   ]
  },
  {
   "cell_type": "code",
   "execution_count": null,
   "id": "0eb24c79-f5df-4acf-abbd-15108fe188e9",
   "metadata": {},
   "outputs": [],
   "source": [
    "file = open('example.txt', 'a')\n"
   ]
  },
  {
   "cell_type": "markdown",
   "id": "102d6898-baa4-4a27-87d5-956b1c360e9a",
   "metadata": {},
   "source": [
    "'b' (binary): This mode is used in combination with the other modes ('rb', 'wb', 'ab'). It opens the file in binary mode.\n",
    "\n",
    "Example:"
   ]
  },
  {
   "cell_type": "code",
   "execution_count": null,
   "id": "35363a80-7da6-4a27-a63c-0965dab58505",
   "metadata": {},
   "outputs": [],
   "source": [
    "file = open('example.bin', 'rb')\n"
   ]
  },
  {
   "cell_type": "markdown",
   "id": "6eddbba6-8722-4993-bd12-8271ca155cb3",
   "metadata": {},
   "source": [
    "Q2. Why close() function is used? Why is it important to close a file?"
   ]
  },
  {
   "cell_type": "markdown",
   "id": "6f280c13-a1c2-404e-ac72-cb68f6396a48",
   "metadata": {},
   "source": [
    "The close() function in Python is used to close an opened file. When you open a file using the open() function, a file object is created, and system resources are allocated to it. It is important to close the file using the close() method to release these system resources. Failing to close a file can lead to various issues and undesirable consequences. Here are some reasons why it is important to close a file:\n",
    "\n",
    "Resource Cleanup:\n",
    "\n",
    "When a file is opened, the operating system allocates resources such as file handles and buffers to manage the interaction with the file. Closing the file releases these resources, preventing potential resource leaks.\n",
    "Data Integrity:\n",
    "\n",
    "Closing a file ensures that any buffered data is flushed to the file. Buffered data might not be immediately written to the file when each write operation occurs. Closing the file ensures that all changes are persisted to the file.\n",
    "File Locks:\n",
    "\n",
    "On some operating systems, leaving a file open may result in a file lock. Closing the file releases any locks associated with it, allowing other processes or parts of your program to access the file.\n",
    "Memory Usage:\n",
    "\n",
    "Open files consume memory resources. Closing files when they are no longer needed helps manage memory usage, especially in programs that process a large number of files.\n",
    "File Corruption Prevention:\n",
    "\n",
    "Leaving a file open for a long time without closing it may increase the risk of file corruption, especially in scenarios where multiple processes or threads are accessing the same file.\n",
    "Here's an example illustrating the use of the close() function:"
   ]
  },
  {
   "cell_type": "code",
   "execution_count": 3,
   "id": "7d2140ec-ab88-496f-b87a-c75f54e40bcc",
   "metadata": {},
   "outputs": [],
   "source": [
    "# Open a file\n",
    "file = open('example.txt', 'w')\n",
    "\n",
    "# Write data to the file\n",
    "file.write('Hello, World!')\n",
    "\n",
    "# Close the file to release resources\n",
    "file.close()\n"
   ]
  },
  {
   "cell_type": "markdown",
   "id": "2d2d8c5b-e41c-4a7f-a06c-1945c63c3974",
   "metadata": {},
   "source": [
    "It is a good practice to use the with statement (context manager) when working with files, as it automatically takes care of closing the file, even if an exception occurs. This helps to ensure that files are properly closed and resources are released."
   ]
  },
  {
   "cell_type": "markdown",
   "id": "bf772f98-c22c-4023-875e-88c42ba3b825",
   "metadata": {},
   "source": [
    "Q3. Write a python program to create a text file. Write ‘I want to become a Data Scientist’ in that file. Then\n",
    "close the file. Open this file and read the content of the file.\n"
   ]
  },
  {
   "cell_type": "code",
   "execution_count": 4,
   "id": "a529abc0-a2de-460b-8739-9c841ec8384e",
   "metadata": {},
   "outputs": [
    {
     "name": "stdout",
     "output_type": "stream",
     "text": [
      "File 'data_scientist.txt' created and written successfully.\n",
      "\n",
      "Content of 'data_scientist.txt':\n",
      "I want to become a Data Scientist\n"
     ]
    }
   ],
   "source": [
    "# Step 1: Create a text file and write content to it\n",
    "file_name = \"data_scientist.txt\"\n",
    "\n",
    "try:\n",
    "    with open(file_name, 'w') as file:\n",
    "        file.write('I want to become a Data Scientist')\n",
    "    print(f\"File '{file_name}' created and written successfully.\")\n",
    "except Exception as e:\n",
    "    print(f\"Error: {e}\")\n",
    "\n",
    "# Step 2: Open the file and read its content\n",
    "try:\n",
    "    with open(file_name, 'r') as file:\n",
    "        content = file.read()\n",
    "        print(f\"\\nContent of '{file_name}':\\n{content}\")\n",
    "except Exception as e:\n",
    "    print(f\"Error: {e}\")\n"
   ]
  },
  {
   "cell_type": "markdown",
   "id": "fb41c63e-b81f-40ab-94f5-d5b464efb7a8",
   "metadata": {},
   "source": [
    "In this program:\n",
    "\n",
    "We use the open() function with the mode 'w' to create the file and write the specified content to it.\n",
    "The with statement is used to automatically close the file after writing. This is good practice to ensure proper resource management.\n",
    "We then open the file again with the mode 'r' to read its content using the read() method.\n",
    "The content of the file is printed to the console.\n",
    "Ensure that you have the necessary permissions to create and write to files in the specified location. The file will be created in the same directory as the Python script unless a different path is provided."
   ]
  },
  {
   "cell_type": "markdown",
   "id": "015ecb63-ff6f-40a0-a0ca-096aba05b50d",
   "metadata": {},
   "source": [
    "Q4. Explain the following with python code: read(), readline() and readlines()."
   ]
  },
  {
   "cell_type": "markdown",
   "id": "8ac0d751-862c-4a54-b8b8-83ba7867eef9",
   "metadata": {},
   "source": [
    "1. read()\n",
    "The read() method is used to read the entire content of a file as a single string."
   ]
  },
  {
   "cell_type": "code",
   "execution_count": 5,
   "id": "d812cae5-8492-4658-b0dc-6a2c4c4947a1",
   "metadata": {},
   "outputs": [
    {
     "name": "stdout",
     "output_type": "stream",
     "text": [
      "Hello, World!\n"
     ]
    }
   ],
   "source": [
    "# Example using read()\n",
    "file_name = \"example.txt\"\n",
    "\n",
    "with open(file_name, 'r') as file:\n",
    "    content = file.read()\n",
    "    print(content)\n"
   ]
  },
  {
   "cell_type": "markdown",
   "id": "5acecbe4-75b3-459a-ad54-b57e90de2c9a",
   "metadata": {},
   "source": [
    "2. readline()\n",
    "The readline() method is used to read a single line from the file."
   ]
  },
  {
   "cell_type": "code",
   "execution_count": 6,
   "id": "5d99977d-64fa-4fe7-a1a3-5d42ab019624",
   "metadata": {},
   "outputs": [
    {
     "name": "stdout",
     "output_type": "stream",
     "text": [
      "Line 1: Hello, World!\n",
      "Line 2: \n"
     ]
    }
   ],
   "source": [
    "# Example using readline()\n",
    "file_name = \"example.txt\"\n",
    "\n",
    "with open(file_name, 'r') as file:\n",
    "    line1 = file.readline()\n",
    "    line2 = file.readline()\n",
    "\n",
    "    print(\"Line 1:\", line1)\n",
    "    print(\"Line 2:\", line2)\n"
   ]
  },
  {
   "cell_type": "markdown",
   "id": "d6fbdb05-f1ba-41ee-b751-0f5a6c4c00e3",
   "metadata": {},
   "source": [
    "3. readlines()\n",
    "The readlines() method is used to read all lines of a file and return them as a list of strings."
   ]
  },
  {
   "cell_type": "code",
   "execution_count": 7,
   "id": "1ba5c589-b9a9-456a-aa3f-02a3360bb96f",
   "metadata": {},
   "outputs": [
    {
     "name": "stdout",
     "output_type": "stream",
     "text": [
      "All lines:\n",
      "Hello, World!\n"
     ]
    }
   ],
   "source": [
    "# Example using readlines()\n",
    "file_name = \"example.txt\"\n",
    "\n",
    "with open(file_name, 'r') as file:\n",
    "    lines = file.readlines()\n",
    "\n",
    "    print(\"All lines:\")\n",
    "    for line in lines:\n",
    "        print(line.strip())  # strip() removes leading and trailing whitespaces\n"
   ]
  },
  {
   "cell_type": "markdown",
   "id": "fa5281ac-66ad-48d1-96df-e150daf4796c",
   "metadata": {},
   "source": [
    "Q5. Explain why with statement is used with open(). What is the advantage of using with statement and\n",
    "open() together?"
   ]
  },
  {
   "cell_type": "markdown",
   "id": "e2b5e227-3499-4403-8942-de8987e963a8",
   "metadata": {},
   "source": [
    "The with statement in Python is used in conjunction with the open() function to create a context manager. The primary advantage of using the with statement with open() is that it simplifies resource management, especially when working with files. The with statement ensures that the file is properly opened and closed, and it automatically takes care of releasing system resources associated with the file.\n",
    "\n",
    "Here's an explanation of the advantages of using the with statement with open():\n",
    "\n",
    "Automatic Resource Management:\n",
    "\n",
    "The with statement is a context manager that automatically acquires and releases resources. When the with block is entered, the __enter__ method is called, and when the block is exited (either normally or due to an exception), the __exit__ method is called. In the case of file handling, it ensures that the file is closed, even if an exception occurs within the block.\n",
    "Cleaner and More Readable Code:\n",
    "\n",
    "The with statement makes the code cleaner and more readable by encapsulating the resource management code. It eliminates the need for explicit calls to file.close() and ensures that the resource management is handled in a clear and concise manner.\n",
    "Avoiding Resource Leaks:\n",
    "\n",
    "Forgetting to close a file after opening it can lead to resource leaks, especially in scenarios where the program processes multiple files. The with statement guarantees that the file is properly closed, preventing resource leaks.\n",
    "Exception Handling:\n",
    "\n",
    "The with statement provides a built-in mechanism for handling exceptions that may occur during the execution of the block. If an exception occurs, the __exit__ method is still called, allowing for proper cleanup operations.\n",
    "Here's an example of using the with statement with open():"
   ]
  },
  {
   "cell_type": "code",
   "execution_count": 8,
   "id": "ca84b2a3-47a9-41d4-b2a2-351b0041d814",
   "metadata": {},
   "outputs": [],
   "source": [
    "# Without using with statement\n",
    "file = open('example.txt', 'r')\n",
    "try:\n",
    "    content = file.read()\n",
    "    # process content\n",
    "finally:\n",
    "    file.close()\n",
    "\n",
    "# Using with statement\n",
    "with open('example.txt', 'r') as file:\n",
    "    content = file.read()\n",
    "    # process content\n",
    "# file is automatically closed when the block is exited\n"
   ]
  },
  {
   "cell_type": "markdown",
   "id": "8f740abe-f1b6-48b0-acf5-34e2d6c0e6b0",
   "metadata": {},
   "source": [
    "Q6. Explain the write() and writelines() functions. Give a suitable example."
   ]
  },
  {
   "cell_type": "markdown",
   "id": "94a8d02d-f333-4b1b-aaf1-806de28e8abb",
   "metadata": {},
   "source": [
    "1. write()\n",
    "The write() method is used to write a string to a file. If the file does not exist, it will be created. If the file already exists, the write() method will overwrite its content."
   ]
  },
  {
   "cell_type": "code",
   "execution_count": 9,
   "id": "b4ff65e9-e2cf-4abf-a08b-c44697a7f3d1",
   "metadata": {},
   "outputs": [],
   "source": [
    "# Example using write()\n",
    "file_name = \"example.txt\"\n",
    "\n",
    "with open(file_name, 'w') as file:\n",
    "    file.write(\"Hello, World!\\n\")\n",
    "    file.write(\"This is a sample file.\")\n"
   ]
  },
  {
   "cell_type": "markdown",
   "id": "ae697c7b-f84d-4c43-af71-13ea10bb7f0d",
   "metadata": {},
   "source": [
    "2. writelines()\n",
    "The writelines() method is used to write a list of strings to a file. It does not add newline characters between the strings, so if you want each string to be on a new line, you need to include newline characters in the strings."
   ]
  },
  {
   "cell_type": "code",
   "execution_count": 10,
   "id": "e8391f90-9ba0-4470-aed8-b662481a29da",
   "metadata": {},
   "outputs": [],
   "source": [
    "# Example using writelines()\n",
    "file_name = \"example.txt\"\n",
    "\n",
    "lines_to_write = [\"Line 1\\n\", \"Line 2\\n\", \"Line 3\\n\"]\n",
    "\n",
    "with open(file_name, 'w') as file:\n",
    "    file.writelines(lines_to_write)\n"
   ]
  },
  {
   "cell_type": "code",
   "execution_count": null,
   "id": "678b5a5f-934c-42a1-a6bc-4d04e3f541c1",
   "metadata": {},
   "outputs": [],
   "source": []
  }
 ],
 "metadata": {
  "kernelspec": {
   "display_name": "Python 3 (ipykernel)",
   "language": "python",
   "name": "python3"
  },
  "language_info": {
   "codemirror_mode": {
    "name": "ipython",
    "version": 3
   },
   "file_extension": ".py",
   "mimetype": "text/x-python",
   "name": "python",
   "nbconvert_exporter": "python",
   "pygments_lexer": "ipython3",
   "version": "3.10.8"
  }
 },
 "nbformat": 4,
 "nbformat_minor": 5
}
