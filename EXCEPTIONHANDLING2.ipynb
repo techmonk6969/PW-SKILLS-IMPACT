{
 "cells": [
  {
   "cell_type": "markdown",
   "id": "c3be526b-1d16-4a9c-8800-4cd404ce57a5",
   "metadata": {},
   "source": [
    "Q1. Explain why we have to use the Exception class while creating a Custom Exception.\n",
    "Note: Here Exception class refers to the base class for all the exceptions."
   ]
  },
  {
   "cell_type": "markdown",
   "id": "3602adfe-fa04-4f35-8856-8b5a48edd7ff",
   "metadata": {},
   "source": [
    "In Python, the Exception class is the base class for all exceptions. When creating a custom exception, it's beneficial to inherit from the Exception class or one of its subclasses. Here are a few reasons why using the Exception class is recommended:\n",
    "\n",
    "Inheritance Hierarchy: The Exception class is at the top of the exception hierarchy in Python. Inheriting from it ensures that your custom exception participates in the existing exception hierarchy. This can be helpful for categorizing and handling exceptions in a more organized manner.\n",
    "\n",
    "Consistency and Compatibility: Inheriting from the Exception class ensures that your custom exception behaves consistently with other built-in exceptions. This consistency is crucial for users of your code who might expect your custom exception to follow the same conventions as standard exceptions.\n",
    "\n",
    "Compatibility with Except Clauses: When catching exceptions using except, you can catch your custom exception along with other built-in exceptions or more general exceptions like Exception. If your custom exception is not derived from Exception, it may not be caught by generic except clauses.\n",
    "\n",
    "Here's an example illustrating the importance of inheriting from the Exception class:"
   ]
  },
  {
   "cell_type": "code",
   "execution_count": 1,
   "id": "99ee6a1e-4770-47c1-8164-0731e9ea350c",
   "metadata": {},
   "outputs": [
    {
     "name": "stdout",
     "output_type": "stream",
     "text": [
      "Caught an exception: This is a custom exception.\n"
     ]
    }
   ],
   "source": [
    "# Inheriting from Exception\n",
    "class CustomError(Exception):\n",
    "    pass\n",
    "\n",
    "# Using the custom exception in a try-except block\n",
    "try:\n",
    "    raise CustomError(\"This is a custom exception.\")\n",
    "except Exception as e:\n",
    "    print(f\"Caught an exception: {e}\")\n"
   ]
  },
  {
   "cell_type": "markdown",
   "id": "f3eb551d-c4e0-4662-b95d-785352db2570",
   "metadata": {},
   "source": [
    "In this example, the CustomError class inherits from the Exception class. When catching the exception, we use except Exception as e, which allows us to catch not only standard exceptions but also our custom exception.\n",
    "\n",
    "If you were to create a custom exception that does not inherit from Exception, it might not behave as expected in certain contexts, especially when using broader except clauses or in exception hierarchies."
   ]
  },
  {
   "cell_type": "code",
   "execution_count": 2,
   "id": "42cff165-d72c-4613-aa3a-9dff97fa973d",
   "metadata": {},
   "outputs": [
    {
     "name": "stdout",
     "output_type": "stream",
     "text": [
      "Caught an exception: CustomError() takes no arguments\n"
     ]
    }
   ],
   "source": [
    "# Not inheriting from Exception\n",
    "class CustomError:\n",
    "    pass\n",
    "\n",
    "# Using the custom exception in a try-except block\n",
    "try:\n",
    "    raise CustomError(\"This is a custom exception.\")\n",
    "except Exception as e:\n",
    "    print(f\"Caught an exception: {e}\")\n"
   ]
  },
  {
   "cell_type": "markdown",
   "id": "521bf1d6-b390-4763-b063-a2a90018ccc9",
   "metadata": {},
   "source": [
    "In this case, attempting to catch the custom exception using except Exception as e might not work as intended, and it could lead to unexpected behavior.\n",
    "\n",
    "\n",
    "\n",
    "\n"
   ]
  },
  {
   "cell_type": "markdown",
   "id": "142d4a0d-154f-4404-8e68-87529999c501",
   "metadata": {},
   "source": [
    "Q2. Write a python program to print Python Exception Hierarchy."
   ]
  },
  {
   "cell_type": "code",
   "execution_count": 3,
   "id": "79c9cd6c-0ec7-400d-8da6-7e0ff074da50",
   "metadata": {},
   "outputs": [
    {
     "name": "stdout",
     "output_type": "stream",
     "text": [
      "Exception\n",
      "  TypeError\n",
      "    FloatOperation\n",
      "    MultipartConversionError\n",
      "  StopAsyncIteration\n",
      "  StopIteration\n",
      "  ImportError\n",
      "    ModuleNotFoundError\n",
      "    ZipImportError\n",
      "  OSError\n",
      "    ConnectionError\n",
      "      BrokenPipeError\n",
      "      ConnectionAbortedError\n",
      "      ConnectionRefusedError\n",
      "      ConnectionResetError\n",
      "        RemoteDisconnected\n",
      "    BlockingIOError\n",
      "    ChildProcessError\n",
      "    FileExistsError\n",
      "    FileNotFoundError\n",
      "    IsADirectoryError\n",
      "    NotADirectoryError\n",
      "    InterruptedError\n",
      "      InterruptedSystemCall\n",
      "    PermissionError\n",
      "    ProcessLookupError\n",
      "    TimeoutError\n",
      "    UnsupportedOperation\n",
      "    itimer_error\n",
      "    herror\n",
      "    gaierror\n",
      "    SSLError\n",
      "      SSLCertVerificationError\n",
      "      SSLZeroReturnError\n",
      "      SSLWantWriteError\n",
      "      SSLWantReadError\n",
      "      SSLSyscallError\n",
      "      SSLEOFError\n",
      "    Error\n",
      "      SameFileError\n",
      "    SpecialFileError\n",
      "    ExecError\n",
      "    ReadError\n",
      "    URLError\n",
      "      HTTPError\n",
      "      ContentTooShortError\n",
      "    BadGzipFile\n",
      "  EOFError\n",
      "    IncompleteReadError\n",
      "  RuntimeError\n",
      "    RecursionError\n",
      "    NotImplementedError\n",
      "      ZMQVersionError\n",
      "      StdinNotImplementedError\n",
      "    _DeadlockError\n",
      "    BrokenBarrierError\n",
      "    BrokenExecutor\n",
      "      BrokenThreadPool\n",
      "    SendfileNotAvailableError\n",
      "    ExtractionError\n",
      "    VariableError\n",
      "  NameError\n",
      "    UnboundLocalError\n",
      "  AttributeError\n",
      "    FrozenInstanceError\n",
      "  SyntaxError\n",
      "    IndentationError\n",
      "      TabError\n",
      "  LookupError\n",
      "    IndexError\n",
      "    KeyError\n",
      "      NoSuchKernel\n",
      "      UnknownBackend\n",
      "    CodecRegistryError\n",
      "  ValueError\n",
      "    UnicodeError\n",
      "      UnicodeEncodeError\n",
      "      UnicodeDecodeError\n",
      "      UnicodeTranslateError\n",
      "    UnsupportedOperation\n",
      "    JSONDecodeError\n",
      "    SSLCertVerificationError\n",
      "    Error\n",
      "    UnsupportedDigestmodError\n",
      "    IllegalMonthError\n",
      "    IllegalWeekdayError\n",
      "    ParserError\n",
      "    ClassNotFound\n",
      "    ClipboardEmpty\n",
      "    MessageDefect\n",
      "      NoBoundaryInMultipartDefect\n",
      "      StartBoundaryNotFoundDefect\n",
      "      CloseBoundaryNotFoundDefect\n",
      "      FirstHeaderLineIsContinuationDefect\n",
      "      MisplacedEnvelopeHeaderDefect\n",
      "      MissingHeaderBodySeparatorDefect\n",
      "      MultipartInvariantViolationDefect\n",
      "      InvalidMultipartContentTransferEncodingDefect\n",
      "      UndecodableBytesDefect\n",
      "      InvalidBase64PaddingDefect\n",
      "      InvalidBase64CharactersDefect\n",
      "      InvalidBase64LengthDefect\n",
      "      HeaderDefect\n",
      "        InvalidHeaderDefect\n",
      "        HeaderMissingRequiredValue\n",
      "        NonPrintableDefect\n",
      "        ObsoleteHeaderDefect\n",
      "        NonASCIILocalPartDefect\n",
      "        InvalidDateDefect\n",
      "    MacroToEdit\n",
      "    InvalidFileException\n",
      "    UnequalIterablesError\n",
      "    InvalidVersion\n",
      "    _InvalidELFFileHeader\n",
      "    InvalidWheelFilename\n",
      "    InvalidSdistFilename\n",
      "    InvalidSpecifier\n",
      "    InvalidMarker\n",
      "    UndefinedComparison\n",
      "    UndefinedEnvironmentName\n",
      "    InvalidRequirement\n",
      "      RequirementParseError\n",
      "    InvalidVersion\n",
      "  AssertionError\n",
      "  ArithmeticError\n",
      "    FloatingPointError\n",
      "    OverflowError\n",
      "    ZeroDivisionError\n",
      "      DivisionByZero\n",
      "      DivisionUndefined\n",
      "    DecimalException\n",
      "      Clamped\n",
      "      Rounded\n",
      "        Underflow\n",
      "        Overflow\n",
      "      Inexact\n",
      "        Underflow\n",
      "        Overflow\n",
      "      Subnormal\n",
      "        Underflow\n",
      "      DivisionByZero\n",
      "      FloatOperation\n",
      "      InvalidOperation\n",
      "        ConversionSyntax\n",
      "        DivisionImpossible\n",
      "        DivisionUndefined\n",
      "        InvalidContext\n",
      "  SystemError\n",
      "    CodecRegistryError\n",
      "  ReferenceError\n",
      "  MemoryError\n",
      "  BufferError\n",
      "  Warning\n",
      "    UserWarning\n",
      "      GetPassWarning\n",
      "      FormatterWarning\n",
      "    EncodingWarning\n",
      "    DeprecationWarning\n",
      "      ProvisionalWarning\n",
      "    PendingDeprecationWarning\n",
      "    SyntaxWarning\n",
      "    RuntimeWarning\n",
      "      ProactorSelectorThreadWarning\n",
      "      UnknownTimezoneWarning\n",
      "      PEP440Warning\n",
      "    FutureWarning\n",
      "      ProvisionalCompleterWarning\n",
      "    ImportWarning\n",
      "    UnicodeWarning\n",
      "    BytesWarning\n",
      "    ResourceWarning\n",
      "    DeprecatedTzFormatWarning\n",
      "    PkgResourcesDeprecationWarning\n",
      "  _OptionError\n",
      "  _Error\n",
      "  error\n",
      "  Verbose\n",
      "  Error\n",
      "  SubprocessError\n",
      "    CalledProcessError\n",
      "    TimeoutExpired\n",
      "  TokenError\n",
      "  StopTokenizing\n",
      "  ClassFoundException\n",
      "  EndOfBlock\n",
      "  TraitError\n",
      "  Error\n",
      "  Error\n",
      "    CancelledError\n",
      "    TimeoutError\n",
      "    InvalidStateError\n",
      "  _GiveupOnSendfile\n",
      "  error\n",
      "  Incomplete\n",
      "  TimeoutError\n",
      "  InvalidStateError\n",
      "  LimitOverrunError\n",
      "  QueueEmpty\n",
      "  QueueFull\n",
      "  Empty\n",
      "  Full\n",
      "  ArgumentError\n",
      "  ZMQBaseError\n",
      "    ZMQError\n",
      "      ContextTerminated\n",
      "      Again\n",
      "      InterruptedSystemCall\n",
      "    ZMQBindError\n",
      "    NotDone\n",
      "  PickleError\n",
      "    PicklingError\n",
      "    UnpicklingError\n",
      "  _Stop\n",
      "  ArgumentError\n",
      "  ArgumentTypeError\n",
      "  ConfigError\n",
      "    ConfigLoaderError\n",
      "      ArgumentError\n",
      "    ConfigFileNotFound\n",
      "  ConfigurableError\n",
      "    MultipleInstanceError\n",
      "  ApplicationError\n",
      "  error\n",
      "  TimeoutError\n",
      "  error\n",
      "  ReturnValueIgnoredError\n",
      "  KeyReuseError\n",
      "  UnknownKeyError\n",
      "  LeakedCallbackError\n",
      "  BadYieldError\n",
      "  ReturnValueIgnoredError\n",
      "  Return\n",
      "  InvalidPortNumber\n",
      "  error\n",
      "  LZMAError\n",
      "  RegistryError\n",
      "  _GiveupOnFastCopy\n",
      "  Error\n",
      "    NoSectionError\n",
      "    DuplicateSectionError\n",
      "    DuplicateOptionError\n",
      "    NoOptionError\n",
      "    InterpolationError\n",
      "      InterpolationMissingOptionError\n",
      "      InterpolationSyntaxError\n",
      "      InterpolationDepthError\n",
      "    ParsingError\n",
      "      MissingSectionHeaderError\n",
      "  NoIPAddresses\n",
      "  BadZipFile\n",
      "  LargeZipFile\n",
      "  BadEntryPoint\n",
      "  NoSuchEntryPoint\n",
      "  DuplicateKernelError\n",
      "  ErrorDuringImport\n",
      "  NotOneValueFound\n",
      "  CannotEval\n",
      "  OptionError\n",
      "  BdbQuit\n",
      "  Restart\n",
      "  ExceptionPexpect\n",
      "    EOF\n",
      "    TIMEOUT\n",
      "  PtyProcessError\n",
      "  FindCmdError\n",
      "  HomeDirError\n",
      "  ProfileDirError\n",
      "  IPythonCoreError\n",
      "    TryNext\n",
      "    UsageError\n",
      "    StdinNotImplementedError\n",
      "  InputRejected\n",
      "  GetoptError\n",
      "  ErrorToken\n",
      "  PrefilterError\n",
      "  AliasError\n",
      "    InvalidAliasError\n",
      "  Error\n",
      "    InterfaceError\n",
      "    DatabaseError\n",
      "      InternalError\n",
      "      OperationalError\n",
      "      ProgrammingError\n",
      "      IntegrityError\n",
      "      DataError\n",
      "      NotSupportedError\n",
      "  Warning\n",
      "  SpaceInInput\n",
      "  DOMException\n",
      "    IndexSizeErr\n",
      "    DomstringSizeErr\n",
      "    HierarchyRequestErr\n",
      "    WrongDocumentErr\n",
      "    InvalidCharacterErr\n",
      "    NoDataAllowedErr\n",
      "    NoModificationAllowedErr\n",
      "    NotFoundErr\n",
      "    NotSupportedErr\n",
      "    InuseAttributeErr\n",
      "    InvalidStateErr\n",
      "    SyntaxErr\n",
      "    InvalidModificationErr\n",
      "    NamespaceErr\n",
      "    InvalidAccessErr\n",
      "    ValidationErr\n",
      "  ValidationError\n",
      "  EditReadOnlyBuffer\n",
      "  _Retry\n",
      "  InvalidLayoutError\n",
      "  HeightIsUnknownError\n",
      "  ParserSyntaxError\n",
      "  InternalParseError\n",
      "  _PositionUpdatingFinished\n",
      "  SimpleGetItemNotFound\n",
      "  UncaughtAttributeError\n",
      "  HasNoContext\n",
      "  ParamIssue\n",
      "  _JediError\n",
      "    InternalError\n",
      "    WrongVersion\n",
      "    RefactoringError\n",
      "  OnErrorLeaf\n",
      "  InvalidPythonEnvironment\n",
      "  MessageError\n",
      "    MessageParseError\n",
      "      HeaderParseError\n",
      "      BoundaryError\n",
      "    MultipartConversionError\n",
      "    CharsetError\n",
      "  Error\n",
      "  HTTPException\n",
      "    NotConnected\n",
      "    InvalidURL\n",
      "    UnknownProtocol\n",
      "    UnknownTransferEncoding\n",
      "    UnimplementedFileMode\n",
      "    IncompleteRead\n",
      "    ImproperConnectionState\n",
      "      CannotSendRequest\n",
      "      CannotSendHeader\n",
      "      ResponseNotReady\n",
      "    BadStatusLine\n",
      "      RemoteDisconnected\n",
      "    LineTooLong\n",
      "  InteractivelyDefined\n",
      "  KillEmbedded\n",
      "  Error\n",
      "    NoSuchProcess\n",
      "      ZombieProcess\n",
      "    AccessDenied\n",
      "    TimeoutExpired\n",
      "  _Ipv6UnsupportedError\n",
      "  QueueEmpty\n",
      "  QueueFull\n",
      "  DebuggerInitializationError\n",
      "  ExpatError\n",
      "  Error\n",
      "    ProtocolError\n",
      "    ResponseError\n",
      "    Fault\n",
      "  ParseBaseException\n",
      "    ParseException\n",
      "    ParseFatalException\n",
      "      ParseSyntaxException\n",
      "  RecursiveGrammarException\n",
      "  ResolutionError\n",
      "    VersionConflict\n",
      "      ContextualVersionConflict\n",
      "    DistributionNotFound\n",
      "    UnknownExtra\n",
      "  _Error\n",
      "  UnableToResolveVariableException\n",
      "  InvalidTypeInArgsException\n",
      "  CustomError\n"
     ]
    }
   ],
   "source": [
    "def print_exception_hierarchy(exception_class, indent=0):\n",
    "    print('  ' * indent + f\"{exception_class.__name__}\")\n",
    "    for subclass in exception_class.__subclasses__():\n",
    "        print_exception_hierarchy(subclass, indent + 1)\n",
    "\n",
    "# Print the top-level Exception class and its subclasses\n",
    "print_exception_hierarchy(Exception)\n"
   ]
  },
  {
   "cell_type": "markdown",
   "id": "4120e5ed-1b69-4919-a0d0-5514f21d278d",
   "metadata": {},
   "source": [
    "This program defines a function print_exception_hierarchy that takes an exception class as an argument and prints its name along with its subclasses in a hierarchical manner. It uses recursion to traverse the exception hierarchy.\n",
    "\n",
    "When you run this program, it will print the Python exception hierarchy starting from the Exception class:"
   ]
  },
  {
   "cell_type": "markdown",
   "id": "ea7fb3c3-5bcc-448e-a745-a2dc6a7ef0cc",
   "metadata": {},
   "source": [
    "This output provides a hierarchical view of the exception classes in Python. Each indented level represents a subclass of the preceding exception class.\n",
    "\n",
    "\n",
    "\n",
    "\n"
   ]
  },
  {
   "cell_type": "markdown",
   "id": "048cb7a3-91b2-4b63-944c-99efb1d2d8f0",
   "metadata": {},
   "source": [
    "Q3. What errors are defined in the ArithmeticError class? Explain any two with an example."
   ]
  },
  {
   "cell_type": "markdown",
   "id": "f600a6c8-1ebf-4163-a327-4c170410dbc0",
   "metadata": {},
   "source": [
    "The ArithmeticError class in Python represents errors that can occur during arithmetic operations. It is a base class for more specific arithmetic-related exceptions. Two common errors defined in the ArithmeticError class are FloatingPointError and ZeroDivisionError. Let's explain each of them with examples:\n",
    "\n",
    "FloatingPointError:\n",
    "\n",
    "FloatingPointError is raised when a floating-point arithmetic operation fails. This typically occurs when the result of a floating-point operation is undefined or cannot be represented due to limitations in the floating-point representation."
   ]
  },
  {
   "cell_type": "code",
   "execution_count": 4,
   "id": "36711ed6-8e81-4c83-95ae-90be1d2503a5",
   "metadata": {},
   "outputs": [
    {
     "ename": "ZeroDivisionError",
     "evalue": "float division by zero",
     "output_type": "error",
     "traceback": [
      "\u001b[0;31m---------------------------------------------------------------------------\u001b[0m",
      "\u001b[0;31mZeroDivisionError\u001b[0m                         Traceback (most recent call last)",
      "Cell \u001b[0;32mIn[4], line 1\u001b[0m\n\u001b[0;32m----> 1\u001b[0m result \u001b[38;5;241m=\u001b[39m \u001b[38;5;241;43m1.0\u001b[39;49m\u001b[43m \u001b[49m\u001b[38;5;241;43m/\u001b[39;49m\u001b[43m \u001b[49m\u001b[38;5;241;43m0.0\u001b[39;49m  \u001b[38;5;66;03m# This will raise a FloatingPointError\u001b[39;00m\n",
      "\u001b[0;31mZeroDivisionError\u001b[0m: float division by zero"
     ]
    }
   ],
   "source": [
    "result = 1.0 / 0.0  # This will raise a FloatingPointError\n"
   ]
  },
  {
   "cell_type": "markdown",
   "id": "9dadb1f3-62d1-4268-b94a-b91a91665f4b",
   "metadata": {},
   "source": [
    "In this example, dividing 1.0 by 0.0 results in an undefined value, leading to a FloatingPointError. It's important to handle such cases to prevent unexpected program termination.\n",
    "\n",
    "ZeroDivisionError:\n",
    "\n",
    "ZeroDivisionError is raised when attempting to divide a number by zero. Division by zero is mathematically undefined, and Python raises this exception to indicate that the operation is not valid."
   ]
  },
  {
   "cell_type": "code",
   "execution_count": 5,
   "id": "3d871905-0c53-464d-a1f5-b610a8d4594f",
   "metadata": {},
   "outputs": [
    {
     "ename": "ZeroDivisionError",
     "evalue": "division by zero",
     "output_type": "error",
     "traceback": [
      "\u001b[0;31m---------------------------------------------------------------------------\u001b[0m",
      "\u001b[0;31mZeroDivisionError\u001b[0m                         Traceback (most recent call last)",
      "Cell \u001b[0;32mIn[5], line 1\u001b[0m\n\u001b[0;32m----> 1\u001b[0m result \u001b[38;5;241m=\u001b[39m \u001b[38;5;241;43m10\u001b[39;49m\u001b[43m \u001b[49m\u001b[38;5;241;43m/\u001b[39;49m\u001b[43m \u001b[49m\u001b[38;5;241;43m0\u001b[39;49m  \u001b[38;5;66;03m# This will raise a ZeroDivisionError\u001b[39;00m\n",
      "\u001b[0;31mZeroDivisionError\u001b[0m: division by zero"
     ]
    }
   ],
   "source": [
    "result = 10 / 0  # This will raise a ZeroDivisionError\n"
   ]
  },
  {
   "cell_type": "markdown",
   "id": "827b5a41-4dee-468b-8dbe-cd7e53131f88",
   "metadata": {},
   "source": [
    "In this example, attempting to divide 10 by 0 leads to a ZeroDivisionError. To avoid such errors, it's good practice to check for potential zero denominators before performing division operations.\n",
    "\n",
    "Handling these errors involves using try and except blocks to catch and handle the specific exceptions. For example:"
   ]
  },
  {
   "cell_type": "code",
   "execution_count": 6,
   "id": "bd322b79-0766-43ae-a458-9f13f3955bd0",
   "metadata": {},
   "outputs": [
    {
     "ename": "ZeroDivisionError",
     "evalue": "float division by zero",
     "output_type": "error",
     "traceback": [
      "\u001b[0;31m---------------------------------------------------------------------------\u001b[0m",
      "\u001b[0;31mZeroDivisionError\u001b[0m                         Traceback (most recent call last)",
      "Cell \u001b[0;32mIn[6], line 2\u001b[0m\n\u001b[1;32m      1\u001b[0m \u001b[38;5;28;01mtry\u001b[39;00m:\n\u001b[0;32m----> 2\u001b[0m     result \u001b[38;5;241m=\u001b[39m \u001b[38;5;241;43m1.0\u001b[39;49m\u001b[43m \u001b[49m\u001b[38;5;241;43m/\u001b[39;49m\u001b[43m \u001b[49m\u001b[38;5;241;43m0.0\u001b[39;49m  \u001b[38;5;66;03m# or any other arithmetic operation that may raise FloatingPointError\u001b[39;00m\n\u001b[1;32m      3\u001b[0m \u001b[38;5;28;01mexcept\u001b[39;00m \u001b[38;5;167;01mFloatingPointError\u001b[39;00m \u001b[38;5;28;01mas\u001b[39;00m fpe:\n\u001b[1;32m      4\u001b[0m     \u001b[38;5;28mprint\u001b[39m(\u001b[38;5;124mf\u001b[39m\u001b[38;5;124m\"\u001b[39m\u001b[38;5;124mError: \u001b[39m\u001b[38;5;132;01m{\u001b[39;00mfpe\u001b[38;5;132;01m}\u001b[39;00m\u001b[38;5;124m\"\u001b[39m)\n",
      "\u001b[0;31mZeroDivisionError\u001b[0m: float division by zero"
     ]
    }
   ],
   "source": [
    "try:\n",
    "    result = 1.0 / 0.0  # or any other arithmetic operation that may raise FloatingPointError\n",
    "except FloatingPointError as fpe:\n",
    "    print(f\"Error: {fpe}\")\n"
   ]
  },
  {
   "cell_type": "code",
   "execution_count": 7,
   "id": "3ed9673a-5fc0-4166-b73f-31f823d418a8",
   "metadata": {},
   "outputs": [
    {
     "name": "stdout",
     "output_type": "stream",
     "text": [
      "Error: division by zero\n"
     ]
    }
   ],
   "source": [
    "try:\n",
    "    result = 10 / 0  # or any other arithmetic operation that may raise ZeroDivisionError\n",
    "except ZeroDivisionError as zde:\n",
    "    print(f\"Error: {zde}\")\n"
   ]
  },
  {
   "cell_type": "markdown",
   "id": "63714fba-2b71-449a-89f9-1c9a30e10e61",
   "metadata": {},
   "source": [
    "By catching these exceptions, you can gracefully handle errors, log information, and prevent your program from terminating unexpectedly when encountering arithmetic issues."
   ]
  },
  {
   "cell_type": "markdown",
   "id": "199eb68f-8685-4acf-a736-a25da6554188",
   "metadata": {},
   "source": [
    "Q4. Why LookupError class is used? Explain with an example KeyError and IndexError."
   ]
  },
  {
   "cell_type": "markdown",
   "id": "b971cabe-ed60-46dc-90f9-bc9db11ba060",
   "metadata": {},
   "source": [
    "The LookupError class in Python is a base class for exceptions that occur when a key or index is not found. It is a parent class for more specific lookup-related exceptions, such as KeyError and IndexError. The use of LookupError allows you to catch these exceptions in a more general way when handling lookup failures.\n",
    "\n",
    "Let's explore two specific errors derived from LookupError:\n",
    "\n",
    "KeyError:\n",
    "\n",
    "KeyError is raised when a dictionary key is not found. It occurs when attempting to access a dictionary using a key that is not present in the dictionary.\n",
    "\n",
    "Example:"
   ]
  },
  {
   "cell_type": "code",
   "execution_count": 8,
   "id": "7a89bddb-3356-4a0d-9d53-225c8f054ee5",
   "metadata": {},
   "outputs": [
    {
     "ename": "KeyError",
     "evalue": "'d'",
     "output_type": "error",
     "traceback": [
      "\u001b[0;31m---------------------------------------------------------------------------\u001b[0m",
      "\u001b[0;31mKeyError\u001b[0m                                  Traceback (most recent call last)",
      "Cell \u001b[0;32mIn[8], line 2\u001b[0m\n\u001b[1;32m      1\u001b[0m my_dict \u001b[38;5;241m=\u001b[39m {\u001b[38;5;124m'\u001b[39m\u001b[38;5;124ma\u001b[39m\u001b[38;5;124m'\u001b[39m: \u001b[38;5;241m1\u001b[39m, \u001b[38;5;124m'\u001b[39m\u001b[38;5;124mb\u001b[39m\u001b[38;5;124m'\u001b[39m: \u001b[38;5;241m2\u001b[39m, \u001b[38;5;124m'\u001b[39m\u001b[38;5;124mc\u001b[39m\u001b[38;5;124m'\u001b[39m: \u001b[38;5;241m3\u001b[39m}\n\u001b[0;32m----> 2\u001b[0m value \u001b[38;5;241m=\u001b[39m \u001b[43mmy_dict\u001b[49m\u001b[43m[\u001b[49m\u001b[38;5;124;43m'\u001b[39;49m\u001b[38;5;124;43md\u001b[39;49m\u001b[38;5;124;43m'\u001b[39;49m\u001b[43m]\u001b[49m  \u001b[38;5;66;03m# This will raise a KeyError\u001b[39;00m\n",
      "\u001b[0;31mKeyError\u001b[0m: 'd'"
     ]
    }
   ],
   "source": [
    "my_dict = {'a': 1, 'b': 2, 'c': 3}\n",
    "value = my_dict['d']  # This will raise a KeyError\n"
   ]
  },
  {
   "cell_type": "markdown",
   "id": "c2c2b8c1-ffec-4178-9f28-95d4b8dbd28f",
   "metadata": {},
   "source": [
    "In this example, attempting to access the key 'd' in the dictionary my_dict results in a KeyError because the key does not exist.\n",
    "\n",
    "IndexError:\n",
    "\n",
    "IndexError is raised when attempting to access an index in a sequence (such as a list or a tuple) that is outside the valid range of indices.\n",
    "\n",
    "Example:"
   ]
  },
  {
   "cell_type": "code",
   "execution_count": 9,
   "id": "8be4d8db-55f7-477f-b648-d9e72c5a2298",
   "metadata": {},
   "outputs": [
    {
     "ename": "IndexError",
     "evalue": "list index out of range",
     "output_type": "error",
     "traceback": [
      "\u001b[0;31m---------------------------------------------------------------------------\u001b[0m",
      "\u001b[0;31mIndexError\u001b[0m                                Traceback (most recent call last)",
      "Cell \u001b[0;32mIn[9], line 2\u001b[0m\n\u001b[1;32m      1\u001b[0m my_list \u001b[38;5;241m=\u001b[39m [\u001b[38;5;241m1\u001b[39m, \u001b[38;5;241m2\u001b[39m, \u001b[38;5;241m3\u001b[39m]\n\u001b[0;32m----> 2\u001b[0m value \u001b[38;5;241m=\u001b[39m \u001b[43mmy_list\u001b[49m\u001b[43m[\u001b[49m\u001b[38;5;241;43m3\u001b[39;49m\u001b[43m]\u001b[49m  \u001b[38;5;66;03m# This will raise an IndexError\u001b[39;00m\n",
      "\u001b[0;31mIndexError\u001b[0m: list index out of range"
     ]
    }
   ],
   "source": [
    "my_list = [1, 2, 3]\n",
    "value = my_list[3]  # This will raise an IndexError\n"
   ]
  },
  {
   "cell_type": "markdown",
   "id": "5957bee2-a8cb-4ba1-8760-87b620d319de",
   "metadata": {},
   "source": [
    "In this example, attempting to access the element at index 3 in the list my_list results in an IndexError because the valid indices are 0, 1, and 2.\n",
    "\n",
    "Handling these errors involves using try and except blocks to catch and handle the specific exceptions. For example:"
   ]
  },
  {
   "cell_type": "code",
   "execution_count": 10,
   "id": "1696c8cb-166b-44f6-9087-3d27b02c0e8d",
   "metadata": {},
   "outputs": [
    {
     "name": "stdout",
     "output_type": "stream",
     "text": [
      "Error: 'd'\n",
      "Error: list index out of range\n"
     ]
    }
   ],
   "source": [
    "# Handling KeyError\n",
    "my_dict = {'a': 1, 'b': 2, 'c': 3}\n",
    "try:\n",
    "    value = my_dict['d']\n",
    "except KeyError as ke:\n",
    "    print(f\"Error: {ke}\")\n",
    "\n",
    "# Handling IndexError\n",
    "my_list = [1, 2, 3]\n",
    "try:\n",
    "    value = my_list[3]\n",
    "except IndexError as ie:\n",
    "    print(f\"Error: {ie}\")\n"
   ]
  },
  {
   "cell_type": "markdown",
   "id": "231d5e79-4c8d-4fb6-a06a-50c4d7812ee3",
   "metadata": {},
   "source": [
    "By catching these exceptions, you can gracefully handle cases where a key or index is not found, preventing your program from terminating unexpectedly and allowing you to provide meaningful error messages or take appropriate actions based on the specific context of the error.\n",
    "\n",
    "\n",
    "\n",
    "\n"
   ]
  },
  {
   "cell_type": "markdown",
   "id": "53122efa-4fd2-4a13-bda4-f539da61e112",
   "metadata": {},
   "source": [
    "Q5. Explain ImportError. What is ModuleNotFoundError?"
   ]
  },
  {
   "cell_type": "markdown",
   "id": "0b9b21bb-a1fd-4b0f-b7d4-4c1b6d99fe80",
   "metadata": {},
   "source": [
    "ImportError is an exception in Python that occurs when there's an issue with the import statement. It is a base class for exceptions related to importing modules and can have various subclasses depending on the specific nature of the error. One specific subclass of ImportError is ModuleNotFoundError.\n",
    "\n",
    "Let's explore both ImportError and ModuleNotFoundError:\n",
    "\n",
    "ImportError:\n",
    "\n",
    "ImportError is raised when an imported module cannot be found or there is an issue with the import statement. This can happen for various reasons, such as a typo in the module name, the module not being installed, or an error in the module itself.\n",
    "\n",
    "Example:"
   ]
  },
  {
   "cell_type": "code",
   "execution_count": 11,
   "id": "b2df668c-3d06-4e3b-ae99-2c387aa4df87",
   "metadata": {},
   "outputs": [
    {
     "name": "stdout",
     "output_type": "stream",
     "text": [
      "Error: No module named 'non_existent_module'\n"
     ]
    }
   ],
   "source": [
    "try:\n",
    "    import non_existent_module  # This will raise an ImportError\n",
    "except ImportError as ie:\n",
    "    print(f\"Error: {ie}\")\n"
   ]
  },
  {
   "cell_type": "markdown",
   "id": "804f1377-a2ac-47c2-bb17-4a88b6193ee7",
   "metadata": {},
   "source": [
    "In this example, attempting to import the module non_existent_module results in an ImportError because there is no such module.\n",
    "\n",
    "ModuleNotFoundError:\n",
    "\n",
    "ModuleNotFoundError is a specific subclass of ImportError that is raised when the Python interpreter cannot locate the module specified in the import statement.\n",
    "\n",
    "Example:"
   ]
  },
  {
   "cell_type": "code",
   "execution_count": 12,
   "id": "5e7511c5-ffa9-4d35-9fca-8d757610cc2f",
   "metadata": {},
   "outputs": [
    {
     "name": "stdout",
     "output_type": "stream",
     "text": [
      "Error: No module named 'non_existent_package'\n"
     ]
    }
   ],
   "source": [
    "try:\n",
    "    from non_existent_package import some_module  # This will raise a ModuleNotFoundError\n",
    "except ModuleNotFoundError as mne:\n",
    "    print(f\"Error: {mne}\")\n"
   ]
  },
  {
   "cell_type": "markdown",
   "id": "77129bea-1d08-4ed0-b8e6-5e5bfebb60eb",
   "metadata": {},
   "source": [
    "In this example, attempting to import the module some_module from the non-existent package non_existent_package results in a ModuleNotFoundError.\n",
    "\n",
    "Handling these errors allows you to manage issues related to importing modules gracefully. You can provide informative error messages, log details for debugging, or take alternative actions based on the context of the error. It's important to note that catching ImportError is a more general approach, while catching ModuleNotFoundError allows you to specifically handle cases where the module itself is not found."
   ]
  },
  {
   "cell_type": "markdown",
   "id": "4e0a5845-8ae2-4b4d-9600-e508bc0f2ab3",
   "metadata": {},
   "source": [
    "Q6. List down some best practices for exception handling in python."
   ]
  },
  {
   "cell_type": "markdown",
   "id": "2c9ea084-031e-4a39-a26f-578e65be3417",
   "metadata": {},
   "source": [
    "\n",
    "Exception handling is an essential aspect of writing robust and reliable Python code. Here are some best practices for exception handling in Python:\n",
    "\n",
    "Specific Exception Handling:\n",
    "\n",
    "Catch specific exceptions rather than using a broad except clause. This helps in better understanding and handling of different types of errors."
   ]
  },
  {
   "cell_type": "code",
   "execution_count": 13,
   "id": "bfe1a89c-b608-42bc-9ea1-83b875ea7c12",
   "metadata": {},
   "outputs": [
    {
     "ename": "IndentationError",
     "evalue": "expected an indented block after 'try' statement on line 1 (2562426983.py, line 3)",
     "output_type": "error",
     "traceback": [
      "\u001b[0;36m  Cell \u001b[0;32mIn[13], line 3\u001b[0;36m\u001b[0m\n\u001b[0;31m    except SpecificException as se:\u001b[0m\n\u001b[0m    ^\u001b[0m\n\u001b[0;31mIndentationError\u001b[0m\u001b[0;31m:\u001b[0m expected an indented block after 'try' statement on line 1\n"
     ]
    }
   ],
   "source": [
    "try:\n",
    "    # some code that may raise a specific exception\n",
    "except SpecificException as se:\n",
    "    # handle SpecificException\n",
    "except AnotherSpecificException as ase:\n",
    "    # handle AnotherSpecificException\n"
   ]
  },
  {
   "cell_type": "markdown",
   "id": "18a4a9ad-d294-4a1e-a2f9-5c1b726853d8",
   "metadata": {},
   "source": [
    "Avoid Broad Exception Handling:\n",
    "\n",
    "Avoid catching the base Exception class unless necessary. Catching broad exceptions may mask errors and make debugging more challenging."
   ]
  },
  {
   "cell_type": "code",
   "execution_count": 14,
   "id": "bf2b886c-efaf-4628-91cc-792a200d0ac9",
   "metadata": {},
   "outputs": [
    {
     "ename": "IndentationError",
     "evalue": "expected an indented block after 'try' statement on line 2 (3622195594.py, line 4)",
     "output_type": "error",
     "traceback": [
      "\u001b[0;36m  Cell \u001b[0;32mIn[14], line 4\u001b[0;36m\u001b[0m\n\u001b[0;31m    except Exception as e:\u001b[0m\n\u001b[0m    ^\u001b[0m\n\u001b[0;31mIndentationError\u001b[0m\u001b[0;31m:\u001b[0m expected an indented block after 'try' statement on line 2\n"
     ]
    }
   ],
   "source": [
    "# Avoid this:\n",
    "try:\n",
    "    # some code\n",
    "except Exception as e:\n",
    "    # handle any exception\n"
   ]
  },
  {
   "cell_type": "markdown",
   "id": "50851600-79b8-4403-ab9a-fd4ed767ac70",
   "metadata": {},
   "source": [
    "Use Finally Block for Cleanup:\n",
    "\n",
    "Use the finally block to perform cleanup operations that should always execute, whether an exception occurred or not."
   ]
  },
  {
   "cell_type": "code",
   "execution_count": 15,
   "id": "d6b75ca2-66a4-488d-90b6-7d6183db44a1",
   "metadata": {},
   "outputs": [
    {
     "ename": "IndentationError",
     "evalue": "expected an indented block after 'try' statement on line 1 (284146852.py, line 3)",
     "output_type": "error",
     "traceback": [
      "\u001b[0;36m  Cell \u001b[0;32mIn[15], line 3\u001b[0;36m\u001b[0m\n\u001b[0;31m    except SpecificException as se:\u001b[0m\n\u001b[0m    ^\u001b[0m\n\u001b[0;31mIndentationError\u001b[0m\u001b[0;31m:\u001b[0m expected an indented block after 'try' statement on line 1\n"
     ]
    }
   ],
   "source": [
    "try:\n",
    "    # some code that may raise an exception\n",
    "except SpecificException as se:\n",
    "    # handle SpecificException\n",
    "finally:\n",
    "    # cleanup code (always executed)\n"
   ]
  },
  {
   "cell_type": "markdown",
   "id": "b873a1cb-f356-41d0-b8b2-3e0f35d20dbc",
   "metadata": {},
   "source": [
    "Logging Exceptions:\n",
    "\n",
    "Consider logging exceptions to provide detailed information for debugging purposes. The logging module can be helpful for this."
   ]
  },
  {
   "cell_type": "code",
   "execution_count": 16,
   "id": "fd7e188a-3475-416b-a976-d6b61e2e1629",
   "metadata": {},
   "outputs": [
    {
     "ename": "IndentationError",
     "evalue": "expected an indented block after 'try' statement on line 3 (3827489465.py, line 5)",
     "output_type": "error",
     "traceback": [
      "\u001b[0;36m  Cell \u001b[0;32mIn[16], line 5\u001b[0;36m\u001b[0m\n\u001b[0;31m    except SpecificException as se:\u001b[0m\n\u001b[0m    ^\u001b[0m\n\u001b[0;31mIndentationError\u001b[0m\u001b[0;31m:\u001b[0m expected an indented block after 'try' statement on line 3\n"
     ]
    }
   ],
   "source": [
    "import logging\n",
    "\n",
    "try:\n",
    "    # some code that may raise an exception\n",
    "except SpecificException as se:\n",
    "    logging.error(f\"Exception: {se}\")\n"
   ]
  },
  {
   "cell_type": "code",
   "execution_count": null,
   "id": "95691154-2854-49b5-8b5a-df9583eea3cf",
   "metadata": {},
   "outputs": [],
   "source": []
  }
 ],
 "metadata": {
  "kernelspec": {
   "display_name": "Python 3 (ipykernel)",
   "language": "python",
   "name": "python3"
  },
  "language_info": {
   "codemirror_mode": {
    "name": "ipython",
    "version": 3
   },
   "file_extension": ".py",
   "mimetype": "text/x-python",
   "name": "python",
   "nbconvert_exporter": "python",
   "pygments_lexer": "ipython3",
   "version": "3.10.8"
  }
 },
 "nbformat": 4,
 "nbformat_minor": 5
}
