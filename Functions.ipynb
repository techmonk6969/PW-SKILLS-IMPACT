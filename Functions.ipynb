{
 "cells": [
  {
   "cell_type": "markdown",
   "id": "58fa5432-dddb-435c-98b6-a766a632a117",
   "metadata": {},
   "source": [
    "Q1. Which keyword is used to create a function? Create a function to return a list of odd numbers in the\n",
    "range of 1 to 25."
   ]
  },
  {
   "cell_type": "markdown",
   "id": "4dcdf7e6-23ad-4e2f-b0ad-95bbfa5bbc8a",
   "metadata": {},
   "source": [
    "The keyword used to create a function in Python is def. Here's an example of a function that returns a list of odd numbers in the range of 1 to 25:"
   ]
  },
  {
   "cell_type": "code",
   "execution_count": 1,
   "id": "cef76917-9047-4b6d-a2eb-aa31f8e353b6",
   "metadata": {},
   "outputs": [
    {
     "name": "stdout",
     "output_type": "stream",
     "text": [
      "[1, 3, 5, 7, 9, 11, 13, 15, 17, 19, 21, 23, 25]\n"
     ]
    }
   ],
   "source": [
    "def get_odd_numbers():\n",
    "    odd_numbers = [num for num in range(1, 26) if num % 2 != 0]\n",
    "    return odd_numbers\n",
    "\n",
    "# Call the function and print the result\n",
    "result = get_odd_numbers()\n",
    "print(result)\n"
   ]
  },
  {
   "cell_type": "markdown",
   "id": "793b9c8e-1c9d-48d2-90a4-81dc1c47738a",
   "metadata": {},
   "source": [
    "In this example, the function get_odd_numbers uses a list comprehension to create a list of odd numbers in the specified range. The return statement is used to return this list when the function is called.\n",
    "You can call this function get_odd_numbers() to obtain the list of odd numbers and use it as needed in your code.\n"
   ]
  },
  {
   "cell_type": "markdown",
   "id": "6e99df13-b711-405a-b1d6-5857d4724f2b",
   "metadata": {},
   "source": [
    "Q2. Why *args and **kwargs is used in some functions? Create a function each for *args and **kwargs to\n",
    "demonstrate their use."
   ]
  },
  {
   "cell_type": "markdown",
   "id": "147a0dfd-bdd8-4a5f-8e67-cfafd5fb514f",
   "metadata": {},
   "source": [
    "*args and **kwargs are used in function definitions to allow a variable number of arguments to be passed to a function.\n",
    "\n",
    "*args: It allows a function to accept any number of positional arguments. The asterisk (*) before args indicates that the function can receive multiple arguments, and they will be packed into a tuple.\n",
    "\n",
    "Here's an example:"
   ]
  },
  {
   "cell_type": "code",
   "execution_count": 2,
   "id": "bb408348-9d8e-4ec0-8731-6864127c8e9c",
   "metadata": {},
   "outputs": [
    {
     "name": "stdout",
     "output_type": "stream",
     "text": [
      "1\n",
      "2\n",
      "3\n",
      "a\n",
      "b\n",
      "c\n",
      "d\n"
     ]
    }
   ],
   "source": [
    "def print_args(*args):\n",
    "    for arg in args:\n",
    "        print(arg)\n",
    "\n",
    "# Call the function with different numbers of arguments\n",
    "print_args(1, 2, 3)\n",
    "print_args('a', 'b', 'c', 'd')\n"
   ]
  },
  {
   "cell_type": "markdown",
   "id": "141e4bf7-0e79-4f50-b717-bb64c0a91466",
   "metadata": {},
   "source": [
    "**kwargs: It allows a function to accept any number of keyword arguments. The double asterisk (**) before kwargs indicates that the function can receive multiple keyword arguments, and they will be packed into a dictionary.\n",
    "\n",
    "Here's an example:"
   ]
  },
  {
   "cell_type": "code",
   "execution_count": 3,
   "id": "75e9b12b-69b7-4a88-8efa-c4a621c1aa0b",
   "metadata": {},
   "outputs": [
    {
     "name": "stdout",
     "output_type": "stream",
     "text": [
      "name: John\n",
      "age: 25\n",
      "city: New York\n",
      "course: Python\n",
      "duration: 2 months\n",
      "level: Intermediate\n"
     ]
    }
   ],
   "source": [
    "def print_kwargs(**kwargs):\n",
    "    for key, value in kwargs.items():\n",
    "        print(f\"{key}: {value}\")\n",
    "\n",
    "# Call the function with different keyword arguments\n",
    "print_kwargs(name='John', age=25, city='New York')\n",
    "print_kwargs(course='Python', duration='2 months', level='Intermediate')\n"
   ]
  },
  {
   "cell_type": "markdown",
   "id": "a6001344-7498-48c7-b0db-86217020f96a",
   "metadata": {},
   "source": [
    "These features make functions more flexible and allow them to handle various scenarios where the number of arguments may vary. It's important to note that args and kwargs are just naming conventions; you can use any names you like, but these names are commonly used for clarity.\n",
    "\n",
    "\n",
    "\n",
    "\n"
   ]
  },
  {
   "cell_type": "markdown",
   "id": "f32ae71e-ca66-49ac-8656-fedccf95e536",
   "metadata": {},
   "source": [
    "Q3. What is an iterator in python? Name the method used to initialise the iterator object and the method\n",
    "used for iteration. Use these methods to print the first five elements of the given list [2, 4, 6, 8, 10, 12, 14, 16,\n",
    "18, 20]."
   ]
  },
  {
   "cell_type": "markdown",
   "id": "2aa62392-0940-46ff-86f7-45a4a09cc04a",
   "metadata": {},
   "source": [
    "In Python, an iterator is an object that implements two methods: __iter__() and __next__(). The __iter__() method initializes the iterator object, and the __next__() method is used for iteration, returning the next element in the sequence. When there are no more elements, the __next__() method raises the StopIteration exception to signal the end of the iteration.\n",
    "\n",
    "To demonstrate the use of an iterator, you can create a class that implements these methods. Here's an example:"
   ]
  },
  {
   "cell_type": "code",
   "execution_count": 4,
   "id": "c0d275a5-5966-4249-aad2-542d0233959f",
   "metadata": {},
   "outputs": [
    {
     "name": "stdout",
     "output_type": "stream",
     "text": [
      "2\n",
      "4\n",
      "6\n",
      "8\n",
      "10\n"
     ]
    }
   ],
   "source": [
    "class MyIterator:\n",
    "    def __init__(self, data):\n",
    "        self.data = data\n",
    "        self.index = 0\n",
    "\n",
    "    def __iter__(self):\n",
    "        return self\n",
    "\n",
    "    def __next__(self):\n",
    "        if self.index < len(self.data):\n",
    "            result = self.data[self.index]\n",
    "            self.index += 1\n",
    "            return result\n",
    "        else:\n",
    "            raise StopIteration\n",
    "\n",
    "# Initialize the iterator object\n",
    "my_iterator = MyIterator([2, 4, 6, 8, 10, 12, 14, 16, 18, 20])\n",
    "\n",
    "# Iterate and print the first five elements\n",
    "for _ in range(5):\n",
    "    print(next(my_iterator))\n"
   ]
  },
  {
   "cell_type": "markdown",
   "id": "2ac022e0-5b7d-4127-958c-684248d3354c",
   "metadata": {},
   "source": [
    "In this example, the MyIterator class is initialized with a list, and the __iter__() method returns the iterator object itself (self). The __next__() method is implemented to return the next element in the list until there are no more elements.\n",
    "\n",
    "It's important to note that Python provides built-in functions like iter() and next() that simplify iterator creation and iteration, and you can use these functions instead of implementing __iter__() and __next__() directly."
   ]
  },
  {
   "cell_type": "markdown",
   "id": "8ba64980-6ac3-4a41-a05e-d329134bd5e6",
   "metadata": {},
   "source": [
    "Q4. What is a generator function in python? Why yield keyword is used? Give an example of a generator\n",
    "function."
   ]
  },
  {
   "cell_type": "markdown",
   "id": "08d31b24-7fe8-4215-8446-223cc82b8b0d",
   "metadata": {},
   "source": [
    "A generator function in Python is a special kind of function that allows you to iterate over a potentially large sequence of data without loading the entire sequence into memory. Generator functions use the yield keyword to produce a series of values one at a time. Unlike regular functions that return a single value and are done, generator functions can be paused and resumed, remembering their state between calls.\n",
    "\n",
    "The yield keyword is used in a generator function to produce a value to the caller and temporarily suspend the function's state. The next time the generator is called, it resumes execution from where it was paused.\n",
    "\n",
    "Here's an example of a generator function that generates a sequence of squares:"
   ]
  },
  {
   "cell_type": "code",
   "execution_count": 5,
   "id": "e5dbdcd2-cd41-414b-949b-713f71fcf1ff",
   "metadata": {},
   "outputs": [
    {
     "name": "stdout",
     "output_type": "stream",
     "text": [
      "0\n",
      "1\n",
      "4\n",
      "9\n",
      "16\n"
     ]
    }
   ],
   "source": [
    "def generate_squares(n):\n",
    "    for i in range(n):\n",
    "        yield i ** 2\n",
    "\n",
    "# Using the generator function\n",
    "squares_generator = generate_squares(5)\n",
    "\n",
    "# Iterating over the generator to retrieve values\n",
    "for square in squares_generator:\n",
    "    print(square)\n"
   ]
  },
  {
   "cell_type": "markdown",
   "id": "333ab83d-5746-4ef5-8e3f-0012ca2f25d0",
   "metadata": {},
   "source": [
    "In this example, the generate_squares function is a generator that yields the squares of numbers up to n-1. When the generator is iterated over using a for loop, it produces each square one at a time without storing the entire sequence in memory.\n",
    "\n",
    "Generator functions are memory-efficient because they generate values on-the-fly, making them particularly useful for working with large datasets or when you want to avoid loading all data into memory at once.\n",
    "\n",
    "\n",
    "\n",
    "\n"
   ]
  },
  {
   "cell_type": "markdown",
   "id": "13bbc9cd-3c1b-4ed9-b9a1-5e509a8f24c9",
   "metadata": {},
   "source": [
    "Q5. Create a generator function for prime numbers less than 1000. Use the next() method to print the\n",
    "first 20 prime numbers."
   ]
  },
  {
   "cell_type": "markdown",
   "id": "6ce36e92-2ef5-466a-8fec-9596396f9310",
   "metadata": {},
   "source": [
    "Here's an example of a generator function that yields prime numbers less than 1000 and uses the next() method to print the first 20 prime numbers:\n",
    "\n",
    "python\n"
   ]
  },
  {
   "cell_type": "code",
   "execution_count": 6,
   "id": "5f506fdd-c17f-48a8-a253-3b32cca37436",
   "metadata": {},
   "outputs": [
    {
     "name": "stdout",
     "output_type": "stream",
     "text": [
      "2\n",
      "3\n",
      "5\n",
      "7\n",
      "11\n",
      "13\n",
      "17\n",
      "19\n",
      "23\n",
      "29\n",
      "31\n",
      "37\n",
      "41\n",
      "43\n",
      "47\n",
      "53\n",
      "59\n",
      "61\n",
      "67\n",
      "71\n"
     ]
    }
   ],
   "source": [
    "def is_prime(num):\n",
    "    if num < 2:\n",
    "        return False\n",
    "    for i in range(2, int(num**0.5) + 1):\n",
    "        if num % i == 0:\n",
    "            return False\n",
    "    return True\n",
    "\n",
    "def generate_primes():\n",
    "    num = 2\n",
    "    count = 0\n",
    "    while count < 20:\n",
    "        if is_prime(num):\n",
    "            yield num\n",
    "            count += 1\n",
    "        num += 1\n",
    "\n",
    "# Using the generator function with next() to print the first 20 primes\n",
    "prime_generator = generate_primes()\n",
    "\n",
    "for _ in range(20):\n",
    "    print(next(prime_generator))\n"
   ]
  },
  {
   "cell_type": "markdown",
   "id": "5e74b70b-a80d-4e4b-94ef-fe8d2d4b3669",
   "metadata": {},
   "source": [
    "In this example, the is_prime function checks whether a given number is prime. The generate_primes generator function uses this helper function to yield prime numbers less than 1000. The next() method is then used in a loop to print the first 20 prime numbers produced by the generator."
   ]
  }
 ],
 "metadata": {
  "kernelspec": {
   "display_name": "Python 3 (ipykernel)",
   "language": "python",
   "name": "python3"
  },
  "language_info": {
   "codemirror_mode": {
    "name": "ipython",
    "version": 3
   },
   "file_extension": ".py",
   "mimetype": "text/x-python",
   "name": "python",
   "nbconvert_exporter": "python",
   "pygments_lexer": "ipython3",
   "version": "3.10.8"
  }
 },
 "nbformat": 4,
 "nbformat_minor": 5
}
