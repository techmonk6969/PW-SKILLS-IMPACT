{
 "cells": [
  {
   "cell_type": "markdown",
   "id": "5f3f0b19-d3ca-4855-8ca1-16da9d9e2880",
   "metadata": {},
   "source": [
    "Q1. What is the Probability density function?"
   ]
  },
  {
   "cell_type": "markdown",
   "id": "970eaf54-da08-416c-a7db-36337a4d0c2e",
   "metadata": {},
   "source": [
    "The Probability Density Function (PDF) is a statistical concept used in probability theory and statistics. It describes the likelihood of a continuous random variable falling within a particular range of values. The PDF is associated with continuous probability distributions, and it provides a way to model and understand the probability distribution of continuous random variables.\n",
    "\n",
    "The PDF is denoted by \\(f(x)\\), where \\(x\\) is the variable of interest. The properties of the PDF are such that the probability of the random variable falling within a certain interval \\([a, b]\\) is given by the integral of the PDF over that interval:\n",
    "\n",
    "\\[ P(a \\leq X \\leq b) = \\int_{a}^{b} f(x) \\,dx \\]\n",
    "\n",
    "Key characteristics of a Probability Density Function:\n",
    "1. **Non-Negativity:** The PDF is non-negative for all values of \\(x\\): \\(f(x) \\geq 0\\).\n",
    "2. **Area under the Curve:** The total area under the PDF curve over the entire range of possible values is equal to 1.\n",
    "3. **Probability Interpretation:** The probability of \\(X\\) falling within a specific interval is given by the integral of the PDF over that interval.\n",
    "\n",
    "Common examples of probability density functions include the normal distribution, uniform distribution, exponential distribution, and others. Each distribution has its own specific mathematical form for the PDF."
   ]
  },
  {
   "cell_type": "markdown",
   "id": "50ea408a-1ace-4ae9-8a11-ced3a0038f14",
   "metadata": {},
   "source": [
    "Q2. What are the types of Probability distribution?"
   ]
  },
  {
   "cell_type": "markdown",
   "id": "b5079b40-9d2b-47a8-9519-bcb4f700567f",
   "metadata": {},
   "source": [
    "There are several types of probability distributions, and they can be broadly categorized into two main types: discrete probability distributions and continuous probability distributions.\n",
    "\n",
    "**1. Discrete Probability Distributions:**\n",
    "   - **Bernoulli Distribution:** A distribution for a random variable that takes only two possible outcomes, typically labeled as 0 and 1.\n",
    "   - **Binomial Distribution:** Describes the number of successes in a fixed number of independent Bernoulli trials.\n",
    "   - **Poisson Distribution:** Models the number of events that occur in a fixed interval of time or space, given a known average rate of occurrence.\n",
    "\n",
    "**2. Continuous Probability Distributions:**\n",
    "   - **Normal Distribution (Gaussian Distribution):** Characterized by a bell-shaped curve and is widely used in statistics.\n",
    "   - **Uniform Distribution:** All outcomes are equally likely over a specified range.\n",
    "   - **Exponential Distribution:** Describes the time between events in a Poisson process (events occurring continuously and independently at a constant average rate).\n",
    "   - **Gamma Distribution:** Generalization of the exponential distribution, useful in reliability analysis.\n",
    "   - **Beta Distribution:** Often used as a probability model for random variables that represent proportions or probabilities.\n",
    "   - **Log-Normal Distribution:** Distribution of a random variable whose logarithm is normally distributed.\n",
    "\n",
    "These are just a few examples, and there are many other probability distributions with specific use cases in various fields such as physics, engineering, finance, and biology. The choice of distribution depends on the nature of the random variable being modeled and the characteristics of the data."
   ]
  },
  {
   "cell_type": "markdown",
   "id": "98f38415-66ca-46d0-96ed-72d942c00016",
   "metadata": {},
   "source": [
    "Q3. Write a Python function to calculate the probability density function of a normal distribution with\n",
    "given mean and standard deviation at a given point."
   ]
  },
  {
   "cell_type": "code",
   "execution_count": 1,
   "id": "b2a904df-bc71-482a-bf3a-b4c953a470b6",
   "metadata": {},
   "outputs": [
    {
     "name": "stdout",
     "output_type": "stream",
     "text": [
      "The PDF at x=1.5 is: 0.12951759566589174\n"
     ]
    }
   ],
   "source": [
    "import math\n",
    "\n",
    "def normal_pdf(x, mean, std_dev):\n",
    "    \"\"\"\n",
    "    Calculate the probability density function (PDF) of a normal distribution at a given point.\n",
    "\n",
    "    Parameters:\n",
    "    - x: The point at which to calculate the PDF.\n",
    "    - mean: Mean of the normal distribution.\n",
    "    - std_dev: Standard deviation of the normal distribution.\n",
    "\n",
    "    Returns:\n",
    "    - PDF value at the given point.\n",
    "    \"\"\"\n",
    "    exponent = -0.5 * ((x - mean) / std_dev)**2\n",
    "    pdf = (1 / (std_dev * math.sqrt(2 * math.pi))) * math.exp(exponent)\n",
    "    return pdf\n",
    "\n",
    "# Example usage:\n",
    "mean_value = 0\n",
    "std_dev_value = 1\n",
    "point_value = 1.5\n",
    "\n",
    "pdf_result = normal_pdf(point_value, mean_value, std_dev_value)\n",
    "print(f\"The PDF at x={point_value} is: {pdf_result}\")\n"
   ]
  },
  {
   "cell_type": "markdown",
   "id": "37fb8423-7c3e-46d2-bab3-0da0d8383096",
   "metadata": {},
   "source": [
    "Q4. What are the properties of Binomial distribution? Give two examples of events where binomial\n",
    "distribution can be applied."
   ]
  },
  {
   "cell_type": "markdown",
   "id": "ab6e65e8-fdc4-40ce-9324-0f399b22512e",
   "metadata": {},
   "source": [
    "**Properties of Binomial Distribution:**\n",
    "\n",
    "1. **Fixed Number of Trials (n):** The binomial distribution is based on a fixed number of independent trials, denoted by \\(n\\).\n",
    "\n",
    "2. **Two Possible Outcomes:** Each trial results in one of two possible outcomes, typically labeled as \"success\" and \"failure.\"\n",
    "\n",
    "3. **Independence:** The trials are independent of each other, meaning the outcome of one trial does not affect the outcome of another.\n",
    "\n",
    "4. **Constant Probability of Success (p):** The probability of success (\\(p\\)) is constant for each trial.\n",
    "\n",
    "5. **Discreteness:** The random variable of interest is the count of successes, which must be a whole number (0, 1, 2, ..., \\(n\\)).\n",
    "\n",
    "6. **Probability Mass Function (PMF):** The probability mass function of the binomial distribution is given by:\n",
    "   \\[ P(X = k) = \\binom{n}{k} p^k (1-p)^{n-k} \\]\n",
    "   where \\(X\\) is the number of successes, \\(k\\) is the specific number of successes, \\(\\binom{n}{k}\\) is the binomial coefficient, and \\(p\\) is the probability of success.\n",
    "\n",
    "7. **Mean and Variance:** The mean (\\(\\mu\\)) and variance (\\(\\sigma^2\\)) of the binomial distribution are given by:\n",
    "   \\[ \\mu = np \\]\n",
    "   \\[ \\sigma^2 = np(1-p) \\]\n",
    "\n",
    "**Examples of Events Where Binomial Distribution Can Be Applied:**\n",
    "\n",
    "1. **Coin Flipping:**\n",
    "   - Suppose you flip a fair coin (with a probability of heads, \\(p\\), equal to 0.5) five times.\n",
    "   - The binomial distribution can be used to calculate the probability of getting a specific number of heads (successes) in the five coin flips.\n",
    "\n",
    "2. **Quality Control:**\n",
    "   - In a manufacturing process, a quality control inspector examines a random sample of \\(n\\) items and counts the number of defective items.\n",
    "   - The binomial distribution can be applied to model the probability of a certain number of defective items in the sample, assuming a constant probability of an item being defective."
   ]
  },
  {
   "cell_type": "markdown",
   "id": "2d1129f0-5bbe-472d-8098-c1c279abb35c",
   "metadata": {},
   "source": [
    "Q5. Generate a random sample of size 1000 from a binomial distribution with probability of success 0.4\n",
    "and plot a histogram of the results using matplotlib."
   ]
  },
  {
   "cell_type": "code",
   "execution_count": 2,
   "id": "470bc6d2-ba99-455b-86ed-259492a7e673",
   "metadata": {},
   "outputs": [
    {
     "data": {
      "image/png": "[encoded data removed]",
      "text/plain": [
       "<Figure size 640x480 with 1 Axes>"
      ]
     },
     "metadata": {},
     "output_type": "display_data"
    }
   ],
   "source": [
    "import numpy as np\n",
    "import matplotlib.pyplot as plt\n",
    "\n",
    "# Set the seed for reproducibility\n",
    "np.random.seed(42)\n",
    "\n",
    "# Generate a random sample of size 1000 from a binomial distribution\n",
    "sample_size = 1000\n",
    "probability_of_success = 0.4\n",
    "random_sample = np.random.binomial(1, probability_of_success, sample_size)\n",
    "\n",
    "# Plot a histogram of the results\n",
    "plt.hist(random_sample, bins=[-0.5, 0.5, 1.5], edgecolor='black')\n",
    "plt.title('Binomial Distribution (n=1, p=0.4)')\n",
    "plt.xlabel('Number of Successes')\n",
    "plt.ylabel('Frequency')\n",
    "plt.xticks([0, 1], ['Failure', 'Success'])\n",
    "plt.show()\n"
   ]
  },
  {
   "cell_type": "markdown",
   "id": "1b5d5b44-fc18-4dc8-9230-ccd70f5d0076",
   "metadata": {},
   "source": [
    "Q6. Write a Python function to calculate the cumulative distribution function of a Poisson distribution\n",
    "with given mean at a given point."
   ]
  },
  {
   "cell_type": "code",
   "execution_count": 3,
   "id": "1bf365f4-e8a0-4a19-aead-86179c873314",
   "metadata": {},
   "outputs": [
    {
     "name": "stdout",
     "output_type": "stream",
     "text": [
      "The CDF at x=3 is: 0.8571234604985472\n"
     ]
    }
   ],
   "source": [
    "import math\n",
    "\n",
    "def poisson_cdf(x, mean):\n",
    "    \"\"\"\n",
    "    Calculate the Cumulative Distribution Function (CDF) of a Poisson distribution at a given point.\n",
    "\n",
    "    Parameters:\n",
    "    - x: The point at which to calculate the CDF.\n",
    "    - mean: Mean of the Poisson distribution.\n",
    "\n",
    "    Returns:\n",
    "    - CDF value at the given point.\n",
    "    \"\"\"\n",
    "    cdf_value = 0\n",
    "    for k in range(x + 1):\n",
    "        cdf_value += math.exp(-mean) * (mean ** k) / math.factorial(k)\n",
    "    return cdf_value\n",
    "\n",
    "# Example usage:\n",
    "mean_value = 2\n",
    "point_value = 3\n",
    "\n",
    "cdf_result = poisson_cdf(point_value, mean_value)\n",
    "print(f\"The CDF at x={point_value} is: {cdf_result}\")\n"
   ]
  },
  {
   "cell_type": "markdown",
   "id": "d3b491de-1917-4dcf-a763-8fa723bd6ebc",
   "metadata": {},
   "source": [
    "Q7. How Binomial distribution different from Poisson distribution?"
   ]
  },
  {
   "cell_type": "markdown",
   "id": "def6e32c-8d51-49c1-be39-47e7283c756b",
   "metadata": {},
   "source": [
    "The Binomial distribution and Poisson distribution are both probability distributions used to model the number of successes in a fixed number of trials. However, there are key differences between the two distributions:\n",
    "\n",
    "**1. Number of Trials:**\n",
    "   - **Binomial Distribution:** The binomial distribution is used when there is a fixed number of independent trials (\\(n\\)), and each trial has two possible outcomes: success or failure.\n",
    "   - **Poisson Distribution:** The Poisson distribution is used when the number of trials is not fixed, and events occur continuously and independently over time or space.\n",
    "\n",
    "**2. Nature of Outcomes:**\n",
    "   - **Binomial Distribution:** The outcomes of each trial are binary, typically labeled as success and failure.\n",
    "   - **Poisson Distribution:** The outcomes represent the number of events occurring in a fixed interval of time or space.\n",
    "\n",
    "**3. Probability of Success:**\n",
    "   - **Binomial Distribution:** The probability of success (\\(p\\)) remains constant for each trial.\n",
    "   - **Poisson Distribution:** The average rate of events (\\(\\lambda\\)) is constant, but the probability of an event occurring in a very small interval is proportional to the length of the interval.\n",
    "\n",
    "**4. Range of Values:**\n",
    "   - **Binomial Distribution:** The random variable follows a discrete distribution, and the possible values are non-negative integers from 0 to \\(n\\).\n",
    "   - **Poisson Distribution:** The random variable also follows a discrete distribution, and the possible values are non-negative integers (0, 1, 2, ...).\n",
    "\n",
    "**5. Conditions for Applicability:**\n",
    "   - **Binomial Distribution:** Applicable when there is a fixed number of independent trials, each with the same probability of success, and the trials are mutually exclusive.\n",
    "   - **Poisson Distribution:** Applicable when events occur independently and at a constant average rate in a fixed interval.\n",
    "\n",
    "**6. Formula for Probability Mass Function (PMF):**\n",
    "   - **Binomial Distribution:** \\( P(X = k) = \\binom{n}{k} p^k (1-p)^{n-k} \\)\n",
    "   - **Poisson Distribution:** \\( P(X = k) = \\frac{e^{-\\lambda} \\lambda^k}{k!} \\)\n",
    "\n",
    "In summary, the main distinction lies in the nature of the trials and outcomes. The binomial distribution is used for a fixed number of binary trials, while the Poisson distribution is used for modeling the number of events in a continuous and independent process."
   ]
  },
  {
   "cell_type": "markdown",
   "id": "b027687e-7fd8-4789-a88f-f986d673b31f",
   "metadata": {},
   "source": [
    "Q8. Generate a random sample of size 1000 from a Poisson distribution with mean 5 and calculate the\n",
    "sample mean and variance."
   ]
  },
  {
   "cell_type": "code",
   "execution_count": 4,
   "id": "68b91ab6-6c44-426a-8ac3-a68ffd697263",
   "metadata": {},
   "outputs": [
    {
     "name": "stdout",
     "output_type": "stream",
     "text": [
      "Sample Mean: 4.985\n",
      "Sample Variance: 5.001776776776777\n"
     ]
    }
   ],
   "source": [
    "import numpy as np\n",
    "\n",
    "# Set the seed for reproducibility\n",
    "np.random.seed(42)\n",
    "\n",
    "# Generate a random sample of size 1000 from a Poisson distribution with mean 5\n",
    "sample_size = 1000\n",
    "mean_value = 5\n",
    "random_sample = np.random.poisson(mean_value, sample_size)\n",
    "\n",
    "# Calculate the sample mean and variance\n",
    "sample_mean = np.mean(random_sample)\n",
    "sample_variance = np.var(random_sample, ddof=1)  # ddof=1 for sample variance\n",
    "\n",
    "# Print the results\n",
    "print(f\"Sample Mean: {sample_mean}\")\n",
    "print(f\"Sample Variance: {sample_variance}\")\n"
   ]
  },
  {
   "cell_type": "markdown",
   "id": "ef274394-515c-48d0-9499-7f889bd51064",
   "metadata": {},
   "source": [
    "Q9. How mean and variance are related in Binomial distribution and Poisson distribution?"
   ]
  },
  {
   "cell_type": "markdown",
   "id": "8cf796c9-ecf1-4f85-a7cd-393b19a7294b",
   "metadata": {},
   "source": [
    "**Binomial Distribution:**\n",
    "In a Binomial distribution with parameters \\( n \\) (number of trials) and \\( p \\) (probability of success in a single trial), the mean (\\( \\mu \\)) and variance (\\( \\sigma^2 \\)) are related as follows:\n",
    "\n",
    "\\[ \\mu = np \\]\n",
    "\n",
    "\\[ \\sigma^2 = np(1-p) \\]\n",
    "\n",
    "The mean (\\( \\mu \\)) represents the average number of successes in \\( n \\) trials, and the variance (\\( \\sigma^2 \\)) measures the spread or variability of the number of successes. The product of \\( np(1-p) \\) in the variance formula is influenced by the probability of success (\\( p \\)) and the number of trials (\\( n \\)). As the probability of success increases or decreases, or as the number of trials increases, the variance tends to change accordingly.\n",
    "\n",
    "**Poisson Distribution:**\n",
    "In a Poisson distribution with parameter \\( \\lambda \\) (average rate of events occurring in a fixed interval), the mean (\\( \\mu \\)) and variance (\\( \\sigma^2 \\)) are related as follows:\n",
    "\n",
    "\\[ \\mu = \\sigma^2 = \\lambda \\]\n",
    "\n",
    "In the Poisson distribution, the mean (\\( \\mu \\)) and variance (\\( \\sigma^2 \\)) are both equal to the parameter \\( \\lambda \\). This characteristic is unique to the Poisson distribution and indicates that the spread of the distribution is directly determined by the average rate of events (\\( \\lambda \\)). As \\( \\lambda \\) increases, both the mean and variance of the distribution increase proportionally.\n",
    "\n",
    "In summary, for the Binomial distribution, the variance is influenced by both the probability of success and the number of trials, while in the Poisson distribution, the mean and variance are both equal to the average rate (\\( \\lambda \\)) and are directly related to it."
   ]
  },
  {
   "cell_type": "markdown",
   "id": "b778c913-b322-48bd-90d9-51c9c32b0e2c",
   "metadata": {},
   "source": [
    "Q10. In normal distribution with respect to mean position, where does the least frequent data appear?"
   ]
  },
  {
   "cell_type": "markdown",
   "id": "09d6bc97-9b7a-41dd-89ba-f807694d91f1",
   "metadata": {},
   "source": [
    "In a normal distribution, the least frequent data appears in the tails, farthest from the mean. The normal distribution, also known as the Gaussian distribution or bell curve, is symmetric around its mean. The probability density decreases as you move away from the mean towards the tails.\n",
    "\n",
    "The normal distribution is characterized by the following:\n",
    "\n",
    "1. **Central Peak:** The highest point of the distribution is at the mean (\\(\\mu\\)).\n",
    "2. **Symmetry:** The distribution is symmetric around the mean, meaning that the left and right tails are mirror images of each other.\n",
    "3. **Tails:** The probability density decreases as you move away from the mean towards the tails on both sides.\n",
    "\n",
    "The least frequent data, or the extreme values, is found in the tails of the distribution. The tails represent the less probable outcomes, and as you move farther from the mean in either direction, the likelihood of observing data points decreases. The data in the tails are considered outliers or less typical in the context of the distribution."
   ]
  }
 ],
 "metadata": {
  "kernelspec": {
   "display_name": "Python 3 (ipykernel)",
   "language": "python",
   "name": "python3"
  },
  "language_info": {
   "codemirror_mode": {
    "name": "ipython",
    "version": 3
   },
   "file_extension": ".py",
   "mimetype": "text/x-python",
   "name": "python",
   "nbconvert_exporter": "python",
   "pygments_lexer": "ipython3",
   "version": "3.10.8"
  }
 },
 "nbformat": 4,
 "nbformat_minor": 5
}
