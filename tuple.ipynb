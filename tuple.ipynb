{
 "cells": [
  {
   "cell_type": "markdown",
   "id": "9f08c6b0-533e-4f68-ade6-66f41e5c2738",
   "metadata": {},
   "source": [
    "Q1. What are the characteristics of the tuples? Is tuple immutable?"
   ]
  },
  {
   "cell_type": "markdown",
   "id": "6faf5574-0320-416d-84f2-d8ed3b2b735d",
   "metadata": {},
   "source": [
    "Tuples are a data structure in programming languages that typically represent an ordered, immutable sequence of elements. Here are some characteristics of tuples:\n",
    "\n",
    "Ordering: Tuples maintain the order of elements, meaning the position of each element in the tuple is fixed.\n",
    "\n",
    "Heterogeneity: Tuples can contain elements of different data types. For example, a tuple may contain a combination of integers, strings, and other data types.\n",
    "\n",
    "Immutability: In many programming languages, including Python, tuples are immutable. Once a tuple is created, you cannot modify its elements, add new elements, or remove existing elements. However, you can create a new tuple with modifications if needed.\n",
    "\n",
    "Indexed: Elements in a tuple are accessed using indices, starting from 0 for the first element.\n",
    "\n",
    "In Python, you can create a tuple using parentheses () and separating elements with commas. Here's an example:"
   ]
  },
  {
   "cell_type": "code",
   "execution_count": 1,
   "id": "3534d6db-45e4-41a9-94df-aa04f7e46a60",
   "metadata": {},
   "outputs": [],
   "source": [
    "my_tuple = (1, \"hello\", 3.14)\n"
   ]
  },
  {
   "cell_type": "markdown",
   "id": "3ecffc3c-ac6e-4b59-a8e9-4c8bd2710682",
   "metadata": {},
   "source": [
    "Attempting to modify a tuple will result in an error:"
   ]
  },
  {
   "cell_type": "code",
   "execution_count": 2,
   "id": "f0832fc3-6a38-4a02-81b5-93cdf21a392d",
   "metadata": {},
   "outputs": [
    {
     "ename": "TypeError",
     "evalue": "'tuple' object does not support item assignment",
     "output_type": "error",
     "traceback": [
      "\u001b[0;31m---------------------------------------------------------------------------\u001b[0m",
      "\u001b[0;31mTypeError\u001b[0m                                 Traceback (most recent call last)",
      "Cell \u001b[0;32mIn[2], line 1\u001b[0m\n\u001b[0;32m----> 1\u001b[0m \u001b[43mmy_tuple\u001b[49m\u001b[43m[\u001b[49m\u001b[38;5;241;43m0\u001b[39;49m\u001b[43m]\u001b[49m \u001b[38;5;241m=\u001b[39m \u001b[38;5;241m5\u001b[39m  \u001b[38;5;66;03m# This will raise a TypeError since tuples are immutable\u001b[39;00m\n",
      "\u001b[0;31mTypeError\u001b[0m: 'tuple' object does not support item assignment"
     ]
    }
   ],
   "source": [
    "my_tuple[0] = 5  # This will raise a TypeError since tuples are immutable\n"
   ]
  },
  {
   "cell_type": "markdown",
   "id": "ace01697-e8f0-4831-b8f9-81477b9394c9",
   "metadata": {},
   "source": [
    "Q2. What are the two tuple methods in python? Give an example of each method. Give a reason why\n",
    "tuples have only two in-built methods as compared to Lists."
   ]
  },
  {
   "cell_type": "code",
   "execution_count": 3,
   "id": "b9c1faf7-a280-412e-9aa7-2b86051134ca",
   "metadata": {},
   "outputs": [
    {
     "name": "stdout",
     "output_type": "stream",
     "text": [
      "3\n"
     ]
    }
   ],
   "source": [
    "#In Python, tuples have two built-in methods: count() and index().\n",
    "\n",
    "#count(): This method returns the number of occurrences of a specified value in the tuple.\n",
    "\n",
    "#Example:\n",
    "my_tuple = (1, 2, 2, 3, 4, 2)\n",
    "count_of_2 = my_tuple.count(2)\n",
    "print(count_of_2)  # Output: 3\n"
   ]
  },
  {
   "cell_type": "code",
   "execution_count": 4,
   "id": "58ff8854-86db-44c7-9898-bdc819964754",
   "metadata": {},
   "outputs": [
    {
     "name": "stdout",
     "output_type": "stream",
     "text": [
      "2\n"
     ]
    }
   ],
   "source": [
    "#index(): This method returns the index of the first occurrence of a specified value in the tuple. If the value is not found, it raises a ValueError.\n",
    "\n",
    "#Example:\n",
    "my_tuple = (10, 20, 30, 40, 50)\n",
    "index_of_30 = my_tuple.index(30)\n",
    "print(index_of_30)  # Output: 2\n"
   ]
  },
  {
   "cell_type": "markdown",
   "id": "08a99779-7982-4415-bfb1-b6c753e0f598",
   "metadata": {},
   "source": [
    "As for why tuples have fewer built-in methods compared to lists, it's primarily due to their immutability. Since tuples cannot be modified after creation, there is less need for methods like append(), remove(), or extend() that modify the tuple in place, as you would find in lists. Tuples are designed to be simple, lightweight, and efficient, making them suitable for situations where immutability is desired. Lists, being mutable, have a broader set of methods to support dynamic operations on their elements."
   ]
  },
  {
   "cell_type": "markdown",
   "id": "1fe7c294-731b-475e-807b-a7a1fc5fc602",
   "metadata": {},
   "source": [
    "Q3. Which collection datatypes in python do not allow duplicate items? Write a code using a set to remove\n",
    "duplicates from the given list.\n",
    "List = [1, 1, 1, 2, 1, 3, 1, 4, 2, 1, 2, 2, 2, 3, 2, 4, 3, 1, 3, 2, 3, 3, 3, 4, 4, 1, 4, 2, 4, 3, 4, 4]\n",
    "\n"
   ]
  },
  {
   "cell_type": "code",
   "execution_count": 5,
   "id": "81bf0284-c30b-48ad-8f15-1b932f645f62",
   "metadata": {},
   "outputs": [
    {
     "name": "stdout",
     "output_type": "stream",
     "text": [
      "[1, 2, 3, 4]\n"
     ]
    }
   ],
   "source": [
    "#In Python, the collection datatype that does not allow duplicate items is a set. Sets are unordered collections of unique elements. You can use a set to remove duplicates from a list. Here's an example code:\n",
    "original_list = [1, 1, 1, 2, 1, 3, 1, 4, 2, 1, 2, 2, 2, 3, 2, 4, 3, 1, 3, 2, 3, 3, 3, 4, 4, 1, 4, 2, 4, 3, 4, 4]\n",
    "\n",
    "# Convert the list to a set to remove duplicates\n",
    "unique_set = set(original_list)\n",
    "\n",
    "# Convert the set back to a list if needed\n",
    "unique_list = list(unique_set)\n",
    "\n",
    "print(unique_list)\n"
   ]
  },
  {
   "cell_type": "markdown",
   "id": "e9f0bc86-8748-4d85-be83-9439d89b2c86",
   "metadata": {},
   "source": [
    "In this example, set(original_list) creates a set from the original list, automatically removing any duplicate elements. The result is a list of unique elements. Note that the order of elements may not be preserved in the set, as sets are unordered. If maintaining the order is important, you can use a list comprehension to create a new list with unique elements while preserving the original order:"
   ]
  },
  {
   "cell_type": "code",
   "execution_count": 6,
   "id": "e9f8aadf-48bc-47d8-93d6-8b85446347a5",
   "metadata": {},
   "outputs": [
    {
     "name": "stdout",
     "output_type": "stream",
     "text": [
      "[1, 2, 3, 4]\n"
     ]
    }
   ],
   "source": [
    "unique_list_order_preserved = list(dict.fromkeys(original_list))\n",
    "print(unique_list_order_preserved)\n"
   ]
  },
  {
   "cell_type": "markdown",
   "id": "591f4866-fd81-4175-a254-19d46b454c68",
   "metadata": {},
   "source": [
    "Here, dict.fromkeys(original_list) creates a dictionary with the elements of the original list as keys, and then list() is used to convert the keys back to a list. This approach maintains the order of elements in the original list.\n",
    "\n",
    "\n",
    "\n",
    "\n"
   ]
  },
  {
   "cell_type": "markdown",
   "id": "4fb898e6-3d21-44ea-8195-f130393b7584",
   "metadata": {},
   "source": [
    "Q4. Explain the difference between the union() and update() methods for a set. Give an example of\n",
    "each method."
   ]
  },
  {
   "cell_type": "markdown",
   "id": "fe81822e-d35d-48ca-88b3-20d5ee93a1b6",
   "metadata": {},
   "source": [
    "In Python, both union() and update() are methods associated with sets, but they have different purposes:\n",
    "union():\n",
    "\n",
    "The union() method returns a new set containing all the unique elements from the sets involved in the operation.\n",
    "It does not modify the original sets.\n",
    "It can take multiple sets as arguments using the union operator (|)."
   ]
  },
  {
   "cell_type": "code",
   "execution_count": 7,
   "id": "ae9c200b-ac97-4c68-9e7e-ae4813186a9a",
   "metadata": {},
   "outputs": [
    {
     "name": "stdout",
     "output_type": "stream",
     "text": [
      "{1, 2, 3, 4, 5}\n"
     ]
    }
   ],
   "source": [
    "#Example:\n",
    "set1 = {1, 2, 3}\n",
    "set2 = {3, 4, 5}\n",
    "\n",
    "result_union = set1.union(set2)\n",
    "\n",
    "print(result_union)  # Output: {1, 2, 3, 4, 5}\n"
   ]
  },
  {
   "cell_type": "markdown",
   "id": "6bd05756-cbfb-45e9-b2a2-d2798ce7558c",
   "metadata": {},
   "source": [
    "update():\n",
    "\n",
    "The update() method modifies the set it is called on by adding elements from another iterable (like another set, list, or tuple).\n",
    "It performs an in-place addition of elements and does not return a new set.\n",
    "It can take multiple iterables as arguments."
   ]
  },
  {
   "cell_type": "code",
   "execution_count": 8,
   "id": "39c5e7ef-96bf-45c9-aea8-996fca1fc3f2",
   "metadata": {},
   "outputs": [
    {
     "name": "stdout",
     "output_type": "stream",
     "text": [
      "{1, 2, 3, 4, 5}\n"
     ]
    }
   ],
   "source": [
    "#example\n",
    "set1 = {1, 2, 3}\n",
    "set2 = {3, 4, 5}\n",
    "\n",
    "set1.update(set2)\n",
    "\n",
    "print(set1)  # Output: {1, 2, 3, 4, 5}\n"
   ]
  },
  {
   "cell_type": "markdown",
   "id": "5ea269e3-4b9f-42f9-ac01-c86ae3e098c4",
   "metadata": {},
   "source": [
    "In summary, union() creates a new set containing the unique elements from the sets involved without modifying the original sets, while update() modifies the set it is called on by adding elements from other iterables in place. Choose the method based on whether you want to keep the original sets unchanged (union()) or modify one of the sets in place (update()).\n",
    "\n",
    "\n",
    "\n",
    "\n"
   ]
  },
  {
   "cell_type": "markdown",
   "id": "95898f25-9ec0-4986-b429-b6b6d8173b08",
   "metadata": {},
   "source": [
    "Q5. What is a dictionary? Give an example. Also, state whether a dictionary is ordered or unordered."
   ]
  },
  {
   "cell_type": "markdown",
   "id": "b6016f3d-af81-46ad-81b2-0fa27efc22b0",
   "metadata": {},
   "source": [
    "A dictionary in Python is a collection data type that stores key-value pairs. Each key in a dictionary must be unique, and it is associated with a specific value. Dictionaries are mutable, meaning their elements can be modified after the dictionary is created."
   ]
  },
  {
   "cell_type": "code",
   "execution_count": 9,
   "id": "20651c7e-70dd-4c7c-8ac6-b81005db1e42",
   "metadata": {},
   "outputs": [
    {
     "name": "stdout",
     "output_type": "stream",
     "text": [
      "John\n",
      "25\n",
      "New York\n"
     ]
    }
   ],
   "source": [
    "#example\n",
    "my_dict = {'name': 'John', 'age': 25, 'city': 'New York'}\n",
    "\n",
    "# Accessing values using keys\n",
    "print(my_dict['name'])  # Output: John\n",
    "print(my_dict['age'])   # Output: 25\n",
    "print(my_dict['city'])  # Output: New York\n"
   ]
  },
  {
   "cell_type": "markdown",
   "id": "7ce98e1c-2caa-42ec-87cc-4c901255a912",
   "metadata": {},
   "source": [
    "In this example, 'name', 'age', and 'city' are keys, and 'John', 25, and 'New York' are their corresponding values.\n",
    "\n",
    "As of Python 3.7 and later versions, dictionaries are guaranteed to maintain the insertion order of their elements. This means that when you iterate over the items of a dictionary, the order will be the same as when the items were inserted. However, before Python 3.7, dictionaries were unordered, and the order of elements was not guaranteed.\n",
    "\n",
    "So, to clarify, dictionaries are considered ordered in Python 3.7 and later. If you are using an earlier version, you may not rely on the order, and it's recommended to use Python 3.7 or later if order preservation is essential for your code."
   ]
  },
  {
   "cell_type": "markdown",
   "id": "4866065b-e0e5-4af4-abeb-94c2176d2864",
   "metadata": {},
   "source": [
    "Q6. Can we create a nested dictionary? If so, please give an example by creating a simple one-level\n",
    "nested dictionary."
   ]
  },
  {
   "cell_type": "markdown",
   "id": "f34ad46a-bad8-46fc-a094-78b2136ee7a6",
   "metadata": {},
   "source": [
    "Yes, it is possible to create a nested dictionary in Python. A nested dictionary is a dictionary that contains another dictionary as one of its values. This allows you to organize data in a hierarchical structure. Here's an example of a simple one-level nested dictionary:"
   ]
  },
  {
   "cell_type": "code",
   "execution_count": 10,
   "id": "2537f49e-8834-478d-89cc-88c7fb337a67",
   "metadata": {},
   "outputs": [
    {
     "name": "stdout",
     "output_type": "stream",
     "text": [
      "Student Name: John\n",
      "Math Grade: 90\n",
      "Updated Student Info: {'name': 'John', 'age': 20, 'grades': {'math': 90, 'english': 85, 'history': 80, 'science': 95}}\n"
     ]
    }
   ],
   "source": [
    "# Creating a one-level nested dictionary\n",
    "student_info = {\n",
    "    'name': 'John',\n",
    "    'age': 20,\n",
    "    'grades': {'math': 90, 'english': 85, 'history': 75}\n",
    "}\n",
    "\n",
    "# Accessing values in the nested dictionary\n",
    "print(\"Student Name:\", student_info['name'])\n",
    "print(\"Math Grade:\", student_info['grades']['math'])\n",
    "\n",
    "# Modifying a value in the nested dictionary\n",
    "student_info['grades']['history'] = 80\n",
    "\n",
    "# Adding a new subject and grade\n",
    "student_info['grades']['science'] = 95\n",
    "\n",
    "# Displaying the modified nested dictionary\n",
    "print(\"Updated Student Info:\", student_info)\n"
   ]
  },
  {
   "cell_type": "markdown",
   "id": "e8c48502-7409-4461-835d-61ec4e52c050",
   "metadata": {},
   "source": [
    "In this example, the grades key in the student_info dictionary holds another dictionary with subjects as keys and corresponding grades as values. You can access and manipulate the values in the nested dictionary using multiple levels of key indexing.\n",
    "This structure is useful for representing more complex relationships and organizing data in a hierarchical manner.\n"
   ]
  },
  {
   "cell_type": "markdown",
   "id": "70d60065-38ff-4fc6-9b7b-8ecf9de1fb2d",
   "metadata": {},
   "source": [
    "Q7. Using setdefault() method, create key named topics in the given dictionary and also add the value of\n",
    "the key as this list ['Python', 'Machine Learning’, 'Deep Learning']\n",
    "dict1 = {'language' : 'Python', 'course': 'Data Science Masters'}"
   ]
  },
  {
   "cell_type": "markdown",
   "id": "c1828fad-ae1a-4275-9dc5-5085c40a8885",
   "metadata": {},
   "source": [
    "The setdefault() method in Python is used to set the default value for a key in a dictionary if the key is not already present. If the key is present, it returns the corresponding value.\n",
    "\n",
    "Here's how you can use setdefault() to add a key named 'topics' to the given dictionary and set its value to the list ['Python', 'Machine Learning', 'Deep Learning']:"
   ]
  },
  {
   "cell_type": "code",
   "execution_count": 11,
   "id": "227560f9-8231-4f6d-b2bf-8892ca77ef21",
   "metadata": {},
   "outputs": [
    {
     "name": "stdout",
     "output_type": "stream",
     "text": [
      "{'language': 'Python', 'course': 'Data Science Masters', 'topics': ['Python', 'Machine Learning', 'Deep Learning']}\n"
     ]
    }
   ],
   "source": [
    "dict1 = {'language': 'Python', 'course': 'Data Science Masters'}\n",
    "\n",
    "# Using setdefault() to add the 'topics' key if it doesn't exist\n",
    "dict1.setdefault('topics', ['Python', 'Machine Learning', 'Deep Learning'])\n",
    "\n",
    "# Displaying the modified dictionary\n",
    "print(dict1)\n"
   ]
  },
  {
   "cell_type": "markdown",
   "id": "6659b28c-fcb3-45df-84f9-c0389270ca63",
   "metadata": {},
   "source": [
    "In this example, if the key 'topics' is not already present in the dict1, setdefault() adds it and sets its default value to the provided list. If the key 'topics' is already present, setdefault() simply returns its current value without modifying the dictionary.\n",
    "\n",
    "\n",
    "\n",
    "\n"
   ]
  },
  {
   "cell_type": "markdown",
   "id": "eeb30165-1046-4eab-ac3d-9cc39ab7f4a4",
   "metadata": {},
   "source": [
    "Q8. What are the three view objects in dictionaries? Use the three in-built methods in python to display\n",
    "these three view objects for the given dictionary.\n",
    "dict1 = {'Sport': 'Cricket' , 'Teams': ['India', 'Australia', 'England', 'South Africa', 'Sri Lanka', 'New Zealand']}"
   ]
  },
  {
   "cell_type": "markdown",
   "id": "7fddb6e5-54d3-43be-9a93-c3c95252e843",
   "metadata": {},
   "source": [
    "In Python dictionaries, there are three view objects that provide a view on the dictionary's keys, values, and key-value pairs. These view objects are:\n",
    "\n",
    "dict_keys: This represents a view of all the keys in the dictionary.\n",
    "dict_values: This represents a view of all the values in the dictionary.\n",
    "dict_items: This represents a view of all the key-value pairs in the dictionary.\n",
    "Here's how you can use the corresponding built-in methods to obtain these view objects and display them for the given dictionary:"
   ]
  },
  {
   "cell_type": "code",
   "execution_count": 12,
   "id": "f9c17227-a18b-41ed-8ecf-2be19a0ade23",
   "metadata": {},
   "outputs": [
    {
     "name": "stdout",
     "output_type": "stream",
     "text": [
      "Keys View: dict_keys(['Sport', 'Teams'])\n",
      "Values View: dict_values(['Cricket', ['India', 'Australia', 'England', 'South Africa', 'Sri Lanka', 'New Zealand']])\n",
      "Items View: dict_items([('Sport', 'Cricket'), ('Teams', ['India', 'Australia', 'England', 'South Africa', 'Sri Lanka', 'New Zealand'])])\n"
     ]
    }
   ],
   "source": [
    "dict1 = {'Sport': 'Cricket', 'Teams': ['India', 'Australia', 'England', 'South Africa', 'Sri Lanka', 'New Zealand']}\n",
    "\n",
    "# Getting and displaying the dict_keys view object\n",
    "keys_view = dict1.keys()\n",
    "print(\"Keys View:\", keys_view)\n",
    "\n",
    "# Getting and displaying the dict_values view object\n",
    "values_view = dict1.values()\n",
    "print(\"Values View:\", values_view)\n",
    "\n",
    "# Getting and displaying the dict_items view object\n",
    "items_view = dict1.items()\n",
    "print(\"Items View:\", items_view)\n"
   ]
  },
  {
   "cell_type": "markdown",
   "id": "3d89155c-b7e4-4472-800d-dbb305b1f7bf",
   "metadata": {},
   "source": [
    "These view objects provide dynamic views on the dictionary, which means they reflect changes made to the underlying dictionary. Keep in mind that if you modify the dictionary, the view objects will reflect those changes as well."
   ]
  }
 ],
 "metadata": {
  "kernelspec": {
   "display_name": "Python 3 (ipykernel)",
   "language": "python",
   "name": "python3"
  },
  "language_info": {
   "codemirror_mode": {
    "name": "ipython",
    "version": 3
   },
   "file_extension": ".py",
   "mimetype": "text/x-python",
   "name": "python",
   "nbconvert_exporter": "python",
   "pygments_lexer": "ipython3",
   "version": "3.10.8"
  }
 },
 "nbformat": 4,
 "nbformat_minor": 5
}
