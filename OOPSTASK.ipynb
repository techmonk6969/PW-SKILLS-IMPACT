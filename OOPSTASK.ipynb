{
 "cells": [
  {
   "cell_type": "markdown",
   "id": "c9425c93-32da-4d0a-aa91-0300450fd9cf",
   "metadata": {},
   "source": [
    "Q1, Create a vehicle class with an init method having instance variables as name_of_vehicle, max_speed\n",
    "and average_of_vehicle."
   ]
  },
  {
   "cell_type": "code",
   "execution_count": 1,
   "id": "9f9186ad-02db-433d-8920-3ca8d4e57759",
   "metadata": {},
   "outputs": [
    {
     "name": "stdout",
     "output_type": "stream",
     "text": [
      "Car Details:\n",
      "Name of Vehicle: Car\n",
      "Max Speed: 200\n",
      "Average Speed: 25\n",
      "\n",
      "Bike Details:\n",
      "Name of Vehicle: Bike\n",
      "Max Speed: 120\n",
      "Average Speed: 40\n"
     ]
    }
   ],
   "source": [
    "class Vehicle:\n",
    "    def __init__(self, name_of_vehicle, max_speed, average_of_vehicle):\n",
    "        self.name_of_vehicle = name_of_vehicle\n",
    "        self.max_speed = max_speed\n",
    "        self.average_of_vehicle = average_of_vehicle\n",
    "\n",
    "# Example usage:\n",
    "car = Vehicle(name_of_vehicle=\"Car\", max_speed=200, average_of_vehicle=25)\n",
    "bike = Vehicle(name_of_vehicle=\"Bike\", max_speed=120, average_of_vehicle=40)\n",
    "\n",
    "# Accessing instance variables\n",
    "print(\"Car Details:\")\n",
    "print(\"Name of Vehicle:\", car.name_of_vehicle)\n",
    "print(\"Max Speed:\", car.max_speed)\n",
    "print(\"Average Speed:\", car.average_of_vehicle)\n",
    "\n",
    "print(\"\\nBike Details:\")\n",
    "print(\"Name of Vehicle:\", bike.name_of_vehicle)\n",
    "print(\"Max Speed:\", bike.max_speed)\n",
    "print(\"Average Speed:\", bike.average_of_vehicle)\n"
   ]
  },
  {
   "cell_type": "markdown",
   "id": "696976e0-72c1-4578-a83e-80b8e534d8a0",
   "metadata": {},
   "source": [
    "In this example:\n",
    "\n",
    "The Vehicle class has an __init__ method with parameters for name_of_vehicle, max_speed, and average_of_vehicle.\n",
    "When an instance of the Vehicle class is created (e.g., car and bike), the __init__ method is called to initialize the instance variables.\n",
    "Instance variables can be accessed using dot notation (object_name.variable_name).\n",
    "This class provides a basic structure for representing information about vehicles. You can create instances of the Vehicle class with different vehicle details and access their attributes as needed."
   ]
  },
  {
   "cell_type": "markdown",
   "id": "4dde2cf9-c746-484d-8de3-4a711cedeb96",
   "metadata": {},
   "source": [
    "Q2. Create a child class car from the vehicle class created in Que 1, which will inherit the vehicle class.\n",
    "Create a method named seating_capacity which takes capacity as an argument and returns the name of\n",
    "the vehicle and its seating capacity."
   ]
  },
  {
   "cell_type": "code",
   "execution_count": 2,
   "id": "cab001cf-9fac-4b1b-815b-a618f1b2b27d",
   "metadata": {},
   "outputs": [
    {
     "name": "stdout",
     "output_type": "stream",
     "text": [
      "Car Details:\n",
      "Name of Vehicle: Car\n",
      "Max Speed: 200\n",
      "Average Speed: 25\n",
      "Car has a seating capacity of 5.\n"
     ]
    }
   ],
   "source": [
    "class Vehicle:\n",
    "    def __init__(self, name_of_vehicle, max_speed, average_of_vehicle):\n",
    "        self.name_of_vehicle = name_of_vehicle\n",
    "        self.max_speed = max_speed\n",
    "        self.average_of_vehicle = average_of_vehicle\n",
    "\n",
    "class Car(Vehicle):\n",
    "    def seating_capacity(self, capacity):\n",
    "        return f\"{self.name_of_vehicle} has a seating capacity of {capacity}.\"\n",
    "\n",
    "# Example usage:\n",
    "car = Car(name_of_vehicle=\"Car\", max_speed=200, average_of_vehicle=25)\n",
    "\n",
    "# Accessing inherited instance variables\n",
    "print(\"Car Details:\")\n",
    "print(\"Name of Vehicle:\", car.name_of_vehicle)\n",
    "print(\"Max Speed:\", car.max_speed)\n",
    "print(\"Average Speed:\", car.average_of_vehicle)\n",
    "\n",
    "# Calling the method from the child class\n",
    "print(car.seating_capacity(capacity=5))\n"
   ]
  },
  {
   "cell_type": "markdown",
   "id": "3832ad46-15fb-47c0-a167-6f9d21f53203",
   "metadata": {},
   "source": [
    "In this example:\n",
    "\n",
    "The Car class is defined as a child class of the Vehicle class using the syntax class Car(Vehicle):. This means that Car inherits from Vehicle.\n",
    "The seating_capacity method is added to the Car class, which takes a capacity argument and returns a string describing the vehicle's seating capacity.\n",
    "An instance of the Car class (car) is created, and you can access both the inherited attributes from the Vehicle class and the new method from the Car class.\n",
    "This demonstrates basic inheritance in Python, where the Car class inherits attributes from the Vehicle class and extends its functionality with a new method.\n",
    "\n",
    "\n",
    "\n",
    "\n"
   ]
  },
  {
   "cell_type": "markdown",
   "id": "09977a2c-aa27-4907-b841-55df4ba3eaa3",
   "metadata": {},
   "source": [
    "Q3. What is multiple inheritance? Write a python code to demonstrate multiple inheritance."
   ]
  },
  {
   "cell_type": "code",
   "execution_count": 3,
   "id": "753449d3-19fb-4c2a-9915-d7a186c19e1d",
   "metadata": {},
   "outputs": [
    {
     "name": "stdout",
     "output_type": "stream",
     "text": [
      "Engine started.\n",
      "Battery charging.\n",
      "Hybrid car is driving.\n"
     ]
    }
   ],
   "source": [
    "class Engine:\n",
    "    def start_engine(self):\n",
    "        print(\"Engine started.\")\n",
    "\n",
    "class ElectricSystem:\n",
    "    def charge_battery(self):\n",
    "        print(\"Battery charging.\")\n",
    "\n",
    "class HybridCar(Engine, ElectricSystem):\n",
    "    def drive(self):\n",
    "        print(\"Hybrid car is driving.\")\n",
    "\n",
    "# Example usage\n",
    "hybrid_car = HybridCar()\n",
    "\n",
    "# Accessing methods from multiple parent classes\n",
    "hybrid_car.start_engine()\n",
    "hybrid_car.charge_battery()\n",
    "hybrid_car.drive()\n"
   ]
  },
  {
   "cell_type": "markdown",
   "id": "0a42f3a8-f7a4-446d-a32d-e3555fdda8c2",
   "metadata": {},
   "source": [
    "In this example:\n",
    "\n",
    "There are two parent classes, Engine and ElectricSystem, each with its own set of methods.\n",
    "The HybridCar class inherits from both Engine and ElectricSystem using the syntax class HybridCar(Engine, ElectricSystem):.\n",
    "An instance of HybridCar is created (hybrid_car).\n",
    "The HybridCar class can access methods from both parent classes (start_engine from Engine and charge_battery from ElectricSystem).\n",
    "The drive method is specific to the HybridCar class.\n",
    "Multiple inheritance can be powerful but should be used with caution to avoid potential issues like the diamond problem (a situation where two classes have a common ancestor, leading to ambiguity). It's essential to understand the class hierarchy and carefully design the relationships between classes when using multiple inheritance.\n",
    "\n",
    "\n",
    "\n",
    "\n"
   ]
  },
  {
   "cell_type": "markdown",
   "id": "c78cc1f8-aa1a-41dd-857a-5fd06ccc1361",
   "metadata": {},
   "source": [
    "Q4. What are getter and setter in python? Create a class and create a getter and a setter method in this\n",
    "class."
   ]
  },
  {
   "cell_type": "code",
   "execution_count": 4,
   "id": "993e6116-0edc-40f1-92a1-ea06e655636c",
   "metadata": {},
   "outputs": [
    {
     "name": "stdout",
     "output_type": "stream",
     "text": [
      "Student Name: John\n",
      "Student Age: 20\n",
      "Updated Student Name: Alice\n",
      "Updated Student Age: 22\n"
     ]
    }
   ],
   "source": [
    "class Student:\n",
    "    def __init__(self, name, age):\n",
    "        self._name = name  # Private attribute\n",
    "        self._age = age    # Private attribute\n",
    "\n",
    "    # Getter for name\n",
    "    def get_name(self):\n",
    "        return self._name\n",
    "\n",
    "    # Setter for name\n",
    "    def set_name(self, name):\n",
    "        self._name = name\n",
    "\n",
    "    # Getter for age\n",
    "    def get_age(self):\n",
    "        return self._age\n",
    "\n",
    "    # Setter for age\n",
    "    def set_age(self, age):\n",
    "        if age > 0:\n",
    "            self._age = age\n",
    "        else:\n",
    "            print(\"Invalid age. Age must be greater than 0.\")\n",
    "\n",
    "# Example usage\n",
    "student1 = Student(name=\"John\", age=20)\n",
    "\n",
    "# Accessing attributes using getters\n",
    "print(\"Student Name:\", student1.get_name())\n",
    "print(\"Student Age:\", student1.get_age())\n",
    "\n",
    "# Modifying attributes using setters\n",
    "student1.set_name(\"Alice\")\n",
    "student1.set_age(22)\n",
    "\n",
    "# Accessing modified attributes using getters\n",
    "print(\"Updated Student Name:\", student1.get_name())\n",
    "print(\"Updated Student Age:\", student1.get_age())\n"
   ]
  },
  {
   "cell_type": "markdown",
   "id": "31964f5c-7bbe-4566-9765-aeb15c641951",
   "metadata": {},
   "source": [
    "In this example:\n",
    "\n",
    "The Student class has private attributes _name and _age.\n",
    "Getter methods (get_name and get_age) are used to retrieve the values of these private attributes.\n",
    "Setter methods (set_name and set_age) are used to modify the values of these private attributes. The setter for age includes a check to ensure that the age is greater than 0.\n",
    "Using getters and setters allows you to control access to the internal state of the object and add validation or logic if needed. Note that in Python, the use of properties is a common alternative to explicit getter and setter methods."
   ]
  },
  {
   "cell_type": "markdown",
   "id": "ca56b1c9-c27e-4b04-8a66-3f81e976a03f",
   "metadata": {},
   "source": [
    "Q5.What is method overriding in python? Write a python code to demonstrate method overriding."
   ]
  },
  {
   "cell_type": "code",
   "execution_count": 5,
   "id": "e89bb16d-988d-4584-b0d1-568d1e55d21e",
   "metadata": {},
   "outputs": [
    {
     "name": "stdout",
     "output_type": "stream",
     "text": [
      "Generic animal sound\n",
      "Woof! Woof!\n",
      "Meow\n"
     ]
    }
   ],
   "source": [
    "class Animal:\n",
    "    def make_sound(self):\n",
    "        print(\"Generic animal sound\")\n",
    "\n",
    "class Dog(Animal):\n",
    "    def make_sound(self):\n",
    "        print(\"Woof! Woof!\")\n",
    "\n",
    "class Cat(Animal):\n",
    "    def make_sound(self):\n",
    "        print(\"Meow\")\n",
    "\n",
    "# Example usage\n",
    "animal = Animal()\n",
    "dog = Dog()\n",
    "cat = Cat()\n",
    "\n",
    "# Calling the make_sound method on each object\n",
    "animal.make_sound()  # Output: Generic animal sound\n",
    "dog.make_sound()     # Output: Woof! Woof!\n",
    "cat.make_sound()     # Output: Meow\n"
   ]
  },
  {
   "cell_type": "markdown",
   "id": "df5ccb02-e509-4216-86f9-63fb5fa8ff2a",
   "metadata": {},
   "source": [
    "In this example:\n",
    "\n",
    "The Animal class has a method called make_sound.\n",
    "The Dog and Cat classes are subclasses of Animal and both override the make_sound method with their own implementations.\n",
    "When the make_sound method is called on an object of the respective class, the overridden method in the subclass is executed.\n",
    "Method overriding is a fundamental concept in object-oriented programming that allows for specialization of behavior in subclasses while maintaining a consistent interface defined in the superclass."
   ]
  }
 ],
 "metadata": {
  "kernelspec": {
   "display_name": "Python 3 (ipykernel)",
   "language": "python",
   "name": "python3"
  },
  "language_info": {
   "codemirror_mode": {
    "name": "ipython",
    "version": 3
   },
   "file_extension": ".py",
   "mimetype": "text/x-python",
   "name": "python",
   "nbconvert_exporter": "python",
   "pygments_lexer": "ipython3",
   "version": "3.10.8"
  }
 },
 "nbformat": 4,
 "nbformat_minor": 5
}
