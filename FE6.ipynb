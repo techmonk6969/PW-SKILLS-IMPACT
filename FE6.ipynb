{
 "cells": [
  {
   "cell_type": "markdown",
   "id": "9a0d7d37-e0e3-4083-a9ee-5e3502e6ab9d",
   "metadata": {},
   "source": [
    "Q1. Pearson correlation coefficient is a measure of the linear relationship between two variables. Suppose\n",
    "you have collected data on the amount of time students spend studying for an exam and their final exam\n",
    "scores. Calculate the Pearson correlation coefficient between these two variables and interpret the result."
   ]
  },
  {
   "cell_type": "code",
   "execution_count": 1,
   "id": "13c32ff7-a60a-4f5d-ad08-3e436449bf8a",
   "metadata": {},
   "outputs": [
    {
     "name": "stdout",
     "output_type": "stream",
     "text": [
      "Pearson Correlation Coefficient: 0.9500315948254686\n"
     ]
    }
   ],
   "source": [
    "import numpy as np\n",
    "\n",
    "# Sample data\n",
    "study_time = np.array([10, 15, 8, 12, 14])\n",
    "exam_scores = np.array([75, 85, 62, 78, 88])\n",
    "\n",
    "# Calculate means\n",
    "mean_study_time = np.mean(study_time)\n",
    "mean_exam_scores = np.mean(exam_scores)\n",
    "\n",
    "# Calculate Pearson correlation coefficient\n",
    "numerator = np.sum((study_time - mean_study_time) * (exam_scores - mean_exam_scores))\n",
    "denominator = np.sqrt(np.sum((study_time - mean_study_time)**2) * np.sum((exam_scores - mean_exam_scores)**2))\n",
    "\n",
    "pearson_corr_coefficient = numerator / denominator\n",
    "\n",
    "print(\"Pearson Correlation Coefficient:\", pearson_corr_coefficient)\n"
   ]
  },
  {
   "cell_type": "markdown",
   "id": "ef471a79-26de-4823-8383-252b59497a41",
   "metadata": {},
   "source": [
    "Q2. Spearman's rank correlation is a measure of the monotonic relationship between two variables.\n",
    "Suppose you have collected data on the amount of sleep individuals get each night and their overall job\n",
    "satisfaction level on a scale of 1 to 10. Calculate the Spearman's rank correlation between these two\n",
    "variables and interpret the result."
   ]
  },
  {
   "cell_type": "code",
   "execution_count": 2,
   "id": "5f25344b-7d8b-4344-95b9-462a3565a7e3",
   "metadata": {},
   "outputs": [
    {
     "name": "stdout",
     "output_type": "stream",
     "text": [
      "Spearman's Rank Correlation Coefficient: 0.9746794344808963\n"
     ]
    }
   ],
   "source": [
    "import numpy as np\n",
    "from scipy.stats import spearmanr\n",
    "\n",
    "# Sample data\n",
    "sleep_hours = np.array([7, 6, 8, 5, 7])\n",
    "job_satisfaction = np.array([8, 6, 9, 5, 7])\n",
    "\n",
    "# Calculate Spearman's rank correlation coefficient\n",
    "spearman_corr, _ = spearmanr(sleep_hours, job_satisfaction)\n",
    "\n",
    "print(\"Spearman's Rank Correlation Coefficient:\", spearman_corr)\n"
   ]
  },
  {
   "cell_type": "markdown",
   "id": "5cb4f037-3d7e-451d-b038-de70fd038a64",
   "metadata": {},
   "source": [
    "Q3. Suppose you are conducting a study to examine the relationship between the number of hours of\n",
    "exercise per week and body mass index (BMI) in a sample of adults. You collected data on both variables\n",
    "for 50 participants. Calculate the Pearson correlation coefficient and the Spearman's rank correlation\n",
    "between these two variables and compare the results."
   ]
  },
  {
   "cell_type": "code",
   "execution_count": 3,
   "id": "178f3703-f9cf-4765-b296-30e91ede3da7",
   "metadata": {},
   "outputs": [
    {
     "name": "stdout",
     "output_type": "stream",
     "text": [
      "Pearson Correlation Coefficient: -0.958299837066582\n",
      "Spearman's Rank Correlation Coefficient: -0.9852308346560598\n"
     ]
    }
   ],
   "source": [
    "import numpy as np\n",
    "from scipy.stats import pearsonr, spearmanr\n",
    "\n",
    "# Sample data\n",
    "hours_of_exercise = np.array([3, 5, 2, 4, 6, 1, 3, 5, 2, 4,\n",
    "                              2, 6, 3, 5, 1, 4, 3, 5, 2, 4,\n",
    "                              2, 6, 3, 5, 1, 4, 3, 5, 2, 4,\n",
    "                              2, 6, 3, 5, 1, 4, 3, 5, 2, 4,\n",
    "                              2, 6, 3, 5, 1, 4, 3, 5, 2, 4])\n",
    "\n",
    "bmi = np.array([25, 22, 30, 24, 20, 32, 26, 23, 28, 25,\n",
    "                30, 20, 27, 22, 35, 24, 26, 23, 28, 25,\n",
    "                30, 20, 27, 22, 35, 24, 26, 23, 28, 25,\n",
    "                30, 20, 27, 22, 35, 24, 26, 23, 28, 25,\n",
    "                30, 20, 27, 22, 35, 24, 26, 23, 28, 25])\n",
    "\n",
    "# Calculate Pearson correlation coefficient\n",
    "pearson_corr, _ = pearsonr(hours_of_exercise, bmi)\n",
    "\n",
    "# Calculate Spearman's rank correlation coefficient\n",
    "spearman_corr, _ = spearmanr(hours_of_exercise, bmi)\n",
    "\n",
    "print(\"Pearson Correlation Coefficient:\", pearson_corr)\n",
    "print(\"Spearman's Rank Correlation Coefficient:\", spearman_corr)\n"
   ]
  },
  {
   "cell_type": "markdown",
   "id": "25994154-8a27-4a14-a69c-7443ad99cf84",
   "metadata": {},
   "source": [
    "The interpretation of the results:\n",
    "\n",
    "Pearson Correlation Coefficient (\n",
    "�\n",
    "r):\n",
    "\n",
    "Measures the linear relationship between two variables.\n",
    "Sensitive to outliers and assumes linearity.\n",
    "Interpreted as follows:\n",
    "If \n",
    "�\n",
    ">\n",
    "0\n",
    "r>0: Positive correlation, as the number of hours of exercise increases, BMI tends to increase.\n",
    "If \n",
    "�\n",
    "<\n",
    "0\n",
    "r<0: Negative correlation, as the number of hours of exercise increases, BMI tends to decrease.\n",
    "The closer \n",
    "∣\n",
    "�\n",
    "∣\n",
    "∣r∣ is to 1, the stronger the linear relationship.\n",
    "Spearman's Rank Correlation Coefficient (\n",
    "�\n",
    "ρ):\n",
    "\n",
    "Measures the monotonic relationship between two variables.\n",
    "Less sensitive to outliers and does not assume linearity.\n",
    "Interpreted similarly to Pearson correlation:\n",
    "If \n",
    "�\n",
    ">\n",
    "0\n",
    "ρ>0: Positive monotonic relationship.\n",
    "If \n",
    "�\n",
    "<\n",
    "0\n",
    "ρ<0: Negative monotonic relationship.\n",
    "The closer \n",
    "∣\n",
    "�\n",
    "∣\n",
    "∣ρ∣ is to 1, the stronger the monotonic relationship.\n",
    "Comparing the two coefficients can provide insights into the nature of the relationship. If the relationship is linear, Pearson correlation may be more appropriate. If the relationship is monotonic but not strictly linear, Spearman's rank correlation may be more suitable.\n",
    "\n",
    "\n",
    "\n",
    "\n"
   ]
  },
  {
   "cell_type": "markdown",
   "id": "e8a0342a-0d8f-4ae7-a951-a887cd092b98",
   "metadata": {},
   "source": [
    "Q4. A researcher is interested in examining the relationship between the number of hours individuals\n",
    "spend watching television per day and their level of physical activity. The researcher collected data on\n",
    "both variables from a sample of 50 participants. Calculate the Pearson correlation coefficient between\n",
    "these two variables."
   ]
  },
  {
   "cell_type": "code",
   "execution_count": 4,
   "id": "403695f5-1796-4762-85ac-e8fe3940829e",
   "metadata": {},
   "outputs": [
    {
     "name": "stdout",
     "output_type": "stream",
     "text": [
      "Pearson Correlation Coefficient: -1.0\n"
     ]
    }
   ],
   "source": [
    "import numpy as np\n",
    "from scipy.stats import pearsonr\n",
    "\n",
    "# Sample data\n",
    "hours_of_tv = np.array([2, 3, 1, 4, 2, 3, 1, 4, 2, 3,\n",
    "                        1, 4, 2, 3, 1, 4, 2, 3, 1, 4,\n",
    "                        2, 3, 1, 4, 2, 3, 1, 4, 2, 3,\n",
    "                        1, 4, 2, 3, 1, 4, 2, 3, 1, 4,\n",
    "                        2, 3, 1, 4, 2, 3, 1, 4, 2, 3])\n",
    "\n",
    "physical_activity_level = np.array([3, 2, 4, 1, 3, 2, 4, 1, 3, 2,\n",
    "                                    4, 1, 3, 2, 4, 1, 3, 2, 4, 1,\n",
    "                                    3, 2, 4, 1, 3, 2, 4, 1, 3, 2,\n",
    "                                    4, 1, 3, 2, 4, 1, 3, 2, 4, 1,\n",
    "                                    3, 2, 4, 1, 3, 2, 4, 1, 3, 2])\n",
    "\n",
    "# Calculate Pearson correlation coefficient\n",
    "pearson_corr, _ = pearsonr(hours_of_tv, physical_activity_level)\n",
    "\n",
    "print(\"Pearson Correlation Coefficient:\", pearson_corr)\n"
   ]
  },
  {
   "cell_type": "markdown",
   "id": "4e5096a2-d54e-4c30-8222-a5239b99b4a6",
   "metadata": {},
   "source": [
    "Q5. A survey was conducted to examine the relationship between age and preference for a particular\n",
    "brand of soft drink. The survey results are shown below:  age 25 soft drink coke, age 42 soft drink pepsi , age 37 soft drink mountain dew , age 19 soft drink coke , age 31 soft drink pepsi , age 28 soft drink coke"
   ]
  },
  {
   "cell_type": "code",
   "execution_count": 5,
   "id": "187e94b8-354f-4631-bc92-b62ffe542355",
   "metadata": {},
   "outputs": [
    {
     "name": "stdout",
     "output_type": "stream",
     "text": [
      "Pearson Correlation Coefficient: 0.7691751415594736\n",
      "Spearman's Rank Correlation Coefficient: 0.8332380897952965\n"
     ]
    }
   ],
   "source": [
    "import pandas as pd\n",
    "from scipy.stats import pearsonr, spearmanr\n",
    "\n",
    "# Sample data\n",
    "data = {'Age': [25, 42, 37, 19, 31, 28],\n",
    "        'Soft_Drink': ['Coke', 'Pepsi', 'Mountain Dew', 'Coke', 'Pepsi', 'Coke']}\n",
    "\n",
    "df = pd.DataFrame(data)\n",
    "\n",
    "# Calculate Pearson correlation coefficient\n",
    "pearson_corr, _ = pearsonr(df['Age'], df['Soft_Drink'].astype('category').cat.codes)\n",
    "\n",
    "# Calculate Spearman's rank correlation coefficient\n",
    "spearman_corr, _ = spearmanr(df['Age'], df['Soft_Drink'].astype('category').cat.codes)\n",
    "\n",
    "print(\"Pearson Correlation Coefficient:\", pearson_corr)\n",
    "print(\"Spearman's Rank Correlation Coefficient:\", spearman_corr)\n"
   ]
  },
  {
   "cell_type": "markdown",
   "id": "255c3894-5df1-44b1-bcc4-c2ead8df4a64",
   "metadata": {},
   "source": [
    "Q6. A company is interested in examining the relationship between the number of sales calls made per day\n",
    "and the number of sales made per week. The company collected data on both variables from a sample of\n",
    "30 sales representatives. Calculate the Pearson correlation coefficient between these two variables."
   ]
  },
  {
   "cell_type": "code",
   "execution_count": 6,
   "id": "589dfc7a-2ae0-4649-b521-1ec0d228477c",
   "metadata": {},
   "outputs": [
    {
     "name": "stdout",
     "output_type": "stream",
     "text": [
      "Pearson Correlation Coefficient: 0.98287040987021\n"
     ]
    }
   ],
   "source": [
    "import numpy as np\n",
    "from scipy.stats import pearsonr\n",
    "\n",
    "# Sample data\n",
    "sales_calls_per_day = np.array([20, 25, 18, 22, 28, 15, 21, 24, 19, 23,\n",
    "                                17, 26, 20, 27, 16, 25, 22, 28, 18, 23,\n",
    "                                19, 24, 20, 26, 17, 29, 21, 27, 16, 22])\n",
    "\n",
    "sales_per_week = np.array([150, 180, 120, 160, 200, 100, 140, 170, 130, 150,\n",
    "                            110, 190, 140, 200, 105, 180, 160, 210, 120, 170,\n",
    "                            130, 190, 150, 200, 110, 210, 140, 200, 100, 160])\n",
    "\n",
    "# Calculate Pearson correlation coefficient\n",
    "pearson_corr, _ = pearsonr(sales_calls_per_day, sales_per_week)\n",
    "\n",
    "print(\"Pearson Correlation Coefficient:\", pearson_corr)\n"
   ]
  },
  {
   "cell_type": "code",
   "execution_count": null,
   "id": "3365400a-853f-421e-b443-5fd77f8ad71a",
   "metadata": {},
   "outputs": [],
   "source": []
  }
 ],
 "metadata": {
  "kernelspec": {
   "display_name": "Python 3 (ipykernel)",
   "language": "python",
   "name": "python3"
  },
  "language_info": {
   "codemirror_mode": {
    "name": "ipython",
    "version": 3
   },
   "file_extension": ".py",
   "mimetype": "text/x-python",
   "name": "python",
   "nbconvert_exporter": "python",
   "pygments_lexer": "ipython3",
   "version": "3.10.8"
  }
 },
 "nbformat": 4,
 "nbformat_minor": 5
}
