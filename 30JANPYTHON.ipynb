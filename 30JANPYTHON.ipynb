{
 "cells": [
  {
   "cell_type": "code",
   "execution_count": 1,
   "id": "0173dd70-2745-4647-89c7-cedc36bb7e21",
   "metadata": {},
   "outputs": [
    {
     "name": "stdin",
     "output_type": "stream",
     "text": [
      "Enter the percentage:  90\n"
     ]
    },
    {
     "name": "stdout",
     "output_type": "stream",
     "text": [
      "Grade: B\n"
     ]
    }
   ],
   "source": [
    "#Q1\n",
    "# Accept percentage from the user\n",
    "percentage = float(input(\"Enter the percentage: \"))\n",
    "\n",
    "# Determine the grade based on the given criteria\n",
    "if percentage > 90:\n",
    "    grade = 'A'\n",
    "elif 80 < percentage <= 90:\n",
    "    grade = 'B'\n",
    "elif 60 <= percentage <= 80:\n",
    "    grade = 'C'\n",
    "else:\n",
    "    grade = 'D'\n",
    "\n",
    "# Display the grade\n",
    "print(f\"Grade: {grade}\")\n"
   ]
  },
  {
   "cell_type": "markdown",
   "id": "c7cb4ff2-bf45-4d8d-b6a2-720eef05da3d",
   "metadata": {},
   "source": [
    "The input() function is used to take the percentage as input from the user.\n",
    "The program then checks the percentage against the specified criteria using if, elif, and else statements.\n",
    "The corresponding grade is determined based on the conditions.\n",
    "Finally, the program prints the calculated grade.\n",
    "You can run this program and input different percentages to see the corresponding grades according to the specified criteria."
   ]
  },
  {
   "cell_type": "code",
   "execution_count": 2,
   "id": "38d77df4-da8e-4a1a-a2a6-719ac4121c85",
   "metadata": {},
   "outputs": [
    {
     "name": "stdin",
     "output_type": "stream",
     "text": [
      "Enter the cost price of the bike in Rs:  100000\n"
     ]
    },
    {
     "name": "stdout",
     "output_type": "stream",
     "text": [
      "Road Tax Percentage: 10%\n",
      "Road Tax Amount: Rs 10000.0\n"
     ]
    }
   ],
   "source": [
    "#Q2\n",
    "# Accept cost price from the user\n",
    "cost_price = float(input(\"Enter the cost price of the bike in Rs: \"))\n",
    "\n",
    "# Determine road tax based on the given criteria\n",
    "if cost_price > 100000:\n",
    "    road_tax_percentage = 15\n",
    "elif 50000 < cost_price <= 100000:\n",
    "    road_tax_percentage = 10\n",
    "else:\n",
    "    road_tax_percentage = 5\n",
    "\n",
    "# Calculate road tax amount\n",
    "road_tax_amount = (road_tax_percentage / 100) * cost_price\n",
    "\n",
    "# Display the road tax amount\n",
    "print(f\"Road Tax Percentage: {road_tax_percentage}%\")\n",
    "print(f\"Road Tax Amount: Rs {road_tax_amount}\")\n"
   ]
  },
  {
   "cell_type": "markdown",
   "id": "6752bb91-885e-47f6-b53b-c4e2e35569c0",
   "metadata": {},
   "source": [
    "In this program:\n",
    "\n",
    "The input() function is used to take the cost price as input from the user.\n",
    "The program then checks the cost price against the specified criteria using if, elif, and else statements.\n",
    "The corresponding road tax percentage is determined based on the conditions.\n",
    "The program calculates the road tax amount using the formula (road_tax_percentage / 100) * cost_price.\n",
    "Finally, the program prints the road tax percentage and the calculated road tax amount.\n",
    "You can run this program and input different cost prices to see the corresponding road tax based on the specified criteria."
   ]
  },
  {
   "cell_type": "code",
   "execution_count": 3,
   "id": "51556481-8ce6-4036-8924-da24ed691d78",
   "metadata": {},
   "outputs": [
    {
     "name": "stdin",
     "output_type": "stream",
     "text": [
      "Enter the name of the city:  delhi\n"
     ]
    },
    {
     "name": "stdout",
     "output_type": "stream",
     "text": [
      "In delhi, the famous monument is: Red Fort\n"
     ]
    }
   ],
   "source": [
    "#Q3 \n",
    "# Accept city name from the user\n",
    "city = input(\"Enter the name of the city: \")\n",
    "\n",
    "# Determine the monument based on the given criteria\n",
    "if city.lower() == \"delhi\":\n",
    "    monument = \"Red Fort\"\n",
    "elif city.lower() == \"agra\":\n",
    "    monument = \"Taj Mahal\"\n",
    "elif city.lower() == \"jaipur\":\n",
    "    monument = \"Jal Mahal\"\n",
    "else:\n",
    "    monument = \"Monument information not available for this city\"\n",
    "\n",
    "# Display the monument\n",
    "print(f\"In {city}, the famous monument is: {monument}\")\n"
   ]
  },
  {
   "cell_type": "markdown",
   "id": "e1e06760-626a-440d-a256-547822f4ef96",
   "metadata": {},
   "source": [
    "In this program:\n",
    "\n",
    "The input() function is used to take the city name as input from the user.\n",
    "The program checks the city name against the specified criteria using if, elif, and else statements.\n",
    "The corresponding monument is determined based on the conditions.\n",
    "Finally, the program prints the name of the monument associated with the given city.\n",
    "You can run this program and input different city names to see the corresponding monuments based on the specified criteria. Note that the comparison is case-insensitive using lower() to handle variations in capitalization.\n",
    "\n",
    "\n",
    "\n",
    "\n"
   ]
  },
  {
   "cell_type": "markdown",
   "id": "c3da78c4-b899-4271-8482-13c4f7cf35b8",
   "metadata": {},
   "source": [
    "Q4.check how many times a given number can be divided by 3 before it is less than or equal to 10"
   ]
  },
  {
   "cell_type": "code",
   "execution_count": 4,
   "id": "33a58b10-3d38-4e60-b02a-4ce87b744caa",
   "metadata": {},
   "outputs": [
    {
     "name": "stdin",
     "output_type": "stream",
     "text": [
      "Enter a number:  10\n"
     ]
    },
    {
     "name": "stdout",
     "output_type": "stream",
     "text": [
      "The given number can be divided by 3 0 times before it is less than or equal to 10.\n"
     ]
    }
   ],
   "source": [
    "# Accept a number from the user\n",
    "number = int(input(\"Enter a number: \"))\n",
    "\n",
    "# Initialize a counter for the number of divisions\n",
    "divisions_count = 0\n",
    "\n",
    "# Repeat division until the result is less than or equal to 10\n",
    "while number > 10:\n",
    "    number /= 3\n",
    "    divisions_count += 1\n",
    "\n",
    "# Display the number of divisions\n",
    "print(f\"The given number can be divided by 3 {divisions_count} times before it is less than or equal to 10.\")\n"
   ]
  },
  {
   "cell_type": "markdown",
   "id": "7f6afefb-d359-4508-98db-3ca00f7109bf",
   "metadata": {},
   "source": [
    "In this program:\n",
    "\n",
    "The input() function is used to take a number as input from the user.\n",
    "The program uses a while loop to repeatedly divide the number by 3 until it is less than or equal to 10.\n",
    "The divisions_count variable keeps track of the number of divisions.\n",
    "Finally, the program prints the number of times the given number can be divided by 3 before it is less than or equal to 10.\n",
    "You can run this program and input different numbers to see the results."
   ]
  },
  {
   "cell_type": "markdown",
   "id": "bb9e7262-6c89-4346-9077-626d2479d078",
   "metadata": {},
   "source": [
    "Q5.why and when to use while loop in python give a detailed description with example "
   ]
  },
  {
   "cell_type": "markdown",
   "id": "f5bfe780-3e92-48f5-bd7b-74e9d801f399",
   "metadata": {},
   "source": [
    "\n",
    "A while loop in Python is used to repeatedly execute a block of code as long as a certain condition remains true. It is especially useful when the number of iterations is not known in advance and is determined by a specific condition. The loop continues to execute until the condition becomes false.\n",
    "\n",
    "Here's a detailed description of why and when to use a while loop, along with an example:\n",
    "\n",
    "Why Use a while Loop?\n",
    "Unknown Number of Iterations:\n",
    "\n",
    "When you don't know in advance how many times the loop needs to execute.\n",
    "Useful for situations where the number of iterations depends on user input, data processing, or external factors.\n",
    "Dynamic Conditions:\n",
    "\n",
    "When the loop's termination condition is not based on a fixed number but rather on some dynamic or changing condition.\n",
    "Allows flexibility in responding to changes during the loop execution.\n",
    "Task Completion:\n",
    "\n",
    "When you need to repeatedly perform a task until a specific condition is met or a particular goal is achieved.\n",
    "Suitable for scenarios where the loop continues until a certain result is obtained.\n",
    "Example:\n",
    "Let's consider a scenario where we want to calculate the sum of numbers entered by the user until the user enters a negative number. In this case, we don't know in advance how many numbers the user will input, making a while loop appropriate."
   ]
  },
  {
   "cell_type": "code",
   "execution_count": 5,
   "id": "f45947b8-ef8c-43be-84b9-176ee3b2afca",
   "metadata": {},
   "outputs": [
    {
     "name": "stdin",
     "output_type": "stream",
     "text": [
      "Enter a number (enter a negative number to stop):  -5\n"
     ]
    },
    {
     "name": "stdout",
     "output_type": "stream",
     "text": [
      "The sum of the entered numbers is: 0\n"
     ]
    }
   ],
   "source": [
    "# Initialize sum and number variables\n",
    "sum_of_numbers = 0\n",
    "number = 0\n",
    "\n",
    "# Use a while loop to repeatedly get numbers from the user\n",
    "while number >= 0:\n",
    "    # Get a number from the user\n",
    "    number = int(input(\"Enter a number (enter a negative number to stop): \"))\n",
    "\n",
    "    # Add the number to the sum if it's non-negative\n",
    "    if number >= 0:\n",
    "        sum_of_numbers += number\n",
    "\n",
    "# Display the sum of the numbers\n",
    "print(f\"The sum of the entered numbers is: {sum_of_numbers}\")\n"
   ]
  },
  {
   "cell_type": "markdown",
   "id": "f3ccae68-35a7-49dd-9922-df88e5d4bc52",
   "metadata": {},
   "source": [
    "In this example:\n",
    "\n",
    "The while loop continues until the user enters a negative number.\n",
    "The loop iterates dynamically based on user input.\n",
    "The sum of the numbers is calculated within the loop.\n",
    "This program demonstrates the use of a while loop when the number of iterations depends on user input and is not known beforehand. The loop terminates when the user enters a negative number."
   ]
  },
  {
   "cell_type": "markdown",
   "id": "3d639bec-28d4-443e-a018-38c1688e7c6b",
   "metadata": {},
   "source": [
    "Q6.use nested while loop to print 3 different pattern \n",
    "\n"
   ]
  },
  {
   "cell_type": "code",
   "execution_count": 6,
   "id": "3d211912-ce36-4dba-94ec-362e9000c5cf",
   "metadata": {},
   "outputs": [
    {
     "name": "stdout",
     "output_type": "stream",
     "text": [
      "* \n",
      "* * \n",
      "* * * \n",
      "* * * * \n",
      "* * * * * \n"
     ]
    }
   ],
   "source": [
    "# Pattern 1: Right-angled Triangle\n",
    "i = 1\n",
    "while i <= 5:\n",
    "    j = 1\n",
    "    while j <= i:\n",
    "        print('*', end=' ')\n",
    "        j += 1\n",
    "    print()\n",
    "    i += 1\n"
   ]
  },
  {
   "cell_type": "code",
   "execution_count": 7,
   "id": "73c7ed6a-fa01-4554-812a-a1cb24ca4ab7",
   "metadata": {},
   "outputs": [
    {
     "name": "stdout",
     "output_type": "stream",
     "text": [
      "* * * * * \n",
      "* * * * * \n",
      "* * * * * \n",
      "* * * * * \n",
      "* * * * * \n"
     ]
    }
   ],
   "source": [
    "# Pattern 2: Square\n",
    "i = 1\n",
    "while i <= 5:\n",
    "    j = 1\n",
    "    while j <= 5:\n",
    "        print('*', end=' ')\n",
    "        j += 1\n",
    "    print()\n",
    "    i += 1\n"
   ]
  },
  {
   "cell_type": "code",
   "execution_count": 8,
   "id": "e236367d-5b5f-4fd5-9c26-10cbd00d197a",
   "metadata": {},
   "outputs": [
    {
     "name": "stdout",
     "output_type": "stream",
     "text": [
      "* * * * * \n",
      "* * * * \n",
      "* * * \n",
      "* * \n",
      "* \n"
     ]
    }
   ],
   "source": [
    "# Pattern 3: Inverted Right-angled Triangle\n",
    "i = 5\n",
    "while i >= 1:\n",
    "    j = 1\n",
    "    while j <= i:\n",
    "        print('*', end=' ')\n",
    "        j += 1\n",
    "    print()\n",
    "    i -= 1\n"
   ]
  },
  {
   "cell_type": "markdown",
   "id": "373208f8-b84b-44f4-84f2-4fad3aa2aed2",
   "metadata": {},
   "source": [
    "In each example, a nested while loop is used to control the printing of the patterns. The outer loop (while i <= 5 or while i >= 1) is responsible for handling the rows, and the inner loop (while j <= i) handles the printing of asterisks within each row. You can adjust the loop conditions and modify the patterns according to your requirements."
   ]
  },
  {
   "cell_type": "markdown",
   "id": "ab2378c6-c8a8-46b5-956a-4c5cbc33b273",
   "metadata": {},
   "source": [
    "Q7.reverse a while loop to display numbers from 10 to 1\n",
    "\n"
   ]
  },
  {
   "cell_type": "code",
   "execution_count": 9,
   "id": "1c622d88-1c9e-464f-a340-0005d2f093bd",
   "metadata": {},
   "outputs": [
    {
     "name": "stdout",
     "output_type": "stream",
     "text": [
      "10 9 8 7 6 5 4 3 2 1 "
     ]
    }
   ],
   "source": [
    "# Reverse While Loop to Display Numbers from 10 to 1\n",
    "number = 10\n",
    "while number >= 1:\n",
    "    print(number, end=' ')\n",
    "    number -= 1\n"
   ]
  },
  {
   "cell_type": "markdown",
   "id": "46d66707-5bc6-4187-9f40-791e7fa42c3e",
   "metadata": {},
   "source": [
    "In this example, the number variable is initially set to 10, and the while loop continues until number becomes less than 1. The loop decrements the number variable in each iteration and prints its value. This creates a reverse sequence of numbers from 10 to 1."
   ]
  },
  {
   "cell_type": "markdown",
   "id": "96ff9956-93a7-48c1-bb7c-54eb39d7ba88",
   "metadata": {},
   "source": [
    "Q8.reverse a while loop to display numbers from 10 to 1"
   ]
  },
  {
   "cell_type": "code",
   "execution_count": 10,
   "id": "fdb952d9-af1f-42c1-ab58-c0d862b33483",
   "metadata": {},
   "outputs": [
    {
     "name": "stdout",
     "output_type": "stream",
     "text": [
      "10 9 8 7 6 5 4 3 2 1 "
     ]
    }
   ],
   "source": [
    "# Reverse While Loop to Display Numbers from 10 to 1\n",
    "number = 10\n",
    "while number >= 1:\n",
    "    print(number, end=' ')\n",
    "    number -= 1\n"
   ]
  },
  {
   "cell_type": "markdown",
   "id": "ad0df575-9060-4794-8ea0-4976a21dc95e",
   "metadata": {},
   "source": [
    "In this example, the number variable is initially set to 10, and the while loop continues until number becomes less than 1. The loop decrements the number variable in each iteration and prints its value. This creates a reverse sequence of numbers from 10 to 1."
   ]
  }
 ],
 "metadata": {
  "kernelspec": {
   "display_name": "Python 3 (ipykernel)",
   "language": "python",
   "name": "python3"
  },
  "language_info": {
   "codemirror_mode": {
    "name": "ipython",
    "version": 3
   },
   "file_extension": ".py",
   "mimetype": "text/x-python",
   "name": "python",
   "nbconvert_exporter": "python",
   "pygments_lexer": "ipython3",
   "version": "3.10.8"
  }
 },
 "nbformat": 4,
 "nbformat_minor": 5
}
