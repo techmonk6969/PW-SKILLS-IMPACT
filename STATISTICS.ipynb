{
 "cells": [
  {
   "cell_type": "markdown",
   "id": "0a0a278c-0862-49b4-8d9f-2330af5e2e64",
   "metadata": {},
   "source": [
    "Q1. What is Statistics?"
   ]
  },
  {
   "cell_type": "markdown",
   "id": "b82a05fb-1de7-4e43-ab7e-20dde366ad35",
   "metadata": {},
   "source": [
    "Statistics is a branch of mathematics that deals with the collection, analysis, interpretation, presentation, and organization of data. It involves methods for gathering and summarizing information to make inferences and decisions in the presence of uncertainty. Statistics is widely used in various fields such as science, business, economics, social sciences, government, and more.\n",
    "\n",
    "There are two main branches of statistics:\n",
    "\n",
    "1. **Descriptive Statistics:** This branch involves the organization, summarization, and presentation of data. Descriptive statistics provide simple summaries about the main features of a dataset. Common measures in descriptive statistics include mean (average), median (middle value), mode (most frequent value), and measures of variability like standard deviation and range.\n",
    "\n",
    "2. **Inferential Statistics:** This branch involves drawing conclusions or inferences about a population based on a sample of data from that population. Inferential statistics use probability theory to make predictions and generalizations. Common techniques include hypothesis testing, confidence intervals, regression analysis, and analysis of variance.\n",
    "\n",
    "Key concepts in statistics include:\n",
    "\n",
    "- **Population and Sample:** A population is the entire set of individuals or instances about whom information is sought. A sample is a subset of the population used to make inferences about the population.\n",
    "\n",
    "- **Variable:** A characteristic or attribute that can vary among individuals or objects. Variables can be classified as either qualitative (categorical) or quantitative (numerical).\n",
    "\n",
    "- **Data:** Information collected on one or more variables. Data can be collected through various methods, such as surveys, experiments, observations, and more.\n",
    "\n",
    "- **Statistical Methods:** Various techniques are used to analyze and interpret data. These methods include probability theory, hypothesis testing, regression analysis, and others.\n",
    "\n",
    "- **Probability:** The likelihood or chance of an event occurring. Probability theory is a fundamental concept in statistics and is used to make predictions and draw conclusions about populations based on sample data.\n",
    "\n",
    "Statistics plays a crucial role in research, decision-making, and problem-solving across different disciplines. It helps individuals and organizations make informed choices by providing tools to analyze and understand data patterns and relationships."
   ]
  },
  {
   "cell_type": "markdown",
   "id": "b922e6c2-71fc-4c8f-8bfc-296bb65e3dd3",
   "metadata": {},
   "source": [
    "Q2. Define the different types of statistics and give an example of when each type might be used."
   ]
  },
  {
   "cell_type": "markdown",
   "id": "050d4a63-8d3d-4c00-b494-86217ea8a37b",
   "metadata": {},
   "source": [
    "Statistics can be broadly categorized into two main types: Descriptive Statistics and Inferential Statistics.\n",
    "\n",
    "1. **Descriptive Statistics:**\n",
    "   - **Definition:** Descriptive statistics involve the methods of summarizing, organizing, and presenting data in a meaningful way. They provide a clear and concise summary of the main features of a dataset without making any inferences about a larger population.\n",
    "   - **Example:** Imagine you have collected the scores of students in a class on a recent exam. Descriptive statistics would involve calculating the mean (average) score, the median (middle score), and the standard deviation (measure of variability) to provide a summary of how students performed on the exam.\n",
    "\n",
    "2. **Inferential Statistics:**\n",
    "   - **Definition:** Inferential statistics involve making predictions and inferences about a population based on a sample of data from that population. These methods use probability theory to draw conclusions and make generalizations.\n",
    "   - **Example:** Suppose you want to determine if a new teaching method has a significant impact on student performance. You could conduct an experiment where one group of students (sample) is taught using the new method, and another group (control) is taught using the traditional method. Inferential statistics, such as hypothesis testing, could then be used to assess whether any observed differences in performance are likely to be representative of the entire student population.\n",
    "\n",
    "Other Types of Statistics include:\n",
    "\n",
    "3. **Inferential Statistics:**\n",
    "   - **Definition:** Descriptive statistics involve the methods of summarizing, organizing, and presenting data in a meaningful way. They provide a clear and concise summary of the main features of a dataset without making any inferences about a larger population.\n",
    "   - **Example:** Imagine you have collected the scores of students in a class on a recent exam. Descriptive statistics would involve calculating the mean (average) score, the median (middle score), and the standard deviation (measure of variability) to provide a summary of how students performed on the exam.\n",
    "\n",
    "4. **Bayesian Statistics:**\n",
    "   - **Definition:** Bayesian statistics is an approach that combines prior knowledge or beliefs with observed data to update and refine the probability of hypotheses. It involves updating probabilities based on new evidence.\n",
    "   - **Example:** In medical research, Bayesian statistics can be used to update the probability of a treatment being effective based on new clinical trial results and prior knowledge about the treatment.\n",
    "\n",
    "5. **Non-parametric Statistics:**\n",
    "   - **Definition:** Non-parametric statistics are used when the data do not meet the assumptions of parametric statistics. These methods do not rely on specific distributional assumptions and are often used with ordinal or non-normally distributed data.\n",
    "   - **Example:** The Wilcoxon signed-rank test, a non-parametric test, can be used when comparing two related samples, and the assumption of normality is not met.\n",
    "\n",
    "Understanding these different types of statistics and when to apply them is crucial for researchers, analysts, and decision-makers in various fields. The choice of statistical methods depends on the nature of the data, the research question, and the assumptions underlying the analysis."
   ]
  },
  {
   "cell_type": "markdown",
   "id": "d19b06b0-e394-4667-a417-1c37f0fc36e8",
   "metadata": {},
   "source": [
    "Q3. What are the different types of data and how do they differ from each other? Provide an example of\n",
    "each type of data."
   ]
  },
  {
   "cell_type": "markdown",
   "id": "6f3948f4-24c6-4c62-bc77-60a974930467",
   "metadata": {},
   "source": [
    "Data can be classified into different types based on its nature and characteristics. The main types of data are:\n",
    "\n",
    "1. **Nominal Data:**\n",
    "   - **Definition:** Nominal data consists of categories or labels without any inherent order or ranking. Each category is distinct, and there is no numerical significance.\n",
    "   - **Example:** Colors of cars (e.g., red, blue, green) or types of fruits (e.g., apple, banana, orange) are examples of nominal data. The categories are distinct, but there is no inherent order or ranking among them.\n",
    "\n",
    "2. **Ordinal Data:**\n",
    "   - **Definition:** Ordinal data has categories with a meaningful order or ranking, but the intervals between the categories are not uniform or measurable.\n",
    "   - **Example:** Education levels (e.g., high school, bachelor's, master's) or customer satisfaction ratings (e.g., very dissatisfied, dissatisfied, neutral, satisfied, very satisfied) are examples of ordinal data. The order of categories is meaningful, but the difference between them may not be consistent.\n",
    "\n",
    "3. **Interval Data:**\n",
    "   - **Definition:** Interval data has ordered categories with uniform and measurable intervals between them. However, it lacks a true zero point, meaning that a value of zero does not represent the absence of the quantity being measured.\n",
    "   - **Example:** Temperature measured in Celsius or Fahrenheit is an example of interval data. While the intervals between degrees are consistent, zero degrees does not indicate the absence of temperature.\n",
    "\n",
    "4. **Ratio Data:**\n",
    "   - **Definition:** Ratio data has ordered categories with uniform intervals, a true zero point, and meaningful ratios between values. Ratios allow meaningful comparisons of the quantities being measured.\n",
    "   - **Example:** Height, weight, income, and age are examples of ratio data. These variables have a true zero point, and ratios between values are meaningful. For example, someone with a height of 180 cm is twice as tall as someone with a height of 90 cm.\n",
    "\n",
    "Understanding the type of data is essential because it influences the choice of statistical methods and analyses that can be applied. Nominal and ordinal data often require non-parametric statistical tests, while interval and ratio data allow for more advanced parametric analyses. Additionally, the type of data informs the appropriate visualization techniques for conveying information effectively."
   ]
  },
  {
   "cell_type": "markdown",
   "id": "00bc7879-e02c-4a28-9d8c-df205f36fad2",
   "metadata": {},
   "source": [
    "Q4. Categorise the following datasets with respect to quantitative and qualitative data types:\n",
    "(i) Grading in exam: A+, A, B+, B, C+, C, D, E\n",
    "(ii) Colour of mangoes: yellow, green, orange, red\n",
    "(iii) Height data of a class: [178.9, 179, 179.5, 176, 177.2, 178.3, 175.8,...]\n",
    "(iv) Number of mangoes exported by a farm: [500, 600, 478, 672, ...]"
   ]
  },
  {
   "cell_type": "markdown",
   "id": "7acdce99-8e41-41d9-bebb-1c3f4222e60f",
   "metadata": {},
   "source": [
    "Let's categorize the given datasets into quantitative and qualitative data types:\n",
    "\n",
    "(i) **Grading in exam: A+, A, B+, B, C+, C, D, E**\n",
    "   - **Type:** Qualitative (Ordinal)\n",
    "   - **Explanation:** The grades represent categories with a meaningful order, but the intervals between grades are not uniform or measurable. It is ordinal data.\n",
    "\n",
    "(ii) **Colour of mangoes: yellow, green, orange, red**\n",
    "   - **Type:** Qualitative (Nominal)\n",
    "   - **Explanation:** The colors represent distinct categories without any inherent order or ranking. It is nominal data.\n",
    "\n",
    "(iii) **Height data of a class: [178.9, 179, 179.5, 176, 177.2, 178.3, 175.8,...]**\n",
    "   - **Type:** Quantitative (Ratio)\n",
    "   - **Explanation:** Heights are numerical values with a true zero point and meaningful ratios between values. It is ratio data.\n",
    "\n",
    "(iv) **Number of mangoes exported by a farm: [500, 600, 478, 672, ...]**\n",
    "   - **Type:** Quantitative (Ratio)\n",
    "   - **Explanation:** The number of mangoes is a numerical variable with a true zero point and meaningful ratios between values. It is ratio data.\n",
    "\n",
    "In summary:\n",
    "- Grading in exam and Colour of mangoes are qualitative data.\n",
    "- Height data of a class and Number of mangoes exported by a farm are quantitative data."
   ]
  },
  {
   "cell_type": "markdown",
   "id": "ce69bc02-9c6b-4b25-96e6-71d896ad70ea",
   "metadata": {},
   "source": [
    "Q5. Explain the concept of levels of measurement and give an example of a variable for each level."
   ]
  },
  {
   "cell_type": "markdown",
   "id": "34b5ca17-8261-4cdf-b448-e1bed137ce47",
   "metadata": {},
   "source": [
    "Levels of measurement, also known as scales of measurement, refer to the different ways in which variables can be classified based on the nature of the data they represent. There are four main levels of measurement: Nominal, Ordinal, Interval, and Ratio.\n",
    "\n",
    "1. **Nominal Level of Measurement:**\n",
    "   - **Characteristics:**\n",
    "     - Categories with no inherent order or ranking.\n",
    "     - Only qualitative data.\n",
    "   - **Example:** Gender (male, female), Eye color (blue, brown, green), Marital status (single, married, divorced).\n",
    "\n",
    "2. **Ordinal Level of Measurement:**\n",
    "   - **Characteristics:**\n",
    "     - Categories with a meaningful order or ranking.\n",
    "     - Intervals between categories are not uniform or measurable.\n",
    "   - **Example:** Educational attainment (high school, bachelor's, master's), Survey ratings (very dissatisfied, dissatisfied, neutral, satisfied, very satisfied).\n",
    "\n",
    "3. **Interval Level of Measurement:**\n",
    "   - **Characteristics:**\n",
    "     - Ordered categories with uniform and measurable intervals between them.\n",
    "     - Lacks a true zero point (zero does not indicate the absence of the quantity).\n",
    "   - **Example:** Temperature in Celsius or Fahrenheit (e.g., 20°C, 30°C), IQ scores.\n",
    "\n",
    "4. **Ratio Level of Measurement:**\n",
    "   - **Characteristics:**\n",
    "     - Ordered categories with uniform and measurable intervals.\n",
    "     - Has a true zero point, where zero indicates the absence of the quantity.\n",
    "   - **Example:** Height in centimeters or inches, Weight in kilograms or pounds, Income in dollars.\n",
    "\n",
    "**Examples:**\n",
    "1. Nominal Example: Consider a variable \"Eye Color\" with categories \"Blue,\" \"Brown,\" and \"Green.\" The categories have no inherent order or ranking, and the variable is at the nominal level.\n",
    "\n",
    "2. Ordinal Example: Imagine a variable \"Education Level\" with categories \"High School,\" \"Bachelor's,\" and \"Master's.\" The categories have a meaningful order, but the intervals between them are not consistent.\n",
    "\n",
    "3. Interval Example: Take the variable \"Temperature in Celsius\" with values like 20°C and 30°C. While the intervals between degrees are consistent, there is no true zero point, making it an interval level variable.\n",
    "\n",
    "4. Ratio Example: Consider a variable \"Weight in Kilograms\" with values like 60 kg and 80 kg. It has ordered categories, uniform intervals, and a true zero point, making it a ratio level variable.\n",
    "\n",
    "Understanding the level of measurement is crucial for choosing appropriate statistical analyses and interpreting the results accurately. Higher levels of measurement allow for more advanced statistical techniques and provide richer information about the data."
   ]
  },
  {
   "cell_type": "markdown",
   "id": "c3333820-0b4d-4716-8d74-7fd406d76ffe",
   "metadata": {},
   "source": [
    "Q6. Why is it important to understand the level of measurement when analyzing data? Provide an\n",
    "example to illustrate your answer."
   ]
  },
  {
   "cell_type": "markdown",
   "id": "03068594-a8de-4f86-a577-54a0a1b46793",
   "metadata": {},
   "source": [
    "Understanding the level of measurement is crucial when analyzing data because it determines the types of statistical analyses that can be applied, the appropriate measures of central tendency and variability, and the nature of conclusions that can be drawn from the data. Different levels of measurement have distinct characteristics that guide the choice of statistical methods and interpretations. Here's why it's important:\n",
    "\n",
    "1. **Appropriate Statistical Analysis:**\n",
    "   - Different levels of measurement require different statistical techniques. For example, nominal and ordinal data often require non-parametric tests, while interval and ratio data allow for more advanced parametric analyses. Using the wrong statistical method may lead to inaccurate results.\n",
    "\n",
    "2. **Measures of Central Tendency and Dispersion:**\n",
    "   - The level of measurement influences the choice of measures of central tendency (mean, median, mode) and measures of dispersion (standard deviation, range). For instance, the mean is appropriate for interval and ratio data, while the median may be more suitable for ordinal data.\n",
    "\n",
    "3. **Inferential Statistics:**\n",
    "   - The level of measurement impacts the validity of inferential statistics, such as hypothesis testing and confidence intervals. The assumptions and requirements for these analyses depend on the nature of the data.\n",
    "\n",
    "4. **Interpretability and Generalization:**\n",
    "   - The level of measurement determines the extent to which findings can be generalized to a larger population. Ratio data, with a true zero point, allows for more meaningful and accurate generalizations compared to nominal or ordinal data.\n",
    "\n",
    "**Example:**\n",
    "Consider a study comparing the average income of employees across different departments in a company.\n",
    "\n",
    "- **Nominal Level:**\n",
    "   - If the data only includes the department names (e.g., HR, Finance, IT), at the nominal level, you can only determine frequencies and proportions of employees in each department. Statistical tests may be limited to non-parametric methods.\n",
    "\n",
    "- **Ordinal Level:**\n",
    "   - If the data includes ordinal rankings of departments (e.g., 1st, 2nd, 3rd), you can compare the rankings, but the intervals between rankings are not uniform. Statistical analyses might involve non-parametric tests or ordinal regression.\n",
    "\n",
    "- **Interval or Ratio Level:**\n",
    "   - If the data includes the actual income values for employees in each department (interval or ratio data), you can compute the mean income for each department and perform more sophisticated statistical analyses, such as analysis of variance (ANOVA) to compare means.\n",
    "\n",
    "Choosing the appropriate level of measurement ensures that the analysis aligns with the nature of the data and allows for meaningful and accurate conclusions to be drawn from the study."
   ]
  },
  {
   "cell_type": "markdown",
   "id": "f334fb71-4d82-497f-a161-220eaf766d4f",
   "metadata": {},
   "source": [
    "Q7. How nominal data type is different from ordinal data type."
   ]
  },
  {
   "cell_type": "markdown",
   "id": "196deda1-adba-4a99-93af-8d135fd22f7f",
   "metadata": {},
   "source": [
    "Nominal data and ordinal data are two different types of categorical data, and they differ in the level of measurement and the nature of their categories.\n",
    "\n",
    "1. **Nominal Data:**\n",
    "   - **Definition:** Nominal data consists of categories or labels without any inherent order or ranking. The categories are distinct and separate, but there is no implied order among them.\n",
    "   - **Examples:** Colors, gender, types of fruits, or car models. For example, the colors red, blue, and green are nominal categories.\n",
    "\n",
    "2. **Ordinal Data:**\n",
    "   - **Definition:** Ordinal data, on the other hand, has categories with a meaningful order or ranking, but the intervals between the categories are not uniform or meaningful. In ordinal data, the order matters, but the differences between the categories are not precisely quantifiable.\n",
    "   - **Examples:** Education levels, socioeconomic status, or customer satisfaction ratings (e.g., \"low,\" \"medium,\" \"high\"). The order in these categories is essential, but the difference between \"low\" and \"medium\" may not be the same as between \"medium\" and \"high.\"\n",
    "\n",
    "**Key Differences:**\n",
    "\n",
    "- **Ordering:** Nominal data has no inherent order among its categories, while ordinal data does have a meaningful order or ranking.\n",
    "- **Magnitude of Differences:** Ordinal data implies a rank order, but the intervals between the categories are not necessarily uniform or precisely quantifiable. Nominal data lacks both order and meaningful differences between categories.\n",
    "- **Examples:** Nominal examples include categories like colors or types of animals, where there is no inherent order. Ordinal examples include rankings like \"1st,\" \"2nd,\" \"3rd,\" where the order matters, but the exact difference between ranks may not be well-defined.\n",
    "\n",
    "In summary, while nominal data consists of unordered categories, ordinal data includes categories with a meaningful order or ranking, though the intervals between them may not be uniform or precisely measurable."
   ]
  },
  {
   "cell_type": "markdown",
   "id": "9509bfb1-0cbf-4204-bd24-2933b0efd7e4",
   "metadata": {},
   "source": [
    "Q8. Which type of plot can be used to display data in terms of range?"
   ]
  },
  {
   "cell_type": "markdown",
   "id": "43dae4ad-0206-46b0-8c53-e2ac43a9ade5",
   "metadata": {},
   "source": [
    "A plot that is commonly used to display data in terms of range is a **box plot** or **box-and-whisker plot**. Box plots provide a visual representation of the distribution, central tendency, and spread of a dataset, particularly highlighting the range of the data.\n",
    "\n",
    "Here's a brief explanation of how a box plot works:\n",
    "\n",
    "- The box in the plot represents the interquartile range (IQR), which is the range between the first quartile (Q1) and the third quartile (Q3). The width of the box illustrates the spread of the middle 50% of the data.\n",
    "\n",
    "- A line (whisker) extends from each end of the box to represent the minimum and maximum values within a certain range or a multiple of the IQR. Outliers may also be displayed as individual points beyond the whiskers.\n",
    "\n",
    "By using a box plot, you can quickly visualize the range of the data, identify any outliers, and understand the distribution of values. Box plots are especially useful when comparing the ranges of different groups or categories within a dataset.\n",
    "\n",
    "Other types of plots that can be used to display data in terms of range include range plots and range-bar charts. However, box plots are a popular choice due to their ability to provide a concise summary of the data's spread and central tendency."
   ]
  },
  {
   "cell_type": "markdown",
   "id": "8d219098-a222-4c8f-bed0-f5ee4ea5147d",
   "metadata": {},
   "source": [
    "Q9. Describe the difference between descriptive and inferential statistics. Give an example of each\n",
    "type of statistics and explain how they are used."
   ]
  },
  {
   "cell_type": "markdown",
   "id": "7d9f9b3e-a44b-49ca-9154-25fb760e32d2",
   "metadata": {},
   "source": [
    "**Descriptive Statistics:**\n",
    "- **Definition:** Descriptive statistics involve the organization, summarization, and presentation of data. It aims to describe and summarize the main features of a dataset without making inferences or drawing conclusions beyond the data at hand.\n",
    "- **Example:** Mean, median, mode, range, standard deviation, and histograms are examples of descriptive statistics. For instance, calculating the average (mean) income of a group of individuals provides a summary measure of the central tendency of that group's income.\n",
    "\n",
    "**How it is used:** Descriptive statistics are used to simplify and describe the main features of a dataset. They provide a snapshot of the data, helping to understand its central tendency, variability, and distribution. For example, in a business setting, a company might use descriptive statistics to summarize sales figures, identify trends, or understand the average performance of employees.\n",
    "\n",
    "**Inferential Statistics:**\n",
    "- **Definition:** Inferential statistics involve making inferences and predictions about a population based on a sample of data from that population. It uses probability theory to draw conclusions and make predictions about the entire population based on the observed sample data.\n",
    "- **Example:** Hypothesis testing, confidence intervals, and regression analysis are examples of inferential statistics. For instance, if a researcher wants to know if a new drug is effective, they might conduct a study on a sample of patients and use inferential statistics to make predictions about how the drug would perform in the entire population.\n",
    "\n",
    "**How it is used:** Inferential statistics are used when researchers or analysts want to generalize their findings from a sample to a larger population. This is common in scientific research, opinion polling, quality control in manufacturing, and many other fields. For example, a political poll might survey a sample of voters and use inferential statistics to estimate the likelihood of a candidate winning in the entire voting population.\n",
    "\n",
    "In summary, descriptive statistics describe and summarize data, while inferential statistics make predictions or inferences about a population based on a sample of data. Descriptive statistics provide a clear and concise summary of the main features of a dataset, while inferential statistics allow us to make broader predictions and draw conclusions beyond the observed data."
   ]
  },
  {
   "cell_type": "markdown",
   "id": "eb0a3865-ca9b-41ce-b498-47449b62b54e",
   "metadata": {},
   "source": [
    "Q10. What are some common measures of central tendency and variability used in statistics? Explain\n",
    "how each measure can be used to describe a dataset."
   ]
  },
  {
   "cell_type": "markdown",
   "id": "5f4eec97-ccb5-40fe-b195-dfdcbdf0efc1",
   "metadata": {},
   "source": [
    "**Measures of Central Tendency:**\n",
    "\n",
    "1. **Mean:**\n",
    "   - **Calculation:** The mean (average) is calculated by summing up all the values in a dataset and then dividing by the number of observations.\n",
    "   - **Use:** The mean represents the center of the data and is sensitive to extreme values. It is suitable for symmetric distributions.\n",
    "\n",
    "2. **Median:**\n",
    "   - **Calculation:** The median is the middle value when the data is sorted in ascending or descending order. If there's an even number of observations, the median is the average of the two middle values.\n",
    "   - **Use:** The median is robust to extreme values and is appropriate for skewed distributions. It provides a measure of central tendency that is not influenced by outliers.\n",
    "\n",
    "3. **Mode:**\n",
    "   - **Calculation:** The mode is the value that occurs most frequently in a dataset.\n",
    "   - **Use:** The mode is useful for categorical or discrete data. In some cases, a dataset may have one mode (unimodal), more than one mode (multimodal), or no mode at all.\n",
    "\n",
    "**Measures of Variability (Dispersion):**\n",
    "\n",
    "1. **Range:**\n",
    "   - **Calculation:** Range is the difference between the maximum and minimum values in a dataset.\n",
    "   - **Use:** Range provides a simple measure of the spread of the data. However, it is sensitive to outliers and may not reflect the overall distribution well.\n",
    "\n",
    "2. **Variance:**\n",
    "   - **Calculation:** Variance is the average of the squared differences between each data point and the mean. It measures the average deviation from the mean.\n",
    "   - **Use:** Variance gives an indication of how spread out the values are. However, the unit of variance is squared, so the standard deviation is often preferred for easier interpretation.\n",
    "\n",
    "3. **Standard Deviation:**\n",
    "   - **Calculation:** Standard deviation is the square root of the variance. It provides a measure of the average distance between each data point and the mean.\n",
    "   - **Use:** Standard deviation is widely used due to its intuitive interpretation. It gives a more straightforward measure of the spread than variance, as it is in the same unit as the original data.\n",
    "\n",
    "4. **Interquartile Range (IQR):**\n",
    "   - **Calculation:** IQR is the range between the first quartile (Q1) and the third quartile (Q3) in a dataset.\n",
    "   - **Use:** IQR is robust to extreme values and is often used as a measure of spread for skewed distributions. It is less sensitive to outliers than the range.\n",
    "\n",
    "These measures provide insights into different aspects of a dataset's central tendency and variability, helping researchers and analysts better understand the characteristics of the data. The choice of which measure to use depends on the nature of the data and the goals of the analysis."
   ]
  }
 ],
 "metadata": {
  "kernelspec": {
   "display_name": "Python 3 (ipykernel)",
   "language": "python",
   "name": "python3"
  },
  "language_info": {
   "codemirror_mode": {
    "name": "ipython",
    "version": 3
   },
   "file_extension": ".py",
   "mimetype": "text/x-python",
   "name": "python",
   "nbconvert_exporter": "python",
   "pygments_lexer": "ipython3",
   "version": "3.10.8"
  }
 },
 "nbformat": 4,
 "nbformat_minor": 5
}
