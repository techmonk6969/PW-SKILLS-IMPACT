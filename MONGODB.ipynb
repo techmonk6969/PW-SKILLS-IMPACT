{
 "cells": [
  {
   "cell_type": "markdown",
   "id": "edc5d2fd-0530-4231-aad7-7101cf5793d2",
   "metadata": {},
   "source": [
    "Q1. What is MongoDB? Explain non-relational databases in short. In which scenarios it is preferred to use\n",
    "MongoDB over SQL databases?"
   ]
  },
  {
   "cell_type": "markdown",
   "id": "e700e467-5b70-48fb-b464-f659c07cd83e",
   "metadata": {},
   "source": [
    "**MongoDB:**\n",
    "\n",
    "MongoDB is a popular NoSQL database management system that falls under the category of non-relational or NoSQL databases. Unlike traditional relational databases, MongoDB uses a flexible and schema-less document-oriented data model. MongoDB stores data in flexible, JSON-like documents, allowing for dynamic and hierarchical data structures. It is designed to handle large amounts of unstructured or semi-structured data and is well-suited for scalable and high-performance applications.\n",
    "\n",
    "**Non-Relational Databases:**\n",
    "\n",
    "Non-relational databases, often referred to as NoSQL databases, are a category of database systems that do not follow the traditional relational database model. Unlike relational databases, which use tables with predefined schemas and relationships, non-relational databases use various data models and structures. Some common types of non-relational databases include document-oriented databases (like MongoDB), key-value stores, column-family stores, and graph databases.\n",
    "\n",
    "**Scenarios to Prefer MongoDB over SQL Databases:**\n",
    "\n",
    "1. **Flexible Schema:**\n",
    "   - MongoDB allows for dynamic and flexible schemas, making it well-suited for scenarios where the data structure is not fixed and may evolve over time. This flexibility is beneficial for handling diverse and unpredictable data.\n",
    "\n",
    "2. **Hierarchical Data:**\n",
    "   - MongoDB's document-oriented model is excellent for storing hierarchical data structures, such as nested arrays and subdocuments. This is particularly useful for representing complex relationships within a single document.\n",
    "\n",
    "3. **Horizontal Scalability:**\n",
    "   - MongoDB is designed for horizontal scalability, allowing you to scale out by adding more servers to a distributed database system. This is advantageous for handling large volumes of data and high traffic.\n",
    "\n",
    "4. **JSON-Like Documents:**\n",
    "   - Data in MongoDB is represented as JSON-like BSON (Binary JSON) documents. This format is human-readable and easy to work with, especially for developers familiar with JavaScript Object Notation (JSON).\n",
    "\n",
    "5. **Agile Development:**\n",
    "   - MongoDB is often preferred in agile development environments where requirements may change frequently. Its flexible schema accommodates changes without requiring a predefined and rigid structure.\n",
    "\n",
    "6. **Large Volumes of Unstructured Data:**\n",
    "   - MongoDB is suitable for applications dealing with large volumes of unstructured or semi-structured data, such as social media platforms, content management systems, and real-time analytics.\n",
    "\n",
    "7. **Complex Queries:**\n",
    "   - MongoDB supports rich query capabilities, including support for indexing, range queries, and geospatial queries. This makes it suitable for applications with complex querying requirements.\n",
    "\n",
    "8. **Developer Productivity:**\n",
    "   - MongoDB's ease of use and developer-friendly features contribute to increased productivity, especially for projects where rapid development and prototyping are essential.\n",
    "\n",
    "While MongoDB offers advantages in certain scenarios, it's essential to consider the specific requirements and characteristics of the application when choosing between MongoDB and traditional SQL databases. Each type of database has its strengths and is better suited for different use cases."
   ]
  },
  {
   "cell_type": "markdown",
   "id": "aa36d6fa-f83d-489e-a90e-48eca685147c",
   "metadata": {},
   "source": [
    "Q2. State and Explain the features of MongoDB."
   ]
  },
  {
   "cell_type": "markdown",
   "id": "f558ec44-4abb-416d-a18f-27fe81247882",
   "metadata": {},
   "source": [
    "MongoDB is a widely-used NoSQL database management system known for its flexibility, scalability, and ease of use. Here are some key features of MongoDB:\n",
    "\n",
    "1. **Document-Oriented:**\n",
    "   - MongoDB stores data in flexible, JSON-like BSON (Binary JSON) documents. Each document can have a varying number of fields, and the data model is hierarchical, supporting nested arrays and subdocuments. This flexibility makes it well-suited for handling diverse and evolving data structures.\n",
    "\n",
    "2. **Dynamic Schema:**\n",
    "   - MongoDB does not require a predefined schema for data. Each document in a collection can have a different structure, allowing for dynamic and evolving schemas. This is beneficial in scenarios where the data structure is not fixed.\n",
    "\n",
    "3. **Scalability:**\n",
    "   - MongoDB is designed to scale horizontally, allowing you to distribute data across multiple servers or clusters. This horizontal scalability facilitates handling large amounts of data and high traffic by adding more servers to the database system.\n",
    "\n",
    "4. **Indexing:**\n",
    "   - MongoDB supports the creation of indexes on any field within a document, improving query performance. Indexes can be created on single fields, compound fields, and even fields within arrays.\n",
    "\n",
    "5. **Aggregation Framework:**\n",
    "   - MongoDB provides a powerful aggregation framework that allows users to perform data transformation and analysis operations. It includes a set of operators for filtering, grouping, sorting, and projecting data.\n",
    "\n",
    "6. **Rich Query Language:**\n",
    "   - MongoDB supports a rich query language with a wide range of query operators, making it easy to retrieve and manipulate data. It supports complex queries, geospatial queries, text search, and more.\n",
    "\n",
    "7. **Geospatial Capabilities:**\n",
    "   - MongoDB has built-in support for geospatial data and queries, making it suitable for applications that require location-based functionality. It can handle spatial data types like points, lines, and polygons.\n",
    "\n",
    "8. **Document Validation:**\n",
    "   - MongoDB allows the definition of schema validation rules at the collection level. This helps ensure data integrity by enforcing specific data types, field presence, and other constraints.\n",
    "\n",
    "9. **Security Features:**\n",
    "   - MongoDB provides security features such as authentication, authorization, and encryption. Access control is managed through role-based access control (RBAC), allowing fine-grained control over user permissions.\n",
    "\n",
    "10. **Auto-Sharding:**\n",
    "    - MongoDB supports automatic sharding, allowing data to be distributed across multiple servers or clusters. This feature enables horizontal scaling and improved performance for large datasets.\n",
    "\n",
    "11. **Schema Design and Maturity:**\n",
    "    - MongoDB provides tools and best practices for effective schema design. The database has matured over time, with a large and active community that contributes to its development.\n",
    "\n",
    "12. **Ease of Use:**\n",
    "    - MongoDB is known for its ease of use, with a simple and intuitive API. Developers can work with familiar data formats (JSON/BSON), and the query language is expressive and easy to learn.\n",
    "\n",
    "These features make MongoDB a popular choice for various applications, including web development, content management systems, real-time analytics, and more. It is important to evaluate these features in the context of specific application requirements when choosing a database system."
   ]
  },
  {
   "cell_type": "markdown",
   "id": "bcdd8d76-99e2-48af-975a-8919184cf74e",
   "metadata": {},
   "source": [
    "Q3. Write a code to connect MongoDB to Python. Also, create a database and a collection in MongoDB."
   ]
  },
  {
   "cell_type": "code",
   "execution_count": 1,
   "id": "a07056fe-11d7-4e5b-bb81-7d601ec2f0d6",
   "metadata": {},
   "outputs": [
    {
     "name": "stdout",
     "output_type": "stream",
     "text": [
      "Collecting pymongo\n",
      "  Downloading pymongo-4.6.1-cp310-cp310-manylinux_2_17_x86_64.manylinux2014_x86_64.whl (677 kB)\n",
      "\u001b[2K     \u001b[90m━━━━━━━━━━━━━━━━━━━━━━━━━━━━━━━━━━━━━━\u001b[0m \u001b[32m677.1/677.1 kB\u001b[0m \u001b[31m15.7 MB/s\u001b[0m eta \u001b[36m0:00:00\u001b[0m00:01\u001b[0m\n",
      "\u001b[?25hCollecting dnspython<3.0.0,>=1.16.0\n",
      "  Downloading dnspython-2.6.1-py3-none-any.whl (307 kB)\n",
      "\u001b[2K     \u001b[90m━━━━━━━━━━━━━━━━━━━━━━━━━━━━━━━━━━━━━━\u001b[0m \u001b[32m307.7/307.7 kB\u001b[0m \u001b[31m38.0 MB/s\u001b[0m eta \u001b[36m0:00:00\u001b[0m\n",
      "\u001b[?25hInstalling collected packages: dnspython, pymongo\n",
      "Successfully installed dnspython-2.6.1 pymongo-4.6.1\n",
      "Note: you may need to restart the kernel to use updated packages.\n"
     ]
    }
   ],
   "source": [
    "pip install pymongo\n"
   ]
  },
  {
   "cell_type": "code",
   "execution_count": 2,
   "id": "494893a6-a75c-472e-b852-7321c7056617",
   "metadata": {},
   "outputs": [
    {
     "ename": "ServerSelectionTimeoutError",
     "evalue": "localhost:27017: [Errno 111] Connection refused (configured timeouts: socketTimeoutMS: 20000.0ms, connectTimeoutMS: 20000.0ms), Timeout: 30s, Topology Description: <TopologyDescription id: 65d62b49281eda23014e4bdc, topology_type: Unknown, servers: [<ServerDescription ('localhost', 27017) server_type: Unknown, rtt: None, error=AutoReconnect('localhost:27017: [Errno 111] Connection refused (configured timeouts: socketTimeoutMS: 20000.0ms, connectTimeoutMS: 20000.0ms)')>]>",
     "output_type": "error",
     "traceback": [
      "\u001b[0;31m---------------------------------------------------------------------------\u001b[0m",
      "\u001b[0;31mServerSelectionTimeoutError\u001b[0m               Traceback (most recent call last)",
      "Cell \u001b[0;32mIn[2], line 14\u001b[0m\n\u001b[1;32m     12\u001b[0m \u001b[38;5;66;03m# Insert a document into the collection\u001b[39;00m\n\u001b[1;32m     13\u001b[0m document \u001b[38;5;241m=\u001b[39m {\u001b[38;5;124m\"\u001b[39m\u001b[38;5;124mname\u001b[39m\u001b[38;5;124m\"\u001b[39m: \u001b[38;5;124m\"\u001b[39m\u001b[38;5;124mJohn Doe\u001b[39m\u001b[38;5;124m\"\u001b[39m, \u001b[38;5;124m\"\u001b[39m\u001b[38;5;124mage\u001b[39m\u001b[38;5;124m\"\u001b[39m: \u001b[38;5;241m30\u001b[39m, \u001b[38;5;124m\"\u001b[39m\u001b[38;5;124mcity\u001b[39m\u001b[38;5;124m\"\u001b[39m: \u001b[38;5;124m\"\u001b[39m\u001b[38;5;124mNew York\u001b[39m\u001b[38;5;124m\"\u001b[39m}\n\u001b[0;32m---> 14\u001b[0m insert_result \u001b[38;5;241m=\u001b[39m \u001b[43mmycollection\u001b[49m\u001b[38;5;241;43m.\u001b[39;49m\u001b[43minsert_one\u001b[49m\u001b[43m(\u001b[49m\u001b[43mdocument\u001b[49m\u001b[43m)\u001b[49m\n\u001b[1;32m     16\u001b[0m \u001b[38;5;66;03m# Print the inserted document's ID\u001b[39;00m\n\u001b[1;32m     17\u001b[0m \u001b[38;5;28mprint\u001b[39m(\u001b[38;5;124m\"\u001b[39m\u001b[38;5;124mInserted document ID:\u001b[39m\u001b[38;5;124m\"\u001b[39m, insert_result\u001b[38;5;241m.\u001b[39minserted_id)\n",
      "File \u001b[0;32m/opt/conda/lib/python3.10/site-packages/pymongo/collection.py:669\u001b[0m, in \u001b[0;36mCollection.insert_one\u001b[0;34m(self, document, bypass_document_validation, session, comment)\u001b[0m\n\u001b[1;32m    665\u001b[0m     document[\u001b[38;5;124m\"\u001b[39m\u001b[38;5;124m_id\u001b[39m\u001b[38;5;124m\"\u001b[39m] \u001b[38;5;241m=\u001b[39m ObjectId()  \u001b[38;5;66;03m# type: ignore[index]\u001b[39;00m\n\u001b[1;32m    667\u001b[0m write_concern \u001b[38;5;241m=\u001b[39m \u001b[38;5;28mself\u001b[39m\u001b[38;5;241m.\u001b[39m_write_concern_for(session)\n\u001b[1;32m    668\u001b[0m \u001b[38;5;28;01mreturn\u001b[39;00m InsertOneResult(\n\u001b[0;32m--> 669\u001b[0m     \u001b[38;5;28;43mself\u001b[39;49m\u001b[38;5;241;43m.\u001b[39;49m\u001b[43m_insert_one\u001b[49m\u001b[43m(\u001b[49m\n\u001b[1;32m    670\u001b[0m \u001b[43m        \u001b[49m\u001b[43mdocument\u001b[49m\u001b[43m,\u001b[49m\n\u001b[1;32m    671\u001b[0m \u001b[43m        \u001b[49m\u001b[43mordered\u001b[49m\u001b[38;5;241;43m=\u001b[39;49m\u001b[38;5;28;43;01mTrue\u001b[39;49;00m\u001b[43m,\u001b[49m\n\u001b[1;32m    672\u001b[0m \u001b[43m        \u001b[49m\u001b[43mwrite_concern\u001b[49m\u001b[38;5;241;43m=\u001b[39;49m\u001b[43mwrite_concern\u001b[49m\u001b[43m,\u001b[49m\n\u001b[1;32m    673\u001b[0m \u001b[43m        \u001b[49m\u001b[43mop_id\u001b[49m\u001b[38;5;241;43m=\u001b[39;49m\u001b[38;5;28;43;01mNone\u001b[39;49;00m\u001b[43m,\u001b[49m\n\u001b[1;32m    674\u001b[0m \u001b[43m        \u001b[49m\u001b[43mbypass_doc_val\u001b[49m\u001b[38;5;241;43m=\u001b[39;49m\u001b[43mbypass_document_validation\u001b[49m\u001b[43m,\u001b[49m\n\u001b[1;32m    675\u001b[0m \u001b[43m        \u001b[49m\u001b[43msession\u001b[49m\u001b[38;5;241;43m=\u001b[39;49m\u001b[43msession\u001b[49m\u001b[43m,\u001b[49m\n\u001b[1;32m    676\u001b[0m \u001b[43m        \u001b[49m\u001b[43mcomment\u001b[49m\u001b[38;5;241;43m=\u001b[39;49m\u001b[43mcomment\u001b[49m\u001b[43m,\u001b[49m\n\u001b[1;32m    677\u001b[0m \u001b[43m    \u001b[49m\u001b[43m)\u001b[49m,\n\u001b[1;32m    678\u001b[0m     write_concern\u001b[38;5;241m.\u001b[39macknowledged,\n\u001b[1;32m    679\u001b[0m )\n",
      "File \u001b[0;32m/opt/conda/lib/python3.10/site-packages/pymongo/collection.py:609\u001b[0m, in \u001b[0;36mCollection._insert_one\u001b[0;34m(self, doc, ordered, write_concern, op_id, bypass_doc_val, session, comment)\u001b[0m\n\u001b[1;32m    597\u001b[0m     result \u001b[38;5;241m=\u001b[39m conn\u001b[38;5;241m.\u001b[39mcommand(\n\u001b[1;32m    598\u001b[0m         \u001b[38;5;28mself\u001b[39m\u001b[38;5;241m.\u001b[39m__database\u001b[38;5;241m.\u001b[39mname,\n\u001b[1;32m    599\u001b[0m         command,\n\u001b[0;32m   (...)\u001b[0m\n\u001b[1;32m    604\u001b[0m         retryable_write\u001b[38;5;241m=\u001b[39mretryable_write,\n\u001b[1;32m    605\u001b[0m     )\n\u001b[1;32m    607\u001b[0m     _check_write_command_response(result)\n\u001b[0;32m--> 609\u001b[0m \u001b[38;5;28;43mself\u001b[39;49m\u001b[38;5;241;43m.\u001b[39;49m\u001b[43m__database\u001b[49m\u001b[38;5;241;43m.\u001b[39;49m\u001b[43mclient\u001b[49m\u001b[38;5;241;43m.\u001b[39;49m\u001b[43m_retryable_write\u001b[49m\u001b[43m(\u001b[49m\u001b[43macknowledged\u001b[49m\u001b[43m,\u001b[49m\u001b[43m \u001b[49m\u001b[43m_insert_command\u001b[49m\u001b[43m,\u001b[49m\u001b[43m \u001b[49m\u001b[43msession\u001b[49m\u001b[43m)\u001b[49m\n\u001b[1;32m    611\u001b[0m \u001b[38;5;28;01mif\u001b[39;00m \u001b[38;5;129;01mnot\u001b[39;00m \u001b[38;5;28misinstance\u001b[39m(doc, RawBSONDocument):\n\u001b[1;32m    612\u001b[0m     \u001b[38;5;28;01mreturn\u001b[39;00m doc\u001b[38;5;241m.\u001b[39mget(\u001b[38;5;124m\"\u001b[39m\u001b[38;5;124m_id\u001b[39m\u001b[38;5;124m\"\u001b[39m)\n",
      "File \u001b[0;32m/opt/conda/lib/python3.10/site-packages/pymongo/mongo_client.py:1522\u001b[0m, in \u001b[0;36mMongoClient._retryable_write\u001b[0;34m(self, retryable, func, session, bulk)\u001b[0m\n\u001b[1;32m   1502\u001b[0m \u001b[38;5;28;01mdef\u001b[39;00m \u001b[38;5;21m_retryable_write\u001b[39m(\n\u001b[1;32m   1503\u001b[0m     \u001b[38;5;28mself\u001b[39m,\n\u001b[1;32m   1504\u001b[0m     retryable: \u001b[38;5;28mbool\u001b[39m,\n\u001b[0;32m   (...)\u001b[0m\n\u001b[1;32m   1507\u001b[0m     bulk: Optional[_Bulk] \u001b[38;5;241m=\u001b[39m \u001b[38;5;28;01mNone\u001b[39;00m,\n\u001b[1;32m   1508\u001b[0m ) \u001b[38;5;241m-\u001b[39m\u001b[38;5;241m>\u001b[39m T:\n\u001b[1;32m   1509\u001b[0m     \u001b[38;5;124;03m\"\"\"Execute an operation with consecutive retries if possible\u001b[39;00m\n\u001b[1;32m   1510\u001b[0m \n\u001b[1;32m   1511\u001b[0m \u001b[38;5;124;03m    Returns func()'s return value on success. On error retries the same\u001b[39;00m\n\u001b[0;32m   (...)\u001b[0m\n\u001b[1;32m   1520\u001b[0m \u001b[38;5;124;03m      - `bulk`: bulk abstraction to execute operations in bulk, defaults to None\u001b[39;00m\n\u001b[1;32m   1521\u001b[0m \u001b[38;5;124;03m    \"\"\"\u001b[39;00m\n\u001b[0;32m-> 1522\u001b[0m     \u001b[38;5;28;01mwith\u001b[39;00m \u001b[38;5;28mself\u001b[39m\u001b[38;5;241m.\u001b[39m_tmp_session(session) \u001b[38;5;28;01mas\u001b[39;00m s:\n\u001b[1;32m   1523\u001b[0m         \u001b[38;5;28;01mreturn\u001b[39;00m \u001b[38;5;28mself\u001b[39m\u001b[38;5;241m.\u001b[39m_retry_with_session(retryable, func, s, bulk)\n",
      "File \u001b[0;32m/opt/conda/lib/python3.10/contextlib.py:135\u001b[0m, in \u001b[0;36m_GeneratorContextManager.__enter__\u001b[0;34m(self)\u001b[0m\n\u001b[1;32m    133\u001b[0m \u001b[38;5;28;01mdel\u001b[39;00m \u001b[38;5;28mself\u001b[39m\u001b[38;5;241m.\u001b[39margs, \u001b[38;5;28mself\u001b[39m\u001b[38;5;241m.\u001b[39mkwds, \u001b[38;5;28mself\u001b[39m\u001b[38;5;241m.\u001b[39mfunc\n\u001b[1;32m    134\u001b[0m \u001b[38;5;28;01mtry\u001b[39;00m:\n\u001b[0;32m--> 135\u001b[0m     \u001b[38;5;28;01mreturn\u001b[39;00m \u001b[38;5;28;43mnext\u001b[39;49m\u001b[43m(\u001b[49m\u001b[38;5;28;43mself\u001b[39;49m\u001b[38;5;241;43m.\u001b[39;49m\u001b[43mgen\u001b[49m\u001b[43m)\u001b[49m\n\u001b[1;32m    136\u001b[0m \u001b[38;5;28;01mexcept\u001b[39;00m \u001b[38;5;167;01mStopIteration\u001b[39;00m:\n\u001b[1;32m    137\u001b[0m     \u001b[38;5;28;01mraise\u001b[39;00m \u001b[38;5;167;01mRuntimeError\u001b[39;00m(\u001b[38;5;124m\"\u001b[39m\u001b[38;5;124mgenerator didn\u001b[39m\u001b[38;5;124m'\u001b[39m\u001b[38;5;124mt yield\u001b[39m\u001b[38;5;124m\"\u001b[39m) \u001b[38;5;28;01mfrom\u001b[39;00m \u001b[38;5;28mNone\u001b[39m\n",
      "File \u001b[0;32m/opt/conda/lib/python3.10/site-packages/pymongo/mongo_client.py:1840\u001b[0m, in \u001b[0;36mMongoClient._tmp_session\u001b[0;34m(self, session, close)\u001b[0m\n\u001b[1;32m   1837\u001b[0m     \u001b[38;5;28;01myield\u001b[39;00m session\n\u001b[1;32m   1838\u001b[0m     \u001b[38;5;28;01mreturn\u001b[39;00m\n\u001b[0;32m-> 1840\u001b[0m s \u001b[38;5;241m=\u001b[39m \u001b[38;5;28;43mself\u001b[39;49m\u001b[38;5;241;43m.\u001b[39;49m\u001b[43m_ensure_session\u001b[49m\u001b[43m(\u001b[49m\u001b[43msession\u001b[49m\u001b[43m)\u001b[49m\n\u001b[1;32m   1841\u001b[0m \u001b[38;5;28;01mif\u001b[39;00m s:\n\u001b[1;32m   1842\u001b[0m     \u001b[38;5;28;01mtry\u001b[39;00m:\n",
      "File \u001b[0;32m/opt/conda/lib/python3.10/site-packages/pymongo/mongo_client.py:1823\u001b[0m, in \u001b[0;36mMongoClient._ensure_session\u001b[0;34m(self, session)\u001b[0m\n\u001b[1;32m   1818\u001b[0m     \u001b[38;5;28;01mreturn\u001b[39;00m session\n\u001b[1;32m   1820\u001b[0m \u001b[38;5;28;01mtry\u001b[39;00m:\n\u001b[1;32m   1821\u001b[0m     \u001b[38;5;66;03m# Don't make implicit sessions causally consistent. Applications\u001b[39;00m\n\u001b[1;32m   1822\u001b[0m     \u001b[38;5;66;03m# should always opt-in.\u001b[39;00m\n\u001b[0;32m-> 1823\u001b[0m     \u001b[38;5;28;01mreturn\u001b[39;00m \u001b[38;5;28;43mself\u001b[39;49m\u001b[38;5;241;43m.\u001b[39;49m\u001b[43m__start_session\u001b[49m\u001b[43m(\u001b[49m\u001b[38;5;28;43;01mTrue\u001b[39;49;00m\u001b[43m,\u001b[49m\u001b[43m \u001b[49m\u001b[43mcausal_consistency\u001b[49m\u001b[38;5;241;43m=\u001b[39;49m\u001b[38;5;28;43;01mFalse\u001b[39;49;00m\u001b[43m)\u001b[49m\n\u001b[1;32m   1824\u001b[0m \u001b[38;5;28;01mexcept\u001b[39;00m (ConfigurationError, InvalidOperation):\n\u001b[1;32m   1825\u001b[0m     \u001b[38;5;66;03m# Sessions not supported.\u001b[39;00m\n\u001b[1;32m   1826\u001b[0m     \u001b[38;5;28;01mreturn\u001b[39;00m \u001b[38;5;28;01mNone\u001b[39;00m\n",
      "File \u001b[0;32m/opt/conda/lib/python3.10/site-packages/pymongo/mongo_client.py:1766\u001b[0m, in \u001b[0;36mMongoClient.__start_session\u001b[0;34m(self, implicit, **kwargs)\u001b[0m\n\u001b[1;32m   1763\u001b[0m \u001b[38;5;28;01mdef\u001b[39;00m \u001b[38;5;21m__start_session\u001b[39m(\u001b[38;5;28mself\u001b[39m, implicit: \u001b[38;5;28mbool\u001b[39m, \u001b[38;5;241m*\u001b[39m\u001b[38;5;241m*\u001b[39mkwargs: Any) \u001b[38;5;241m-\u001b[39m\u001b[38;5;241m>\u001b[39m ClientSession:\n\u001b[1;32m   1764\u001b[0m     \u001b[38;5;66;03m# Raises ConfigurationError if sessions are not supported.\u001b[39;00m\n\u001b[1;32m   1765\u001b[0m     \u001b[38;5;28;01mif\u001b[39;00m implicit:\n\u001b[0;32m-> 1766\u001b[0m         \u001b[38;5;28;43mself\u001b[39;49m\u001b[38;5;241;43m.\u001b[39;49m\u001b[43m_topology\u001b[49m\u001b[38;5;241;43m.\u001b[39;49m\u001b[43m_check_implicit_session_support\u001b[49m\u001b[43m(\u001b[49m\u001b[43m)\u001b[49m\n\u001b[1;32m   1767\u001b[0m         server_session: Union[_EmptyServerSession, _ServerSession] \u001b[38;5;241m=\u001b[39m _EmptyServerSession()\n\u001b[1;32m   1768\u001b[0m     \u001b[38;5;28;01melse\u001b[39;00m:\n",
      "File \u001b[0;32m/opt/conda/lib/python3.10/site-packages/pymongo/topology.py:573\u001b[0m, in \u001b[0;36mTopology._check_implicit_session_support\u001b[0;34m(self)\u001b[0m\n\u001b[1;32m    571\u001b[0m \u001b[38;5;28;01mdef\u001b[39;00m \u001b[38;5;21m_check_implicit_session_support\u001b[39m(\u001b[38;5;28mself\u001b[39m) \u001b[38;5;241m-\u001b[39m\u001b[38;5;241m>\u001b[39m \u001b[38;5;28;01mNone\u001b[39;00m:\n\u001b[1;32m    572\u001b[0m     \u001b[38;5;28;01mwith\u001b[39;00m \u001b[38;5;28mself\u001b[39m\u001b[38;5;241m.\u001b[39m_lock:\n\u001b[0;32m--> 573\u001b[0m         \u001b[38;5;28;43mself\u001b[39;49m\u001b[38;5;241;43m.\u001b[39;49m\u001b[43m_check_session_support\u001b[49m\u001b[43m(\u001b[49m\u001b[43m)\u001b[49m\n",
      "File \u001b[0;32m/opt/conda/lib/python3.10/site-packages/pymongo/topology.py:589\u001b[0m, in \u001b[0;36mTopology._check_session_support\u001b[0;34m(self)\u001b[0m\n\u001b[1;32m    585\u001b[0m         \u001b[38;5;28mself\u001b[39m\u001b[38;5;241m.\u001b[39m_select_servers_loop(\n\u001b[1;32m    586\u001b[0m             any_server_selector, \u001b[38;5;28mself\u001b[39m\u001b[38;5;241m.\u001b[39mget_server_selection_timeout(), \u001b[38;5;28;01mNone\u001b[39;00m\n\u001b[1;32m    587\u001b[0m         )\n\u001b[1;32m    588\u001b[0m \u001b[38;5;28;01melif\u001b[39;00m \u001b[38;5;129;01mnot\u001b[39;00m \u001b[38;5;28mself\u001b[39m\u001b[38;5;241m.\u001b[39m_description\u001b[38;5;241m.\u001b[39mreadable_servers:\n\u001b[0;32m--> 589\u001b[0m     \u001b[38;5;28;43mself\u001b[39;49m\u001b[38;5;241;43m.\u001b[39;49m\u001b[43m_select_servers_loop\u001b[49m\u001b[43m(\u001b[49m\n\u001b[1;32m    590\u001b[0m \u001b[43m        \u001b[49m\u001b[43mreadable_server_selector\u001b[49m\u001b[43m,\u001b[49m\u001b[43m \u001b[49m\u001b[38;5;28;43mself\u001b[39;49m\u001b[38;5;241;43m.\u001b[39;49m\u001b[43mget_server_selection_timeout\u001b[49m\u001b[43m(\u001b[49m\u001b[43m)\u001b[49m\u001b[43m,\u001b[49m\u001b[43m \u001b[49m\u001b[38;5;28;43;01mNone\u001b[39;49;00m\n\u001b[1;32m    591\u001b[0m \u001b[43m    \u001b[49m\u001b[43m)\u001b[49m\n\u001b[1;32m    593\u001b[0m session_timeout \u001b[38;5;241m=\u001b[39m \u001b[38;5;28mself\u001b[39m\u001b[38;5;241m.\u001b[39m_description\u001b[38;5;241m.\u001b[39mlogical_session_timeout_minutes\n\u001b[1;32m    594\u001b[0m \u001b[38;5;28;01mif\u001b[39;00m session_timeout \u001b[38;5;129;01mis\u001b[39;00m \u001b[38;5;28;01mNone\u001b[39;00m:\n",
      "File \u001b[0;32m/opt/conda/lib/python3.10/site-packages/pymongo/topology.py:259\u001b[0m, in \u001b[0;36mTopology._select_servers_loop\u001b[0;34m(self, selector, timeout, address)\u001b[0m\n\u001b[1;32m    256\u001b[0m \u001b[38;5;28;01mwhile\u001b[39;00m \u001b[38;5;129;01mnot\u001b[39;00m server_descriptions:\n\u001b[1;32m    257\u001b[0m     \u001b[38;5;66;03m# No suitable servers.\u001b[39;00m\n\u001b[1;32m    258\u001b[0m     \u001b[38;5;28;01mif\u001b[39;00m timeout \u001b[38;5;241m==\u001b[39m \u001b[38;5;241m0\u001b[39m \u001b[38;5;129;01mor\u001b[39;00m now \u001b[38;5;241m>\u001b[39m end_time:\n\u001b[0;32m--> 259\u001b[0m         \u001b[38;5;28;01mraise\u001b[39;00m ServerSelectionTimeoutError(\n\u001b[1;32m    260\u001b[0m             \u001b[38;5;124mf\u001b[39m\u001b[38;5;124m\"\u001b[39m\u001b[38;5;132;01m{\u001b[39;00m\u001b[38;5;28mself\u001b[39m\u001b[38;5;241m.\u001b[39m_error_message(selector)\u001b[38;5;132;01m}\u001b[39;00m\u001b[38;5;124m, Timeout: \u001b[39m\u001b[38;5;132;01m{\u001b[39;00mtimeout\u001b[38;5;132;01m}\u001b[39;00m\u001b[38;5;124ms, Topology Description: \u001b[39m\u001b[38;5;132;01m{\u001b[39;00m\u001b[38;5;28mself\u001b[39m\u001b[38;5;241m.\u001b[39mdescription\u001b[38;5;132;01m!r}\u001b[39;00m\u001b[38;5;124m\"\u001b[39m\n\u001b[1;32m    261\u001b[0m         )\n\u001b[1;32m    263\u001b[0m     \u001b[38;5;28mself\u001b[39m\u001b[38;5;241m.\u001b[39m_ensure_opened()\n\u001b[1;32m    264\u001b[0m     \u001b[38;5;28mself\u001b[39m\u001b[38;5;241m.\u001b[39m_request_check_all()\n",
      "\u001b[0;31mServerSelectionTimeoutError\u001b[0m: localhost:27017: [Errno 111] Connection refused (configured timeouts: socketTimeoutMS: 20000.0ms, connectTimeoutMS: 20000.0ms), Timeout: 30s, Topology Description: <TopologyDescription id: 65d62b49281eda23014e4bdc, topology_type: Unknown, servers: [<ServerDescription ('localhost', 27017) server_type: Unknown, rtt: None, error=AutoReconnect('localhost:27017: [Errno 111] Connection refused (configured timeouts: socketTimeoutMS: 20000.0ms, connectTimeoutMS: 20000.0ms)')>]>"
     ]
    }
   ],
   "source": [
    "import pymongo\n",
    "\n",
    "# Connect to MongoDB (default connection to localhost)\n",
    "client = pymongo.MongoClient(\"mongodb://localhost:27017/\")\n",
    "\n",
    "# Create a database named \"mydatabase\"\n",
    "mydatabase = client[\"mydatabase\"]\n",
    "\n",
    "# Create a collection named \"mycollection\"\n",
    "mycollection = mydatabase[\"mycollection\"]\n",
    "\n",
    "# Insert a document into the collection\n",
    "document = {\"name\": \"John Doe\", \"age\": 30, \"city\": \"New York\"}\n",
    "insert_result = mycollection.insert_one(document)\n",
    "\n",
    "# Print the inserted document's ID\n",
    "print(\"Inserted document ID:\", insert_result.inserted_id)\n",
    "\n",
    "# Close the MongoDB connection\n",
    "client.close()\n"
   ]
  },
  {
   "cell_type": "markdown",
   "id": "1c52953e-ae2f-4ed6-a504-1caf572818f9",
   "metadata": {},
   "source": [
    "Explanation of the code:\n",
    "\n",
    "Connect to MongoDB:\n",
    "\n",
    "The pymongo.MongoClient is used to establish a connection to the MongoDB server. The default connection is to localhost on port 27017.\n",
    "Create a Database:\n",
    "\n",
    "The mydatabase = client[\"mydatabase\"] line creates a database named \"mydatabase\" using the client connection.\n",
    "Create a Collection:\n",
    "\n",
    "The mycollection = mydatabase[\"mycollection\"] line creates a collection named \"mycollection\" within the \"mydatabase\" database.\n",
    "Insert a Document:\n",
    "\n",
    "The mycollection.insert_one(document) line inserts a document (a JSON-like object) into the \"mycollection\" collection. In this example, a document with fields for name, age, and city is inserted.\n",
    "Print Inserted Document's ID:\n",
    "\n",
    "The insert_result.inserted_id prints the unique identifier (_id) assigned to the inserted document by MongoDB.\n",
    "Close the Connection:\n",
    "\n",
    "The client.close() line closes the connection to MongoDB once the operations are completed.\n",
    "Note: Make sure you have a running MongoDB server on your local machine, or replace the connection string with the appropriate MongoDB server URI if it's hosted remotely.\n",
    "\n",
    "This example demonstrates the basic steps of connecting to MongoDB, creating a database, creating a collection, and inserting a document. MongoDB creates a collection automatically if it doesn't exist when you insert the first document."
   ]
  },
  {
   "cell_type": "markdown",
   "id": "f78cdb01-bec8-4d57-abb2-0bb2b3b1d2ed",
   "metadata": {},
   "source": [
    "Q4. Using the database and the collection created in question number 3, write a code to insert one record,\n",
    "and insert many records. Use the find() and find_one() methods to print the inserted record."
   ]
  },
  {
   "cell_type": "code",
   "execution_count": null,
   "id": "023e4ed4-c4a0-4eae-ac59-2222036183f1",
   "metadata": {},
   "outputs": [],
   "source": [
    "import pymongo\n",
    "\n",
    "# Connect to MongoDB (default connection to localhost)\n",
    "client = pymongo.MongoClient(\"mongodb://localhost:27017/\")\n",
    "\n",
    "# Access the \"mydatabase\" database\n",
    "mydatabase = client[\"mydatabase\"]\n",
    "\n",
    "# Access the \"mycollection\" collection\n",
    "mycollection = mydatabase[\"mycollection\"]\n",
    "\n",
    "# Insert one record\n",
    "one_record = {\"name\": \"Alice Smith\", \"age\": 25, \"city\": \"San Francisco\"}\n",
    "insert_one_result = mycollection.insert_one(one_record)\n",
    "\n",
    "# Insert many records\n",
    "many_records = [\n",
    "    {\"name\": \"Bob Johnson\", \"age\": 28, \"city\": \"Seattle\"},\n",
    "    {\"name\": \"Charlie Brown\", \"age\": 22, \"city\": \"Los Angeles\"},\n",
    "    {\"name\": \"Diana Miller\", \"age\": 32, \"city\": \"Chicago\"}\n",
    "]\n",
    "insert_many_result = mycollection.insert_many(many_records)\n",
    "\n",
    "# Print the IDs of the inserted records\n",
    "print(\"Inserted One Record ID:\", insert_one_result.inserted_id)\n",
    "print(\"Inserted Many Records IDs:\", insert_many_result.inserted_ids)\n",
    "\n",
    "# Find and print one record\n",
    "found_one_record = mycollection.find_one({\"name\": \"Alice Smith\"})\n",
    "print(\"\\nFound One Record:\")\n",
    "print(found_one_record)\n",
    "\n",
    "# Find and print all records\n",
    "all_records = mycollection.find()\n",
    "print(\"\\nFound All Records:\")\n",
    "for record in all_records:\n",
    "    print(record)\n",
    "\n",
    "# Close the MongoDB connection\n",
    "client.close()\n"
   ]
  },
  {
   "cell_type": "markdown",
   "id": "1523c6a9-ba25-49c6-bef6-8611b87d672a",
   "metadata": {},
   "source": [
    "Explanation:\n",
    "\n",
    "Insert One Record:\n",
    "\n",
    "The insert_one() method inserts a single document into the collection.\n",
    "Insert Many Records:\n",
    "\n",
    "The insert_many() method inserts multiple documents into the collection.\n",
    "Print Inserted IDs:\n",
    "\n",
    "The IDs of the inserted records are printed to the console.\n",
    "Find and Print One Record:\n",
    "\n",
    "The find_one() method retrieves and prints one document that matches the specified query ({\"name\": \"Alice Smith\"}).\n",
    "Find and Print All Records:\n",
    "\n",
    "The find() method retrieves all documents in the collection, and a loop is used to print each document."
   ]
  },
  {
   "cell_type": "markdown",
   "id": "239a7cdf-6751-4275-9974-861b0f2de98c",
   "metadata": {},
   "source": [
    "Q5. Explain how you can use the find() method to query the MongoDB database. Write a simple code to\n",
    "demonstrate this."
   ]
  },
  {
   "cell_type": "code",
   "execution_count": null,
   "id": "ccbc1b0e-29a0-43f5-a724-adc578c782a5",
   "metadata": {},
   "outputs": [],
   "source": [
    "import pymongo\n",
    "\n",
    "# Connect to MongoDB (default connection to localhost)\n",
    "client = pymongo.MongoClient(\"mongodb://localhost:27017/\")\n",
    "\n",
    "# Access the \"mydatabase\" database\n",
    "mydatabase = client[\"mydatabase\"]\n",
    "\n",
    "# Access the \"mycollection\" collection\n",
    "mycollection = mydatabase[\"mycollection\"]\n",
    "\n",
    "# Insert some sample records (if not already inserted)\n",
    "sample_records = [\n",
    "    {\"name\": \"John Doe\", \"age\": 30, \"city\": \"New York\"},\n",
    "    {\"name\": \"Jane Smith\", \"age\": 25, \"city\": \"San Francisco\"},\n",
    "    {\"name\": \"Bob Johnson\", \"age\": 28, \"city\": \"Seattle\"}\n",
    "]\n",
    "mycollection.insert_many(sample_records)\n",
    "\n",
    "# Query using find()\n",
    "query = {\"age\": {\"$gte\": 28}}  # Find documents where age is greater than or equal to 28\n",
    "result_cursor = mycollection.find(query)\n",
    "\n",
    "# Print the result\n",
    "print(\"Documents with age greater than or equal to 28:\")\n",
    "for document in result_cursor:\n",
    "    print(document)\n",
    "\n",
    "# Close the MongoDB connection\n",
    "client.close()\n"
   ]
  },
  {
   "cell_type": "markdown",
   "id": "1d5bf892-6295-4719-ac3c-5e82d3ba0204",
   "metadata": {},
   "source": [
    "Explanation:\n",
    "\n",
    "Insert Sample Records:\n",
    "\n",
    "Before querying, some sample records are inserted into the collection for demonstration purposes.\n",
    "Query Using find():\n",
    "\n",
    "The find() method is used to query documents in the collection. In this example, it queries for documents where the \"age\" field is greater than or equal to 28.\n",
    "Print Result:\n",
    "\n",
    "The result cursor obtained from the find() method is iterated over to print the matching documents.\n",
    "In the query, { \"age\": { \"$gte\": 28 } } specifies the condition to find documents where the \"age\" field is greater than or equal to 28. MongoDB supports a rich query language with various operators, and queries can be customized based on different criteria."
   ]
  },
  {
   "cell_type": "markdown",
   "id": "b86df24f-c996-4060-a97f-096b0d2f963d",
   "metadata": {},
   "source": [
    "Q6. Explain the sort() method. Give an example to demonstrate sorting in MongoDB."
   ]
  },
  {
   "cell_type": "markdown",
   "id": "c1853e38-88e3-467d-bcce-ad4d7ce1ab48",
   "metadata": {},
   "source": [
    "The sort() method in MongoDB is used to sort the result of a query based on one or more fields. It allows you to specify the sort order (ascending or descending) for each field. The sort() method takes a dictionary as its argument, where each key represents a field, and the associated value indicates the sort order (1 for ascending, -1 for descending)."
   ]
  },
  {
   "cell_type": "code",
   "execution_count": null,
   "id": "8d4c0457-521a-4df5-aa02-962bbb8eeeb4",
   "metadata": {},
   "outputs": [],
   "source": [
    "import pymongo\n",
    "\n",
    "# Connect to MongoDB (default connection to localhost)\n",
    "client = pymongo.MongoClient(\"mongodb://localhost:27017/\")\n",
    "\n",
    "# Access the \"mydatabase\" database\n",
    "mydatabase = client[\"mydatabase\"]\n",
    "\n",
    "# Access the \"mycollection\" collection\n",
    "mycollection = mydatabase[\"mycollection\"]\n",
    "\n",
    "# Insert some sample records (if not already inserted)\n",
    "sample_records = [\n",
    "    {\"name\": \"John Doe\", \"age\": 30, \"city\": \"New York\"},\n",
    "    {\"name\": \"Jane Smith\", \"age\": 25, \"city\": \"San Francisco\"},\n",
    "    {\"name\": \"Bob Johnson\", \"age\": 28, \"city\": \"Seattle\"}\n",
    "]\n",
    "mycollection.insert_many(sample_records)\n",
    "\n",
    "# Query and sort using sort()\n",
    "query = {}  # An empty query to match all documents\n",
    "sort_order = [(\"age\", pymongo.DESCENDING)]  # Sort by \"age\" in descending order\n",
    "result_cursor = mycollection.find(query).sort(sort_order)\n",
    "\n",
    "# Print the sorted result\n",
    "print(\"Documents sorted by age in descending order:\")\n",
    "for document in result_cursor:\n",
    "    print(document)\n",
    "\n",
    "# Close the MongoDB connection\n",
    "client.close()\n"
   ]
  },
  {
   "cell_type": "markdown",
   "id": "32b3a8f3-3cfd-41c7-b4e7-09b1b15a0854",
   "metadata": {},
   "source": [
    "Explanation:\n",
    "\n",
    "Insert Sample Records:\n",
    "\n",
    "Sample records are inserted into the collection for demonstration purposes.\n",
    "Query and Sort Using sort():\n",
    "\n",
    "The find() method is used to query all documents, and the sort() method is applied to sort the result by the \"age\" field in descending order (pymongo.DESCENDING or -1).\n",
    "Print Sorted Result:\n",
    "\n",
    "The sorted result is printed to the console.\n",
    "In this example, the sort_order variable specifies that the sorting should be done based on the \"age\" field in descending order. The result cursor obtained from the find().sort() combination reflects the sorted order.\n",
    "\n",
    "You can customize the sorting by adding more fields and their corresponding sort orders to the sort_order list. For example, sort_order = [(\"age\", pymongo.DESCENDING), (\"name\", pymongo.ASCENDING)] would sort first by age in descending order and then by name in ascending order."
   ]
  },
  {
   "cell_type": "markdown",
   "id": "c1b71dda-65dc-4a4d-a516-970ef13cbf6d",
   "metadata": {},
   "source": [
    "Q7. Explain why delete_one(), delete_many(), and drop() is used."
   ]
  },
  {
   "cell_type": "markdown",
   "id": "d460ee2e-0863-4cae-8dfc-50e4d1f14f06",
   "metadata": {},
   "source": [
    "delete_one() Method:\n",
    "\n",
    "The delete_one() method is used to delete a single document from a collection that matches the specified criteria. If there are multiple documents that match the criteria, only the first document encountered is deleted."
   ]
  },
  {
   "cell_type": "code",
   "execution_count": null,
   "id": "5e779bf5-8db1-43d2-8c07-0c4448b8c43b",
   "metadata": {},
   "outputs": [],
   "source": [
    "import pymongo\n",
    "\n",
    "# Connect to MongoDB (default connection to localhost)\n",
    "client = pymongo.MongoClient(\"mongodb://localhost:27017/\")\n",
    "\n",
    "# Access the \"mydatabase\" database\n",
    "mydatabase = client[\"mydatabase\"]\n",
    "\n",
    "# Access the \"mycollection\" collection\n",
    "mycollection = mydatabase[\"mycollection\"]\n",
    "\n",
    "# Delete one document matching the criteria\n",
    "criteria = {\"name\": \"John Doe\"}\n",
    "mycollection.delete_one(criteria)\n",
    "\n",
    "# Close the MongoDB connection\n",
    "client.close()\n"
   ]
  },
  {
   "cell_type": "markdown",
   "id": "e75120c0-2005-4e01-93e2-99a5caee7f05",
   "metadata": {},
   "source": [
    "delete_many() Method:\n",
    "\n",
    "The delete_many() method is used to delete multiple documents from a collection that match the specified criteria. It removes all documents that satisfy the given conditions."
   ]
  },
  {
   "cell_type": "code",
   "execution_count": null,
   "id": "da35d8a1-b077-4d8d-9b01-8b36f28436bc",
   "metadata": {},
   "outputs": [],
   "source": [
    "import pymongo\n",
    "\n",
    "# Connect to MongoDB (default connection to localhost)\n",
    "client = pymongo.MongoClient(\"mongodb://localhost:27017/\")\n",
    "\n",
    "# Access the \"mydatabase\" database\n",
    "mydatabase = client[\"mydatabase\"]\n",
    "\n",
    "# Access the \"mycollection\" collection\n",
    "mycollection = mydatabase[\"mycollection\"]\n",
    "\n",
    "# Delete all documents matching the criteria\n",
    "criteria = {\"age\": {\"$gte\": 30}}  # Delete documents where age is greater than or equal to 30\n",
    "mycollection.delete_many(criteria)\n",
    "\n",
    "# Close the MongoDB connection\n",
    "client.close()\n"
   ]
  },
  {
   "cell_type": "markdown",
   "id": "7c482064-0a0f-4324-a7b2-341eea70f660",
   "metadata": {},
   "source": [
    "drop() Method:\n",
    "\n",
    "The drop() method is used to remove an entire collection from the database. It effectively deletes the collection along with all its documents."
   ]
  },
  {
   "cell_type": "code",
   "execution_count": null,
   "id": "f3ef1911-9698-4ac8-9515-a701cf3504ca",
   "metadata": {},
   "outputs": [],
   "source": [
    "import pymongo\n",
    "\n",
    "# Connect to MongoDB (default connection to localhost)\n",
    "client = pymongo.MongoClient(\"mongodb://localhost:27017/\")\n",
    "\n",
    "# Access the \"mydatabase\" database\n",
    "mydatabase = client[\"mydatabase\"]\n",
    "\n",
    "# Access the \"mycollection\" collection\n",
    "mycollection = mydatabase[\"mycollection\"]\n",
    "\n",
    "# Drop the entire collection\n",
    "mycollection.drop()\n",
    "\n",
    "# Close the MongoDB connection\n",
    "client.close()\n"
   ]
  },
  {
   "cell_type": "markdown",
   "id": "59ede649-fc89-4a1f-babe-57f7390cc5b1",
   "metadata": {},
   "source": [
    "Use Cases:\n",
    "\n",
    "Use delete_one() when you want to remove a specific document that matches a particular set of criteria.\n",
    "Use delete_many() when you want to remove multiple documents based on specific criteria.\n",
    "Use drop() when you want to completely remove an entire collection, including all its documents."
   ]
  }
 ],
 "metadata": {
  "kernelspec": {
   "display_name": "Python 3 (ipykernel)",
   "language": "python",
   "name": "python3"
  },
  "language_info": {
   "codemirror_mode": {
    "name": "ipython",
    "version": 3
   },
   "file_extension": ".py",
   "mimetype": "text/x-python",
   "name": "python",
   "nbconvert_exporter": "python",
   "pygments_lexer": "ipython3",
   "version": "3.10.8"
  }
 },
 "nbformat": 4,
 "nbformat_minor": 5
}
