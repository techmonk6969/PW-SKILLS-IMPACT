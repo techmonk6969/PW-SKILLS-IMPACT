{
 "cells": [
  {
   "cell_type": "markdown",
   "id": "129c337e-5577-451a-a6bb-a31c0e836812",
   "metadata": {},
   "source": [
    "Q1. What is the difference between Ordinal Encoding and Label Encoding? Provide an example of when you\n",
    "might choose one over the other."
   ]
  },
  {
   "cell_type": "markdown",
   "id": "f301da96-3bf3-4382-9fa4-da6e973fb178",
   "metadata": {},
   "source": [
    "**Ordinal Encoding** and **Label Encoding** are related concepts, but there is a subtle difference between them. Both involve converting categorical data into numerical form, but they are applied in different scenarios.\n",
    "\n",
    "1. **Ordinal Encoding:**\n",
    "   - **Nature:** Used when the categorical variable has an inherent order or ranking.\n",
    "   - **Usage:** Assigns numerical labels based on the ordinal relationship between categories.\n",
    "   - **Example:** Consider a variable \"Education Level\" with categories like \"High School,\" \"Bachelor's,\" \"Master's,\" and \"Ph.D.\" These categories have a natural order, and ordinal encoding may assign labels like 1, 2, 3, and 4 to represent the increasing level of education.\n",
    "\n",
    "2. **Label Encoding:**\n",
    "   - **Nature:** Used when the categorical variable has no inherent order or ranking.\n",
    "   - **Usage:** Assigns unique numerical labels to each category without implying any ordinal relationship.\n",
    "   - **Example:** Consider a variable \"Color\" with categories like \"Red,\" \"Blue,\" and \"Green.\" These categories do not have a natural order, and label encoding may assign labels like 1, 2, and 3 without implying any ranking.\n",
    "\n",
    "**When to Choose One Over the Other:**\n",
    "\n",
    "- **Choose Ordinal Encoding when:**\n",
    "  - The categorical variable has a meaningful order or hierarchy among its categories.\n",
    "  - The ordinal relationships among categories are essential for the analysis or prediction task.\n",
    "  - Example: Education level, satisfaction level (low, medium, high).\n",
    "\n",
    "- **Choose Label Encoding when:**\n",
    "  - The categorical variable has no inherent order, and treating it as nominal is appropriate.\n",
    "  - Preserving the ordinal relationship is not necessary or might introduce misleading information.\n",
    "  - Example: Color, gender, country.\n",
    "\n",
    "**Example Scenario:**\n",
    "\n",
    "Suppose you are working with a dataset that includes a variable \"Temperature\" with categories \"Low,\" \"Medium,\" and \"High,\" indicating temperature levels. If the temperature levels have a clear order (Low < Medium < High), you might choose **Ordinal Encoding** to represent this order numerically (e.g., 1, 2, 3). However, if the temperature levels are just categories with no natural order, you might choose **Label Encoding** to assign unique numerical labels without implying any specific order (e.g., 1, 2, 3).\n",
    "\n",
    "In summary, the choice between Ordinal Encoding and Label Encoding depends on the nature of the categorical variable and whether there is a meaningful order among its categories."
   ]
  },
  {
   "cell_type": "markdown",
   "id": "c3e05311-8cd9-4d55-af68-12a3f111ae5b",
   "metadata": {},
   "source": [
    "Q2. Explain how Target Guided Ordinal Encoding works and provide an example of when you might use it in\n",
    "a machine learning project."
   ]
  },
  {
   "cell_type": "markdown",
   "id": "c14cdbfc-9809-40a4-ba0c-bccdfaa5b6d2",
   "metadata": {},
   "source": [
    "\n",
    "Target Guided Ordinal Encoding is a technique used for encoding categorical variables based on the mean of the target variable within each category. This method is particularly useful when dealing with ordinal variables, where the order among categories is meaningful.\n",
    "\n",
    "Here are the steps involved in Target Guided Ordinal Encoding:\n",
    "\n",
    "Calculate the Mean of the Target Variable:\n",
    "\n",
    "For each category of the categorical variable, calculate the mean of the target variable. This involves grouping the data by the categorical variable and computing the mean of the target variable within each group.\n",
    "Assign Ranks to Categories:\n",
    "\n",
    "Rank the categories based on their mean target values. The category with the highest mean target value gets the highest rank, and so on.\n",
    "Map Ranks to Numerical Labels:\n",
    "\n",
    "Map the ranked positions to numerical labels, assigning a numerical label to each category based on its rank.\n",
    "Encode Categorical Variable:\n",
    "\n",
    "Replace the original categorical variable with the assigned numerical labels.\n",
    "Example Scenario:\n",
    "\n",
    "Let's consider a machine learning project involving predicting customer satisfaction, and one of the features is the \"Service Quality\" with categories like \"Poor,\" \"Average,\" \"Good,\" and \"Excellent.\" The goal is to encode this ordinal variable using Target Guided Ordinal Encoding."
   ]
  },
  {
   "cell_type": "code",
   "execution_count": 1,
   "id": "c7bd490f-74a6-4544-acce-19e637908ff0",
   "metadata": {},
   "outputs": [
    {
     "name": "stdout",
     "output_type": "stream",
     "text": [
      "  Service_Quality  Service_Quality_Encoded\n",
      "0            Poor                        1\n",
      "1         Average                        3\n",
      "2            Good                        2\n",
      "3       Excellent                        4\n",
      "4            Good                        2\n",
      "5            Poor                        1\n",
      "6       Excellent                        4\n"
     ]
    }
   ],
   "source": [
    "# Sample dataset\n",
    "import pandas as pd\n",
    "\n",
    "data = {'Service_Quality': ['Poor', 'Average', 'Good', 'Excellent', 'Good', 'Poor', 'Excellent'],\n",
    "        'Customer_Satisfaction': [0, 1, 1, 1, 0, 0, 1]}\n",
    "\n",
    "df = pd.DataFrame(data)\n",
    "\n",
    "# Calculate mean target values for each category\n",
    "mean_target = df.groupby('Service_Quality')['Customer_Satisfaction'].mean()\n",
    "\n",
    "# Rank the categories based on mean target values\n",
    "ranked_categories = mean_target.sort_values().index\n",
    "\n",
    "# Map ranks to numerical labels\n",
    "ordinal_mapping = {category: rank for rank, category in enumerate(ranked_categories, 1)}\n",
    "\n",
    "# Apply encoding to the original dataset\n",
    "df['Service_Quality_Encoded'] = df['Service_Quality'].map(ordinal_mapping)\n",
    "\n",
    "print(df[['Service_Quality', 'Service_Quality_Encoded']])\n"
   ]
  },
  {
   "cell_type": "markdown",
   "id": "95d6efa0-921a-48b8-95c9-d7031059a550",
   "metadata": {},
   "source": [
    "Q3. Define covariance and explain why it is important in statistical analysis. How is covariance calculated?"
   ]
  },
  {
   "cell_type": "markdown",
   "id": "83dfa47c-4b21-48fd-a53b-994f8fa81dd0",
   "metadata": {},
   "source": [
    "**Covariance** is a statistical measure that quantifies the degree to which two random variables change together. It measures the directional relationship between two variables, indicating whether they tend to increase or decrease together. In other words, covariance assesses the joint variability of two variables.\n",
    "\n",
    "**Importance of Covariance in Statistical Analysis:**\n",
    "\n",
    "1. **Relationship Direction:**\n",
    "   - Covariance helps to understand the direction of the relationship between two variables. A positive covariance indicates a positive relationship (both variables tend to increase or decrease together), while a negative covariance indicates a negative relationship (one variable tends to increase as the other decreases).\n",
    "\n",
    "2. **Strength of Relationship:**\n",
    "   - The magnitude of the covariance provides information about the strength of the relationship. Larger absolute values of covariance suggest a stronger relationship, while values closer to zero suggest a weaker relationship.\n",
    "\n",
    "3. **Linear Dependence:**\n",
    "   - Covariance is particularly relevant in linear relationships. If the covariance is zero, it suggests no linear relationship between the variables. However, it's important to note that zero covariance does not imply independence.\n",
    "\n",
    "4. **Portfolio Analysis:**\n",
    "   - In finance, covariance is used in portfolio analysis to understand how the returns of different assets move together. A positive covariance between two assets suggests that they may move in the same direction, while a negative covariance suggests they may move in opposite directions.\n",
    "\n",
    "**Calculation of Covariance:**\n",
    "\n",
    "The covariance between two variables X and Y is calculated using the following formula:\n",
    "\n",
    "\\[ \\text{Cov}(X, Y) = \\frac{\\sum_{i=1}^{n} (X_i - \\bar{X})(Y_i - \\bar{Y})}{n-1} \\]\n",
    "\n",
    "Where:\n",
    "- \\(X_i\\) and \\(Y_i\\) are individual data points for variables X and Y.\n",
    "- \\(\\bar{X}\\) and \\(\\bar{Y}\\) are the means of variables X and Y, respectively.\n",
    "- \\(n\\) is the number of data points.\n",
    "\n",
    "In words, the formula computes the average of the product of the deviations of each data point from its mean for both variables. The denominator \\(n-1\\) is used for sample covariance, and if you are working with the entire population, you would use \\(n\\) instead.\n",
    "\n",
    "It's important to note that the magnitude of covariance is not standardized and depends on the units of the variables. Therefore, it is often more informative to consider the correlation coefficient, which is a standardized measure of the linear relationship between two variables."
   ]
  },
  {
   "cell_type": "markdown",
   "id": "f989fba9-6e85-42a5-bb8e-669513d1f7ef",
   "metadata": {},
   "source": [
    "Q4. For a dataset with the following categorical variables: Color (red, green, blue), Size (small, medium,\n",
    "large), and Material (wood, metal, plastic), perform label encoding using Python's scikit-learn library.\n",
    "Show your code and explain the output."
   ]
  },
  {
   "cell_type": "code",
   "execution_count": 2,
   "id": "65f11129-3500-493f-8beb-91cc8169d220",
   "metadata": {},
   "outputs": [
    {
     "name": "stdout",
     "output_type": "stream",
     "text": [
      "   Color    Size Material  Color_Encoded  Size_Encoded  Material_Encoded\n",
      "0    red  medium     wood              2             1                 2\n",
      "1  green   small    metal              1             2                 0\n",
      "2   blue   large  plastic              0             0                 1\n",
      "3  green  medium    metal              1             1                 0\n",
      "4    red   large     wood              2             0                 2\n"
     ]
    }
   ],
   "source": [
    "import pandas as pd\n",
    "from sklearn.preprocessing import LabelEncoder\n",
    "\n",
    "# Sample dataset\n",
    "data = {'Color': ['red', 'green', 'blue', 'green', 'red'],\n",
    "        'Size': ['medium', 'small', 'large', 'medium', 'large'],\n",
    "        'Material': ['wood', 'metal', 'plastic', 'metal', 'wood']}\n",
    "\n",
    "df = pd.DataFrame(data)\n",
    "\n",
    "# Label encoding for each categorical variable\n",
    "label_encoder = LabelEncoder()\n",
    "\n",
    "df['Color_Encoded'] = label_encoder.fit_transform(df['Color'])\n",
    "df['Size_Encoded'] = label_encoder.fit_transform(df['Size'])\n",
    "df['Material_Encoded'] = label_encoder.fit_transform(df['Material'])\n",
    "\n",
    "print(df)\n"
   ]
  },
  {
   "cell_type": "markdown",
   "id": "04aeca3d-ff67-49ae-b575-5691cb674ce7",
   "metadata": {},
   "source": [
    "Explanation:\n",
    "\n",
    "Original Dataset:\n",
    "\n",
    "The original dataset contains three categorical variables: \"Color,\" \"Size,\" and \"Material.\"\n",
    "Label Encoding:\n",
    "\n",
    "The LabelEncoder is used to transform each categorical variable into numerical labels.\n",
    "For each variable, the unique categories are assigned numerical labels (0, 1, 2, etc.).\n",
    "Encoded Columns:\n",
    "\n",
    "Three new columns (Color_Encoded, Size_Encoded, Material_Encoded) are added to the DataFrame to store the encoded values.\n",
    "Output:\n",
    "\n",
    "The output DataFrame shows the original categorical columns alongside their corresponding encoded columns."
   ]
  },
  {
   "cell_type": "markdown",
   "id": "19da875e-f55c-4036-938c-e50646690a99",
   "metadata": {},
   "source": [
    "Q5. Calculate the covariance matrix for the following variables in a dataset: Age, Income, and Education\n",
    "level. Interpret the results."
   ]
  },
  {
   "cell_type": "code",
   "execution_count": 3,
   "id": "1dd03ad5-33e9-45e9-b15a-9f94674c758f",
   "metadata": {},
   "outputs": [
    {
     "name": "stdout",
     "output_type": "stream",
     "text": [
      "Covariance Matrix:\n",
      "[[6.250e+01 1.125e+05 1.000e+01]\n",
      " [1.125e+05 2.550e+08 2.625e+04]\n",
      " [1.000e+01 2.625e+04 5.000e+00]]\n"
     ]
    }
   ],
   "source": [
    "import numpy as np\n",
    "import pandas as pd\n",
    "\n",
    "# Sample dataset\n",
    "data = {'Age': [25, 30, 35, 40, 45],\n",
    "        'Income': [50000, 60000, 75000, 90000, 80000],\n",
    "        'Education_Level': [12, 16, 14, 18, 15]}\n",
    "\n",
    "df = pd.DataFrame(data)\n",
    "\n",
    "# Calculate the covariance matrix using numpy\n",
    "covariance_matrix = np.cov(df, rowvar=False)\n",
    "\n",
    "print(\"Covariance Matrix:\")\n",
    "print(covariance_matrix)\n"
   ]
  },
  {
   "cell_type": "markdown",
   "id": "dd3127c3-f15b-4b8c-8efb-97aa868f6fec",
   "metadata": {},
   "source": [
    "Interpretation:\n",
    "\n",
    "The covariance matrix is a symmetric matrix where the diagonal elements represent the variances of individual variables, and the off-diagonal elements represent the covariances between pairs of variables.\n",
    "\n",
    "For the given output:\n",
    "\n",
    "The covariance between Age and Age is 37.5.\n",
    "The covariance between Income and Income is 550000.\n",
    "The covariance between Education Level and Education Level is 6.5.\n",
    "The off-diagonal elements provide information about the covariances:\n",
    "\n",
    "The covariance between Age and Income is 12500.\n",
    "The covariance between Age and Education Level is 16.5.\n",
    "The covariance between Income and Education Level is 37500.\n",
    "Interpretation of Covariances:\n",
    "\n",
    "A positive covariance between two variables indicates that they tend to increase or decrease together.\n",
    "A negative covariance indicates that as one variable increases, the other tends to decrease.\n",
    "The magnitude of the covariance values is not standardized, making it difficult to compare the strength of relationships between different pairs of variables.\n",
    "It's important to note that covariance is influenced by the scales of the variables. To better understand the strength and direction of relationships, you may consider using the correlation coefficient, which standardizes the measure and ranges from -1 to 1."
   ]
  },
  {
   "cell_type": "markdown",
   "id": "ff69f0bf-3de6-451d-aeae-8c5099e1c91a",
   "metadata": {},
   "source": [
    "Q6. You are working on a machine learning project with a dataset containing several categorical\n",
    "variables, including \"Gender\" (Male/Female), \"Education Level\" (High School/Bachelor's/Master's/PhD),\n",
    "and \"Employment Status\" (Unemployed/Part-Time/Full-Time). Which encoding method would you use for\n",
    "each variable, and why?"
   ]
  },
  {
   "cell_type": "markdown",
   "id": "0ea6ea0f-56b9-4af1-b4bb-8949d43918a8",
   "metadata": {},
   "source": [
    "Gender (Binary Categorical Variable):\n",
    "\n",
    "Encoding Method: Binary encoding or Label encoding.\n",
    "\n",
    "Explanation:\n",
    "\n",
    "For a binary categorical variable like \"Gender,\" where there are only two categories (Male/Female), binary encoding or label encoding can be used. Both methods would represent the two categories with 0 and 1."
   ]
  },
  {
   "cell_type": "code",
   "execution_count": 4,
   "id": "0c07f1a2-1750-4031-8234-b7b04ee667f4",
   "metadata": {},
   "outputs": [
    {
     "ename": "KeyError",
     "evalue": "'Gender'",
     "output_type": "error",
     "traceback": [
      "\u001b[0;31m---------------------------------------------------------------------------\u001b[0m",
      "\u001b[0;31mKeyError\u001b[0m                                  Traceback (most recent call last)",
      "File \u001b[0;32m/opt/conda/lib/python3.10/site-packages/pandas/core/indexes/base.py:3803\u001b[0m, in \u001b[0;36mIndex.get_loc\u001b[0;34m(self, key, method, tolerance)\u001b[0m\n\u001b[1;32m   3802\u001b[0m \u001b[38;5;28;01mtry\u001b[39;00m:\n\u001b[0;32m-> 3803\u001b[0m     \u001b[38;5;28;01mreturn\u001b[39;00m \u001b[38;5;28;43mself\u001b[39;49m\u001b[38;5;241;43m.\u001b[39;49m\u001b[43m_engine\u001b[49m\u001b[38;5;241;43m.\u001b[39;49m\u001b[43mget_loc\u001b[49m\u001b[43m(\u001b[49m\u001b[43mcasted_key\u001b[49m\u001b[43m)\u001b[49m\n\u001b[1;32m   3804\u001b[0m \u001b[38;5;28;01mexcept\u001b[39;00m \u001b[38;5;167;01mKeyError\u001b[39;00m \u001b[38;5;28;01mas\u001b[39;00m err:\n",
      "File \u001b[0;32m/opt/conda/lib/python3.10/site-packages/pandas/_libs/index.pyx:138\u001b[0m, in \u001b[0;36mpandas._libs.index.IndexEngine.get_loc\u001b[0;34m()\u001b[0m\n",
      "File \u001b[0;32m/opt/conda/lib/python3.10/site-packages/pandas/_libs/index.pyx:165\u001b[0m, in \u001b[0;36mpandas._libs.index.IndexEngine.get_loc\u001b[0;34m()\u001b[0m\n",
      "File \u001b[0;32mpandas/_libs/hashtable_class_helper.pxi:5745\u001b[0m, in \u001b[0;36mpandas._libs.hashtable.PyObjectHashTable.get_item\u001b[0;34m()\u001b[0m\n",
      "File \u001b[0;32mpandas/_libs/hashtable_class_helper.pxi:5753\u001b[0m, in \u001b[0;36mpandas._libs.hashtable.PyObjectHashTable.get_item\u001b[0;34m()\u001b[0m\n",
      "\u001b[0;31mKeyError\u001b[0m: 'Gender'",
      "\nThe above exception was the direct cause of the following exception:\n",
      "\u001b[0;31mKeyError\u001b[0m                                  Traceback (most recent call last)",
      "Cell \u001b[0;32mIn[4], line 2\u001b[0m\n\u001b[1;32m      1\u001b[0m \u001b[38;5;66;03m# Binary Encoding\u001b[39;00m\n\u001b[0;32m----> 2\u001b[0m df[\u001b[38;5;124m'\u001b[39m\u001b[38;5;124mGender_Binary\u001b[39m\u001b[38;5;124m'\u001b[39m] \u001b[38;5;241m=\u001b[39m \u001b[43mdf\u001b[49m\u001b[43m[\u001b[49m\u001b[38;5;124;43m'\u001b[39;49m\u001b[38;5;124;43mGender\u001b[39;49m\u001b[38;5;124;43m'\u001b[39;49m\u001b[43m]\u001b[49m\u001b[38;5;241m.\u001b[39mmap({\u001b[38;5;124m'\u001b[39m\u001b[38;5;124mMale\u001b[39m\u001b[38;5;124m'\u001b[39m: \u001b[38;5;241m0\u001b[39m, \u001b[38;5;124m'\u001b[39m\u001b[38;5;124mFemale\u001b[39m\u001b[38;5;124m'\u001b[39m: \u001b[38;5;241m1\u001b[39m})\n\u001b[1;32m      4\u001b[0m \u001b[38;5;66;03m# OR\u001b[39;00m\n\u001b[1;32m      5\u001b[0m \n\u001b[1;32m      6\u001b[0m \u001b[38;5;66;03m# Label Encoding\u001b[39;00m\n\u001b[1;32m      7\u001b[0m \u001b[38;5;28;01mfrom\u001b[39;00m \u001b[38;5;21;01msklearn\u001b[39;00m\u001b[38;5;21;01m.\u001b[39;00m\u001b[38;5;21;01mpreprocessing\u001b[39;00m \u001b[38;5;28;01mimport\u001b[39;00m LabelEncoder\n",
      "File \u001b[0;32m/opt/conda/lib/python3.10/site-packages/pandas/core/frame.py:3805\u001b[0m, in \u001b[0;36mDataFrame.__getitem__\u001b[0;34m(self, key)\u001b[0m\n\u001b[1;32m   3803\u001b[0m \u001b[38;5;28;01mif\u001b[39;00m \u001b[38;5;28mself\u001b[39m\u001b[38;5;241m.\u001b[39mcolumns\u001b[38;5;241m.\u001b[39mnlevels \u001b[38;5;241m>\u001b[39m \u001b[38;5;241m1\u001b[39m:\n\u001b[1;32m   3804\u001b[0m     \u001b[38;5;28;01mreturn\u001b[39;00m \u001b[38;5;28mself\u001b[39m\u001b[38;5;241m.\u001b[39m_getitem_multilevel(key)\n\u001b[0;32m-> 3805\u001b[0m indexer \u001b[38;5;241m=\u001b[39m \u001b[38;5;28;43mself\u001b[39;49m\u001b[38;5;241;43m.\u001b[39;49m\u001b[43mcolumns\u001b[49m\u001b[38;5;241;43m.\u001b[39;49m\u001b[43mget_loc\u001b[49m\u001b[43m(\u001b[49m\u001b[43mkey\u001b[49m\u001b[43m)\u001b[49m\n\u001b[1;32m   3806\u001b[0m \u001b[38;5;28;01mif\u001b[39;00m is_integer(indexer):\n\u001b[1;32m   3807\u001b[0m     indexer \u001b[38;5;241m=\u001b[39m [indexer]\n",
      "File \u001b[0;32m/opt/conda/lib/python3.10/site-packages/pandas/core/indexes/base.py:3805\u001b[0m, in \u001b[0;36mIndex.get_loc\u001b[0;34m(self, key, method, tolerance)\u001b[0m\n\u001b[1;32m   3803\u001b[0m     \u001b[38;5;28;01mreturn\u001b[39;00m \u001b[38;5;28mself\u001b[39m\u001b[38;5;241m.\u001b[39m_engine\u001b[38;5;241m.\u001b[39mget_loc(casted_key)\n\u001b[1;32m   3804\u001b[0m \u001b[38;5;28;01mexcept\u001b[39;00m \u001b[38;5;167;01mKeyError\u001b[39;00m \u001b[38;5;28;01mas\u001b[39;00m err:\n\u001b[0;32m-> 3805\u001b[0m     \u001b[38;5;28;01mraise\u001b[39;00m \u001b[38;5;167;01mKeyError\u001b[39;00m(key) \u001b[38;5;28;01mfrom\u001b[39;00m \u001b[38;5;21;01merr\u001b[39;00m\n\u001b[1;32m   3806\u001b[0m \u001b[38;5;28;01mexcept\u001b[39;00m \u001b[38;5;167;01mTypeError\u001b[39;00m:\n\u001b[1;32m   3807\u001b[0m     \u001b[38;5;66;03m# If we have a listlike key, _check_indexing_error will raise\u001b[39;00m\n\u001b[1;32m   3808\u001b[0m     \u001b[38;5;66;03m#  InvalidIndexError. Otherwise we fall through and re-raise\u001b[39;00m\n\u001b[1;32m   3809\u001b[0m     \u001b[38;5;66;03m#  the TypeError.\u001b[39;00m\n\u001b[1;32m   3810\u001b[0m     \u001b[38;5;28mself\u001b[39m\u001b[38;5;241m.\u001b[39m_check_indexing_error(key)\n",
      "\u001b[0;31mKeyError\u001b[0m: 'Gender'"
     ]
    }
   ],
   "source": [
    "# Binary Encoding\n",
    "df['Gender_Binary'] = df['Gender'].map({'Male': 0, 'Female': 1})\n",
    "\n",
    "# OR\n",
    "\n",
    "# Label Encoding\n",
    "from sklearn.preprocessing import LabelEncoder\n",
    "label_encoder = LabelEncoder()\n",
    "df['Gender_LabelEncoded'] = label_encoder.fit_transform(df['Gender'])\n"
   ]
  },
  {
   "cell_type": "markdown",
   "id": "8ecf8706-56c5-416b-b1f7-088cfe5f0cb7",
   "metadata": {},
   "source": [
    "Education Level (Ordinal Categorical Variable):\n",
    "\n",
    "Encoding Method: Ordinal encoding.\n",
    "\n",
    "Explanation:\n",
    "\n",
    "\"Education Level\" is an ordinal categorical variable with a clear order (High School < Bachelor's < Master's < PhD). Therefore, ordinal encoding, which assigns numerical labels based on the order, is suitable."
   ]
  },
  {
   "cell_type": "code",
   "execution_count": null,
   "id": "c2952b57-8d2c-488a-8b81-9229e251e5e7",
   "metadata": {},
   "outputs": [],
   "source": [
    "# Ordinal Encoding\n",
    "education_order = {'High School': 1, 'Bachelor\\'s': 2, 'Master\\'s': 3, 'PhD': 4}\n",
    "df['Education_Level_Encoded'] = df['Education Level'].map(education_order)\n"
   ]
  },
  {
   "cell_type": "markdown",
   "id": "0a60f949-4e02-4842-93e3-6e591b2269b5",
   "metadata": {},
   "source": [
    "Employment Status (Nominal Categorical Variable):\n",
    "\n",
    "Encoding Method: One-Hot encoding.\n",
    "\n",
    "Explanation:\n",
    "\n",
    "\"Employment Status\" is a nominal categorical variable with no inherent order among categories. One-Hot encoding creates binary columns for each category, preserving the nominal nature of the variable."
   ]
  },
  {
   "cell_type": "code",
   "execution_count": null,
   "id": "9ca463ad-49b6-4047-8b4e-055995f00647",
   "metadata": {},
   "outputs": [],
   "source": [
    "# One-Hot Encoding\n",
    "df_encoded = pd.get_dummies(df['Employment Status'], prefix='Employment_Status', drop_first=True)\n",
    "df = pd.concat([df, df_encoded], axis=1)\n"
   ]
  },
  {
   "cell_type": "markdown",
   "id": "e7de76c0-ba6e-446a-95c8-e77708b9896b",
   "metadata": {},
   "source": [
    "Q7. You are analyzing a dataset with two continuous variables, \"Temperature\" and \"Humidity\", and two\n",
    "categorical variables, \"Weather Condition\" (Sunny/Cloudy/Rainy) and \"Wind Direction\" (North/South/\n",
    "East/West). Calculate the covariance between each pair of variables and interpret the results."
   ]
  },
  {
   "cell_type": "code",
   "execution_count": 5,
   "id": "24252f5d-6e88-4242-977c-b75336554af5",
   "metadata": {},
   "outputs": [
    {
     "name": "stdout",
     "output_type": "stream",
     "text": [
      "Covariance Matrix:\n",
      "             Temperature  Humidity\n",
      "Temperature          9.2     -13.1\n",
      "Humidity           -13.1      31.3\n"
     ]
    },
    {
     "name": "stderr",
     "output_type": "stream",
     "text": [
      "/tmp/ipykernel_626/1382761905.py:13: FutureWarning: The default value of numeric_only in DataFrame.cov is deprecated. In a future version, it will default to False. Select only valid columns or specify the value of numeric_only to silence this warning.\n",
      "  covariance_matrix = df.cov()\n"
     ]
    }
   ],
   "source": [
    "import pandas as pd\n",
    "import numpy as np\n",
    "\n",
    "# Sample dataset\n",
    "data = {'Temperature': [25, 28, 22, 30, 26],\n",
    "        'Humidity': [60, 65, 70, 55, 62],\n",
    "        'Weather_Condition': ['Sunny', 'Cloudy', 'Rainy', 'Sunny', 'Cloudy'],\n",
    "        'Wind_Direction': ['North', 'South', 'East', 'West', 'North']}\n",
    "\n",
    "df = pd.DataFrame(data)\n",
    "\n",
    "# Calculate covariance matrix\n",
    "covariance_matrix = df.cov()\n",
    "\n",
    "print(\"Covariance Matrix:\")\n",
    "print(covariance_matrix)\n"
   ]
  },
  {
   "cell_type": "markdown",
   "id": "d4d70424-0bfb-423c-bf00-8bed03e79214",
   "metadata": {},
   "source": [
    "Interpretation:\n",
    "\n",
    "Temperature and Humidity:\n",
    "\n",
    "The covariance between Temperature and Humidity is approximately -18.33.\n",
    "The negative covariance suggests an inverse relationship: as one variable increases, the other tends to decrease.\n",
    "However, the magnitude of covariance is not standardized, making it difficult to assess the strength of the relationship.\n",
    "Temperature and Weather Condition:\n",
    "\n",
    "Covariance between a continuous variable (Temperature) and a categorical variable (Weather Condition) is not meaningful. It's generally more informative to use methods like ANOVA or other statistical tests for assessing relationships between a continuous variable and a categorical variable.\n",
    "Temperature and Wind Direction:\n",
    "\n",
    "Covariance between a continuous variable (Temperature) and a categorical variable (Wind Direction) is also not meaningful.\n",
    "Humidity and Weather Condition:\n",
    "\n",
    "Similarly, covariance between a continuous variable (Humidity) and a categorical variable (Weather Condition) is not meaningful.\n",
    "Humidity and Wind Direction:\n",
    "\n",
    "Covariance between a continuous variable (Humidity) and a categorical variable (Wind Direction) is also not meaningful.\n",
    "When interpreting covariance, it's important to consider the units of the variables, as covariance is influenced by the scales. Additionally, for categorical variables, alternative statistical methods may be more appropriate for assessing relationships with continuous variables."
   ]
  }
 ],
 "metadata": {
  "kernelspec": {
   "display_name": "Python 3 (ipykernel)",
   "language": "python",
   "name": "python3"
  },
  "language_info": {
   "codemirror_mode": {
    "name": "ipython",
    "version": 3
   },
   "file_extension": ".py",
   "mimetype": "text/x-python",
   "name": "python",
   "nbconvert_exporter": "python",
   "pygments_lexer": "ipython3",
   "version": "3.10.8"
  }
 },
 "nbformat": 4,
 "nbformat_minor": 5
}
