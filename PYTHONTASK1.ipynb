{
 "cells": [
  {
   "cell_type": "markdown",
   "id": "21b6fdd7-35b9-428a-abd8-43d54b9a7d50",
   "metadata": {},
   "source": [
    "Q1. Create a function which will take a list as an argument and return the product of all the numbers\n",
    "after creating a flat list.\n",
    "Use the below-given list as an argument for your function.\n",
    "list1 = [1,2,3,4, [44,55,66, True], False, (34,56,78,89,34), {1,2,3,3,2,1}, {1:34, \"key2\": [55, 67, 78, 89], 4: (45,\n",
    "22, 61, 34)}, [56, 'data science'], 'Machine Learning']\n",
    "Note: you must extract numeric keys and values of the dictionary also."
   ]
  },
  {
   "cell_type": "code",
   "execution_count": 1,
   "id": "a74a0313-b05a-4097-972c-02e797373cf5",
   "metadata": {},
   "outputs": [
    {
     "name": "stdout",
     "output_type": "stream",
     "text": [
      "Product of all numeric elements after flattening: 0\n"
     ]
    }
   ],
   "source": [
    "def flatten_and_product(input_list):\n",
    "    flattened_list = []\n",
    "\n",
    "    def flatten(lst):\n",
    "        for item in lst:\n",
    "            if isinstance(item, (list, tuple, set)):\n",
    "                flatten(item)\n",
    "            elif isinstance(item, dict):\n",
    "                flatten(item.values())\n",
    "                flatten(item.keys())\n",
    "            elif isinstance(item, (int, float)):\n",
    "                flattened_list.append(item)\n",
    "\n",
    "    flatten(input_list)\n",
    "\n",
    "    product = 1\n",
    "    for num in flattened_list:\n",
    "        product *= num\n",
    "\n",
    "    return product\n",
    "\n",
    "# Given list\n",
    "list1 = [1, 2, 3, 4, [44, 55, 66, True], False, (34, 56, 78, 89, 34), {1, 2, 3, 3, 2, 1},\n",
    "         {1: 34, \"key2\": [55, 67, 78, 89], 4: (45, 22, 61, 34)}, [56, 'data science'], 'Machine Learning']\n",
    "\n",
    "# Call the function\n",
    "result = flatten_and_product(list1)\n",
    "\n",
    "# Display the result\n",
    "print(\"Product of all numeric elements after flattening:\", result)\n"
   ]
  },
  {
   "cell_type": "markdown",
   "id": "6bd413ee-601f-41ff-997f-768af53ea7bd",
   "metadata": {},
   "source": [
    "This function (flatten_and_product) recursively flattens the given list, including numeric values from dictionaries, and then calculates the product of all numeric elements in the flattened list. The result is then printed."
   ]
  },
  {
   "cell_type": "markdown",
   "id": "39d68296-0d04-46f1-97df-69fab1cc35f5",
   "metadata": {},
   "source": [
    "Q2. Write a python program for encrypting a message sent to you by your friend. The logic of encryption\n",
    "should be such that, for a the output should be z. For b, the output should be y. For c, the output should\n",
    "be x respectively. Also, the whitespace should be replaced with a dollar sign. Keep the punctuation\n",
    "marks unchanged.\n",
    "Input Sentence: I want to become a Data Scientist.\n",
    "Encrypt the above input sentence using the program you just created.\n",
    "Note: Convert the given input sentence into lowercase before encrypting. The final output should be\n",
    "lowercase."
   ]
  },
  {
   "cell_type": "code",
   "execution_count": 2,
   "id": "1767f1cf-2c65-4af4-81fb-e24d1580be61",
   "metadata": {},
   "outputs": [
    {
     "name": "stdout",
     "output_type": "stream",
     "text": [
      "Encrypted Message: r$dzmg$gl$yvxlnv$z$wzgz$hxrvmgrhg.\n"
     ]
    }
   ],
   "source": [
    "def encrypt_message(message):\n",
    "    encrypted_message = \"\"\n",
    "\n",
    "    for char in message:\n",
    "        if char.isalpha():\n",
    "            # Encrypt alphabets\n",
    "            ascii_offset = ord('a' if char.islower() else 'A')\n",
    "            encrypted_char = chr(ascii_offset + (25 - (ord(char) - ascii_offset)))\n",
    "            encrypted_message += encrypted_char\n",
    "        elif char.isspace():\n",
    "            # Replace whitespace with a dollar sign\n",
    "            encrypted_message += '$'\n",
    "        else:\n",
    "            # Keep punctuation marks unchanged\n",
    "            encrypted_message += char\n",
    "\n",
    "    return encrypted_message\n",
    "\n",
    "# Input Sentence\n",
    "input_sentence = \"I want to become a Data Scientist.\"\n",
    "\n",
    "# Convert the input sentence to lowercase\n",
    "input_sentence_lower = input_sentence.lower()\n",
    "\n",
    "# Encrypt the input sentence\n",
    "encrypted_result = encrypt_message(input_sentence_lower)\n",
    "\n",
    "# Display the encrypted message\n",
    "print(\"Encrypted Message:\", encrypted_result)\n"
   ]
  },
  {
   "cell_type": "markdown",
   "id": "e12d5c10-8bb7-4946-a9ee-06649d45d10a",
   "metadata": {},
   "source": [
    "This program defines a function (encrypt_message) that encrypts each character in the given message based on the specified logic. It converts alphabets to their corresponding reverse alphabetical positions, replaces whitespace with a dollar sign, and keeps punctuation marks unchanged.\n",
    "\n",
    "When you run the program with the provided input sentence, the output will be the encrypted message.\n",
    "\n",
    "\n",
    "\n",
    "\n"
   ]
  }
 ],
 "metadata": {
  "kernelspec": {
   "display_name": "Python 3 (ipykernel)",
   "language": "python",
   "name": "python3"
  },
  "language_info": {
   "codemirror_mode": {
    "name": "ipython",
    "version": 3
   },
   "file_extension": ".py",
   "mimetype": "text/x-python",
   "name": "python",
   "nbconvert_exporter": "python",
   "pygments_lexer": "ipython3",
   "version": "3.10.8"
  }
 },
 "nbformat": 4,
 "nbformat_minor": 5
}
