{
 "cells": [
  {
   "cell_type": "markdown",
   "id": "d2a7f4b3-5381-47c8-8548-8c25426f4358",
   "metadata": {},
   "source": [
    "Q1. Wh\n",
    "t is\n",
    "n Ex,eption in p\n",
    "\n",
    "thon? Write the differen,e etween Ex,eptions\n",
    "nd $\n",
    "nt\n",
    "x errors"
   ]
  },
  {
   "cell_type": "markdown",
   "id": "6643514d-2117-407e-b486-12e41743d064",
   "metadata": {},
   "source": [
    "\n",
    "In Python, an exception is an event that occurs during the execution of a program that disrupts the normal flow of instructions. When an error or exceptional situation arises, Python raises an exception. Exceptions can occur for various reasons, such as attempting to divide by zero, accessing an index that is out of range, or trying to open a file that does not exist.\n",
    "\n",
    "Here's a simple example of code that raises an exception:"
   ]
  },
  {
   "cell_type": "code",
   "execution_count": 1,
   "id": "674ed0c5-2313-4458-988b-5454aa953a21",
   "metadata": {},
   "outputs": [
    {
     "name": "stdout",
     "output_type": "stream",
     "text": [
      "Error: division by zero\n"
     ]
    }
   ],
   "source": [
    "try:\n",
    "    result = 10 / 0  # This will raise a ZeroDivisionError\n",
    "except ZeroDivisionError as e:\n",
    "    print(f\"Error: {e}\")\n"
   ]
  },
  {
   "cell_type": "markdown",
   "id": "ff7904b2-feff-4c9b-905b-8ec07ce6e04d",
   "metadata": {},
   "source": [
    "In this example, the try block contains code that may raise an exception. If an exception occurs, it is caught by the except block, and you can handle it accordingly.\n",
    "\n",
    "Now, let's talk about the difference between exceptions and syntax errors:\n",
    "\n",
    "Exceptions:\n",
    "\n",
    "Exceptions occur during the execution of a program.\n",
    "They are runtime errors that may happen when the program is running.\n",
    "Examples include ZeroDivisionError, IndexError, FileNotFoundError, etc.\n",
    "Exceptions can be caught and handled using try-except blocks.\n",
    "Syntax Errors:\n",
    "\n",
    "Syntax errors occur during the parsing of the program.\n",
    "They are usually caused by typos, incorrect indentation, or improper use of Python syntax.\n",
    "The program cannot run if there are syntax errors.\n",
    "Examples include missing colons, mismatched parentheses, etc.\n",
    "Syntax errors are caught by the Python interpreter when it tries to parse the code before executing it.\n",
    "Here's an example of a syntax error:"
   ]
  },
  {
   "cell_type": "code",
   "execution_count": 2,
   "id": "026471a1-54b5-4d81-80c2-be0667877b9f",
   "metadata": {},
   "outputs": [
    {
     "ename": "SyntaxError",
     "evalue": "expected ':' (3678168442.py, line 2)",
     "output_type": "error",
     "traceback": [
      "\u001b[0;36m  Cell \u001b[0;32mIn[2], line 2\u001b[0;36m\u001b[0m\n\u001b[0;31m    if x == 5\u001b[0m\n\u001b[0m             ^\u001b[0m\n\u001b[0;31mSyntaxError\u001b[0m\u001b[0;31m:\u001b[0m expected ':'\n"
     ]
    }
   ],
   "source": [
    "# Syntax error due to missing colon\n",
    "if x == 5\n",
    "    print(\"x is 5\")\n"
   ]
  },
  {
   "cell_type": "markdown",
   "id": "476b4fc9-1dd6-489d-8d23-3c02eca0f368",
   "metadata": {},
   "source": [
    "Q2. Wh\n",
    "t h\n",
    "ppens when\n",
    "\n",
    "n ex,eption is not h\n",
    "\n",
    "ndled? Expl\n",
    "in with\n",
    "n ex\n",
    "mple"
   ]
  },
  {
   "cell_type": "markdown",
   "id": "61ff6a80-ce9c-45ed-9164-456fbf08382b",
   "metadata": {},
   "source": [
    "When an exception is not handled in Python, the program terminates, and an error message is displayed to the user. The default behavior is for the Python interpreter to print a traceback, which includes information about the type of exception, the line of code where the exception occurred, and the call stack.\n",
    "\n",
    "Here's an example to illustrate what happens when an exception is not handled:"
   ]
  },
  {
   "cell_type": "code",
   "execution_count": 3,
   "id": "cac4b367-a386-450a-8a05-ae0b74a70432",
   "metadata": {},
   "outputs": [
    {
     "ename": "ZeroDivisionError",
     "evalue": "division by zero",
     "output_type": "error",
     "traceback": [
      "\u001b[0;31m---------------------------------------------------------------------------\u001b[0m",
      "\u001b[0;31mZeroDivisionError\u001b[0m                         Traceback (most recent call last)",
      "Cell \u001b[0;32mIn[3], line 6\u001b[0m\n\u001b[1;32m      3\u001b[0m     \u001b[38;5;28;01mreturn\u001b[39;00m result\n\u001b[1;32m      5\u001b[0m \u001b[38;5;66;03m# This will raise a ZeroDivisionError\u001b[39;00m\n\u001b[0;32m----> 6\u001b[0m result \u001b[38;5;241m=\u001b[39m \u001b[43mdivide_numbers\u001b[49m\u001b[43m(\u001b[49m\u001b[38;5;241;43m10\u001b[39;49m\u001b[43m,\u001b[49m\u001b[43m \u001b[49m\u001b[38;5;241;43m0\u001b[39;49m\u001b[43m)\u001b[49m\n\u001b[1;32m      7\u001b[0m \u001b[38;5;28mprint\u001b[39m(result)\n",
      "Cell \u001b[0;32mIn[3], line 2\u001b[0m, in \u001b[0;36mdivide_numbers\u001b[0;34m(a, b)\u001b[0m\n\u001b[1;32m      1\u001b[0m \u001b[38;5;28;01mdef\u001b[39;00m \u001b[38;5;21mdivide_numbers\u001b[39m(a, b):\n\u001b[0;32m----> 2\u001b[0m     result \u001b[38;5;241m=\u001b[39m \u001b[43ma\u001b[49m\u001b[43m \u001b[49m\u001b[38;5;241;43m/\u001b[39;49m\u001b[43m \u001b[49m\u001b[43mb\u001b[49m\n\u001b[1;32m      3\u001b[0m     \u001b[38;5;28;01mreturn\u001b[39;00m result\n",
      "\u001b[0;31mZeroDivisionError\u001b[0m: division by zero"
     ]
    }
   ],
   "source": [
    "def divide_numbers(a, b):\n",
    "    result = a / b\n",
    "    return result\n",
    "\n",
    "# This will raise a ZeroDivisionError\n",
    "result = divide_numbers(10, 0)\n",
    "print(result)\n"
   ]
  },
  {
   "cell_type": "markdown",
   "id": "6d75c14b-b018-4b2f-838b-6a48da14ecc6",
   "metadata": {},
   "source": [
    "In this example, the function divide_numbers attempts to divide a by b. When calling divide_numbers(10, 0), a ZeroDivisionError occurs because dividing by zero is not allowed. Since there's no try-except block to catch and handle this exception, the program will terminate, and you will see a traceback similar to the following:"
   ]
  },
  {
   "cell_type": "code",
   "execution_count": 4,
   "id": "761ae109-0d02-43f5-b22c-c090f8861d0d",
   "metadata": {},
   "outputs": [
    {
     "ename": "SyntaxError",
     "evalue": "invalid syntax. Perhaps you forgot a comma? (1834810910.py, line 1)",
     "output_type": "error",
     "traceback": [
      "\u001b[0;36m  Cell \u001b[0;32mIn[4], line 1\u001b[0;36m\u001b[0m\n\u001b[0;31m    Traceback (most recent call last):\u001b[0m\n\u001b[0m               ^\u001b[0m\n\u001b[0;31mSyntaxError\u001b[0m\u001b[0;31m:\u001b[0m invalid syntax. Perhaps you forgot a comma?\n"
     ]
    }
   ],
   "source": [
    "Traceback (most recent call last):\n",
    "  File \"example.py\", line 6, in <module>\n",
    "    result = divide_numbers(10, 0)\n",
    "  File \"example.py\", line 2, in divide_numbers\n",
    "    result = a / b\n",
    "ZeroDivisionError: division by zero\n"
   ]
  },
  {
   "cell_type": "markdown",
   "id": "b7450a46-ca36-41f0-a6fc-266b3cc0176f",
   "metadata": {},
   "source": [
    "The traceback indicates that the ZeroDivisionError occurred in the divide_numbers function at line 2, and it shows the sequence of function calls that led to the error. If this exception is not handled, the program stops executing, and the error information is displayed.\n",
    "\n",
    "To prevent the program from terminating abruptly, it's a good practice to use try-except blocks to catch and handle exceptions appropriately. This allows you to handle errors gracefully, log information, or perform other actions before the program exits.\n",
    "\n",
    "\n",
    "\n",
    "\n"
   ]
  },
  {
   "cell_type": "markdown",
   "id": "b03e4042-cc93-40eb-ac73-a555e0c0d489",
   "metadata": {},
   "source": [
    "Q3. Whi,h P\n",
    "thon st\n",
    "tements\n",
    "\n",
    "re used to ,\n",
    "t,h\n",
    "nd h\n",
    "ndle ex,eptions? Expl\n",
    "in with\n",
    "n ex\n",
    "mple"
   ]
  },
  {
   "cell_type": "markdown",
   "id": "6a889260-fc74-49ce-8f1f-eaa136a7542f",
   "metadata": {},
   "source": [
    "In Python, the try, except, else, and finally statements are used to catch and handle exceptions. The basic syntax for a try-except block is as follows:"
   ]
  },
  {
   "cell_type": "code",
   "execution_count": 5,
   "id": "fa952b30-ae67-4aca-929c-b65650190940",
   "metadata": {},
   "outputs": [
    {
     "ename": "IndentationError",
     "evalue": "expected an indented block after 'try' statement on line 1 (1098032150.py, line 4)",
     "output_type": "error",
     "traceback": [
      "\u001b[0;36m  Cell \u001b[0;32mIn[5], line 4\u001b[0;36m\u001b[0m\n\u001b[0;31m    except ExceptionType1 as e1:\u001b[0m\n\u001b[0m    ^\u001b[0m\n\u001b[0;31mIndentationError\u001b[0m\u001b[0;31m:\u001b[0m expected an indented block after 'try' statement on line 1\n"
     ]
    }
   ],
   "source": [
    "try:\n",
    "    # Code that may raise an exception\n",
    "    # ...\n",
    "except ExceptionType1 as e1:\n",
    "    # Handle ExceptionType1\n",
    "    # ...\n",
    "except ExceptionType2 as e2:\n",
    "    # Handle ExceptionType2\n",
    "    # ...\n",
    "else:\n",
    "    # Optional block executed if no exception occurred\n",
    "    # ...\n",
    "finally:\n",
    "    # Optional block always executed, whether an exception occurred or not\n",
    "    # ...\n"
   ]
  },
  {
   "cell_type": "code",
   "execution_count": 6,
   "id": "8ea579a4-25e1-4361-b720-8679f0ee1ce6",
   "metadata": {},
   "outputs": [
    {
     "name": "stdout",
     "output_type": "stream",
     "text": [
      "The result of 10 divided by 2 is: 5.0\n",
      "Error: division by zero. Cannot divide by zero.\n"
     ]
    }
   ],
   "source": [
    "def divide_numbers(a, b):\n",
    "    try:\n",
    "        result = a / b\n",
    "        print(f\"The result of {a} divided by {b} is: {result}\")\n",
    "    except ZeroDivisionError as e:\n",
    "        print(f\"Error: {e}. Cannot divide by zero.\")\n",
    "\n",
    "# Example usage\n",
    "divide_numbers(10, 2)  # This will work without any exception\n",
    "divide_numbers(10, 0)  # This will raise a ZeroDivisionError\n"
   ]
  },
  {
   "cell_type": "markdown",
   "id": "01592959-7f00-491d-9d6e-e58f6c488218",
   "metadata": {},
   "source": [
    "In this example, the divide_numbers function attempts to perform division, and the code inside the try block is potentially prone to a ZeroDivisionError. If an exception occurs, the code inside the corresponding except block is executed, and the program continues running. The as e part allows you to capture the exception object for further analysis or printing.\n",
    "\n",
    "You can have multiple except blocks to handle different types of exceptions that might arise in the try block. The else block is optional and is executed if no exception occurs in the try block. The finally block is also optional and is executed regardless of whether an exception occurred or not. It is commonly used for cleanup operations, such as closing files or releasing resources.\n",
    "\n",
    "Handling exceptions allows you to gracefully manage errors in your code and take appropriate actions to ensure that your program can continue running smoothly even when unexpected issues arise."
   ]
  },
  {
   "cell_type": "markdown",
   "id": "aa45c280-ef01-438d-9ac4-8886e3ad2444",
   "metadata": {},
   "source": [
    "Q4. Expl\n",
    "in with\n",
    "n ex\n",
    "mple:#\n",
    "\n",
    " tr\n",
    "nd else#\n",
    " fin\n",
    "ll\n",
    "+ r\n",
    "ise"
   ]
  },
  {
   "cell_type": "code",
   "execution_count": 7,
   "id": "7706f122-f9c7-472a-8dd8-e2f26c517861",
   "metadata": {},
   "outputs": [
    {
     "name": "stdout",
     "output_type": "stream",
     "text": [
      "The result of 10 divided by 2 is: 5.0\n",
      "This block is always executed, whether an exception occurred or not.\n",
      "Error: division by zero. Cannot divide by zero.\n",
      "This block is always executed, whether an exception occurred or not.\n"
     ]
    }
   ],
   "source": [
    "def divide_numbers(a, b):\n",
    "    try:\n",
    "        result = a / b\n",
    "    except ZeroDivisionError as e:\n",
    "        print(f\"Error: {e}. Cannot divide by zero.\")\n",
    "    else:\n",
    "        print(f\"The result of {a} divided by {b} is: {result}\")\n",
    "    finally:\n",
    "        print(\"This block is always executed, whether an exception occurred or not.\")\n",
    "\n",
    "# Example usage\n",
    "divide_numbers(10, 2)  # This will work without any exception\n",
    "divide_numbers(10, 0)  # This will raise a ZeroDivisionError\n"
   ]
  },
  {
   "cell_type": "markdown",
   "id": "48da9192-1e58-4c00-a251-1205becfadf3",
   "metadata": {},
   "source": [
    "In this example:\n",
    "\n",
    "The try block contains code that may raise a ZeroDivisionError.\n",
    "If a ZeroDivisionError occurs, the except block is executed, printing an error message.\n",
    "If no exception occurs, the else block is executed, printing the result of the division.\n",
    "The finally block is always executed, whether an exception occurred or not. It is commonly used for cleanup operations.\n",
    "Now, let's add a custom exception and use the raise statement:"
   ]
  },
  {
   "cell_type": "code",
   "execution_count": 8,
   "id": "fb21b4ca-f947-42ca-949e-4124b0b77695",
   "metadata": {},
   "outputs": [
    {
     "name": "stdout",
     "output_type": "stream",
     "text": [
      "Processing data: Some non-empty data\n",
      "Data processing completed successfully.\n",
      "Cleanup operations here.\n",
      "Caught a custom exception: CustomError: Empty data!\n",
      "Cleanup operations here.\n"
     ]
    }
   ],
   "source": [
    "class CustomError(Exception):\n",
    "    pass\n",
    "\n",
    "def process_data(data):\n",
    "    try:\n",
    "        if not data:\n",
    "            raise CustomError(\"CustomError: Empty data!\")\n",
    "        # Process the data here\n",
    "        print(f\"Processing data: {data}\")\n",
    "    except CustomError as ce:\n",
    "        print(f\"Caught a custom exception: {ce}\")\n",
    "    else:\n",
    "        print(\"Data processing completed successfully.\")\n",
    "    finally:\n",
    "        print(\"Cleanup operations here.\")\n",
    "\n",
    "# Example usage\n",
    "process_data(\"Some non-empty data\")  # This will work without any exception\n",
    "process_data(\"\")  # This will raise a CustomError\n"
   ]
  },
  {
   "cell_type": "markdown",
   "id": "b3623f06-f7b4-4094-9b13-26b02a08418b",
   "metadata": {},
   "source": [
    "In this example:\n",
    "\n",
    "A custom exception CustomError is defined.\n",
    "The process_data function uses the raise statement to explicitly raise a CustomError if the input data is empty.\n",
    "The try block attempts to process the data, and if a CustomError occurs, the except block is executed.\n",
    "If no exception occurs, the else block is executed.\n",
    "The finally block is always executed, allowing for cleanup operations.\n",
    "Using raise allows you to raise exceptions explicitly based on specific conditions in your code, giving you more control over error handling."
   ]
  },
  {
   "cell_type": "markdown",
   "id": "3fa39101-1831-4f86-aa21-5d57d1919d15",
   "metadata": {},
   "source": [
    "Q5. Wh\n",
    "t\n",
    "re Custom Ex,eptions in p\n",
    "\n",
    "thon? Wh\n",
    "\n",
    "do we need Custom Ex,eptions? Expl\n",
    "in with\n",
    "n ex\n",
    "mple"
   ]
  },
  {
   "cell_type": "markdown",
   "id": "fed6d44a-8d79-4617-ae61-f2c87b80d8ea",
   "metadata": {},
   "source": [
    "Custom exceptions in Python are user-defined exceptions that extend the built-in Exception class or one of its subclasses. They allow developers to create specific types of exceptions tailored to their application's requirements. By defining custom exceptions, you can make your code more expressive, improve error handling, and provide meaningful information about exceptional conditions in your program.\n",
    "\n",
    "Here are a few reasons why custom exceptions are useful:\n",
    "\n",
    "Semantic Clarity: Custom exceptions can make your code more readable and self-explanatory. By using descriptive names for your exceptions, you provide a clear indication of the exceptional conditions that can occur.\n",
    "\n",
    "Modularity and Extensibility: Custom exceptions allow you to encapsulate error-handling logic for specific parts of your code. This makes your code more modular and extensible, as you can add new exception types without cluttering the main part of your code.\n",
    "\n",
    "Error Categorization: Custom exceptions help in categorizing errors based on their nature. For example, you might have different custom exceptions for input validation errors, data processing errors, or communication errors. This allows you to handle different types of errors in a more granular manner.\n",
    "\n",
    "Let's look at an example to illustrate the use of custom exceptions:"
   ]
  },
  {
   "cell_type": "code",
   "execution_count": 9,
   "id": "d3b07fd4-236b-4b55-ab37-d24e078a1d47",
   "metadata": {},
   "outputs": [
    {
     "name": "stdout",
     "output_type": "stream",
     "text": [
      "Error: Insufficient balance in account 123. Current balance: 100, Required amount: 150\n"
     ]
    }
   ],
   "source": [
    "class InsufficientBalanceError(Exception):\n",
    "    \"\"\"Custom exception for insufficient balance in an account.\"\"\"\n",
    "    def __init__(self, account_id, balance, required_amount):\n",
    "        super().__init__(f\"Insufficient balance in account {account_id}. \"\n",
    "                         f\"Current balance: {balance}, Required amount: {required_amount}\")\n",
    "        self.account_id = account_id\n",
    "        self.balance = balance\n",
    "        self.required_amount = required_amount\n",
    "\n",
    "def withdraw_from_account(account_balance, amount_to_withdraw):\n",
    "    if account_balance < amount_to_withdraw:\n",
    "        raise InsufficientBalanceError(account_id=123, balance=account_balance, required_amount=amount_to_withdraw)\n",
    "    # Process the withdrawal logic here\n",
    "    print(\"Withdrawal successful.\")\n",
    "\n",
    "# Example usage\n",
    "try:\n",
    "    withdraw_from_account(100, 150)\n",
    "except InsufficientBalanceError as ibe:\n",
    "    print(f\"Error: {ibe}\")\n"
   ]
  },
  {
   "cell_type": "markdown",
   "id": "850f736c-23f7-4ef0-9e84-4bb259f1df9a",
   "metadata": {},
   "source": [
    "In this example:\n",
    "\n",
    "InsufficientBalanceError is a custom exception class that inherits from the base Exception class.\n",
    "The withdraw_from_account function raises this custom exception if the account balance is insufficient.\n",
    "When catching the exception, you can access specific details like account_id, balance, and required_amount to provide detailed information about the error.\n",
    "Using custom exceptions makes it easier to handle different types of errors in a structured way, and it enhances the clarity and maintainability of your code.\n",
    "\n",
    "\n",
    "\n",
    "\n"
   ]
  },
  {
   "cell_type": "markdown",
   "id": "36317160-6131-4a33-a36f-de592a750452",
   "metadata": {},
   "source": [
    "Q6. Cre\n",
    "te\n",
    ",ustom ex,eption ,l\n",
    "\n",
    "ss. Use this ,l\n",
    "ss to h\n",
    "ndle\n",
    "n ex,eption."
   ]
  },
  {
   "cell_type": "code",
   "execution_count": 10,
   "id": "75365e2c-dcc4-4933-8896-9004e3ba5bf5",
   "metadata": {},
   "outputs": [
    {
     "name": "stdout",
     "output_type": "stream",
     "text": [
      "Processing value: 42\n",
      "Custom exception caught: Negative values are not allowed.\n"
     ]
    }
   ],
   "source": [
    "class CustomValueError(Exception):\n",
    "    \"\"\"Custom exception for handling specific value-related errors.\"\"\"\n",
    "    def __init__(self, value, message=\"Invalid value provided.\"):\n",
    "        super().__init__(message)\n",
    "        self.value = value\n",
    "\n",
    "def process_value(value):\n",
    "    try:\n",
    "        if value < 0:\n",
    "            raise CustomValueError(value, \"Negative values are not allowed.\")\n",
    "        # Process the value here\n",
    "        print(f\"Processing value: {value}\")\n",
    "    except CustomValueError as cve:\n",
    "        print(f\"Custom exception caught: {cve}\")\n",
    "\n",
    "# Example usage\n",
    "process_value(42)   # This will work without any exception\n",
    "process_value(-5)   # This will raise a CustomValueError\n"
   ]
  },
  {
   "cell_type": "markdown",
   "id": "fdb66049-17dd-445d-99c1-b229851e761b",
   "metadata": {},
   "source": [
    "In this example:\n",
    "\n",
    "CustomValueError is a custom exception class that takes a value parameter in its constructor. It inherits from the base Exception class.\n",
    "The process_value function raises this custom exception if the provided value is negative.\n",
    "When catching the exception, you can access the specific details like value and the custom error message.\n",
    "When you run the example, you'll see that the negative value triggers the custom exception, and the error message is printed:"
   ]
  }
 ],
 "metadata": {
  "kernelspec": {
   "display_name": "Python 3 (ipykernel)",
   "language": "python",
   "name": "python3"
  },
  "language_info": {
   "codemirror_mode": {
    "name": "ipython",
    "version": 3
   },
   "file_extension": ".py",
   "mimetype": "text/x-python",
   "name": "python",
   "nbconvert_exporter": "python",
   "pygments_lexer": "ipython3",
   "version": "3.10.8"
  }
 },
 "nbformat": 4,
 "nbformat_minor": 5
}
