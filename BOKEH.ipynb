{
 "cells": [
  {
   "cell_type": "markdown",
   "id": "1053c435-dc36-4635-9729-3e2ce9d982bd",
   "metadata": {},
   "source": [
    "Q1. How can you create a Bokeh plot using Python code?\n"
   ]
  },
  {
   "cell_type": "code",
   "execution_count": 2,
   "id": "01363603-7455-4460-a091-c84c46bd23b4",
   "metadata": {},
   "outputs": [],
   "source": [
    "# Import necessary modules\n",
    "from bokeh.plotting import figure, output_file, show\n",
    "\n",
    "# Create some sample data\n",
    "x = [1, 2, 3, 4, 5]\n",
    "y = [6, 7, 2, 4, 6]\n",
    "\n",
    "# Output to an HTML file (optional)\n",
    "output_file(\"bokeh_plot.html\")\n",
    "\n",
    "# Create a figure\n",
    "p = figure(title=\"My Bokeh Plot\", x_axis_label='X-axis', y_axis_label='Y-axis')\n",
    "\n",
    "# Add a circle glyph to the figure\n",
    "p.circle(x, y, size=10, color=\"navy\", alpha=0.5)\n",
    "\n",
    "# Show the plot\n",
    "show(p)\n"
   ]
  },
  {
   "cell_type": "markdown",
   "id": "5215b1d8-2d3e-482e-a82c-95c029e3ed57",
   "metadata": {},
   "source": [
    "output_file(\"bokeh_plot.html\"): This line specifies the name of the output HTML file where the plot will be saved. This step is optional; you can skip it if you want to display the plot directly without saving it.\n",
    "\n",
    "figure(title=\"My Bokeh Plot\", x_axis_label='X-axis', y_axis_label='Y-axis'): This line creates a Bokeh figure with a title and labeled X and Y axes.\n",
    "\n",
    "p.circle(x, y, size=10, color=\"navy\", alpha=0.5): This line adds a circle glyph to the figure using the data points specified in the x and y lists. Other parameters control the size, color, and transparency of the circles.\n",
    "\n",
    "show(p): This line displays the Bokeh plot."
   ]
  },
  {
   "cell_type": "markdown",
   "id": "90ff9ad7-eed8-4d63-8cd1-f239b8f0785c",
   "metadata": {},
   "source": [
    "Q2. What are glyphs in Bokeh, and how can you add them to a Bokeh plot? Explain with an example."
   ]
  },
  {
   "cell_type": "markdown",
   "id": "b7e975c9-242c-44f5-917f-a7bb7ac985ad",
   "metadata": {},
   "source": [
    "In Bokeh, glyphs are visual markers or shapes that you can add to a plot to represent your data. Examples of glyphs include circles, squares, lines, bars, patches, and more. Glyphs are added to a Bokeh plot using the figure object's glyph methods, such as circle(), line(), square(), etc."
   ]
  },
  {
   "cell_type": "code",
   "execution_count": 3,
   "id": "d289ae80-21c0-4bdc-bf70-e86657e10de5",
   "metadata": {},
   "outputs": [],
   "source": [
    "from bokeh.plotting import figure, output_file, show\n",
    "\n",
    "# Sample data\n",
    "x = [1, 2, 3, 4, 5]\n",
    "y = [6, 7, 2, 4, 6]\n",
    "\n",
    "# Output to an HTML file (optional)\n",
    "output_file(\"glyphs_example.html\")\n",
    "\n",
    "# Create a figure\n",
    "p = figure(title=\"Bokeh Glyphs Example\", x_axis_label='X-axis', y_axis_label='Y-axis')\n",
    "\n",
    "# Add a circle glyph\n",
    "p.circle(x, y, size=10, color=\"navy\", alpha=0.5, legend_label=\"Circle\")\n",
    "\n",
    "# Add a square glyph\n",
    "p.square(x, y, size=12, color=\"red\", alpha=0.8, legend_label=\"Square\")\n",
    "\n",
    "# Add a line glyph\n",
    "p.line(x, y, line_width=2, line_color=\"green\", legend_label=\"Line\")\n",
    "\n",
    "# Show legend\n",
    "p.legend.location = \"top_left\"\n",
    "\n",
    "# Show the plot\n",
    "show(p)\n"
   ]
  },
  {
   "cell_type": "markdown",
   "id": "c028f615-3473-4e11-ac31-07a72cc4bbe3",
   "metadata": {},
   "source": [
    "p.circle(x, y, size=10, color=\"navy\", alpha=0.5, legend_label=\"Circle\") adds a circle glyph to the plot with specified size, color, and transparency. The legend_label parameter provides a label for the legend.\n",
    "\n",
    "p.square(x, y, size=12, color=\"red\", alpha=0.8, legend_label=\"Square\") adds a square glyph with similar customization.\n",
    "\n",
    "p.line(x, y, line_width=2, line_color=\"green\", legend_label=\"Line\") adds a line glyph with specified line width and color.\n",
    "\n",
    "The legend attribute is used to display a legend, and the location parameter sets its position. You can add multiple glyphs to the same plot and customize each one according to your data and visualization requirements. Bokeh provides a wide range of customization options for glyphs, allowing you to create rich and interactive visualizations."
   ]
  },
  {
   "cell_type": "markdown",
   "id": "da52777b-d321-41f7-828d-9c442cfb2d17",
   "metadata": {},
   "source": [
    "Q3. How can you customize the appearance of a Bokeh plot, including the axes, title, and legend?"
   ]
  },
  {
   "cell_type": "markdown",
   "id": "2f9511c9-9c03-4d62-8d36-ebba9c6c475d",
   "metadata": {},
   "source": [
    "Title and Axes Customization:\n",
    "\n",
    "Customize the title of the plot using the title attribute of the figure object.\n",
    "Customize the labels and appearance of the X and Y axes using xaxis_label, yaxis_label, xaxis_location, yaxis_location, etc."
   ]
  },
  {
   "cell_type": "code",
   "execution_count": 4,
   "id": "df853abc-c425-4f13-b28e-cb5d805703e5",
   "metadata": {},
   "outputs": [
    {
     "name": "stderr",
     "output_type": "stream",
     "text": [
      "WARNING:bokeh.core.validation.check:W-1000 (MISSING_RENDERERS): Plot has no renderers: figure(id='p1888', ...)\n"
     ]
    }
   ],
   "source": [
    "from bokeh.plotting import figure, output_file, show\n",
    "\n",
    "# Sample data\n",
    "x = [1, 2, 3, 4, 5]\n",
    "y = [6, 7, 2, 4, 6]\n",
    "\n",
    "# Output to an HTML file (optional)\n",
    "output_file(\"plot_customization.html\")\n",
    "\n",
    "# Create a figure with customizations\n",
    "p = figure(\n",
    "    title=\"Customized Bokeh Plot\",\n",
    "    x_axis_label='X-axis Label',\n",
    "    y_axis_label='Y-axis Label',\n",
    "    x_axis_location=\"below\",\n",
    "    y_axis_location=\"left\"\n",
    ")\n",
    "\n",
    "# Add glyphs or other customization here\n",
    "\n",
    "# Show the plot\n",
    "show(p)\n"
   ]
  },
  {
   "cell_type": "markdown",
   "id": "280152f5-8ef6-4fe3-98ab-ef3d183cabf4",
   "metadata": {},
   "source": [
    "Legend Customization:\n",
    "\n",
    "Add a legend to the plot using the legend attribute.\n",
    "Customize the legend's location, background, border, and other properties."
   ]
  },
  {
   "cell_type": "code",
   "execution_count": 5,
   "id": "13a2fcc4-60ed-4d3a-a3a4-87f7289b3ae4",
   "metadata": {},
   "outputs": [],
   "source": [
    "# ... (previous code)\n",
    "\n",
    "# Add glyphs with legend labels\n",
    "p.circle(x, y, size=10, color=\"navy\", alpha=0.5, legend_label=\"Circle\")\n",
    "p.square(x, y, size=12, color=\"red\", alpha=0.8, legend_label=\"Square\")\n",
    "\n",
    "# Show legend with customizations\n",
    "p.legend.location = \"top_left\"\n",
    "p.legend.title = \"My Legend\"\n",
    "p.legend.label_text_font_size = \"12px\"\n",
    "p.legend.background_fill_alpha = 0.8\n",
    "\n",
    "# Show the plot\n",
    "show(p)\n"
   ]
  },
  {
   "cell_type": "markdown",
   "id": "bbdfb1d5-80e5-4b90-b684-528f45e65967",
   "metadata": {},
   "source": [
    "Axis Ticks and Labels Customization:\n",
    "\n",
    "Customize the appearance of axis ticks and labels using properties like axis_label_text_font, axis_label_text_font_size, major_label_text_font_style, etc."
   ]
  },
  {
   "cell_type": "code",
   "execution_count": 6,
   "id": "40092e81-c972-4618-b849-6ec068dd1d64",
   "metadata": {},
   "outputs": [],
   "source": [
    "# ... (previous code)\n",
    "\n",
    "# Customize axis ticks and labels\n",
    "p.xaxis.axis_label_text_font = \"Arial\"\n",
    "p.yaxis.axis_label_text_font_size = \"14px\"\n",
    "p.xaxis.major_label_text_font_style = \"italic\"\n",
    "\n",
    "# Show the plot\n",
    "show(p)\n"
   ]
  },
  {
   "cell_type": "markdown",
   "id": "b3a59d2d-5f13-4fa0-b7c8-fc6d8799c937",
   "metadata": {},
   "source": [
    "Q4. What is a Bokeh server, and how can you use it to create interactive plots that can be updated in\n",
    "real time?"
   ]
  },
  {
   "cell_type": "markdown",
   "id": "3a43de6d-8a59-4c3a-a2ea-35ad9e7472ba",
   "metadata": {},
   "source": [
    "A Bokeh server is a component of the Bokeh library that allows you to create and deploy interactive data applications and dashboards. It enables you to build web applications with real-time, two-way communication between the browser and the server. Bokeh server applications can update and respond to user interactions in real-time, making it suitable for creating dynamic and interactive visualizations.\n",
    "\n",
    "To use the Bokeh server, you need to follow these steps:\n",
    "\n",
    "Install Bokeh:\n",
    "Make sure you have Bokeh installed. You can install it using:"
   ]
  },
  {
   "cell_type": "code",
   "execution_count": 7,
   "id": "fb7fccc1-8a39-4a37-8809-02a2d2bbe2de",
   "metadata": {},
   "outputs": [
    {
     "name": "stdout",
     "output_type": "stream",
     "text": [
      "Requirement already satisfied: bokeh in /opt/conda/lib/python3.10/site-packages (3.0.3)\n",
      "Requirement already satisfied: tornado>=5.1 in /opt/conda/lib/python3.10/site-packages (from bokeh) (6.1)\n",
      "Requirement already satisfied: contourpy>=1 in /opt/conda/lib/python3.10/site-packages (from bokeh) (1.0.6)\n",
      "Requirement already satisfied: packaging>=16.8 in /opt/conda/lib/python3.10/site-packages (from bokeh) (22.0)\n",
      "Requirement already satisfied: pandas>=1.2 in /opt/conda/lib/python3.10/site-packages (from bokeh) (1.5.2)\n",
      "Requirement already satisfied: xyzservices>=2021.09.1 in /opt/conda/lib/python3.10/site-packages (from bokeh) (2022.9.0)\n",
      "Requirement already satisfied: numpy>=1.11.3 in /opt/conda/lib/python3.10/site-packages (from bokeh) (1.23.5)\n",
      "Requirement already satisfied: Jinja2>=2.9 in /opt/conda/lib/python3.10/site-packages (from bokeh) (3.1.2)\n",
      "Requirement already satisfied: PyYAML>=3.10 in /opt/conda/lib/python3.10/site-packages (from bokeh) (6.0)\n",
      "Requirement already satisfied: pillow>=7.1.0 in /opt/conda/lib/python3.10/site-packages (from bokeh) (9.2.0)\n",
      "Requirement already satisfied: MarkupSafe>=2.0 in /opt/conda/lib/python3.10/site-packages (from Jinja2>=2.9->bokeh) (2.1.1)\n",
      "Requirement already satisfied: python-dateutil>=2.8.1 in /opt/conda/lib/python3.10/site-packages (from pandas>=1.2->bokeh) (2.8.2)\n",
      "Requirement already satisfied: pytz>=2020.1 in /opt/conda/lib/python3.10/site-packages (from pandas>=1.2->bokeh) (2022.6)\n",
      "Requirement already satisfied: six>=1.5 in /opt/conda/lib/python3.10/site-packages (from python-dateutil>=2.8.1->pandas>=1.2->bokeh) (1.16.0)\n",
      "Note: you may need to restart the kernel to use updated packages.\n"
     ]
    }
   ],
   "source": [
    "pip install bokeh\n"
   ]
  },
  {
   "cell_type": "markdown",
   "id": "5a8f8bdf-8aa9-4ded-9fbc-7fcbdac678e7",
   "metadata": {},
   "source": [
    "Create a Bokeh Server Application:\n",
    "Create a Python script or module that defines your Bokeh server application. This script should include a function that creates the initial plot and specifies any interactions you want to support.\n",
    "\n",
    "Here's a simple example:"
   ]
  },
  {
   "cell_type": "markdown",
   "id": "7a81ce01-1e0a-4a48-9dd5-93491c33c0a1",
   "metadata": {},
   "source": [
    "# myapp.py\n",
    "from bokeh.plotting import figure, curdoc\n",
    "from bokeh.models import ColumnDataSource\n",
    "from bokeh.layouts import row\n",
    "import numpy as np\n",
    "\n",
    "# Create initial data\n",
    "x = np.linspace(0, 4 * np.pi, 100)\n",
    "y = np.sin(x)\n",
    "source = ColumnDataSource(data=dict(x=x, y=y))\n",
    "\n",
    "# Create a figure\n",
    "plot = figure(plot_height=300, plot_width=600, title=\"Real-time Plot\")\n",
    "plot.line('x', 'y', source=source)\n",
    "\n",
    "# Update function for periodic updates\n",
    "def update():\n",
    "    new_y = np.sin(x + curdoc().session_context.request.arguments.get('param', b''))\n",
    "    source.data = dict(x=x, y=new_y)\n",
    "\n",
    "# Periodically update the data\n",
    "curdoc().add_periodic_callback(update, 100)\n",
    "\n",
    "# Display the plot\n",
    "curdoc().add_root(row(plot))\n"
   ]
  },
  {
   "cell_type": "code",
   "execution_count": 1,
   "id": "ba5fb897-2518-4f38-b552-60916dbd0050",
   "metadata": {},
   "outputs": [
    {
     "ename": "AttributeError",
     "evalue": "unexpected attribute 'plot_height' to figure, similar attributes are outer_height, height or min_height",
     "output_type": "error",
     "traceback": [
      "\u001b[0;31m---------------------------------------------------------------------------\u001b[0m",
      "\u001b[0;31mAttributeError\u001b[0m                            Traceback (most recent call last)",
      "Cell \u001b[0;32mIn[1], line 13\u001b[0m\n\u001b[1;32m     10\u001b[0m source \u001b[38;5;241m=\u001b[39m ColumnDataSource(data\u001b[38;5;241m=\u001b[39m\u001b[38;5;28mdict\u001b[39m(x\u001b[38;5;241m=\u001b[39mx, y\u001b[38;5;241m=\u001b[39my))\n\u001b[1;32m     12\u001b[0m \u001b[38;5;66;03m# Create a figure\u001b[39;00m\n\u001b[0;32m---> 13\u001b[0m plot \u001b[38;5;241m=\u001b[39m \u001b[43mfigure\u001b[49m\u001b[43m(\u001b[49m\u001b[43mplot_height\u001b[49m\u001b[38;5;241;43m=\u001b[39;49m\u001b[38;5;241;43m300\u001b[39;49m\u001b[43m,\u001b[49m\u001b[43m \u001b[49m\u001b[43mplot_width\u001b[49m\u001b[38;5;241;43m=\u001b[39;49m\u001b[38;5;241;43m600\u001b[39;49m\u001b[43m,\u001b[49m\u001b[43m \u001b[49m\u001b[43mtitle\u001b[49m\u001b[38;5;241;43m=\u001b[39;49m\u001b[38;5;124;43m\"\u001b[39;49m\u001b[38;5;124;43mReal-time Plot\u001b[39;49m\u001b[38;5;124;43m\"\u001b[39;49m\u001b[43m)\u001b[49m\n\u001b[1;32m     14\u001b[0m plot\u001b[38;5;241m.\u001b[39mline(\u001b[38;5;124m'\u001b[39m\u001b[38;5;124mx\u001b[39m\u001b[38;5;124m'\u001b[39m, \u001b[38;5;124m'\u001b[39m\u001b[38;5;124my\u001b[39m\u001b[38;5;124m'\u001b[39m, source\u001b[38;5;241m=\u001b[39msource)\n\u001b[1;32m     16\u001b[0m \u001b[38;5;66;03m# Update function for periodic updates\u001b[39;00m\n",
      "File \u001b[0;32m/opt/conda/lib/python3.10/site-packages/bokeh/plotting/_figure.py:190\u001b[0m, in \u001b[0;36mfigure.__init__\u001b[0;34m(self, *arg, **kw)\u001b[0m\n\u001b[1;32m    188\u001b[0m \u001b[38;5;28;01mfor\u001b[39;00m name \u001b[38;5;129;01min\u001b[39;00m kw\u001b[38;5;241m.\u001b[39mkeys():\n\u001b[1;32m    189\u001b[0m     \u001b[38;5;28;01mif\u001b[39;00m name \u001b[38;5;129;01mnot\u001b[39;00m \u001b[38;5;129;01min\u001b[39;00m names:\n\u001b[0;32m--> 190\u001b[0m         \u001b[38;5;28;43mself\u001b[39;49m\u001b[38;5;241;43m.\u001b[39;49m\u001b[43m_raise_attribute_error_with_matches\u001b[49m\u001b[43m(\u001b[49m\u001b[43mname\u001b[49m\u001b[43m,\u001b[49m\u001b[43m \u001b[49m\u001b[43mnames\u001b[49m\u001b[43m \u001b[49m\u001b[38;5;241;43m|\u001b[39;49m\u001b[43m \u001b[49m\u001b[43mopts\u001b[49m\u001b[38;5;241;43m.\u001b[39;49m\u001b[43mproperties\u001b[49m\u001b[43m(\u001b[49m\u001b[43m)\u001b[49m\u001b[43m)\u001b[49m\n\u001b[1;32m    192\u001b[0m \u001b[38;5;28msuper\u001b[39m()\u001b[38;5;241m.\u001b[39m\u001b[38;5;21m__init__\u001b[39m(\u001b[38;5;241m*\u001b[39marg, \u001b[38;5;241m*\u001b[39m\u001b[38;5;241m*\u001b[39mkw)\n\u001b[1;32m    194\u001b[0m \u001b[38;5;28mself\u001b[39m\u001b[38;5;241m.\u001b[39mx_range \u001b[38;5;241m=\u001b[39m get_range(opts\u001b[38;5;241m.\u001b[39mx_range)\n",
      "File \u001b[0;32m/opt/conda/lib/python3.10/site-packages/bokeh/core/has_props.py:368\u001b[0m, in \u001b[0;36mHasProps._raise_attribute_error_with_matches\u001b[0;34m(self, name, properties)\u001b[0m\n\u001b[1;32m    365\u001b[0m \u001b[38;5;28;01mif\u001b[39;00m \u001b[38;5;129;01mnot\u001b[39;00m matches:\n\u001b[1;32m    366\u001b[0m     matches, text \u001b[38;5;241m=\u001b[39m \u001b[38;5;28msorted\u001b[39m(properties), \u001b[38;5;124m\"\u001b[39m\u001b[38;5;124mpossible\u001b[39m\u001b[38;5;124m\"\u001b[39m\n\u001b[0;32m--> 368\u001b[0m \u001b[38;5;28;01mraise\u001b[39;00m \u001b[38;5;167;01mAttributeError\u001b[39;00m(\u001b[38;5;124mf\u001b[39m\u001b[38;5;124m\"\u001b[39m\u001b[38;5;124munexpected attribute \u001b[39m\u001b[38;5;132;01m{\u001b[39;00mname\u001b[38;5;132;01m!r}\u001b[39;00m\u001b[38;5;124m to \u001b[39m\u001b[38;5;132;01m{\u001b[39;00m\u001b[38;5;28mself\u001b[39m\u001b[38;5;241m.\u001b[39m\u001b[38;5;18m__class__\u001b[39m\u001b[38;5;241m.\u001b[39m\u001b[38;5;18m__name__\u001b[39m\u001b[38;5;132;01m}\u001b[39;00m\u001b[38;5;124m, \u001b[39m\u001b[38;5;132;01m{\u001b[39;00mtext\u001b[38;5;132;01m}\u001b[39;00m\u001b[38;5;124m attributes are \u001b[39m\u001b[38;5;132;01m{\u001b[39;00mnice_join(matches)\u001b[38;5;132;01m}\u001b[39;00m\u001b[38;5;124m\"\u001b[39m)\n",
      "\u001b[0;31mAttributeError\u001b[0m: unexpected attribute 'plot_height' to figure, similar attributes are outer_height, height or min_height"
     ]
    }
   ],
   "source": [
    "# myapp.py\n",
    "from bokeh.plotting import figure, curdoc\n",
    "from bokeh.models import ColumnDataSource\n",
    "from bokeh.layouts import row\n",
    "import numpy as np\n",
    "\n",
    "# Create initial data\n",
    "x = np.linspace(0, 4 * np.pi, 100)\n",
    "y = np.sin(x)\n",
    "source = ColumnDataSource(data=dict(x=x, y=y))\n",
    "\n",
    "# Create a figure\n",
    "plot = figure(plot_height=300, plot_width=600, title=\"Real-time Plot\")\n",
    "plot.line('x', 'y', source=source)\n",
    "\n",
    "# Update function for periodic updates\n",
    "def update():\n",
    "    new_y = np.sin(x + curdoc().session_context.request.arguments.get('param', b''))\n",
    "    source.data = dict(x=x, y=new_y)\n",
    "\n",
    "# Periodically update the data\n",
    "curdoc().add_periodic_callback(update, 100)\n",
    "\n",
    "# Display the plot\n",
    "curdoc().add_root(row(plot))\n"
   ]
  },
  {
   "cell_type": "markdown",
   "id": "ce118343-27d1-4170-b81c-310bcf367e65",
   "metadata": {},
   "source": [
    "Run the Bokeh Server:\n",
    "Open a terminal and run the Bokeh server with the command:"
   ]
  },
  {
   "cell_type": "code",
   "execution_count": null,
   "id": "a6c7c688-cb73-44fb-9a3d-7bb137d57f0d",
   "metadata": {},
   "outputs": [],
   "source": [
    "bokeh serve --show myapp.py\n"
   ]
  },
  {
   "cell_type": "markdown",
   "id": "35413ea5-c784-4eee-ba43-e715ded49adb",
   "metadata": {},
   "source": [
    "Interact with the Plot:\n",
    "The update function in the example above gets called periodically, updating the plot data. You can interact with the plot by modifying the parameters in the URL. For example, append ?param=2 to the URL to see the real-time update based on the changed parameter."
   ]
  },
  {
   "cell_type": "code",
   "execution_count": null,
   "id": "1a62b4e0-2f3c-4c27-8ca7-2374ba8b8a25",
   "metadata": {},
   "outputs": [],
   "source": [
    "http://localhost:5006/myapp?param=2\n"
   ]
  },
  {
   "cell_type": "markdown",
   "id": "eb337b64-0c30-461e-a24a-7eef0c9abda9",
   "metadata": {},
   "source": [
    "Q5. How can you embed a Bokeh plot into a web page or dashboard using Flask or Django?"
   ]
  },
  {
   "cell_type": "markdown",
   "id": "6b1edc10-5944-48a8-af16-81dfb4514ff3",
   "metadata": {},
   "source": [
    "Embedding a Bokeh plot into a web page or dashboard using Flask or Django involves serving the Bokeh plot as a component within the larger web framework. Here, I'll provide examples for both Flask and Django."
   ]
  },
  {
   "cell_type": "code",
   "execution_count": 2,
   "id": "c98d8880-0ff1-4637-aae7-feaabad7c23f",
   "metadata": {},
   "outputs": [
    {
     "name": "stdout",
     "output_type": "stream",
     "text": [
      "Requirement already satisfied: bokeh in /opt/conda/lib/python3.10/site-packages (3.0.3)\n",
      "Collecting flask\n",
      "  Downloading flask-3.0.2-py3-none-any.whl (101 kB)\n",
      "\u001b[2K     \u001b[90m━━━━━━━━━━━━━━━━━━━━━━━━━━━━━━━━━━━━━━\u001b[0m \u001b[32m101.3/101.3 kB\u001b[0m \u001b[31m13.5 MB/s\u001b[0m eta \u001b[36m0:00:00\u001b[0m\n",
      "\u001b[?25hRequirement already satisfied: xyzservices>=2021.09.1 in /opt/conda/lib/python3.10/site-packages (from bokeh) (2022.9.0)\n",
      "Requirement already satisfied: Jinja2>=2.9 in /opt/conda/lib/python3.10/site-packages (from bokeh) (3.1.2)\n",
      "Requirement already satisfied: packaging>=16.8 in /opt/conda/lib/python3.10/site-packages (from bokeh) (22.0)\n",
      "Requirement already satisfied: tornado>=5.1 in /opt/conda/lib/python3.10/site-packages (from bokeh) (6.1)\n",
      "Requirement already satisfied: pillow>=7.1.0 in /opt/conda/lib/python3.10/site-packages (from bokeh) (9.2.0)\n",
      "Requirement already satisfied: PyYAML>=3.10 in /opt/conda/lib/python3.10/site-packages (from bokeh) (6.0)\n",
      "Requirement already satisfied: numpy>=1.11.3 in /opt/conda/lib/python3.10/site-packages (from bokeh) (1.23.5)\n",
      "Requirement already satisfied: pandas>=1.2 in /opt/conda/lib/python3.10/site-packages (from bokeh) (1.5.2)\n",
      "Requirement already satisfied: contourpy>=1 in /opt/conda/lib/python3.10/site-packages (from bokeh) (1.0.6)\n",
      "Collecting Werkzeug>=3.0.0\n",
      "  Downloading werkzeug-3.0.1-py3-none-any.whl (226 kB)\n",
      "\u001b[2K     \u001b[90m━━━━━━━━━━━━━━━━━━━━━━━━━━━━━━━━━━━━━━\u001b[0m \u001b[32m226.7/226.7 kB\u001b[0m \u001b[31m31.7 MB/s\u001b[0m eta \u001b[36m0:00:00\u001b[0m\n",
      "\u001b[?25hCollecting itsdangerous>=2.1.2\n",
      "  Downloading itsdangerous-2.1.2-py3-none-any.whl (15 kB)\n",
      "Requirement already satisfied: click>=8.1.3 in /opt/conda/lib/python3.10/site-packages (from flask) (8.1.3)\n",
      "Collecting blinker>=1.6.2\n",
      "  Downloading blinker-1.7.0-py3-none-any.whl (13 kB)\n",
      "Requirement already satisfied: MarkupSafe>=2.0 in /opt/conda/lib/python3.10/site-packages (from Jinja2>=2.9->bokeh) (2.1.1)\n",
      "Requirement already satisfied: python-dateutil>=2.8.1 in /opt/conda/lib/python3.10/site-packages (from pandas>=1.2->bokeh) (2.8.2)\n",
      "Requirement already satisfied: pytz>=2020.1 in /opt/conda/lib/python3.10/site-packages (from pandas>=1.2->bokeh) (2022.6)\n",
      "Requirement already satisfied: six>=1.5 in /opt/conda/lib/python3.10/site-packages (from python-dateutil>=2.8.1->pandas>=1.2->bokeh) (1.16.0)\n",
      "Installing collected packages: Werkzeug, itsdangerous, blinker, flask\n",
      "  Attempting uninstall: blinker\n",
      "    Found existing installation: blinker 1.5\n",
      "    Uninstalling blinker-1.5:\n",
      "      Successfully uninstalled blinker-1.5\n",
      "Successfully installed Werkzeug-3.0.1 blinker-1.7.0 flask-3.0.2 itsdangerous-2.1.2\n",
      "Note: you may need to restart the kernel to use updated packages.\n"
     ]
    }
   ],
   "source": [
    "pip install bokeh flask\n"
   ]
  },
  {
   "cell_type": "code",
   "execution_count": 1,
   "id": "b80a87d8-e373-4de9-ac5e-675205d29d77",
   "metadata": {},
   "outputs": [
    {
     "name": "stdout",
     "output_type": "stream",
     "text": [
      " * Serving Flask app '__main__'\n",
      " * Debug mode: on\n"
     ]
    },
    {
     "name": "stderr",
     "output_type": "stream",
     "text": [
      "WARNING: This is a development server. Do not use it in a production deployment. Use a production WSGI server instead.\n",
      " * Running on http://127.0.0.1:5000\n",
      "Press CTRL+C to quit\n",
      " * Restarting with stat\n",
      "Traceback (most recent call last):\n",
      "  File \"/opt/conda/lib/python3.10/runpy.py\", line 196, in _run_module_as_main\n",
      "    return _run_code(code, main_globals, None,\n",
      "  File \"/opt/conda/lib/python3.10/runpy.py\", line 86, in _run_code\n",
      "    exec(code, run_globals)\n",
      "  File \"/opt/conda/lib/python3.10/site-packages/ipykernel_launcher.py\", line 17, in <module>\n",
      "    app.launch_new_instance()\n",
      "  File \"/opt/conda/lib/python3.10/site-packages/traitlets/config/application.py\", line 991, in launch_instance\n",
      "    app.initialize(argv)\n",
      "  File \"/opt/conda/lib/python3.10/site-packages/traitlets/config/application.py\", line 113, in inner\n",
      "    return method(app, *args, **kwargs)\n",
      "  File \"/opt/conda/lib/python3.10/site-packages/ipykernel/kernelapp.py\", line 665, in initialize\n",
      "    self.init_sockets()\n",
      "  File \"/opt/conda/lib/python3.10/site-packages/ipykernel/kernelapp.py\", line 309, in init_sockets\n",
      "    self.shell_port = self._bind_socket(self.shell_socket, self.shell_port)\n",
      "  File \"/opt/conda/lib/python3.10/site-packages/ipykernel/kernelapp.py\", line 246, in _bind_socket\n",
      "    return self._try_bind_socket(s, port)\n",
      "  File \"/opt/conda/lib/python3.10/site-packages/ipykernel/kernelapp.py\", line 222, in _try_bind_socket\n",
      "    s.bind(\"tcp://%s:%i\" % (self.ip, port))\n",
      "  File \"/opt/conda/lib/python3.10/site-packages/zmq/sugar/socket.py\", line 232, in bind\n",
      "    super().bind(addr)\n",
      "  File \"zmq/backend/cython/socket.pyx\", line 568, in zmq.backend.cython.socket.Socket.bind\n",
      "  File \"zmq/backend/cython/checkrc.pxd\", line 28, in zmq.backend.cython.checkrc._check_rc\n",
      "zmq.error.ZMQError: Address already in use\n"
     ]
    },
    {
     "ename": "SystemExit",
     "evalue": "1",
     "output_type": "error",
     "traceback": [
      "An exception has occurred, use %tb to see the full traceback.\n",
      "\u001b[0;31mSystemExit\u001b[0m\u001b[0;31m:\u001b[0m 1\n"
     ]
    },
    {
     "name": "stderr",
     "output_type": "stream",
     "text": [
      "/opt/conda/lib/python3.10/site-packages/IPython/core/interactiveshell.py:3441: UserWarning: To exit: use 'exit', 'quit', or Ctrl-D.\n",
      "  warn(\"To exit: use 'exit', 'quit', or Ctrl-D.\", stacklevel=1)\n"
     ]
    }
   ],
   "source": [
    "# app.py\n",
    "from flask import Flask, render_template\n",
    "from bokeh.plotting import figure\n",
    "from bokeh.embed import components\n",
    "\n",
    "app = Flask(__name__)\n",
    "\n",
    "@app.route('/')\n",
    "def index():\n",
    "    # Create a Bokeh plot\n",
    "    plot = figure(title=\"Bokeh Plot\", x_axis_label='X-axis', y_axis_label='Y-axis')\n",
    "    plot.circle([1, 2, 3, 4, 5], [6, 7, 2, 4, 6], size=10, color=\"navy\", alpha=0.5)\n",
    "\n",
    "    # Embed the plot components\n",
    "    script, div = components(plot)\n",
    "    return render_template('index.html', script=script, div=div)\n",
    "\n",
    "if __name__ == '__main__':\n",
    "    app.run(debug=True)\n"
   ]
  },
  {
   "cell_type": "code",
   "execution_count": 2,
   "id": "2f8b979f-2aaf-43c0-87b3-afc2786b6283",
   "metadata": {},
   "outputs": [
    {
     "ename": "SyntaxError",
     "evalue": "invalid syntax (3342495800.py, line 1)",
     "output_type": "error",
     "traceback": [
      "\u001b[0;36m  Cell \u001b[0;32mIn[2], line 1\u001b[0;36m\u001b[0m\n\u001b[0;31m    <!-- templates/index.html -->\u001b[0m\n\u001b[0m    ^\u001b[0m\n\u001b[0;31mSyntaxError\u001b[0m\u001b[0;31m:\u001b[0m invalid syntax\n"
     ]
    }
   ],
   "source": [
    "<!-- templates/index.html -->\n",
    "<!DOCTYPE html>\n",
    "<html lang=\"en\">\n",
    "<head>\n",
    "    <meta charset=\"UTF-8\">\n",
    "    <title>Bokeh Plot in Flask</title>\n",
    "    {{ script | safe }}\n",
    "</head>\n",
    "<body>\n",
    "    <h1>Bokeh Plot in Flask</h1>\n",
    "    {{ div | safe }}\n",
    "</body>\n",
    "</html>\n"
   ]
  },
  {
   "cell_type": "code",
   "execution_count": null,
   "id": "01e4ae35-230f-4d7e-ade0-c188b3afa596",
   "metadata": {},
   "outputs": [],
   "source": [
    "python app.py\n"
   ]
  },
  {
   "cell_type": "code",
   "execution_count": null,
   "id": "7b78138d-8b4e-4293-9fff-27fad826deeb",
   "metadata": {},
   "outputs": [],
   "source": []
  }
 ],
 "metadata": {
  "kernelspec": {
   "display_name": "Python 3 (ipykernel)",
   "language": "python",
   "name": "python3"
  },
  "language_info": {
   "codemirror_mode": {
    "name": "ipython",
    "version": 3
   },
   "file_extension": ".py",
   "mimetype": "text/x-python",
   "name": "python",
   "nbconvert_exporter": "python",
   "pygments_lexer": "ipython3",
   "version": "3.10.8"
  }
 },
 "nbformat": 4,
 "nbformat_minor": 5
}
